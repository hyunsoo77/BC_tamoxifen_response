{
 "cells": [
  {
   "cell_type": "markdown",
   "id": "f42aca45",
   "metadata": {},
   "source": [
    "# load library"
   ]
  },
  {
   "cell_type": "code",
   "execution_count": 1,
   "id": "3923e930",
   "metadata": {},
   "outputs": [],
   "source": [
    "source(\"r/jupyter_common.R\")\n",
    "\n",
    "source(\"r/enrichment_analysis.R\")\n",
    "source(\"r/find_markers.R\")\n",
    "source(\"r/identify_cell_types.R\")\n",
    "source(\"r/plot_sc_clusters.R\")\n"
   ]
  },
  {
   "cell_type": "code",
   "execution_count": 2,
   "id": "076042f0",
   "metadata": {
    "scrolled": false
   },
   "outputs": [],
   "source": [
    "# data structure\n",
    "suppressPackageStartupMessages(library(stringi))\n",
    "suppressPackageStartupMessages(library(forcats))\n",
    "\n",
    "# utils\n",
    "suppressPackageStartupMessages(library(amap)) # for Dist()\n",
    "suppressPackageStartupMessages(library(matrixStats))\n",
    "suppressPackageStartupMessages(library(scales))\n",
    "\n",
    "# scRNA-seq\n",
    "suppressPackageStartupMessages(library(Seurat))\n",
    "\n"
   ]
  },
  {
   "cell_type": "markdown",
   "id": "3bfa7459",
   "metadata": {},
   "source": [
    "## parallel"
   ]
  },
  {
   "cell_type": "code",
   "execution_count": 3,
   "id": "bdaa516f",
   "metadata": {},
   "outputs": [],
   "source": [
    "suppressPackageStartupMessages(library(future))\n",
    "plan(\"multicore\", workers = 8)\n",
    "\n",
    "options(future.globals.maxSize = 5 * 1024^3) # 5GB\n"
   ]
  },
  {
   "cell_type": "markdown",
   "id": "3076641a",
   "metadata": {},
   "source": [
    "# parameters"
   ]
  },
  {
   "cell_type": "code",
   "execution_count": 4,
   "id": "7204f433",
   "metadata": {},
   "outputs": [
    {
     "data": {
      "text/html": [
       "'normal-breast-pairs'"
      ],
      "text/latex": [
       "'normal-breast-pairs'"
      ],
      "text/markdown": [
       "'normal-breast-pairs'"
      ],
      "text/plain": [
       "[1] \"normal-breast-pairs\""
      ]
     },
     "metadata": {},
     "output_type": "display_data"
    },
    {
     "data": {
      "text/html": [
       "'RNA_snn_res.0.8'"
      ],
      "text/latex": [
       "'RNA\\_snn\\_res.0.8'"
      ],
      "text/markdown": [
       "'RNA_snn_res.0.8'"
      ],
      "text/plain": [
       "[1] \"RNA_snn_res.0.8\""
      ]
     },
     "metadata": {},
     "output_type": "display_data"
    },
    {
     "data": {
      "text/html": [
       "'umap'"
      ],
      "text/latex": [
       "'umap'"
      ],
      "text/markdown": [
       "'umap'"
      ],
      "text/plain": [
       "[1] \"umap\""
      ]
     },
     "metadata": {},
     "output_type": "display_data"
    },
    {
     "data": {
      "text/html": [
       "'cluster.type'"
      ],
      "text/latex": [
       "'cluster.type'"
      ],
      "text/markdown": [
       "'cluster.type'"
      ],
      "text/plain": [
       "[1] \"cluster.type\""
      ]
     },
     "metadata": {},
     "output_type": "display_data"
    }
   ],
   "source": [
    "cancer_type <- \"normal-breast-pairs\"\n",
    "\n",
    "args <- list()\n",
    "args$cancer_type <- \"normal-breast\"\n",
    "args$method_to_identify_cell_types <- \"singler_blueprint_encode\"\n",
    "args$seurat_resolution <- 0.8\n",
    "args$harmony_theta <- 0\n",
    "\n",
    "str_column_of_meta_data_cluster <- sprintf(\"RNA_snn_res.%g\", args$seurat_resolution)\n",
    "str_column_of_meta_data_harmony <- sprintf(\"RNA_harmony_th.%s\", paste(args$harmony_theta, collapse=\",\"))\n",
    "\n",
    "str_reduction <- \"pca\"\n",
    "str_umap_reduction <- \"umap\"  \n",
    "col_cluster_types <- \"cluster.type\"\n",
    "\n",
    "str_condition <- cancer_type\n",
    "\n",
    "str_condition\n",
    "str_column_of_meta_data_cluster\n",
    "str_umap_reduction\n",
    "col_cluster_types\n",
    "\n",
    "figure_format <- \"pdf\"\n",
    "\n"
   ]
  },
  {
   "cell_type": "markdown",
   "id": "b4121f0a",
   "metadata": {},
   "source": [
    "## set.seed"
   ]
  },
  {
   "cell_type": "code",
   "execution_count": 5,
   "id": "60200569",
   "metadata": {},
   "outputs": [],
   "source": [
    "# set seed for reproducibility\n",
    "set.seed(51)\n",
    "\n"
   ]
  },
  {
   "cell_type": "markdown",
   "id": "8bb58886",
   "metadata": {},
   "source": [
    "## display"
   ]
  },
  {
   "cell_type": "code",
   "execution_count": 6,
   "id": "9dcd2205",
   "metadata": {},
   "outputs": [],
   "source": [
    "options(repr.matrix.max.cols=150, repr.matrix.max.rows=50)\n"
   ]
  },
  {
   "cell_type": "markdown",
   "id": "7d44885a",
   "metadata": {},
   "source": [
    "## nv_cell_type_conversion_table"
   ]
  },
  {
   "cell_type": "code",
   "execution_count": 7,
   "id": "62be71a7",
   "metadata": {},
   "outputs": [],
   "source": [
    "nv_cell_type_conversion_table <- c(\n",
    "    \"LEp_prog\"=\"Luminal epi. prog\",\n",
    "    \"LEp_secretory\"=\"Luminal epi. secretory\",\n",
    "    \"LEp\"=\"Mature luminal epi.\",\n",
    "    \"LEp_hormone\"=\"Luminal epi. hormone\",\n",
    "    \"BEp\"=\"Basal epi.\",\n",
    "    \"BEp_myo\"=\"Basal epi. myoepithelial\")\n"
   ]
  },
  {
   "cell_type": "markdown",
   "id": "589fe403",
   "metadata": {},
   "source": [
    "# read scRNA-seq"
   ]
  },
  {
   "cell_type": "code",
   "execution_count": 8,
   "id": "d5f0426d",
   "metadata": {},
   "outputs": [],
   "source": [
    "\n",
    "dir_rna <- \"/home/hkim77/spanheimer_lab.w/sc-rna-seq/tr-bc/run-20220121\"\n",
    "fname_rna <- sprintf(\"%s/output/rds_%s/%s_sc-rna-seq_merged_seurat_obj.rds\", dir_rna,\n",
    "                    cancer_type, cancer_type)\n",
    "\n",
    "rna <- readRDS(fname_rna)\n",
    "\n"
   ]
  },
  {
   "cell_type": "markdown",
   "id": "0e71853e",
   "metadata": {},
   "source": [
    "## mapping sample IDs"
   ]
  },
  {
   "cell_type": "code",
   "execution_count": 9,
   "id": "a2e105e3",
   "metadata": {},
   "outputs": [],
   "source": [
    "df_id_map <- read.table(\"tsv/sample_id_mapping_table.tsv\",\n",
    "                     sep=\"\\t\",\n",
    "                     header=T,\n",
    "                     row.names=1)\n",
    "\n",
    "idx <- match(rna@meta.data$Sample, rownames(df_id_map))\n",
    "rna@meta.data$Sample <- df_id_map[idx, 1]\n"
   ]
  },
  {
   "cell_type": "markdown",
   "id": "9f72d42a",
   "metadata": {},
   "source": [
    "## n_samples"
   ]
  },
  {
   "cell_type": "code",
   "execution_count": 10,
   "id": "b8c91128",
   "metadata": {},
   "outputs": [
    {
     "data": {
      "text/html": [
       "<style>\n",
       ".list-inline {list-style: none; margin:0; padding: 0}\n",
       ".list-inline>li {display: inline-block}\n",
       ".list-inline>li:not(:last-child)::after {content: \"\\00b7\"; padding: 0 .5ex}\n",
       "</style>\n",
       "<ol class=list-inline><li>'Normal_01_Control'</li><li>'Normal_01_Tamoxifen'</li><li>'Normal_02_Control'</li><li>'Normal_02_Tamoxifen'</li></ol>\n"
      ],
      "text/latex": [
       "\\begin{enumerate*}\n",
       "\\item 'Normal\\_01\\_Control'\n",
       "\\item 'Normal\\_01\\_Tamoxifen'\n",
       "\\item 'Normal\\_02\\_Control'\n",
       "\\item 'Normal\\_02\\_Tamoxifen'\n",
       "\\end{enumerate*}\n"
      ],
      "text/markdown": [
       "1. 'Normal_01_Control'\n",
       "2. 'Normal_01_Tamoxifen'\n",
       "3. 'Normal_02_Control'\n",
       "4. 'Normal_02_Tamoxifen'\n",
       "\n",
       "\n"
      ],
      "text/plain": [
       "[1] \"Normal_01_Control\"   \"Normal_01_Tamoxifen\" \"Normal_02_Control\"  \n",
       "[4] \"Normal_02_Tamoxifen\""
      ]
     },
     "metadata": {},
     "output_type": "display_data"
    },
    {
     "data": {
      "text/html": [
       "4"
      ],
      "text/latex": [
       "4"
      ],
      "text/markdown": [
       "4"
      ],
      "text/plain": [
       "[1] 4"
      ]
     },
     "metadata": {},
     "output_type": "display_data"
    }
   ],
   "source": [
    "samples <- unique(rna@meta.data$Sample)\n",
    "samples\n",
    "\n",
    "n_samples <- length(samples)\n",
    "n_samples\n"
   ]
  },
  {
   "cell_type": "markdown",
   "id": "309d3ac2",
   "metadata": {},
   "source": [
    "## list_samples"
   ]
  },
  {
   "cell_type": "code",
   "execution_count": 11,
   "id": "2712efff",
   "metadata": {},
   "outputs": [
    {
     "data": {
      "text/html": [
       "<dl>\n",
       "\t<dt>$Normal_01</dt>\n",
       "\t\t<dd><dl>\n",
       "\t<dt>$control</dt>\n",
       "\t\t<dd>'Normal_01_Control'</dd>\n",
       "\t<dt>$treatment</dt>\n",
       "\t\t<dd>'Normal_01_Tamoxifen'</dd>\n",
       "</dl>\n",
       "</dd>\n",
       "\t<dt>$Normal_02</dt>\n",
       "\t\t<dd><dl>\n",
       "\t<dt>$control</dt>\n",
       "\t\t<dd>'Normal_02_Control'</dd>\n",
       "\t<dt>$treatment</dt>\n",
       "\t\t<dd>'Normal_02_Tamoxifen'</dd>\n",
       "</dl>\n",
       "</dd>\n",
       "</dl>\n"
      ],
      "text/latex": [
       "\\begin{description}\n",
       "\\item[\\$Normal\\_01] \\begin{description}\n",
       "\\item[\\$control] 'Normal\\_01\\_Control'\n",
       "\\item[\\$treatment] 'Normal\\_01\\_Tamoxifen'\n",
       "\\end{description}\n",
       "\n",
       "\\item[\\$Normal\\_02] \\begin{description}\n",
       "\\item[\\$control] 'Normal\\_02\\_Control'\n",
       "\\item[\\$treatment] 'Normal\\_02\\_Tamoxifen'\n",
       "\\end{description}\n",
       "\n",
       "\\end{description}\n"
      ],
      "text/markdown": [
       "$Normal_01\n",
       ":   $control\n",
       ":   'Normal_01_Control'\n",
       "$treatment\n",
       ":   'Normal_01_Tamoxifen'\n",
       "\n",
       "\n",
       "\n",
       "$Normal_02\n",
       ":   $control\n",
       ":   'Normal_02_Control'\n",
       "$treatment\n",
       ":   'Normal_02_Tamoxifen'\n",
       "\n",
       "\n",
       "\n",
       "\n",
       "\n"
      ],
      "text/plain": [
       "$Normal_01\n",
       "$Normal_01$control\n",
       "[1] \"Normal_01_Control\"\n",
       "\n",
       "$Normal_01$treatment\n",
       "[1] \"Normal_01_Tamoxifen\"\n",
       "\n",
       "\n",
       "$Normal_02\n",
       "$Normal_02$control\n",
       "[1] \"Normal_02_Control\"\n",
       "\n",
       "$Normal_02$treatment\n",
       "[1] \"Normal_02_Tamoxifen\"\n",
       "\n"
      ]
     },
     "metadata": {},
     "output_type": "display_data"
    },
    {
     "data": {
      "text/html": [
       "2"
      ],
      "text/latex": [
       "2"
      ],
      "text/markdown": [
       "2"
      ],
      "text/plain": [
       "[1] 2"
      ]
     },
     "metadata": {},
     "output_type": "display_data"
    }
   ],
   "source": [
    "list_samples <- list()\n",
    "\n",
    "u_samples <- unique(gsub(\"_Control|_Tamoxifen\", \"\", samples))\n",
    "for (sample in u_samples) {\n",
    "    list_samples[[sample]]$control <- sprintf(\"%s_Control\", sample)\n",
    "    list_samples[[sample]]$treatment <- sprintf(\"%s_Tamoxifen\", sample)\n",
    "}\n",
    "\n",
    "list_samples\n",
    "length(list_samples)\n"
   ]
  },
  {
   "cell_type": "markdown",
   "id": "4b6a0aa0",
   "metadata": {},
   "source": [
    "## mtx"
   ]
  },
  {
   "cell_type": "code",
   "execution_count": 12,
   "id": "7ec03ccf",
   "metadata": {},
   "outputs": [
    {
     "data": {
      "text/plain": [
       "6 x 3 sparse Matrix of class \"dgCMatrix\"\n",
       "           49758L_12hrSUS_E2#AAACCCAAGTCAGGGT-1\n",
       "AL627309.1                                    .\n",
       "AL669831.2                                    .\n",
       "AL669831.5                                    .\n",
       "FAM87B                                        .\n",
       "LINC00115                                     .\n",
       "FAM41C                                        .\n",
       "           49758L_12hrSUS_E2#AAACCCACATCACAGT-1\n",
       "AL627309.1                                    .\n",
       "AL669831.2                                    .\n",
       "AL669831.5                                    .\n",
       "FAM87B                                        .\n",
       "LINC00115                                     .\n",
       "FAM41C                                        .\n",
       "           49758L_12hrSUS_E2#AAACCCATCTCAATCT-1\n",
       "AL627309.1                                    .\n",
       "AL669831.2                                    .\n",
       "AL669831.5                                    .\n",
       "FAM87B                                        .\n",
       "LINC00115                                     .\n",
       "FAM41C                                        ."
      ]
     },
     "metadata": {},
     "output_type": "display_data"
    }
   ],
   "source": [
    "if (DefaultAssay(rna) == \"integrated\") {\n",
    "    mtx <- GetAssayData(object = rna, assay=NULL, slot = \"data\")\n",
    "} else {\n",
    "    mtx <- GetAssayData(object = rna, assay=\"RNA\", slot = \"data\")\n",
    "}\n",
    "head(mtx[,1:3])\n"
   ]
  },
  {
   "cell_type": "markdown",
   "id": "d4b1ca83",
   "metadata": {},
   "source": [
    "## list_sort"
   ]
  },
  {
   "cell_type": "code",
   "execution_count": 13,
   "id": "85338a05",
   "metadata": {
    "scrolled": true
   },
   "outputs": [],
   "source": [
    "\n",
    "list_sort <- sort_cluster_members(rna, args,\n",
    "                    col_cluster_types = col_cluster_types,\n",
    "                    str_umap_reduction = str_umap_reduction,\n",
    "                    f_merge_immune_cell = FALSE)\n"
   ]
  },
  {
   "cell_type": "markdown",
   "id": "a6d797c5",
   "metadata": {},
   "source": [
    "## colors"
   ]
  },
  {
   "cell_type": "markdown",
   "id": "51c48343",
   "metadata": {},
   "source": [
    "### samples"
   ]
  },
  {
   "cell_type": "code",
   "execution_count": 14,
   "id": "33ca7729",
   "metadata": {},
   "outputs": [
    {
     "data": {
      "text/html": [
       "<style>\n",
       ".list-inline {list-style: none; margin:0; padding: 0}\n",
       ".list-inline>li {display: inline-block}\n",
       ".list-inline>li:not(:last-child)::after {content: \"\\00b7\"; padding: 0 .5ex}\n",
       "</style>\n",
       "<ol class=list-inline><li>'#A6CEE3'</li><li>'#1F78B4'</li><li>'#B2DF8A'</li><li>'#33A02C'</li></ol>\n"
      ],
      "text/latex": [
       "\\begin{enumerate*}\n",
       "\\item '\\#A6CEE3'\n",
       "\\item '\\#1F78B4'\n",
       "\\item '\\#B2DF8A'\n",
       "\\item '\\#33A02C'\n",
       "\\end{enumerate*}\n"
      ],
      "text/markdown": [
       "1. '#A6CEE3'\n",
       "2. '#1F78B4'\n",
       "3. '#B2DF8A'\n",
       "4. '#33A02C'\n",
       "\n",
       "\n"
      ],
      "text/plain": [
       "[1] \"#A6CEE3\" \"#1F78B4\" \"#B2DF8A\" \"#33A02C\""
      ]
     },
     "metadata": {},
     "output_type": "display_data"
    },
    {
     "data": {
      "image/png": "[encoded data removed]",
      "text/plain": [
       "plot without title"
      ]
     },
     "metadata": {
      "image/png": {
       "height": 420.6,
       "width": 480.6
      }
     },
     "output_type": "display_data"
    }
   ],
   "source": [
    "# make patient sample metadata and color assignments \n",
    "\n",
    "if (n_samples <= 12){\n",
    "    sampleColors <- brewer.pal(n_samples, \"Paired\")\n",
    "} else {\n",
    "    vec_color1 <- colorRampPalette(brewer.pal(9, \"Set1\"))(n_samples/2)\n",
    "    vec_color2 <- colorspace::lighten(vec_color1, amount=0.4)\n",
    "    sampleColors <- c(rbind(vec_color1, vec_color2))\n",
    "}\n",
    "sampleColors\n",
    "\n",
    "options(repr.plot.width=8.01, repr.plot.height=7.01)\n",
    "pie(rep(1,n_samples), col=sampleColors) \n"
   ]
  },
  {
   "cell_type": "markdown",
   "id": "a5592178",
   "metadata": {},
   "source": [
    "### epi"
   ]
  },
  {
   "cell_type": "code",
   "execution_count": 15,
   "id": "e22da6f3",
   "metadata": {},
   "outputs": [
    {
     "data": {
      "text/html": [
       "<style>\n",
       ".list-inline {list-style: none; margin:0; padding: 0}\n",
       ".list-inline>li {display: inline-block}\n",
       ".list-inline>li:not(:last-child)::after {content: \"\\00b7\"; padding: 0 .5ex}\n",
       "</style>\n",
       "<ol class=list-inline><li>'Epithelial cells'</li><li>'Epi. Non-tumor'</li><li>'LEp_prog'</li><li>'LEp_secretory'</li><li>'LEp'</li><li>'LEp_hormone'</li><li>'BEp'</li><li>'BEp_MaSCs'</li><li>'BEp_myo'</li><li>'Epi. Unassigned'</li><li>'Epi. Tumor'</li><li>'Normal-like'</li><li>'NBL'</li><li>'Basal'</li><li>'CLow'</li><li>'Her2E'</li><li>'LumA'</li><li>'LumB'</li><li>'Keratinocytes'</li></ol>\n"
      ],
      "text/latex": [
       "\\begin{enumerate*}\n",
       "\\item 'Epithelial cells'\n",
       "\\item 'Epi. Non-tumor'\n",
       "\\item 'LEp\\_prog'\n",
       "\\item 'LEp\\_secretory'\n",
       "\\item 'LEp'\n",
       "\\item 'LEp\\_hormone'\n",
       "\\item 'BEp'\n",
       "\\item 'BEp\\_MaSCs'\n",
       "\\item 'BEp\\_myo'\n",
       "\\item 'Epi. Unassigned'\n",
       "\\item 'Epi. Tumor'\n",
       "\\item 'Normal-like'\n",
       "\\item 'NBL'\n",
       "\\item 'Basal'\n",
       "\\item 'CLow'\n",
       "\\item 'Her2E'\n",
       "\\item 'LumA'\n",
       "\\item 'LumB'\n",
       "\\item 'Keratinocytes'\n",
       "\\end{enumerate*}\n"
      ],
      "text/markdown": [
       "1. 'Epithelial cells'\n",
       "2. 'Epi. Non-tumor'\n",
       "3. 'LEp_prog'\n",
       "4. 'LEp_secretory'\n",
       "5. 'LEp'\n",
       "6. 'LEp_hormone'\n",
       "7. 'BEp'\n",
       "8. 'BEp_MaSCs'\n",
       "9. 'BEp_myo'\n",
       "10. 'Epi. Unassigned'\n",
       "11. 'Epi. Tumor'\n",
       "12. 'Normal-like'\n",
       "13. 'NBL'\n",
       "14. 'Basal'\n",
       "15. 'CLow'\n",
       "16. 'Her2E'\n",
       "17. 'LumA'\n",
       "18. 'LumB'\n",
       "19. 'Keratinocytes'\n",
       "\n",
       "\n"
      ],
      "text/plain": [
       " [1] \"Epithelial cells\" \"Epi. Non-tumor\"   \"LEp_prog\"         \"LEp_secretory\"   \n",
       " [5] \"LEp\"              \"LEp_hormone\"      \"BEp\"              \"BEp_MaSCs\"       \n",
       " [9] \"BEp_myo\"          \"Epi. Unassigned\"  \"Epi. Tumor\"       \"Normal-like\"     \n",
       "[13] \"NBL\"              \"Basal\"            \"CLow\"             \"Her2E\"           \n",
       "[17] \"LumA\"             \"LumB\"             \"Keratinocytes\"   "
      ]
     },
     "metadata": {},
     "output_type": "display_data"
    },
    {
     "data": {
      "image/png": "[encoded data removed]",
      "text/plain": [
       "plot without title"
      ]
     },
     "metadata": {
      "image/png": {
       "height": 420.6,
       "width": 480.6
      }
     },
     "output_type": "display_data"
    }
   ],
   "source": [
    "idx_epi <- grep(pattern_epi, names(nv_color))\n",
    "names(nv_color)[idx_epi]\n",
    "# http://applied-r.com/rcolorbrewer-palettes/\n",
    "colors_epi <- RColorBrewer::brewer.pal(9, \"Set1\")\n",
    "colors_epi <- colorspace::lighten(colors_epi, amount=0.4)\n",
    "\n",
    "nv_color[\"Epithelial cells\"] <- \"#d9ffcf\"\n",
    "nv_color[\"LEp_prog\"] <- \"#b4fd9e\"\n",
    "nv_color[\"LEp_secretory\"] <- colors_epi[3]\n",
    "color_lep_mature <- colorspace::darken(nv_color[\"LEp_prog\"], amount=0.3)\n",
    "nv_color[\"LEp\"] <- color_lep_mature\n",
    "nv_color[\"LEp_hormone\"] <- color_lep_mature\n",
    "\n",
    "nv_color[\"BEp\"] <- colors_epi[4]\n",
    "color_bep_mascs <- colorspace::darken(nv_color[\"BEp\"], amount=0.15)\n",
    "color_bep_myo <- colorspace::darken(nv_color[\"BEp\"], amount=0.3)\n",
    "nv_color[\"BEp_MaSCs\"] <- color_bep_mascs\n",
    "nv_color[\"BEp_myo\"] <- color_bep_myo\n",
    "\n",
    "nv_color[\"Basal\"] <- colors_epi[1]\n",
    "nv_color[\"Her2E\"] <- colors_epi[6]\n",
    "nv_color[\"Her2\"] <- colors_epi[6]\n",
    "nv_color[\"LumA\"] <- colors_epi[7]\n",
    "nv_color[\"LumB\"] <- colors_epi[5]\n",
    "nv_color[\"Normal-like\"] <- colorspace::darken(colors_epi[3], amount=0.4)\n",
    "\n",
    "pie(rep(1, length(idx_epi)), col=nv_color[idx_epi],\n",
    "       labels=names(nv_color)[idx_epi]) \n",
    "\n",
    "                                       "
   ]
  },
  {
   "cell_type": "code",
   "execution_count": 16,
   "id": "7a6a8fc4",
   "metadata": {},
   "outputs": [
    {
     "data": {
      "image/png": "[encoded data removed]",
      "text/plain": [
       "plot without title"
      ]
     },
     "metadata": {
      "image/png": {
       "height": 420.6,
       "width": 480.6
      }
     },
     "output_type": "display_data"
    }
   ],
   "source": [
    "list_sort <- update_nv_color_cell_type(list_sort)\n",
    "colors_epi <- list_sort$nv_color_cell_type\n",
    "\n",
    "pie(rep(1, length(colors_epi)), col=colors_epi,\n",
    "       labels=names(colors_epi)) \n"
   ]
  },
  {
   "cell_type": "markdown",
   "id": "e245872c",
   "metadata": {},
   "source": [
    "### cell.type"
   ]
  },
  {
   "cell_type": "code",
   "execution_count": 17,
   "id": "57d6d598",
   "metadata": {
    "scrolled": false
   },
   "outputs": [
    {
     "data": {
      "image/png": "[encoded data removed]",
      "text/plain": [
       "plot without title"
      ]
     },
     "metadata": {
      "image/png": {
       "height": 420.6,
       "width": 480.6
      }
     },
     "output_type": "display_data"
    }
   ],
   "source": [
    "options(repr.plot.width=8.01, repr.plot.height=7.01)\n",
    "pie(rep(1, length(list_sort$nv_color_cluster_type_ordered)),\n",
    "    col=list_sort$nv_color_cluster_type_ordered) \n"
   ]
  },
  {
   "cell_type": "markdown",
   "id": "9e280c46",
   "metadata": {},
   "source": [
    "# DGE"
   ]
  },
  {
   "cell_type": "code",
   "execution_count": 18,
   "id": "1571077a",
   "metadata": {},
   "outputs": [],
   "source": [
    "\n",
    "method_dge <- \"seurat_findmarkers_enricher\"\n",
    "dir_xlsx <- \"xlsx\"\n",
    "\n",
    "#method_dge <- \"presto_wilcoxauc_gsea\"\n",
    "#dir_xlsx <- \"xlsx/gsea\"\n",
    "\n",
    "list_genes_dn <- list()\n",
    "\n",
    "\n"
   ]
  },
  {
   "cell_type": "markdown",
   "id": "145d3cbc",
   "metadata": {},
   "source": [
    "## gmt"
   ]
  },
  {
   "cell_type": "code",
   "execution_count": 19,
   "id": "2d995b17",
   "metadata": {},
   "outputs": [],
   "source": [
    "\n",
    "list_gmt <- list()\n",
    "list_gmt[[\"h\"]] <- read.gmt(\"reference/gmt/h.all.v6.1.symbols.gmt\")\n",
    "list_gmt[[\"unc_lccc\"]] <- read.gmt(\"reference/gmt/pubmed21214954_human_gene_signatures.gmt\")\n"
   ]
  },
  {
   "cell_type": "markdown",
   "id": "1dc75b6f",
   "metadata": {},
   "source": [
    "## all samples"
   ]
  },
  {
   "cell_type": "code",
   "execution_count": 20,
   "id": "740bde59",
   "metadata": {},
   "outputs": [],
   "source": [
    "# tumor pairs with large differences\n",
    "\n",
    "sample1 <- NULL\n",
    "sample_ref <- NULL\n",
    "\n",
    "# for stronger signal\n",
    "th_log2fc_=0.25; th_padj_=0.01\n",
    "\n",
    "min.pct_=0.25; min.diff.pct_=-Inf; max.cells.per.ident_=Inf\n",
    "\n",
    "f_featureplot=FALSE\n",
    "n_sampling=-1\n",
    "cluster_rows=FALSE\n",
    "\n",
    "pattern_sample1 <- \"Tamoxifen\"\n",
    "pattern_sample_ref <- NULL\n",
    "\n",
    "drug_name <- \"tamoxifen\"\n",
    "group_name1 <- \"tamoxifen\"\n",
    "group_name_ref <- \"control\"\n",
    "\n",
    "col_cluster_types_ <- NULL\n",
    "col_cell_types_ <- \"cell.type\"\n"
   ]
  },
  {
   "cell_type": "markdown",
   "id": "82c286c8",
   "metadata": {},
   "source": [
    "## cell types"
   ]
  },
  {
   "cell_type": "code",
   "execution_count": 21,
   "id": "53bcade4",
   "metadata": {
    "scrolled": true
   },
   "outputs": [
    {
     "data": {
      "text/html": [
       "<hr style=\"height:2px\">"
      ]
     },
     "metadata": {},
     "output_type": "display_data"
    },
    {
     "data": {
      "text/html": [
       "BEp"
      ]
     },
     "metadata": {},
     "output_type": "display_data"
    },
    {
     "data": {
      "text/html": [
       "&nbsp;&nbsp;&nbsp;&nbsp;assay=integrated, slot=data<br>"
      ]
     },
     "metadata": {},
     "output_type": "display_data"
    },
    {
     "data": {
      "text/html": [
       "&nbsp;&nbsp;&nbsp;&nbsp;tamoxifen BEp n_idx1: 659, samples: Normal_01_Tamoxifen, Normal_02_Tamoxifen<br>"
      ]
     },
     "metadata": {},
     "output_type": "display_data"
    },
    {
     "data": {
      "text/html": [
       "&nbsp;&nbsp;&nbsp;&nbsp;control BEp n_idx_ref: 797, samples: Normal_01_Control, Normal_02_Control<br>"
      ]
     },
     "metadata": {},
     "output_type": "display_data"
    },
    {
     "data": {
      "text/html": [
       "df_up"
      ]
     },
     "metadata": {},
     "output_type": "display_data"
    },
    {
     "data": {
      "text/html": [
       "<table class=\"dataframe\">\n",
       "<caption>A data.frame: 6 × 8</caption>\n",
       "<thead>\n",
       "\t<tr><th></th><th scope=col>p_val</th><th scope=col>avg_log2FC</th><th scope=col>pct.1</th><th scope=col>pct.2</th><th scope=col>p_val_adj</th><th scope=col>expr_min</th><th scope=col>expr_mean</th><th scope=col>expr_max</th></tr>\n",
       "\t<tr><th></th><th scope=col>&lt;dbl&gt;</th><th scope=col>&lt;dbl&gt;</th><th scope=col>&lt;dbl&gt;</th><th scope=col>&lt;dbl&gt;</th><th scope=col>&lt;dbl&gt;</th><th scope=col>&lt;dbl&gt;</th><th scope=col>&lt;dbl&gt;</th><th scope=col>&lt;dbl&gt;</th></tr>\n",
       "</thead>\n",
       "<tbody>\n",
       "\t<tr><th scope=row>MT2A</th><td>1.085772e-42</td><td>0.7511993</td><td>0.985</td><td>0.932</td><td>2.571651e-38</td><td> 0.00000000</td><td>4.069704</td><td>6.282148</td></tr>\n",
       "\t<tr><th scope=row>MT1E</th><td>1.438730e-39</td><td>0.9152067</td><td>0.854</td><td>0.507</td><td>3.407631e-35</td><td>-0.45548323</td><td>1.576421</td><td>5.483074</td></tr>\n",
       "\t<tr><th scope=row>MT1X</th><td>7.099808e-37</td><td>0.8024920</td><td>0.889</td><td>0.509</td><td>1.681589e-32</td><td>-0.08134671</td><td>1.759772</td><td>4.786647</td></tr>\n",
       "\t<tr><th scope=row>SOD2</th><td>1.743243e-35</td><td>0.6860339</td><td>0.961</td><td>0.975</td><td>4.128872e-31</td><td>-0.58317636</td><td>2.550869</td><td>4.649310</td></tr>\n",
       "\t<tr><th scope=row>FTL</th><td>2.458278e-32</td><td>0.6670440</td><td>1.000</td><td>0.999</td><td>5.822432e-28</td><td> 1.22202765</td><td>3.913800</td><td>5.858428</td></tr>\n",
       "\t<tr><th scope=row>SQSTM1</th><td>7.569035e-32</td><td>0.4785543</td><td>0.985</td><td>0.981</td><td>1.792726e-27</td><td> 0.00000000</td><td>2.272496</td><td>4.479459</td></tr>\n",
       "</tbody>\n",
       "</table>\n"
      ],
      "text/latex": [
       "A data.frame: 6 × 8\n",
       "\\begin{tabular}{r|llllllll}\n",
       "  & p\\_val & avg\\_log2FC & pct.1 & pct.2 & p\\_val\\_adj & expr\\_min & expr\\_mean & expr\\_max\\\\\n",
       "  & <dbl> & <dbl> & <dbl> & <dbl> & <dbl> & <dbl> & <dbl> & <dbl>\\\\\n",
       "\\hline\n",
       "\tMT2A & 1.085772e-42 & 0.7511993 & 0.985 & 0.932 & 2.571651e-38 &  0.00000000 & 4.069704 & 6.282148\\\\\n",
       "\tMT1E & 1.438730e-39 & 0.9152067 & 0.854 & 0.507 & 3.407631e-35 & -0.45548323 & 1.576421 & 5.483074\\\\\n",
       "\tMT1X & 7.099808e-37 & 0.8024920 & 0.889 & 0.509 & 1.681589e-32 & -0.08134671 & 1.759772 & 4.786647\\\\\n",
       "\tSOD2 & 1.743243e-35 & 0.6860339 & 0.961 & 0.975 & 4.128872e-31 & -0.58317636 & 2.550869 & 4.649310\\\\\n",
       "\tFTL & 2.458278e-32 & 0.6670440 & 1.000 & 0.999 & 5.822432e-28 &  1.22202765 & 3.913800 & 5.858428\\\\\n",
       "\tSQSTM1 & 7.569035e-32 & 0.4785543 & 0.985 & 0.981 & 1.792726e-27 &  0.00000000 & 2.272496 & 4.479459\\\\\n",
       "\\end{tabular}\n"
      ],
      "text/markdown": [
       "\n",
       "A data.frame: 6 × 8\n",
       "\n",
       "| <!--/--> | p_val &lt;dbl&gt; | avg_log2FC &lt;dbl&gt; | pct.1 &lt;dbl&gt; | pct.2 &lt;dbl&gt; | p_val_adj &lt;dbl&gt; | expr_min &lt;dbl&gt; | expr_mean &lt;dbl&gt; | expr_max &lt;dbl&gt; |\n",
       "|---|---|---|---|---|---|---|---|---|\n",
       "| MT2A | 1.085772e-42 | 0.7511993 | 0.985 | 0.932 | 2.571651e-38 |  0.00000000 | 4.069704 | 6.282148 |\n",
       "| MT1E | 1.438730e-39 | 0.9152067 | 0.854 | 0.507 | 3.407631e-35 | -0.45548323 | 1.576421 | 5.483074 |\n",
       "| MT1X | 7.099808e-37 | 0.8024920 | 0.889 | 0.509 | 1.681589e-32 | -0.08134671 | 1.759772 | 4.786647 |\n",
       "| SOD2 | 1.743243e-35 | 0.6860339 | 0.961 | 0.975 | 4.128872e-31 | -0.58317636 | 2.550869 | 4.649310 |\n",
       "| FTL | 2.458278e-32 | 0.6670440 | 1.000 | 0.999 | 5.822432e-28 |  1.22202765 | 3.913800 | 5.858428 |\n",
       "| SQSTM1 | 7.569035e-32 | 0.4785543 | 0.985 | 0.981 | 1.792726e-27 |  0.00000000 | 2.272496 | 4.479459 |\n",
       "\n"
      ],
      "text/plain": [
       "       p_val        avg_log2FC pct.1 pct.2 p_val_adj    expr_min    expr_mean\n",
       "MT2A   1.085772e-42 0.7511993  0.985 0.932 2.571651e-38  0.00000000 4.069704 \n",
       "MT1E   1.438730e-39 0.9152067  0.854 0.507 3.407631e-35 -0.45548323 1.576421 \n",
       "MT1X   7.099808e-37 0.8024920  0.889 0.509 1.681589e-32 -0.08134671 1.759772 \n",
       "SOD2   1.743243e-35 0.6860339  0.961 0.975 4.128872e-31 -0.58317636 2.550869 \n",
       "FTL    2.458278e-32 0.6670440  1.000 0.999 5.822432e-28  1.22202765 3.913800 \n",
       "SQSTM1 7.569035e-32 0.4785543  0.985 0.981 1.792726e-27  0.00000000 2.272496 \n",
       "       expr_max\n",
       "MT2A   6.282148\n",
       "MT1E   5.483074\n",
       "MT1X   4.786647\n",
       "SOD2   4.649310\n",
       "FTL    5.858428\n",
       "SQSTM1 4.479459"
      ]
     },
     "metadata": {},
     "output_type": "display_data"
    },
    {
     "data": {
      "text/html": [
       "<style>\n",
       ".list-inline {list-style: none; margin:0; padding: 0}\n",
       ".list-inline>li {display: inline-block}\n",
       ".list-inline>li:not(:last-child)::after {content: \"\\00b7\"; padding: 0 .5ex}\n",
       "</style>\n",
       "<ol class=list-inline><li>114</li><li>8</li></ol>\n"
      ],
      "text/latex": [
       "\\begin{enumerate*}\n",
       "\\item 114\n",
       "\\item 8\n",
       "\\end{enumerate*}\n"
      ],
      "text/markdown": [
       "1. 114\n",
       "2. 8\n",
       "\n",
       "\n"
      ],
      "text/plain": [
       "[1] 114   8"
      ]
     },
     "metadata": {},
     "output_type": "display_data"
    },
    {
     "data": {
      "text/html": [
       "df_dn"
      ]
     },
     "metadata": {},
     "output_type": "display_data"
    },
    {
     "data": {
      "text/html": [
       "<table class=\"dataframe\">\n",
       "<caption>A data.frame: 6 × 8</caption>\n",
       "<thead>\n",
       "\t<tr><th></th><th scope=col>p_val</th><th scope=col>avg_log2FC</th><th scope=col>pct.1</th><th scope=col>pct.2</th><th scope=col>p_val_adj</th><th scope=col>expr_min</th><th scope=col>expr_mean</th><th scope=col>expr_max</th></tr>\n",
       "\t<tr><th></th><th scope=col>&lt;dbl&gt;</th><th scope=col>&lt;dbl&gt;</th><th scope=col>&lt;dbl&gt;</th><th scope=col>&lt;dbl&gt;</th><th scope=col>&lt;dbl&gt;</th><th scope=col>&lt;dbl&gt;</th><th scope=col>&lt;dbl&gt;</th><th scope=col>&lt;dbl&gt;</th></tr>\n",
       "</thead>\n",
       "<tbody>\n",
       "\t<tr><th scope=row>MT-CO3</th><td>5.314010e-53</td><td>-0.7946342</td><td>0.954</td><td>0.989</td><td>1.258623e-48</td><td> 0.0000000</td><td>1.9216519</td><td>5.079960</td></tr>\n",
       "\t<tr><th scope=row>MT-CO1</th><td>4.844225e-51</td><td>-0.5765198</td><td>0.977</td><td>0.994</td><td>1.147355e-46</td><td> 0.0000000</td><td>2.4336504</td><td>5.307871</td></tr>\n",
       "\t<tr><th scope=row>MT-ATP6</th><td>4.702082e-49</td><td>-0.7478216</td><td>0.951</td><td>0.990</td><td>1.113688e-44</td><td> 0.0000000</td><td>2.1544117</td><td>5.792396</td></tr>\n",
       "\t<tr><th scope=row>MT-ND4</th><td>2.672247e-43</td><td>-0.5980571</td><td>0.942</td><td>0.984</td><td>6.329216e-39</td><td> 0.0000000</td><td>1.8818140</td><td>5.033736</td></tr>\n",
       "\t<tr><th scope=row>KRT19</th><td>4.359095e-41</td><td>-0.9500336</td><td>0.385</td><td>0.678</td><td>1.032452e-36</td><td>-0.8913593</td><td>0.5676338</td><td>5.128677</td></tr>\n",
       "\t<tr><th scope=row>MT-ND1</th><td>2.939077e-39</td><td>-0.6359537</td><td>0.920</td><td>0.965</td><td>6.961203e-35</td><td> 0.0000000</td><td>1.6657561</td><td>4.898882</td></tr>\n",
       "</tbody>\n",
       "</table>\n"
      ],
      "text/latex": [
       "A data.frame: 6 × 8\n",
       "\\begin{tabular}{r|llllllll}\n",
       "  & p\\_val & avg\\_log2FC & pct.1 & pct.2 & p\\_val\\_adj & expr\\_min & expr\\_mean & expr\\_max\\\\\n",
       "  & <dbl> & <dbl> & <dbl> & <dbl> & <dbl> & <dbl> & <dbl> & <dbl>\\\\\n",
       "\\hline\n",
       "\tMT-CO3 & 5.314010e-53 & -0.7946342 & 0.954 & 0.989 & 1.258623e-48 &  0.0000000 & 1.9216519 & 5.079960\\\\\n",
       "\tMT-CO1 & 4.844225e-51 & -0.5765198 & 0.977 & 0.994 & 1.147355e-46 &  0.0000000 & 2.4336504 & 5.307871\\\\\n",
       "\tMT-ATP6 & 4.702082e-49 & -0.7478216 & 0.951 & 0.990 & 1.113688e-44 &  0.0000000 & 2.1544117 & 5.792396\\\\\n",
       "\tMT-ND4 & 2.672247e-43 & -0.5980571 & 0.942 & 0.984 & 6.329216e-39 &  0.0000000 & 1.8818140 & 5.033736\\\\\n",
       "\tKRT19 & 4.359095e-41 & -0.9500336 & 0.385 & 0.678 & 1.032452e-36 & -0.8913593 & 0.5676338 & 5.128677\\\\\n",
       "\tMT-ND1 & 2.939077e-39 & -0.6359537 & 0.920 & 0.965 & 6.961203e-35 &  0.0000000 & 1.6657561 & 4.898882\\\\\n",
       "\\end{tabular}\n"
      ],
      "text/markdown": [
       "\n",
       "A data.frame: 6 × 8\n",
       "\n",
       "| <!--/--> | p_val &lt;dbl&gt; | avg_log2FC &lt;dbl&gt; | pct.1 &lt;dbl&gt; | pct.2 &lt;dbl&gt; | p_val_adj &lt;dbl&gt; | expr_min &lt;dbl&gt; | expr_mean &lt;dbl&gt; | expr_max &lt;dbl&gt; |\n",
       "|---|---|---|---|---|---|---|---|---|\n",
       "| MT-CO3 | 5.314010e-53 | -0.7946342 | 0.954 | 0.989 | 1.258623e-48 |  0.0000000 | 1.9216519 | 5.079960 |\n",
       "| MT-CO1 | 4.844225e-51 | -0.5765198 | 0.977 | 0.994 | 1.147355e-46 |  0.0000000 | 2.4336504 | 5.307871 |\n",
       "| MT-ATP6 | 4.702082e-49 | -0.7478216 | 0.951 | 0.990 | 1.113688e-44 |  0.0000000 | 2.1544117 | 5.792396 |\n",
       "| MT-ND4 | 2.672247e-43 | -0.5980571 | 0.942 | 0.984 | 6.329216e-39 |  0.0000000 | 1.8818140 | 5.033736 |\n",
       "| KRT19 | 4.359095e-41 | -0.9500336 | 0.385 | 0.678 | 1.032452e-36 | -0.8913593 | 0.5676338 | 5.128677 |\n",
       "| MT-ND1 | 2.939077e-39 | -0.6359537 | 0.920 | 0.965 | 6.961203e-35 |  0.0000000 | 1.6657561 | 4.898882 |\n",
       "\n"
      ],
      "text/plain": [
       "        p_val        avg_log2FC pct.1 pct.2 p_val_adj    expr_min   expr_mean\n",
       "MT-CO3  5.314010e-53 -0.7946342 0.954 0.989 1.258623e-48  0.0000000 1.9216519\n",
       "MT-CO1  4.844225e-51 -0.5765198 0.977 0.994 1.147355e-46  0.0000000 2.4336504\n",
       "MT-ATP6 4.702082e-49 -0.7478216 0.951 0.990 1.113688e-44  0.0000000 2.1544117\n",
       "MT-ND4  2.672247e-43 -0.5980571 0.942 0.984 6.329216e-39  0.0000000 1.8818140\n",
       "KRT19   4.359095e-41 -0.9500336 0.385 0.678 1.032452e-36 -0.8913593 0.5676338\n",
       "MT-ND1  2.939077e-39 -0.6359537 0.920 0.965 6.961203e-35  0.0000000 1.6657561\n",
       "        expr_max\n",
       "MT-CO3  5.079960\n",
       "MT-CO1  5.307871\n",
       "MT-ATP6 5.792396\n",
       "MT-ND4  5.033736\n",
       "KRT19   5.128677\n",
       "MT-ND1  4.898882"
      ]
     },
     "metadata": {},
     "output_type": "display_data"
    },
    {
     "data": {
      "text/html": [
       "<style>\n",
       ".list-inline {list-style: none; margin:0; padding: 0}\n",
       ".list-inline>li {display: inline-block}\n",
       ".list-inline>li:not(:last-child)::after {content: \"\\00b7\"; padding: 0 .5ex}\n",
       "</style>\n",
       "<ol class=list-inline><li>76</li><li>8</li></ol>\n"
      ],
      "text/latex": [
       "\\begin{enumerate*}\n",
       "\\item 76\n",
       "\\item 8\n",
       "\\end{enumerate*}\n"
      ],
      "text/markdown": [
       "1. 76\n",
       "2. 8\n",
       "\n",
       "\n"
      ],
      "text/plain": [
       "[1] 76  8"
      ]
     },
     "metadata": {},
     "output_type": "display_data"
    },
    {
     "data": {
      "text/html": [
       "<hr style=\"height:1px\">"
      ]
     },
     "metadata": {},
     "output_type": "display_data"
    },
    {
     "data": {
      "text/html": [
       "up h"
      ]
     },
     "metadata": {},
     "output_type": "display_data"
    },
    {
     "data": {
      "text/html": [
       "<table class=\"dataframe\">\n",
       "<caption>A data.frame: 6 × 9</caption>\n",
       "<thead>\n",
       "\t<tr><th></th><th scope=col>ID</th><th scope=col>Description</th><th scope=col>GeneRatio</th><th scope=col>BgRatio</th><th scope=col>pvalue</th><th scope=col>p.adjust</th><th scope=col>qvalue</th><th scope=col>geneID</th><th scope=col>Count</th></tr>\n",
       "\t<tr><th></th><th scope=col>&lt;chr&gt;</th><th scope=col>&lt;chr&gt;</th><th scope=col>&lt;chr&gt;</th><th scope=col>&lt;chr&gt;</th><th scope=col>&lt;dbl&gt;</th><th scope=col>&lt;dbl&gt;</th><th scope=col>&lt;dbl&gt;</th><th scope=col>&lt;chr&gt;</th><th scope=col>&lt;int&gt;</th></tr>\n",
       "</thead>\n",
       "<tbody>\n",
       "\t<tr><th scope=row>HALLMARK_TNFA_SIGNALING_VIA_NFKB</th><td>HALLMARK_TNFA_SIGNALING_VIA_NFKB          </td><td>HALLMARK_TNFA_SIGNALING_VIA_NFKB          </td><td>24/77</td><td>200/4386</td><td>1.105290e-14</td><td>4.531689e-13</td><td>3.025004e-13</td><td>SOD2/SQSTM1/GEM/TNFAIP3/HBEGF/ICAM1/TNC/IL6/NFIL3/CDKN1A/KDM6B/NFKB1/LIF/PLAU/ZFP36/MAP2K3/VEGFA/TNFAIP6/EGR1/CXCL1/GADD45A/FOS/SOCS3/CCNL1</td><td>24</td></tr>\n",
       "\t<tr><th scope=row>HALLMARK_EPITHELIAL_MESENCHYMAL_TRANSITION</th><td>HALLMARK_EPITHELIAL_MESENCHYMAL_TRANSITION</td><td>HALLMARK_EPITHELIAL_MESENCHYMAL_TRANSITION</td><td>16/77</td><td>200/4386</td><td>2.240736e-07</td><td>4.593509e-06</td><td>3.066270e-06</td><td>TPM2/FGF2/GEM/TAGLN/TNFAIP3/GPC1/TNC/MMP14/IL6/IL32/LGALS1/VEGFA/SPP1/ACTA2/CXCL1/GADD45A                                                  </td><td>16</td></tr>\n",
       "\t<tr><th scope=row>HALLMARK_HYPOXIA</th><td>HALLMARK_HYPOXIA                          </td><td>HALLMARK_HYPOXIA                          </td><td>15/77</td><td>200/4386</td><td>1.309958e-06</td><td>1.790275e-05</td><td>1.195049e-05</td><td>MT2A/MT1E/SLC2A1/CSRP2/TNFAIP3/HMOX1/GPC1/DDIT3/IL6/CAV1/NFIL3/CDKN1A/ZFP36/VEGFA/FOS                                                      </td><td>15</td></tr>\n",
       "\t<tr><th scope=row>HALLMARK_P53_PATHWAY</th><td>HALLMARK_P53_PATHWAY                      </td><td>HALLMARK_P53_PATHWAY                      </td><td>13/77</td><td>200/4386</td><td>3.469014e-05</td><td>3.555740e-04</td><td>2.373536e-04</td><td>HBEGF/HMOX1/DDIT3/CCND2/SERPINB5/CDKN1A/LIF/KRT17/SFN/GADD45A/FOS/RGS16/HINT1                                                              </td><td>13</td></tr>\n",
       "\t<tr><th scope=row>HALLMARK_MTORC1_SIGNALING</th><td>HALLMARK_MTORC1_SIGNALING                 </td><td>HALLMARK_MTORC1_SIGNALING                 </td><td>12/77</td><td>200/4386</td><td>1.559284e-04</td><td>1.278613e-03</td><td>8.535030e-04</td><td>SQSTM1/SLC2A1/FAM129A/DDIT3/SLC1A5/IFRD1/NFIL3/CDKN1A/HSPD1/INSIG1/MAP2K3/HSP90B1                                                          </td><td>12</td></tr>\n",
       "\t<tr><th scope=row>HALLMARK_REACTIVE_OXIGEN_SPECIES_PATHWAY</th><td>HALLMARK_REACTIVE_OXIGEN_SPECIES_PATHWAY  </td><td>HALLMARK_REACTIVE_OXIGEN_SPECIES_PATHWAY  </td><td>5/77 </td><td>49/4386 </td><td>1.526317e-03</td><td>8.750451e-03</td><td>5.841123e-03</td><td>SOD2/FTL/PRNP/TXN/GCLM                                                                                                                     </td><td> 5</td></tr>\n",
       "</tbody>\n",
       "</table>\n"
      ],
      "text/latex": [
       "A data.frame: 6 × 9\n",
       "\\begin{tabular}{r|lllllllll}\n",
       "  & ID & Description & GeneRatio & BgRatio & pvalue & p.adjust & qvalue & geneID & Count\\\\\n",
       "  & <chr> & <chr> & <chr> & <chr> & <dbl> & <dbl> & <dbl> & <chr> & <int>\\\\\n",
       "\\hline\n",
       "\tHALLMARK\\_TNFA\\_SIGNALING\\_VIA\\_NFKB & HALLMARK\\_TNFA\\_SIGNALING\\_VIA\\_NFKB           & HALLMARK\\_TNFA\\_SIGNALING\\_VIA\\_NFKB           & 24/77 & 200/4386 & 1.105290e-14 & 4.531689e-13 & 3.025004e-13 & SOD2/SQSTM1/GEM/TNFAIP3/HBEGF/ICAM1/TNC/IL6/NFIL3/CDKN1A/KDM6B/NFKB1/LIF/PLAU/ZFP36/MAP2K3/VEGFA/TNFAIP6/EGR1/CXCL1/GADD45A/FOS/SOCS3/CCNL1 & 24\\\\\n",
       "\tHALLMARK\\_EPITHELIAL\\_MESENCHYMAL\\_TRANSITION & HALLMARK\\_EPITHELIAL\\_MESENCHYMAL\\_TRANSITION & HALLMARK\\_EPITHELIAL\\_MESENCHYMAL\\_TRANSITION & 16/77 & 200/4386 & 2.240736e-07 & 4.593509e-06 & 3.066270e-06 & TPM2/FGF2/GEM/TAGLN/TNFAIP3/GPC1/TNC/MMP14/IL6/IL32/LGALS1/VEGFA/SPP1/ACTA2/CXCL1/GADD45A                                                   & 16\\\\\n",
       "\tHALLMARK\\_HYPOXIA & HALLMARK\\_HYPOXIA                           & HALLMARK\\_HYPOXIA                           & 15/77 & 200/4386 & 1.309958e-06 & 1.790275e-05 & 1.195049e-05 & MT2A/MT1E/SLC2A1/CSRP2/TNFAIP3/HMOX1/GPC1/DDIT3/IL6/CAV1/NFIL3/CDKN1A/ZFP36/VEGFA/FOS                                                       & 15\\\\\n",
       "\tHALLMARK\\_P53\\_PATHWAY & HALLMARK\\_P53\\_PATHWAY                       & HALLMARK\\_P53\\_PATHWAY                       & 13/77 & 200/4386 & 3.469014e-05 & 3.555740e-04 & 2.373536e-04 & HBEGF/HMOX1/DDIT3/CCND2/SERPINB5/CDKN1A/LIF/KRT17/SFN/GADD45A/FOS/RGS16/HINT1                                                               & 13\\\\\n",
       "\tHALLMARK\\_MTORC1\\_SIGNALING & HALLMARK\\_MTORC1\\_SIGNALING                  & HALLMARK\\_MTORC1\\_SIGNALING                  & 12/77 & 200/4386 & 1.559284e-04 & 1.278613e-03 & 8.535030e-04 & SQSTM1/SLC2A1/FAM129A/DDIT3/SLC1A5/IFRD1/NFIL3/CDKN1A/HSPD1/INSIG1/MAP2K3/HSP90B1                                                           & 12\\\\\n",
       "\tHALLMARK\\_REACTIVE\\_OXIGEN\\_SPECIES\\_PATHWAY & HALLMARK\\_REACTIVE\\_OXIGEN\\_SPECIES\\_PATHWAY   & HALLMARK\\_REACTIVE\\_OXIGEN\\_SPECIES\\_PATHWAY   & 5/77  & 49/4386  & 1.526317e-03 & 8.750451e-03 & 5.841123e-03 & SOD2/FTL/PRNP/TXN/GCLM                                                                                                                      &  5\\\\\n",
       "\\end{tabular}\n"
      ],
      "text/markdown": [
       "\n",
       "A data.frame: 6 × 9\n",
       "\n",
       "| <!--/--> | ID &lt;chr&gt; | Description &lt;chr&gt; | GeneRatio &lt;chr&gt; | BgRatio &lt;chr&gt; | pvalue &lt;dbl&gt; | p.adjust &lt;dbl&gt; | qvalue &lt;dbl&gt; | geneID &lt;chr&gt; | Count &lt;int&gt; |\n",
       "|---|---|---|---|---|---|---|---|---|---|\n",
       "| HALLMARK_TNFA_SIGNALING_VIA_NFKB | HALLMARK_TNFA_SIGNALING_VIA_NFKB           | HALLMARK_TNFA_SIGNALING_VIA_NFKB           | 24/77 | 200/4386 | 1.105290e-14 | 4.531689e-13 | 3.025004e-13 | SOD2/SQSTM1/GEM/TNFAIP3/HBEGF/ICAM1/TNC/IL6/NFIL3/CDKN1A/KDM6B/NFKB1/LIF/PLAU/ZFP36/MAP2K3/VEGFA/TNFAIP6/EGR1/CXCL1/GADD45A/FOS/SOCS3/CCNL1 | 24 |\n",
       "| HALLMARK_EPITHELIAL_MESENCHYMAL_TRANSITION | HALLMARK_EPITHELIAL_MESENCHYMAL_TRANSITION | HALLMARK_EPITHELIAL_MESENCHYMAL_TRANSITION | 16/77 | 200/4386 | 2.240736e-07 | 4.593509e-06 | 3.066270e-06 | TPM2/FGF2/GEM/TAGLN/TNFAIP3/GPC1/TNC/MMP14/IL6/IL32/LGALS1/VEGFA/SPP1/ACTA2/CXCL1/GADD45A                                                   | 16 |\n",
       "| HALLMARK_HYPOXIA | HALLMARK_HYPOXIA                           | HALLMARK_HYPOXIA                           | 15/77 | 200/4386 | 1.309958e-06 | 1.790275e-05 | 1.195049e-05 | MT2A/MT1E/SLC2A1/CSRP2/TNFAIP3/HMOX1/GPC1/DDIT3/IL6/CAV1/NFIL3/CDKN1A/ZFP36/VEGFA/FOS                                                       | 15 |\n",
       "| HALLMARK_P53_PATHWAY | HALLMARK_P53_PATHWAY                       | HALLMARK_P53_PATHWAY                       | 13/77 | 200/4386 | 3.469014e-05 | 3.555740e-04 | 2.373536e-04 | HBEGF/HMOX1/DDIT3/CCND2/SERPINB5/CDKN1A/LIF/KRT17/SFN/GADD45A/FOS/RGS16/HINT1                                                               | 13 |\n",
       "| HALLMARK_MTORC1_SIGNALING | HALLMARK_MTORC1_SIGNALING                  | HALLMARK_MTORC1_SIGNALING                  | 12/77 | 200/4386 | 1.559284e-04 | 1.278613e-03 | 8.535030e-04 | SQSTM1/SLC2A1/FAM129A/DDIT3/SLC1A5/IFRD1/NFIL3/CDKN1A/HSPD1/INSIG1/MAP2K3/HSP90B1                                                           | 12 |\n",
       "| HALLMARK_REACTIVE_OXIGEN_SPECIES_PATHWAY | HALLMARK_REACTIVE_OXIGEN_SPECIES_PATHWAY   | HALLMARK_REACTIVE_OXIGEN_SPECIES_PATHWAY   | 5/77  | 49/4386  | 1.526317e-03 | 8.750451e-03 | 5.841123e-03 | SOD2/FTL/PRNP/TXN/GCLM                                                                                                                      |  5 |\n",
       "\n"
      ],
      "text/plain": [
       "                                           ID                                        \n",
       "HALLMARK_TNFA_SIGNALING_VIA_NFKB           HALLMARK_TNFA_SIGNALING_VIA_NFKB          \n",
       "HALLMARK_EPITHELIAL_MESENCHYMAL_TRANSITION HALLMARK_EPITHELIAL_MESENCHYMAL_TRANSITION\n",
       "HALLMARK_HYPOXIA                           HALLMARK_HYPOXIA                          \n",
       "HALLMARK_P53_PATHWAY                       HALLMARK_P53_PATHWAY                      \n",
       "HALLMARK_MTORC1_SIGNALING                  HALLMARK_MTORC1_SIGNALING                 \n",
       "HALLMARK_REACTIVE_OXIGEN_SPECIES_PATHWAY   HALLMARK_REACTIVE_OXIGEN_SPECIES_PATHWAY  \n",
       "                                           Description                               \n",
       "HALLMARK_TNFA_SIGNALING_VIA_NFKB           HALLMARK_TNFA_SIGNALING_VIA_NFKB          \n",
       "HALLMARK_EPITHELIAL_MESENCHYMAL_TRANSITION HALLMARK_EPITHELIAL_MESENCHYMAL_TRANSITION\n",
       "HALLMARK_HYPOXIA                           HALLMARK_HYPOXIA                          \n",
       "HALLMARK_P53_PATHWAY                       HALLMARK_P53_PATHWAY                      \n",
       "HALLMARK_MTORC1_SIGNALING                  HALLMARK_MTORC1_SIGNALING                 \n",
       "HALLMARK_REACTIVE_OXIGEN_SPECIES_PATHWAY   HALLMARK_REACTIVE_OXIGEN_SPECIES_PATHWAY  \n",
       "                                           GeneRatio BgRatio  pvalue      \n",
       "HALLMARK_TNFA_SIGNALING_VIA_NFKB           24/77     200/4386 1.105290e-14\n",
       "HALLMARK_EPITHELIAL_MESENCHYMAL_TRANSITION 16/77     200/4386 2.240736e-07\n",
       "HALLMARK_HYPOXIA                           15/77     200/4386 1.309958e-06\n",
       "HALLMARK_P53_PATHWAY                       13/77     200/4386 3.469014e-05\n",
       "HALLMARK_MTORC1_SIGNALING                  12/77     200/4386 1.559284e-04\n",
       "HALLMARK_REACTIVE_OXIGEN_SPECIES_PATHWAY   5/77      49/4386  1.526317e-03\n",
       "                                           p.adjust     qvalue      \n",
       "HALLMARK_TNFA_SIGNALING_VIA_NFKB           4.531689e-13 3.025004e-13\n",
       "HALLMARK_EPITHELIAL_MESENCHYMAL_TRANSITION 4.593509e-06 3.066270e-06\n",
       "HALLMARK_HYPOXIA                           1.790275e-05 1.195049e-05\n",
       "HALLMARK_P53_PATHWAY                       3.555740e-04 2.373536e-04\n",
       "HALLMARK_MTORC1_SIGNALING                  1.278613e-03 8.535030e-04\n",
       "HALLMARK_REACTIVE_OXIGEN_SPECIES_PATHWAY   8.750451e-03 5.841123e-03\n",
       "                                           geneID                                                                                                                                     \n",
       "HALLMARK_TNFA_SIGNALING_VIA_NFKB           SOD2/SQSTM1/GEM/TNFAIP3/HBEGF/ICAM1/TNC/IL6/NFIL3/CDKN1A/KDM6B/NFKB1/LIF/PLAU/ZFP36/MAP2K3/VEGFA/TNFAIP6/EGR1/CXCL1/GADD45A/FOS/SOCS3/CCNL1\n",
       "HALLMARK_EPITHELIAL_MESENCHYMAL_TRANSITION TPM2/FGF2/GEM/TAGLN/TNFAIP3/GPC1/TNC/MMP14/IL6/IL32/LGALS1/VEGFA/SPP1/ACTA2/CXCL1/GADD45A                                                  \n",
       "HALLMARK_HYPOXIA                           MT2A/MT1E/SLC2A1/CSRP2/TNFAIP3/HMOX1/GPC1/DDIT3/IL6/CAV1/NFIL3/CDKN1A/ZFP36/VEGFA/FOS                                                      \n",
       "HALLMARK_P53_PATHWAY                       HBEGF/HMOX1/DDIT3/CCND2/SERPINB5/CDKN1A/LIF/KRT17/SFN/GADD45A/FOS/RGS16/HINT1                                                              \n",
       "HALLMARK_MTORC1_SIGNALING                  SQSTM1/SLC2A1/FAM129A/DDIT3/SLC1A5/IFRD1/NFIL3/CDKN1A/HSPD1/INSIG1/MAP2K3/HSP90B1                                                          \n",
       "HALLMARK_REACTIVE_OXIGEN_SPECIES_PATHWAY   SOD2/FTL/PRNP/TXN/GCLM                                                                                                                     \n",
       "                                           Count\n",
       "HALLMARK_TNFA_SIGNALING_VIA_NFKB           24   \n",
       "HALLMARK_EPITHELIAL_MESENCHYMAL_TRANSITION 16   \n",
       "HALLMARK_HYPOXIA                           15   \n",
       "HALLMARK_P53_PATHWAY                       13   \n",
       "HALLMARK_MTORC1_SIGNALING                  12   \n",
       "HALLMARK_REACTIVE_OXIGEN_SPECIES_PATHWAY    5   "
      ]
     },
     "metadata": {},
     "output_type": "display_data"
    },
    {
     "data": {
      "text/html": [
       "<style>\n",
       ".list-inline {list-style: none; margin:0; padding: 0}\n",
       ".list-inline>li {display: inline-block}\n",
       ".list-inline>li:not(:last-child)::after {content: \"\\00b7\"; padding: 0 .5ex}\n",
       "</style>\n",
       "<ol class=list-inline><li>12</li><li>9</li></ol>\n"
      ],
      "text/latex": [
       "\\begin{enumerate*}\n",
       "\\item 12\n",
       "\\item 9\n",
       "\\end{enumerate*}\n"
      ],
      "text/markdown": [
       "1. 12\n",
       "2. 9\n",
       "\n",
       "\n"
      ],
      "text/plain": [
       "[1] 12  9"
      ]
     },
     "metadata": {},
     "output_type": "display_data"
    },
    {
     "data": {
      "text/html": [
       "up unc_lccc"
      ]
     },
     "metadata": {},
     "output_type": "display_data"
    },
    {
     "data": {
      "text/html": [
       "<table class=\"dataframe\">\n",
       "<caption>A data.frame: 6 × 9</caption>\n",
       "<thead>\n",
       "\t<tr><th></th><th scope=col>ID</th><th scope=col>Description</th><th scope=col>GeneRatio</th><th scope=col>BgRatio</th><th scope=col>pvalue</th><th scope=col>p.adjust</th><th scope=col>qvalue</th><th scope=col>geneID</th><th scope=col>Count</th></tr>\n",
       "\t<tr><th></th><th scope=col>&lt;chr&gt;</th><th scope=col>&lt;chr&gt;</th><th scope=col>&lt;chr&gt;</th><th scope=col>&lt;chr&gt;</th><th scope=col>&lt;dbl&gt;</th><th scope=col>&lt;dbl&gt;</th><th scope=col>&lt;dbl&gt;</th><th scope=col>&lt;chr&gt;</th><th scope=col>&lt;int&gt;</th></tr>\n",
       "</thead>\n",
       "<tbody>\n",
       "\t<tr><th scope=row>Lim.et.al.2010.Conserved.aMaSC_BCR.2010_PMID.20346151</th><td>Lim.et.al.2010.Conserved.aMaSC_BCR.2010_PMID.20346151                                  </td><td>Lim.et.al.2010.Conserved.aMaSC_BCR.2010_PMID.20346151                                  </td><td>31/113</td><td>488/19982</td><td>3.673670e-24</td><td>9.478068e-22</td><td>5.955212e-22</td><td>GYPC/TPM2/GEM/TAGLN/CSRP2/CLMP/PRNP/DKK3/NRP2/ICAM1/COL17A1/BAG3/CCND2/SLC1A5/NXN/IL6/KRT14/CAV1/APOE/CDKN1A/CTNNAL1/ACTG2/LGALS1/TINAGL1/CRYAB/FAT1/VSNL1/CPNE8/ACTA2/EPAS1/KRT5</td><td>31</td></tr>\n",
       "\t<tr><th scope=row>Pfefferle2012_MaSC_Adam_PMID.25575446</th><td>Pfefferle2012_MaSC_Adam_PMID.25575446                                                  </td><td>Pfefferle2012_MaSC_Adam_PMID.25575446                                                  </td><td>17/113</td><td>180/19982</td><td>2.350207e-16</td><td>3.031767e-14</td><td>1.904904e-14</td><td>FAM129A/PRNP/HBEGF/GPC1/DKK3/NRP2/COL17A1/KRT14/SERPINB5/CTNNAL1/ACTG2/TUBB2B/TINAGL1/ANO1/AGPAT5/GCLM/KRT5                                                                      </td><td>17</td></tr>\n",
       "\t<tr><th scope=row>Tcell_EXH_Memory_CD8_T_cell_a_vs_Naive_CD8_T_cell_Metagene_3_Science.2016_PMID.27789795</th><td>Tcell_EXH_Memory_CD8_T_cell_a_vs_Naive_CD8_T_cell_Metagene_3_Science.2016_PMID.27789795</td><td>Tcell_EXH_Memory_CD8_T_cell_a_vs_Naive_CD8_T_cell_Metagene_3_Science.2016_PMID.27789795</td><td>13/113</td><td>141/19982</td><td>1.289282e-12</td><td>1.108783e-10</td><td>6.966648e-11</td><td>SOD2/SQSTM1/GEM/SPRY2/TNFAIP3/HMOX1/ICAM1/IFRD1/NFIL3/CDKN1A/KDM6B/MAP2K3/GADD45A                                                                                                </td><td>13</td></tr>\n",
       "\t<tr><th scope=row>MDSC_Neutrophil_Youn_J_Leukoc_Biol.2012_PMID.21954284</th><td>MDSC_Neutrophil_Youn_J_Leukoc_Biol.2012_PMID.21954284                                  </td><td>MDSC_Neutrophil_Youn_J_Leukoc_Biol.2012_PMID.21954284                                  </td><td>8/113 </td><td>29/19982 </td><td>3.162374e-12</td><td>2.039731e-10</td><td>1.281594e-10</td><td>MT2A/SOD2/ICAM1/CCND2/MMP14/IL6/SPP1/CXCL1                                                                                                                                       </td><td> 8</td></tr>\n",
       "\t<tr><th scope=row>MDSC_tumor_MO_Schlecker_J.Immunol.2012_PMID.23152559</th><td>MDSC_tumor_MO_Schlecker_J.Immunol.2012_PMID.23152559                                   </td><td>MDSC_tumor_MO_Schlecker_J.Immunol.2012_PMID.23152559                                   </td><td>12/113</td><td>129/19982</td><td>8.863123e-12</td><td>4.573372e-10</td><td>2.873518e-10</td><td>SLC2A1/HMOX1/DDIT3/MMP14/CDKN1A/ZFP36/VEGFA/EGR1/SPP1/CXCL1/GADD45A/RGS16                                                                                                        </td><td>12</td></tr>\n",
       "\t<tr><th scope=row>UNC_HS_Red8_BMC.Med.Genomics.2011_PMID.21214954</th><td>UNC_HS_Red8_BMC.Med.Genomics.2011_PMID.21214954                                        </td><td>UNC_HS_Red8_BMC.Med.Genomics.2011_PMID.21214954                                        </td><td>17/113</td><td>358/19982</td><td>1.835723e-11</td><td>7.893608e-10</td><td>4.959672e-10</td><td>MT1E/MT1X/TPM2/CSRP2/SPRY2/COL17A1/SLC43A3/KRT14/IFRD1/SERPINB5/ACTG2/KRT17/CRYAB/FAT1/CXCL1/KRT5/CCNL1                                                                          </td><td>17</td></tr>\n",
       "</tbody>\n",
       "</table>\n"
      ],
      "text/latex": [
       "A data.frame: 6 × 9\n",
       "\\begin{tabular}{r|lllllllll}\n",
       "  & ID & Description & GeneRatio & BgRatio & pvalue & p.adjust & qvalue & geneID & Count\\\\\n",
       "  & <chr> & <chr> & <chr> & <chr> & <dbl> & <dbl> & <dbl> & <chr> & <int>\\\\\n",
       "\\hline\n",
       "\tLim.et.al.2010.Conserved.aMaSC\\_BCR.2010\\_PMID.20346151 & Lim.et.al.2010.Conserved.aMaSC\\_BCR.2010\\_PMID.20346151                                   & Lim.et.al.2010.Conserved.aMaSC\\_BCR.2010\\_PMID.20346151                                   & 31/113 & 488/19982 & 3.673670e-24 & 9.478068e-22 & 5.955212e-22 & GYPC/TPM2/GEM/TAGLN/CSRP2/CLMP/PRNP/DKK3/NRP2/ICAM1/COL17A1/BAG3/CCND2/SLC1A5/NXN/IL6/KRT14/CAV1/APOE/CDKN1A/CTNNAL1/ACTG2/LGALS1/TINAGL1/CRYAB/FAT1/VSNL1/CPNE8/ACTA2/EPAS1/KRT5 & 31\\\\\n",
       "\tPfefferle2012\\_MaSC\\_Adam\\_PMID.25575446 & Pfefferle2012\\_MaSC\\_Adam\\_PMID.25575446                                                   & Pfefferle2012\\_MaSC\\_Adam\\_PMID.25575446                                                   & 17/113 & 180/19982 & 2.350207e-16 & 3.031767e-14 & 1.904904e-14 & FAM129A/PRNP/HBEGF/GPC1/DKK3/NRP2/COL17A1/KRT14/SERPINB5/CTNNAL1/ACTG2/TUBB2B/TINAGL1/ANO1/AGPAT5/GCLM/KRT5                                                                       & 17\\\\\n",
       "\tTcell\\_EXH\\_Memory\\_CD8\\_T\\_cell\\_a\\_vs\\_Naive\\_CD8\\_T\\_cell\\_Metagene\\_3\\_Science.2016\\_PMID.27789795 & Tcell\\_EXH\\_Memory\\_CD8\\_T\\_cell\\_a\\_vs\\_Naive\\_CD8\\_T\\_cell\\_Metagene\\_3\\_Science.2016\\_PMID.27789795 & Tcell\\_EXH\\_Memory\\_CD8\\_T\\_cell\\_a\\_vs\\_Naive\\_CD8\\_T\\_cell\\_Metagene\\_3\\_Science.2016\\_PMID.27789795 & 13/113 & 141/19982 & 1.289282e-12 & 1.108783e-10 & 6.966648e-11 & SOD2/SQSTM1/GEM/SPRY2/TNFAIP3/HMOX1/ICAM1/IFRD1/NFIL3/CDKN1A/KDM6B/MAP2K3/GADD45A                                                                                                 & 13\\\\\n",
       "\tMDSC\\_Neutrophil\\_Youn\\_J\\_Leukoc\\_Biol.2012\\_PMID.21954284 & MDSC\\_Neutrophil\\_Youn\\_J\\_Leukoc\\_Biol.2012\\_PMID.21954284                                   & MDSC\\_Neutrophil\\_Youn\\_J\\_Leukoc\\_Biol.2012\\_PMID.21954284                                   & 8/113  & 29/19982  & 3.162374e-12 & 2.039731e-10 & 1.281594e-10 & MT2A/SOD2/ICAM1/CCND2/MMP14/IL6/SPP1/CXCL1                                                                                                                                        &  8\\\\\n",
       "\tMDSC\\_tumor\\_MO\\_Schlecker\\_J.Immunol.2012\\_PMID.23152559 & MDSC\\_tumor\\_MO\\_Schlecker\\_J.Immunol.2012\\_PMID.23152559                                    & MDSC\\_tumor\\_MO\\_Schlecker\\_J.Immunol.2012\\_PMID.23152559                                    & 12/113 & 129/19982 & 8.863123e-12 & 4.573372e-10 & 2.873518e-10 & SLC2A1/HMOX1/DDIT3/MMP14/CDKN1A/ZFP36/VEGFA/EGR1/SPP1/CXCL1/GADD45A/RGS16                                                                                                         & 12\\\\\n",
       "\tUNC\\_HS\\_Red8\\_BMC.Med.Genomics.2011\\_PMID.21214954 & UNC\\_HS\\_Red8\\_BMC.Med.Genomics.2011\\_PMID.21214954                                         & UNC\\_HS\\_Red8\\_BMC.Med.Genomics.2011\\_PMID.21214954                                         & 17/113 & 358/19982 & 1.835723e-11 & 7.893608e-10 & 4.959672e-10 & MT1E/MT1X/TPM2/CSRP2/SPRY2/COL17A1/SLC43A3/KRT14/IFRD1/SERPINB5/ACTG2/KRT17/CRYAB/FAT1/CXCL1/KRT5/CCNL1                                                                           & 17\\\\\n",
       "\\end{tabular}\n"
      ],
      "text/markdown": [
       "\n",
       "A data.frame: 6 × 9\n",
       "\n",
       "| <!--/--> | ID &lt;chr&gt; | Description &lt;chr&gt; | GeneRatio &lt;chr&gt; | BgRatio &lt;chr&gt; | pvalue &lt;dbl&gt; | p.adjust &lt;dbl&gt; | qvalue &lt;dbl&gt; | geneID &lt;chr&gt; | Count &lt;int&gt; |\n",
       "|---|---|---|---|---|---|---|---|---|---|\n",
       "| Lim.et.al.2010.Conserved.aMaSC_BCR.2010_PMID.20346151 | Lim.et.al.2010.Conserved.aMaSC_BCR.2010_PMID.20346151                                   | Lim.et.al.2010.Conserved.aMaSC_BCR.2010_PMID.20346151                                   | 31/113 | 488/19982 | 3.673670e-24 | 9.478068e-22 | 5.955212e-22 | GYPC/TPM2/GEM/TAGLN/CSRP2/CLMP/PRNP/DKK3/NRP2/ICAM1/COL17A1/BAG3/CCND2/SLC1A5/NXN/IL6/KRT14/CAV1/APOE/CDKN1A/CTNNAL1/ACTG2/LGALS1/TINAGL1/CRYAB/FAT1/VSNL1/CPNE8/ACTA2/EPAS1/KRT5 | 31 |\n",
       "| Pfefferle2012_MaSC_Adam_PMID.25575446 | Pfefferle2012_MaSC_Adam_PMID.25575446                                                   | Pfefferle2012_MaSC_Adam_PMID.25575446                                                   | 17/113 | 180/19982 | 2.350207e-16 | 3.031767e-14 | 1.904904e-14 | FAM129A/PRNP/HBEGF/GPC1/DKK3/NRP2/COL17A1/KRT14/SERPINB5/CTNNAL1/ACTG2/TUBB2B/TINAGL1/ANO1/AGPAT5/GCLM/KRT5                                                                       | 17 |\n",
       "| Tcell_EXH_Memory_CD8_T_cell_a_vs_Naive_CD8_T_cell_Metagene_3_Science.2016_PMID.27789795 | Tcell_EXH_Memory_CD8_T_cell_a_vs_Naive_CD8_T_cell_Metagene_3_Science.2016_PMID.27789795 | Tcell_EXH_Memory_CD8_T_cell_a_vs_Naive_CD8_T_cell_Metagene_3_Science.2016_PMID.27789795 | 13/113 | 141/19982 | 1.289282e-12 | 1.108783e-10 | 6.966648e-11 | SOD2/SQSTM1/GEM/SPRY2/TNFAIP3/HMOX1/ICAM1/IFRD1/NFIL3/CDKN1A/KDM6B/MAP2K3/GADD45A                                                                                                 | 13 |\n",
       "| MDSC_Neutrophil_Youn_J_Leukoc_Biol.2012_PMID.21954284 | MDSC_Neutrophil_Youn_J_Leukoc_Biol.2012_PMID.21954284                                   | MDSC_Neutrophil_Youn_J_Leukoc_Biol.2012_PMID.21954284                                   | 8/113  | 29/19982  | 3.162374e-12 | 2.039731e-10 | 1.281594e-10 | MT2A/SOD2/ICAM1/CCND2/MMP14/IL6/SPP1/CXCL1                                                                                                                                        |  8 |\n",
       "| MDSC_tumor_MO_Schlecker_J.Immunol.2012_PMID.23152559 | MDSC_tumor_MO_Schlecker_J.Immunol.2012_PMID.23152559                                    | MDSC_tumor_MO_Schlecker_J.Immunol.2012_PMID.23152559                                    | 12/113 | 129/19982 | 8.863123e-12 | 4.573372e-10 | 2.873518e-10 | SLC2A1/HMOX1/DDIT3/MMP14/CDKN1A/ZFP36/VEGFA/EGR1/SPP1/CXCL1/GADD45A/RGS16                                                                                                         | 12 |\n",
       "| UNC_HS_Red8_BMC.Med.Genomics.2011_PMID.21214954 | UNC_HS_Red8_BMC.Med.Genomics.2011_PMID.21214954                                         | UNC_HS_Red8_BMC.Med.Genomics.2011_PMID.21214954                                         | 17/113 | 358/19982 | 1.835723e-11 | 7.893608e-10 | 4.959672e-10 | MT1E/MT1X/TPM2/CSRP2/SPRY2/COL17A1/SLC43A3/KRT14/IFRD1/SERPINB5/ACTG2/KRT17/CRYAB/FAT1/CXCL1/KRT5/CCNL1                                                                           | 17 |\n",
       "\n"
      ],
      "text/plain": [
       "                                                                                        ID                                                                                     \n",
       "Lim.et.al.2010.Conserved.aMaSC_BCR.2010_PMID.20346151                                   Lim.et.al.2010.Conserved.aMaSC_BCR.2010_PMID.20346151                                  \n",
       "Pfefferle2012_MaSC_Adam_PMID.25575446                                                   Pfefferle2012_MaSC_Adam_PMID.25575446                                                  \n",
       "Tcell_EXH_Memory_CD8_T_cell_a_vs_Naive_CD8_T_cell_Metagene_3_Science.2016_PMID.27789795 Tcell_EXH_Memory_CD8_T_cell_a_vs_Naive_CD8_T_cell_Metagene_3_Science.2016_PMID.27789795\n",
       "MDSC_Neutrophil_Youn_J_Leukoc_Biol.2012_PMID.21954284                                   MDSC_Neutrophil_Youn_J_Leukoc_Biol.2012_PMID.21954284                                  \n",
       "MDSC_tumor_MO_Schlecker_J.Immunol.2012_PMID.23152559                                    MDSC_tumor_MO_Schlecker_J.Immunol.2012_PMID.23152559                                   \n",
       "UNC_HS_Red8_BMC.Med.Genomics.2011_PMID.21214954                                         UNC_HS_Red8_BMC.Med.Genomics.2011_PMID.21214954                                        \n",
       "                                                                                        Description                                                                            \n",
       "Lim.et.al.2010.Conserved.aMaSC_BCR.2010_PMID.20346151                                   Lim.et.al.2010.Conserved.aMaSC_BCR.2010_PMID.20346151                                  \n",
       "Pfefferle2012_MaSC_Adam_PMID.25575446                                                   Pfefferle2012_MaSC_Adam_PMID.25575446                                                  \n",
       "Tcell_EXH_Memory_CD8_T_cell_a_vs_Naive_CD8_T_cell_Metagene_3_Science.2016_PMID.27789795 Tcell_EXH_Memory_CD8_T_cell_a_vs_Naive_CD8_T_cell_Metagene_3_Science.2016_PMID.27789795\n",
       "MDSC_Neutrophil_Youn_J_Leukoc_Biol.2012_PMID.21954284                                   MDSC_Neutrophil_Youn_J_Leukoc_Biol.2012_PMID.21954284                                  \n",
       "MDSC_tumor_MO_Schlecker_J.Immunol.2012_PMID.23152559                                    MDSC_tumor_MO_Schlecker_J.Immunol.2012_PMID.23152559                                   \n",
       "UNC_HS_Red8_BMC.Med.Genomics.2011_PMID.21214954                                         UNC_HS_Red8_BMC.Med.Genomics.2011_PMID.21214954                                        \n",
       "                                                                                        GeneRatio\n",
       "Lim.et.al.2010.Conserved.aMaSC_BCR.2010_PMID.20346151                                   31/113   \n",
       "Pfefferle2012_MaSC_Adam_PMID.25575446                                                   17/113   \n",
       "Tcell_EXH_Memory_CD8_T_cell_a_vs_Naive_CD8_T_cell_Metagene_3_Science.2016_PMID.27789795 13/113   \n",
       "MDSC_Neutrophil_Youn_J_Leukoc_Biol.2012_PMID.21954284                                   8/113    \n",
       "MDSC_tumor_MO_Schlecker_J.Immunol.2012_PMID.23152559                                    12/113   \n",
       "UNC_HS_Red8_BMC.Med.Genomics.2011_PMID.21214954                                         17/113   \n",
       "                                                                                        BgRatio  \n",
       "Lim.et.al.2010.Conserved.aMaSC_BCR.2010_PMID.20346151                                   488/19982\n",
       "Pfefferle2012_MaSC_Adam_PMID.25575446                                                   180/19982\n",
       "Tcell_EXH_Memory_CD8_T_cell_a_vs_Naive_CD8_T_cell_Metagene_3_Science.2016_PMID.27789795 141/19982\n",
       "MDSC_Neutrophil_Youn_J_Leukoc_Biol.2012_PMID.21954284                                   29/19982 \n",
       "MDSC_tumor_MO_Schlecker_J.Immunol.2012_PMID.23152559                                    129/19982\n",
       "UNC_HS_Red8_BMC.Med.Genomics.2011_PMID.21214954                                         358/19982\n",
       "                                                                                        pvalue      \n",
       "Lim.et.al.2010.Conserved.aMaSC_BCR.2010_PMID.20346151                                   3.673670e-24\n",
       "Pfefferle2012_MaSC_Adam_PMID.25575446                                                   2.350207e-16\n",
       "Tcell_EXH_Memory_CD8_T_cell_a_vs_Naive_CD8_T_cell_Metagene_3_Science.2016_PMID.27789795 1.289282e-12\n",
       "MDSC_Neutrophil_Youn_J_Leukoc_Biol.2012_PMID.21954284                                   3.162374e-12\n",
       "MDSC_tumor_MO_Schlecker_J.Immunol.2012_PMID.23152559                                    8.863123e-12\n",
       "UNC_HS_Red8_BMC.Med.Genomics.2011_PMID.21214954                                         1.835723e-11\n",
       "                                                                                        p.adjust    \n",
       "Lim.et.al.2010.Conserved.aMaSC_BCR.2010_PMID.20346151                                   9.478068e-22\n",
       "Pfefferle2012_MaSC_Adam_PMID.25575446                                                   3.031767e-14\n",
       "Tcell_EXH_Memory_CD8_T_cell_a_vs_Naive_CD8_T_cell_Metagene_3_Science.2016_PMID.27789795 1.108783e-10\n",
       "MDSC_Neutrophil_Youn_J_Leukoc_Biol.2012_PMID.21954284                                   2.039731e-10\n",
       "MDSC_tumor_MO_Schlecker_J.Immunol.2012_PMID.23152559                                    4.573372e-10\n",
       "UNC_HS_Red8_BMC.Med.Genomics.2011_PMID.21214954                                         7.893608e-10\n",
       "                                                                                        qvalue      \n",
       "Lim.et.al.2010.Conserved.aMaSC_BCR.2010_PMID.20346151                                   5.955212e-22\n",
       "Pfefferle2012_MaSC_Adam_PMID.25575446                                                   1.904904e-14\n",
       "Tcell_EXH_Memory_CD8_T_cell_a_vs_Naive_CD8_T_cell_Metagene_3_Science.2016_PMID.27789795 6.966648e-11\n",
       "MDSC_Neutrophil_Youn_J_Leukoc_Biol.2012_PMID.21954284                                   1.281594e-10\n",
       "MDSC_tumor_MO_Schlecker_J.Immunol.2012_PMID.23152559                                    2.873518e-10\n",
       "UNC_HS_Red8_BMC.Med.Genomics.2011_PMID.21214954                                         4.959672e-10\n",
       "                                                                                        geneID                                                                                                                                                                           \n",
       "Lim.et.al.2010.Conserved.aMaSC_BCR.2010_PMID.20346151                                   GYPC/TPM2/GEM/TAGLN/CSRP2/CLMP/PRNP/DKK3/NRP2/ICAM1/COL17A1/BAG3/CCND2/SLC1A5/NXN/IL6/KRT14/CAV1/APOE/CDKN1A/CTNNAL1/ACTG2/LGALS1/TINAGL1/CRYAB/FAT1/VSNL1/CPNE8/ACTA2/EPAS1/KRT5\n",
       "Pfefferle2012_MaSC_Adam_PMID.25575446                                                   FAM129A/PRNP/HBEGF/GPC1/DKK3/NRP2/COL17A1/KRT14/SERPINB5/CTNNAL1/ACTG2/TUBB2B/TINAGL1/ANO1/AGPAT5/GCLM/KRT5                                                                      \n",
       "Tcell_EXH_Memory_CD8_T_cell_a_vs_Naive_CD8_T_cell_Metagene_3_Science.2016_PMID.27789795 SOD2/SQSTM1/GEM/SPRY2/TNFAIP3/HMOX1/ICAM1/IFRD1/NFIL3/CDKN1A/KDM6B/MAP2K3/GADD45A                                                                                                \n",
       "MDSC_Neutrophil_Youn_J_Leukoc_Biol.2012_PMID.21954284                                   MT2A/SOD2/ICAM1/CCND2/MMP14/IL6/SPP1/CXCL1                                                                                                                                       \n",
       "MDSC_tumor_MO_Schlecker_J.Immunol.2012_PMID.23152559                                    SLC2A1/HMOX1/DDIT3/MMP14/CDKN1A/ZFP36/VEGFA/EGR1/SPP1/CXCL1/GADD45A/RGS16                                                                                                        \n",
       "UNC_HS_Red8_BMC.Med.Genomics.2011_PMID.21214954                                         MT1E/MT1X/TPM2/CSRP2/SPRY2/COL17A1/SLC43A3/KRT14/IFRD1/SERPINB5/ACTG2/KRT17/CRYAB/FAT1/CXCL1/KRT5/CCNL1                                                                          \n",
       "                                                                                        Count\n",
       "Lim.et.al.2010.Conserved.aMaSC_BCR.2010_PMID.20346151                                   31   \n",
       "Pfefferle2012_MaSC_Adam_PMID.25575446                                                   17   \n",
       "Tcell_EXH_Memory_CD8_T_cell_a_vs_Naive_CD8_T_cell_Metagene_3_Science.2016_PMID.27789795 13   \n",
       "MDSC_Neutrophil_Youn_J_Leukoc_Biol.2012_PMID.21954284                                    8   \n",
       "MDSC_tumor_MO_Schlecker_J.Immunol.2012_PMID.23152559                                    12   \n",
       "UNC_HS_Red8_BMC.Med.Genomics.2011_PMID.21214954                                         17   "
      ]
     },
     "metadata": {},
     "output_type": "display_data"
    },
    {
     "data": {
      "text/html": [
       "<style>\n",
       ".list-inline {list-style: none; margin:0; padding: 0}\n",
       ".list-inline>li {display: inline-block}\n",
       ".list-inline>li:not(:last-child)::after {content: \"\\00b7\"; padding: 0 .5ex}\n",
       "</style>\n",
       "<ol class=list-inline><li>93</li><li>9</li></ol>\n"
      ],
      "text/latex": [
       "\\begin{enumerate*}\n",
       "\\item 93\n",
       "\\item 9\n",
       "\\end{enumerate*}\n"
      ],
      "text/markdown": [
       "1. 93\n",
       "2. 9\n",
       "\n",
       "\n"
      ],
      "text/plain": [
       "[1] 93  9"
      ]
     },
     "metadata": {},
     "output_type": "display_data"
    },
    {
     "data": {
      "text/html": [
       "<hr style=\"height:1px\">"
      ]
     },
     "metadata": {},
     "output_type": "display_data"
    },
    {
     "data": {
      "text/html": [
       "down h"
      ]
     },
     "metadata": {},
     "output_type": "display_data"
    },
    {
     "data": {
      "text/html": [
       "<table class=\"dataframe\">\n",
       "<caption>A data.frame: 3 × 9</caption>\n",
       "<thead>\n",
       "\t<tr><th></th><th scope=col>ID</th><th scope=col>Description</th><th scope=col>GeneRatio</th><th scope=col>BgRatio</th><th scope=col>pvalue</th><th scope=col>p.adjust</th><th scope=col>qvalue</th><th scope=col>geneID</th><th scope=col>Count</th></tr>\n",
       "\t<tr><th></th><th scope=col>&lt;chr&gt;</th><th scope=col>&lt;chr&gt;</th><th scope=col>&lt;chr&gt;</th><th scope=col>&lt;chr&gt;</th><th scope=col>&lt;dbl&gt;</th><th scope=col>&lt;dbl&gt;</th><th scope=col>&lt;dbl&gt;</th><th scope=col>&lt;chr&gt;</th><th scope=col>&lt;int&gt;</th></tr>\n",
       "</thead>\n",
       "<tbody>\n",
       "\t<tr><th scope=row>HALLMARK_ESTROGEN_RESPONSE_EARLY</th><td>HALLMARK_ESTROGEN_RESPONSE_EARLY</td><td>HALLMARK_ESTROGEN_RESPONSE_EARLY</td><td>9/42</td><td>200/4386</td><td>8.553934e-05</td><td>0.002993877</td><td>0.002791284</td><td>KRT19/KRT18/KRT8/TGM2/CCND1/MUC1/PRSS23/KRT15/ELF3</td><td>9</td></tr>\n",
       "\t<tr><th scope=row>HALLMARK_ANDROGEN_RESPONSE</th><td>HALLMARK_ANDROGEN_RESPONSE      </td><td>HALLMARK_ANDROGEN_RESPONSE      </td><td>6/42</td><td>101/4386</td><td>3.442149e-04</td><td>0.006023761</td><td>0.005616138</td><td>KRT19/AZGP1/KRT8/SAT1/CCND1/ALDH1A3               </td><td>6</td></tr>\n",
       "\t<tr><th scope=row>HALLMARK_APOPTOSIS</th><td>HALLMARK_APOPTOSIS              </td><td>HALLMARK_APOPTOSIS              </td><td>7/42</td><td>161/4386</td><td>7.188907e-04</td><td>0.008387058</td><td>0.007819513</td><td>KRT18/SAT1/CCND1/TNFSF10/LMNA/GPX4/TSPO           </td><td>7</td></tr>\n",
       "</tbody>\n",
       "</table>\n"
      ],
      "text/latex": [
       "A data.frame: 3 × 9\n",
       "\\begin{tabular}{r|lllllllll}\n",
       "  & ID & Description & GeneRatio & BgRatio & pvalue & p.adjust & qvalue & geneID & Count\\\\\n",
       "  & <chr> & <chr> & <chr> & <chr> & <dbl> & <dbl> & <dbl> & <chr> & <int>\\\\\n",
       "\\hline\n",
       "\tHALLMARK\\_ESTROGEN\\_RESPONSE\\_EARLY & HALLMARK\\_ESTROGEN\\_RESPONSE\\_EARLY & HALLMARK\\_ESTROGEN\\_RESPONSE\\_EARLY & 9/42 & 200/4386 & 8.553934e-05 & 0.002993877 & 0.002791284 & KRT19/KRT18/KRT8/TGM2/CCND1/MUC1/PRSS23/KRT15/ELF3 & 9\\\\\n",
       "\tHALLMARK\\_ANDROGEN\\_RESPONSE & HALLMARK\\_ANDROGEN\\_RESPONSE       & HALLMARK\\_ANDROGEN\\_RESPONSE       & 6/42 & 101/4386 & 3.442149e-04 & 0.006023761 & 0.005616138 & KRT19/AZGP1/KRT8/SAT1/CCND1/ALDH1A3                & 6\\\\\n",
       "\tHALLMARK\\_APOPTOSIS & HALLMARK\\_APOPTOSIS               & HALLMARK\\_APOPTOSIS               & 7/42 & 161/4386 & 7.188907e-04 & 0.008387058 & 0.007819513 & KRT18/SAT1/CCND1/TNFSF10/LMNA/GPX4/TSPO            & 7\\\\\n",
       "\\end{tabular}\n"
      ],
      "text/markdown": [
       "\n",
       "A data.frame: 3 × 9\n",
       "\n",
       "| <!--/--> | ID &lt;chr&gt; | Description &lt;chr&gt; | GeneRatio &lt;chr&gt; | BgRatio &lt;chr&gt; | pvalue &lt;dbl&gt; | p.adjust &lt;dbl&gt; | qvalue &lt;dbl&gt; | geneID &lt;chr&gt; | Count &lt;int&gt; |\n",
       "|---|---|---|---|---|---|---|---|---|---|\n",
       "| HALLMARK_ESTROGEN_RESPONSE_EARLY | HALLMARK_ESTROGEN_RESPONSE_EARLY | HALLMARK_ESTROGEN_RESPONSE_EARLY | 9/42 | 200/4386 | 8.553934e-05 | 0.002993877 | 0.002791284 | KRT19/KRT18/KRT8/TGM2/CCND1/MUC1/PRSS23/KRT15/ELF3 | 9 |\n",
       "| HALLMARK_ANDROGEN_RESPONSE | HALLMARK_ANDROGEN_RESPONSE       | HALLMARK_ANDROGEN_RESPONSE       | 6/42 | 101/4386 | 3.442149e-04 | 0.006023761 | 0.005616138 | KRT19/AZGP1/KRT8/SAT1/CCND1/ALDH1A3                | 6 |\n",
       "| HALLMARK_APOPTOSIS | HALLMARK_APOPTOSIS               | HALLMARK_APOPTOSIS               | 7/42 | 161/4386 | 7.188907e-04 | 0.008387058 | 0.007819513 | KRT18/SAT1/CCND1/TNFSF10/LMNA/GPX4/TSPO            | 7 |\n",
       "\n"
      ],
      "text/plain": [
       "                                 ID                              \n",
       "HALLMARK_ESTROGEN_RESPONSE_EARLY HALLMARK_ESTROGEN_RESPONSE_EARLY\n",
       "HALLMARK_ANDROGEN_RESPONSE       HALLMARK_ANDROGEN_RESPONSE      \n",
       "HALLMARK_APOPTOSIS               HALLMARK_APOPTOSIS              \n",
       "                                 Description                      GeneRatio\n",
       "HALLMARK_ESTROGEN_RESPONSE_EARLY HALLMARK_ESTROGEN_RESPONSE_EARLY 9/42     \n",
       "HALLMARK_ANDROGEN_RESPONSE       HALLMARK_ANDROGEN_RESPONSE       6/42     \n",
       "HALLMARK_APOPTOSIS               HALLMARK_APOPTOSIS               7/42     \n",
       "                                 BgRatio  pvalue       p.adjust    qvalue     \n",
       "HALLMARK_ESTROGEN_RESPONSE_EARLY 200/4386 8.553934e-05 0.002993877 0.002791284\n",
       "HALLMARK_ANDROGEN_RESPONSE       101/4386 3.442149e-04 0.006023761 0.005616138\n",
       "HALLMARK_APOPTOSIS               161/4386 7.188907e-04 0.008387058 0.007819513\n",
       "                                 geneID                                            \n",
       "HALLMARK_ESTROGEN_RESPONSE_EARLY KRT19/KRT18/KRT8/TGM2/CCND1/MUC1/PRSS23/KRT15/ELF3\n",
       "HALLMARK_ANDROGEN_RESPONSE       KRT19/AZGP1/KRT8/SAT1/CCND1/ALDH1A3               \n",
       "HALLMARK_APOPTOSIS               KRT18/SAT1/CCND1/TNFSF10/LMNA/GPX4/TSPO           \n",
       "                                 Count\n",
       "HALLMARK_ESTROGEN_RESPONSE_EARLY 9    \n",
       "HALLMARK_ANDROGEN_RESPONSE       6    \n",
       "HALLMARK_APOPTOSIS               7    "
      ]
     },
     "metadata": {},
     "output_type": "display_data"
    },
    {
     "data": {
      "text/html": [
       "<style>\n",
       ".list-inline {list-style: none; margin:0; padding: 0}\n",
       ".list-inline>li {display: inline-block}\n",
       ".list-inline>li:not(:last-child)::after {content: \"\\00b7\"; padding: 0 .5ex}\n",
       "</style>\n",
       "<ol class=list-inline><li>3</li><li>9</li></ol>\n"
      ],
      "text/latex": [
       "\\begin{enumerate*}\n",
       "\\item 3\n",
       "\\item 9\n",
       "\\end{enumerate*}\n"
      ],
      "text/markdown": [
       "1. 3\n",
       "2. 9\n",
       "\n",
       "\n"
      ],
      "text/plain": [
       "[1] 3 9"
      ]
     },
     "metadata": {},
     "output_type": "display_data"
    },
    {
     "data": {
      "text/html": [
       "down unc_lccc"
      ]
     },
     "metadata": {},
     "output_type": "display_data"
    },
    {
     "data": {
      "text/html": [
       "<table class=\"dataframe\">\n",
       "<caption>A data.frame: 6 × 9</caption>\n",
       "<thead>\n",
       "\t<tr><th></th><th scope=col>ID</th><th scope=col>Description</th><th scope=col>GeneRatio</th><th scope=col>BgRatio</th><th scope=col>pvalue</th><th scope=col>p.adjust</th><th scope=col>qvalue</th><th scope=col>geneID</th><th scope=col>Count</th></tr>\n",
       "\t<tr><th></th><th scope=col>&lt;chr&gt;</th><th scope=col>&lt;chr&gt;</th><th scope=col>&lt;chr&gt;</th><th scope=col>&lt;chr&gt;</th><th scope=col>&lt;dbl&gt;</th><th scope=col>&lt;dbl&gt;</th><th scope=col>&lt;dbl&gt;</th><th scope=col>&lt;chr&gt;</th><th scope=col>&lt;int&gt;</th></tr>\n",
       "</thead>\n",
       "<tbody>\n",
       "\t<tr><th scope=row>GATA3.induced.genes_JCO.2006_PMID.16505416</th><td>GATA3.induced.genes_JCO.2006_PMID.16505416       </td><td>GATA3.induced.genes_JCO.2006_PMID.16505416       </td><td>21/64</td><td>277/19982</td><td>1.069869e-23</td><td>1.840175e-21</td><td>1.103655e-21</td><td>KRT19/CD24/KRT18/KRT8/S100A6/FXYD3/ALDH1A3/ATP1B1/KRT15/S100A9/VAMP8/S100A14/RBM47/CLDN4/TC2N/SPINT2/ELF3/KYNU/LMNA/LYPD3/MAL2</td><td>21</td></tr>\n",
       "\t<tr><th scope=row>UNC_MM_Green9_BMC.Med.Genomics.2011_PMID.21214954</th><td>UNC_MM_Green9_BMC.Med.Genomics.2011_PMID.21214954</td><td>UNC_MM_Green9_BMC.Med.Genomics.2011_PMID.21214954</td><td>13/64</td><td>356/19982</td><td>8.485502e-11</td><td>7.297532e-09</td><td>4.376733e-09</td><td>KRT19/KRT18/WFDC2/ATP1B1/PERP/EZR/RBM47/CLDN4/CRYBG1/SPINT2/ELF3/LYPD3/MAL2                                                   </td><td>13</td></tr>\n",
       "\t<tr><th scope=row>Claudin_Low_Genome.Biol.2007_PMID.17493263</th><td>Claudin_Low_Genome.Biol.2007_PMID.17493263       </td><td>Claudin_Low_Genome.Biol.2007_PMID.17493263       </td><td>11/64</td><td>244/19982</td><td>3.021169e-10</td><td>1.732137e-08</td><td>1.038858e-08</td><td>KRT19/AZGP1/KRT18/FXYD3/MUC1/PERP/S100A14/CLDN4/SPINT2/ELF3/MAL2                                                              </td><td>11</td></tr>\n",
       "\t<tr><th scope=row>EMT_DOWN_Weingberg_PNAS.2010_PMID.20713713</th><td>EMT_DOWN_Weingberg_PNAS.2010_PMID.20713713       </td><td>EMT_DOWN_Weingberg_PNAS.2010_PMID.20713713       </td><td>9/64 </td><td>158/19982</td><td>1.825297e-09</td><td>7.848778e-08</td><td>4.707345e-08</td><td>KRT18/ALDH1A3/KRT15/KRT16/DSC2/PERP/S100A14/SLPI/SPINT2                                                                       </td><td> 9</td></tr>\n",
       "\t<tr><th scope=row>Stromal_Down_Nat.Med.2009_PMID.19648928</th><td>Stromal_Down_Nat.Med.2009_PMID.19648928          </td><td>Stromal_Down_Nat.Med.2009_PMID.19648928          </td><td>11/64</td><td>347/19982</td><td>1.209122e-08</td><td>4.159379e-07</td><td>2.494609e-07</td><td>KRT8/ACTG1/VAMP8/KRT16/DSC2/PERP/EZR/S100A14/SPINT2/TSPO/MAL2                                                                 </td><td>11</td></tr>\n",
       "\t<tr><th scope=row>Claudin_Low_29_Cancer.Res.2009_PMID.19435916</th><td>Claudin_Low_29_Cancer.Res.2009_PMID.19435916     </td><td>Claudin_Low_29_Cancer.Res.2009_PMID.19435916     </td><td>5/64 </td><td>26/19982 </td><td>1.794908e-08</td><td>5.145402e-07</td><td>3.085982e-07</td><td>FXYD3/CLDN4/SPINT2/ELF3/MAL2                                                                                                  </td><td> 5</td></tr>\n",
       "</tbody>\n",
       "</table>\n"
      ],
      "text/latex": [
       "A data.frame: 6 × 9\n",
       "\\begin{tabular}{r|lllllllll}\n",
       "  & ID & Description & GeneRatio & BgRatio & pvalue & p.adjust & qvalue & geneID & Count\\\\\n",
       "  & <chr> & <chr> & <chr> & <chr> & <dbl> & <dbl> & <dbl> & <chr> & <int>\\\\\n",
       "\\hline\n",
       "\tGATA3.induced.genes\\_JCO.2006\\_PMID.16505416 & GATA3.induced.genes\\_JCO.2006\\_PMID.16505416        & GATA3.induced.genes\\_JCO.2006\\_PMID.16505416        & 21/64 & 277/19982 & 1.069869e-23 & 1.840175e-21 & 1.103655e-21 & KRT19/CD24/KRT18/KRT8/S100A6/FXYD3/ALDH1A3/ATP1B1/KRT15/S100A9/VAMP8/S100A14/RBM47/CLDN4/TC2N/SPINT2/ELF3/KYNU/LMNA/LYPD3/MAL2 & 21\\\\\n",
       "\tUNC\\_MM\\_Green9\\_BMC.Med.Genomics.2011\\_PMID.21214954 & UNC\\_MM\\_Green9\\_BMC.Med.Genomics.2011\\_PMID.21214954 & UNC\\_MM\\_Green9\\_BMC.Med.Genomics.2011\\_PMID.21214954 & 13/64 & 356/19982 & 8.485502e-11 & 7.297532e-09 & 4.376733e-09 & KRT19/KRT18/WFDC2/ATP1B1/PERP/EZR/RBM47/CLDN4/CRYBG1/SPINT2/ELF3/LYPD3/MAL2                                                    & 13\\\\\n",
       "\tClaudin\\_Low\\_Genome.Biol.2007\\_PMID.17493263 & Claudin\\_Low\\_Genome.Biol.2007\\_PMID.17493263        & Claudin\\_Low\\_Genome.Biol.2007\\_PMID.17493263        & 11/64 & 244/19982 & 3.021169e-10 & 1.732137e-08 & 1.038858e-08 & KRT19/AZGP1/KRT18/FXYD3/MUC1/PERP/S100A14/CLDN4/SPINT2/ELF3/MAL2                                                               & 11\\\\\n",
       "\tEMT\\_DOWN\\_Weingberg\\_PNAS.2010\\_PMID.20713713 & EMT\\_DOWN\\_Weingberg\\_PNAS.2010\\_PMID.20713713        & EMT\\_DOWN\\_Weingberg\\_PNAS.2010\\_PMID.20713713        & 9/64  & 158/19982 & 1.825297e-09 & 7.848778e-08 & 4.707345e-08 & KRT18/ALDH1A3/KRT15/KRT16/DSC2/PERP/S100A14/SLPI/SPINT2                                                                        &  9\\\\\n",
       "\tStromal\\_Down\\_Nat.Med.2009\\_PMID.19648928 & Stromal\\_Down\\_Nat.Med.2009\\_PMID.19648928           & Stromal\\_Down\\_Nat.Med.2009\\_PMID.19648928           & 11/64 & 347/19982 & 1.209122e-08 & 4.159379e-07 & 2.494609e-07 & KRT8/ACTG1/VAMP8/KRT16/DSC2/PERP/EZR/S100A14/SPINT2/TSPO/MAL2                                                                  & 11\\\\\n",
       "\tClaudin\\_Low\\_29\\_Cancer.Res.2009\\_PMID.19435916 & Claudin\\_Low\\_29\\_Cancer.Res.2009\\_PMID.19435916      & Claudin\\_Low\\_29\\_Cancer.Res.2009\\_PMID.19435916      & 5/64  & 26/19982  & 1.794908e-08 & 5.145402e-07 & 3.085982e-07 & FXYD3/CLDN4/SPINT2/ELF3/MAL2                                                                                                   &  5\\\\\n",
       "\\end{tabular}\n"
      ],
      "text/markdown": [
       "\n",
       "A data.frame: 6 × 9\n",
       "\n",
       "| <!--/--> | ID &lt;chr&gt; | Description &lt;chr&gt; | GeneRatio &lt;chr&gt; | BgRatio &lt;chr&gt; | pvalue &lt;dbl&gt; | p.adjust &lt;dbl&gt; | qvalue &lt;dbl&gt; | geneID &lt;chr&gt; | Count &lt;int&gt; |\n",
       "|---|---|---|---|---|---|---|---|---|---|\n",
       "| GATA3.induced.genes_JCO.2006_PMID.16505416 | GATA3.induced.genes_JCO.2006_PMID.16505416        | GATA3.induced.genes_JCO.2006_PMID.16505416        | 21/64 | 277/19982 | 1.069869e-23 | 1.840175e-21 | 1.103655e-21 | KRT19/CD24/KRT18/KRT8/S100A6/FXYD3/ALDH1A3/ATP1B1/KRT15/S100A9/VAMP8/S100A14/RBM47/CLDN4/TC2N/SPINT2/ELF3/KYNU/LMNA/LYPD3/MAL2 | 21 |\n",
       "| UNC_MM_Green9_BMC.Med.Genomics.2011_PMID.21214954 | UNC_MM_Green9_BMC.Med.Genomics.2011_PMID.21214954 | UNC_MM_Green9_BMC.Med.Genomics.2011_PMID.21214954 | 13/64 | 356/19982 | 8.485502e-11 | 7.297532e-09 | 4.376733e-09 | KRT19/KRT18/WFDC2/ATP1B1/PERP/EZR/RBM47/CLDN4/CRYBG1/SPINT2/ELF3/LYPD3/MAL2                                                    | 13 |\n",
       "| Claudin_Low_Genome.Biol.2007_PMID.17493263 | Claudin_Low_Genome.Biol.2007_PMID.17493263        | Claudin_Low_Genome.Biol.2007_PMID.17493263        | 11/64 | 244/19982 | 3.021169e-10 | 1.732137e-08 | 1.038858e-08 | KRT19/AZGP1/KRT18/FXYD3/MUC1/PERP/S100A14/CLDN4/SPINT2/ELF3/MAL2                                                               | 11 |\n",
       "| EMT_DOWN_Weingberg_PNAS.2010_PMID.20713713 | EMT_DOWN_Weingberg_PNAS.2010_PMID.20713713        | EMT_DOWN_Weingberg_PNAS.2010_PMID.20713713        | 9/64  | 158/19982 | 1.825297e-09 | 7.848778e-08 | 4.707345e-08 | KRT18/ALDH1A3/KRT15/KRT16/DSC2/PERP/S100A14/SLPI/SPINT2                                                                        |  9 |\n",
       "| Stromal_Down_Nat.Med.2009_PMID.19648928 | Stromal_Down_Nat.Med.2009_PMID.19648928           | Stromal_Down_Nat.Med.2009_PMID.19648928           | 11/64 | 347/19982 | 1.209122e-08 | 4.159379e-07 | 2.494609e-07 | KRT8/ACTG1/VAMP8/KRT16/DSC2/PERP/EZR/S100A14/SPINT2/TSPO/MAL2                                                                  | 11 |\n",
       "| Claudin_Low_29_Cancer.Res.2009_PMID.19435916 | Claudin_Low_29_Cancer.Res.2009_PMID.19435916      | Claudin_Low_29_Cancer.Res.2009_PMID.19435916      | 5/64  | 26/19982  | 1.794908e-08 | 5.145402e-07 | 3.085982e-07 | FXYD3/CLDN4/SPINT2/ELF3/MAL2                                                                                                   |  5 |\n",
       "\n"
      ],
      "text/plain": [
       "                                                  ID                                               \n",
       "GATA3.induced.genes_JCO.2006_PMID.16505416        GATA3.induced.genes_JCO.2006_PMID.16505416       \n",
       "UNC_MM_Green9_BMC.Med.Genomics.2011_PMID.21214954 UNC_MM_Green9_BMC.Med.Genomics.2011_PMID.21214954\n",
       "Claudin_Low_Genome.Biol.2007_PMID.17493263        Claudin_Low_Genome.Biol.2007_PMID.17493263       \n",
       "EMT_DOWN_Weingberg_PNAS.2010_PMID.20713713        EMT_DOWN_Weingberg_PNAS.2010_PMID.20713713       \n",
       "Stromal_Down_Nat.Med.2009_PMID.19648928           Stromal_Down_Nat.Med.2009_PMID.19648928          \n",
       "Claudin_Low_29_Cancer.Res.2009_PMID.19435916      Claudin_Low_29_Cancer.Res.2009_PMID.19435916     \n",
       "                                                  Description                                      \n",
       "GATA3.induced.genes_JCO.2006_PMID.16505416        GATA3.induced.genes_JCO.2006_PMID.16505416       \n",
       "UNC_MM_Green9_BMC.Med.Genomics.2011_PMID.21214954 UNC_MM_Green9_BMC.Med.Genomics.2011_PMID.21214954\n",
       "Claudin_Low_Genome.Biol.2007_PMID.17493263        Claudin_Low_Genome.Biol.2007_PMID.17493263       \n",
       "EMT_DOWN_Weingberg_PNAS.2010_PMID.20713713        EMT_DOWN_Weingberg_PNAS.2010_PMID.20713713       \n",
       "Stromal_Down_Nat.Med.2009_PMID.19648928           Stromal_Down_Nat.Med.2009_PMID.19648928          \n",
       "Claudin_Low_29_Cancer.Res.2009_PMID.19435916      Claudin_Low_29_Cancer.Res.2009_PMID.19435916     \n",
       "                                                  GeneRatio BgRatio  \n",
       "GATA3.induced.genes_JCO.2006_PMID.16505416        21/64     277/19982\n",
       "UNC_MM_Green9_BMC.Med.Genomics.2011_PMID.21214954 13/64     356/19982\n",
       "Claudin_Low_Genome.Biol.2007_PMID.17493263        11/64     244/19982\n",
       "EMT_DOWN_Weingberg_PNAS.2010_PMID.20713713        9/64      158/19982\n",
       "Stromal_Down_Nat.Med.2009_PMID.19648928           11/64     347/19982\n",
       "Claudin_Low_29_Cancer.Res.2009_PMID.19435916      5/64      26/19982 \n",
       "                                                  pvalue       p.adjust    \n",
       "GATA3.induced.genes_JCO.2006_PMID.16505416        1.069869e-23 1.840175e-21\n",
       "UNC_MM_Green9_BMC.Med.Genomics.2011_PMID.21214954 8.485502e-11 7.297532e-09\n",
       "Claudin_Low_Genome.Biol.2007_PMID.17493263        3.021169e-10 1.732137e-08\n",
       "EMT_DOWN_Weingberg_PNAS.2010_PMID.20713713        1.825297e-09 7.848778e-08\n",
       "Stromal_Down_Nat.Med.2009_PMID.19648928           1.209122e-08 4.159379e-07\n",
       "Claudin_Low_29_Cancer.Res.2009_PMID.19435916      1.794908e-08 5.145402e-07\n",
       "                                                  qvalue      \n",
       "GATA3.induced.genes_JCO.2006_PMID.16505416        1.103655e-21\n",
       "UNC_MM_Green9_BMC.Med.Genomics.2011_PMID.21214954 4.376733e-09\n",
       "Claudin_Low_Genome.Biol.2007_PMID.17493263        1.038858e-08\n",
       "EMT_DOWN_Weingberg_PNAS.2010_PMID.20713713        4.707345e-08\n",
       "Stromal_Down_Nat.Med.2009_PMID.19648928           2.494609e-07\n",
       "Claudin_Low_29_Cancer.Res.2009_PMID.19435916      3.085982e-07\n",
       "                                                  geneID                                                                                                                        \n",
       "GATA3.induced.genes_JCO.2006_PMID.16505416        KRT19/CD24/KRT18/KRT8/S100A6/FXYD3/ALDH1A3/ATP1B1/KRT15/S100A9/VAMP8/S100A14/RBM47/CLDN4/TC2N/SPINT2/ELF3/KYNU/LMNA/LYPD3/MAL2\n",
       "UNC_MM_Green9_BMC.Med.Genomics.2011_PMID.21214954 KRT19/KRT18/WFDC2/ATP1B1/PERP/EZR/RBM47/CLDN4/CRYBG1/SPINT2/ELF3/LYPD3/MAL2                                                   \n",
       "Claudin_Low_Genome.Biol.2007_PMID.17493263        KRT19/AZGP1/KRT18/FXYD3/MUC1/PERP/S100A14/CLDN4/SPINT2/ELF3/MAL2                                                              \n",
       "EMT_DOWN_Weingberg_PNAS.2010_PMID.20713713        KRT18/ALDH1A3/KRT15/KRT16/DSC2/PERP/S100A14/SLPI/SPINT2                                                                       \n",
       "Stromal_Down_Nat.Med.2009_PMID.19648928           KRT8/ACTG1/VAMP8/KRT16/DSC2/PERP/EZR/S100A14/SPINT2/TSPO/MAL2                                                                 \n",
       "Claudin_Low_29_Cancer.Res.2009_PMID.19435916      FXYD3/CLDN4/SPINT2/ELF3/MAL2                                                                                                  \n",
       "                                                  Count\n",
       "GATA3.induced.genes_JCO.2006_PMID.16505416        21   \n",
       "UNC_MM_Green9_BMC.Med.Genomics.2011_PMID.21214954 13   \n",
       "Claudin_Low_Genome.Biol.2007_PMID.17493263        11   \n",
       "EMT_DOWN_Weingberg_PNAS.2010_PMID.20713713         9   \n",
       "Stromal_Down_Nat.Med.2009_PMID.19648928           11   \n",
       "Claudin_Low_29_Cancer.Res.2009_PMID.19435916       5   "
      ]
     },
     "metadata": {},
     "output_type": "display_data"
    },
    {
     "data": {
      "text/html": [
       "<style>\n",
       ".list-inline {list-style: none; margin:0; padding: 0}\n",
       ".list-inline>li {display: inline-block}\n",
       ".list-inline>li:not(:last-child)::after {content: \"\\00b7\"; padding: 0 .5ex}\n",
       "</style>\n",
       "<ol class=list-inline><li>46</li><li>9</li></ol>\n"
      ],
      "text/latex": [
       "\\begin{enumerate*}\n",
       "\\item 46\n",
       "\\item 9\n",
       "\\end{enumerate*}\n"
      ],
      "text/markdown": [
       "1. 46\n",
       "2. 9\n",
       "\n",
       "\n"
      ],
      "text/plain": [
       "[1] 46  9"
      ]
     },
     "metadata": {},
     "output_type": "display_data"
    },
    {
     "data": {
      "text/html": [
       "filename_xlsx: xlsx/normal-breast-pairs_control_vs_tamoxifen_BEp.xlsx\n"
      ]
     },
     "metadata": {},
     "output_type": "display_data"
    },
    {
     "data": {
      "text/html": [
       "filename_figure: heatmap_normal-breast-pairs_control_vs_tamoxifen_BEp_no_down_mcf7.e2.induced.genes_zscore\n"
      ]
     },
     "metadata": {},
     "output_type": "display_data"
    },
    {
     "data": {
      "text/html": [
       "<hr style=\"height:2px\">"
      ]
     },
     "metadata": {},
     "output_type": "display_data"
    },
    {
     "data": {
      "text/html": [
       "LEp_prog"
      ]
     },
     "metadata": {},
     "output_type": "display_data"
    },
    {
     "data": {
      "text/html": [
       "&nbsp;&nbsp;&nbsp;&nbsp;assay=integrated, slot=data<br>"
      ]
     },
     "metadata": {},
     "output_type": "display_data"
    },
    {
     "data": {
      "text/html": [
       "&nbsp;&nbsp;&nbsp;&nbsp;tamoxifen LEp_prog n_idx1: 2410, samples: Normal_01_Tamoxifen, Normal_02_Tamoxifen<br>"
      ]
     },
     "metadata": {},
     "output_type": "display_data"
    },
    {
     "data": {
      "text/html": [
       "&nbsp;&nbsp;&nbsp;&nbsp;control LEp_prog n_idx_ref: 3211, samples: Normal_01_Control, Normal_02_Control<br>"
      ]
     },
     "metadata": {},
     "output_type": "display_data"
    },
    {
     "data": {
      "text/html": [
       "df_up"
      ]
     },
     "metadata": {},
     "output_type": "display_data"
    },
    {
     "data": {
      "text/html": [
       "<table class=\"dataframe\">\n",
       "<caption>A data.frame: 6 × 8</caption>\n",
       "<thead>\n",
       "\t<tr><th></th><th scope=col>p_val</th><th scope=col>avg_log2FC</th><th scope=col>pct.1</th><th scope=col>pct.2</th><th scope=col>p_val_adj</th><th scope=col>expr_min</th><th scope=col>expr_mean</th><th scope=col>expr_max</th></tr>\n",
       "\t<tr><th></th><th scope=col>&lt;dbl&gt;</th><th scope=col>&lt;dbl&gt;</th><th scope=col>&lt;dbl&gt;</th><th scope=col>&lt;dbl&gt;</th><th scope=col>&lt;dbl&gt;</th><th scope=col>&lt;dbl&gt;</th><th scope=col>&lt;dbl&gt;</th><th scope=col>&lt;dbl&gt;</th></tr>\n",
       "</thead>\n",
       "<tbody>\n",
       "\t<tr><th scope=row>MT1M</th><td>1.688899e-242</td><td>0.6655861</td><td>0.447</td><td>0.057</td><td>4.000158e-238</td><td>-0.2192190</td><td>0.3655056</td><td>2.867486</td></tr>\n",
       "\t<tr><th scope=row>SLC30A1</th><td>1.075206e-220</td><td>0.4430192</td><td>0.530</td><td>0.117</td><td>2.546624e-216</td><td>-0.1032656</td><td>0.3509082</td><td>2.357005</td></tr>\n",
       "\t<tr><th scope=row>SQSTM1</th><td>1.020829e-205</td><td>0.5240438</td><td>0.995</td><td>0.988</td><td>2.417833e-201</td><td> 0.0000000</td><td>2.1377009</td><td>4.663515</td></tr>\n",
       "\t<tr><th scope=row>CXCL8</th><td>1.517554e-197</td><td>1.2811797</td><td>0.946</td><td>0.954</td><td>3.594328e-193</td><td>-0.1888420</td><td>2.5409604</td><td>6.017399</td></tr>\n",
       "\t<tr><th scope=row>MT2A</th><td>8.644310e-190</td><td>1.1709810</td><td>0.989</td><td>0.926</td><td>2.047405e-185</td><td> 0.0000000</td><td>2.9918100</td><td>6.596021</td></tr>\n",
       "\t<tr><th scope=row>SPAG9</th><td>5.257315e-187</td><td>0.7573787</td><td>0.902</td><td>0.702</td><td>1.245195e-182</td><td> 0.0000000</td><td>1.2690168</td><td>2.842295</td></tr>\n",
       "</tbody>\n",
       "</table>\n"
      ],
      "text/latex": [
       "A data.frame: 6 × 8\n",
       "\\begin{tabular}{r|llllllll}\n",
       "  & p\\_val & avg\\_log2FC & pct.1 & pct.2 & p\\_val\\_adj & expr\\_min & expr\\_mean & expr\\_max\\\\\n",
       "  & <dbl> & <dbl> & <dbl> & <dbl> & <dbl> & <dbl> & <dbl> & <dbl>\\\\\n",
       "\\hline\n",
       "\tMT1M & 1.688899e-242 & 0.6655861 & 0.447 & 0.057 & 4.000158e-238 & -0.2192190 & 0.3655056 & 2.867486\\\\\n",
       "\tSLC30A1 & 1.075206e-220 & 0.4430192 & 0.530 & 0.117 & 2.546624e-216 & -0.1032656 & 0.3509082 & 2.357005\\\\\n",
       "\tSQSTM1 & 1.020829e-205 & 0.5240438 & 0.995 & 0.988 & 2.417833e-201 &  0.0000000 & 2.1377009 & 4.663515\\\\\n",
       "\tCXCL8 & 1.517554e-197 & 1.2811797 & 0.946 & 0.954 & 3.594328e-193 & -0.1888420 & 2.5409604 & 6.017399\\\\\n",
       "\tMT2A & 8.644310e-190 & 1.1709810 & 0.989 & 0.926 & 2.047405e-185 &  0.0000000 & 2.9918100 & 6.596021\\\\\n",
       "\tSPAG9 & 5.257315e-187 & 0.7573787 & 0.902 & 0.702 & 1.245195e-182 &  0.0000000 & 1.2690168 & 2.842295\\\\\n",
       "\\end{tabular}\n"
      ],
      "text/markdown": [
       "\n",
       "A data.frame: 6 × 8\n",
       "\n",
       "| <!--/--> | p_val &lt;dbl&gt; | avg_log2FC &lt;dbl&gt; | pct.1 &lt;dbl&gt; | pct.2 &lt;dbl&gt; | p_val_adj &lt;dbl&gt; | expr_min &lt;dbl&gt; | expr_mean &lt;dbl&gt; | expr_max &lt;dbl&gt; |\n",
       "|---|---|---|---|---|---|---|---|---|\n",
       "| MT1M | 1.688899e-242 | 0.6655861 | 0.447 | 0.057 | 4.000158e-238 | -0.2192190 | 0.3655056 | 2.867486 |\n",
       "| SLC30A1 | 1.075206e-220 | 0.4430192 | 0.530 | 0.117 | 2.546624e-216 | -0.1032656 | 0.3509082 | 2.357005 |\n",
       "| SQSTM1 | 1.020829e-205 | 0.5240438 | 0.995 | 0.988 | 2.417833e-201 |  0.0000000 | 2.1377009 | 4.663515 |\n",
       "| CXCL8 | 1.517554e-197 | 1.2811797 | 0.946 | 0.954 | 3.594328e-193 | -0.1888420 | 2.5409604 | 6.017399 |\n",
       "| MT2A | 8.644310e-190 | 1.1709810 | 0.989 | 0.926 | 2.047405e-185 |  0.0000000 | 2.9918100 | 6.596021 |\n",
       "| SPAG9 | 5.257315e-187 | 0.7573787 | 0.902 | 0.702 | 1.245195e-182 |  0.0000000 | 1.2690168 | 2.842295 |\n",
       "\n"
      ],
      "text/plain": [
       "        p_val         avg_log2FC pct.1 pct.2 p_val_adj     expr_min   expr_mean\n",
       "MT1M    1.688899e-242 0.6655861  0.447 0.057 4.000158e-238 -0.2192190 0.3655056\n",
       "SLC30A1 1.075206e-220 0.4430192  0.530 0.117 2.546624e-216 -0.1032656 0.3509082\n",
       "SQSTM1  1.020829e-205 0.5240438  0.995 0.988 2.417833e-201  0.0000000 2.1377009\n",
       "CXCL8   1.517554e-197 1.2811797  0.946 0.954 3.594328e-193 -0.1888420 2.5409604\n",
       "MT2A    8.644310e-190 1.1709810  0.989 0.926 2.047405e-185  0.0000000 2.9918100\n",
       "SPAG9   5.257315e-187 0.7573787  0.902 0.702 1.245195e-182  0.0000000 1.2690168\n",
       "        expr_max\n",
       "MT1M    2.867486\n",
       "SLC30A1 2.357005\n",
       "SQSTM1  4.663515\n",
       "CXCL8   6.017399\n",
       "MT2A    6.596021\n",
       "SPAG9   2.842295"
      ]
     },
     "metadata": {},
     "output_type": "display_data"
    },
    {
     "data": {
      "text/html": [
       "<style>\n",
       ".list-inline {list-style: none; margin:0; padding: 0}\n",
       ".list-inline>li {display: inline-block}\n",
       ".list-inline>li:not(:last-child)::after {content: \"\\00b7\"; padding: 0 .5ex}\n",
       "</style>\n",
       "<ol class=list-inline><li>285</li><li>8</li></ol>\n"
      ],
      "text/latex": [
       "\\begin{enumerate*}\n",
       "\\item 285\n",
       "\\item 8\n",
       "\\end{enumerate*}\n"
      ],
      "text/markdown": [
       "1. 285\n",
       "2. 8\n",
       "\n",
       "\n"
      ],
      "text/plain": [
       "[1] 285   8"
      ]
     },
     "metadata": {},
     "output_type": "display_data"
    },
    {
     "data": {
      "text/html": [
       "df_dn"
      ]
     },
     "metadata": {},
     "output_type": "display_data"
    },
    {
     "data": {
      "text/html": [
       "<table class=\"dataframe\">\n",
       "<caption>A data.frame: 6 × 8</caption>\n",
       "<thead>\n",
       "\t<tr><th></th><th scope=col>p_val</th><th scope=col>avg_log2FC</th><th scope=col>pct.1</th><th scope=col>pct.2</th><th scope=col>p_val_adj</th><th scope=col>expr_min</th><th scope=col>expr_mean</th><th scope=col>expr_max</th></tr>\n",
       "\t<tr><th></th><th scope=col>&lt;dbl&gt;</th><th scope=col>&lt;dbl&gt;</th><th scope=col>&lt;dbl&gt;</th><th scope=col>&lt;dbl&gt;</th><th scope=col>&lt;dbl&gt;</th><th scope=col>&lt;dbl&gt;</th><th scope=col>&lt;dbl&gt;</th><th scope=col>&lt;dbl&gt;</th></tr>\n",
       "</thead>\n",
       "<tbody>\n",
       "\t<tr><th scope=row>S100A10</th><td>0</td><td>-1.065813</td><td>0.970</td><td>0.996</td><td>0</td><td>-0.1366832</td><td>2.2635748</td><td>4.918772</td></tr>\n",
       "\t<tr><th scope=row>S100A6</th><td>0</td><td>-1.368022</td><td>0.998</td><td>1.000</td><td>0</td><td> 0.0000000</td><td>2.7032959</td><td>5.504203</td></tr>\n",
       "\t<tr><th scope=row>ACTB</th><td>0</td><td>-1.123139</td><td>0.994</td><td>0.997</td><td>0</td><td> 0.0000000</td><td>2.4312526</td><td>4.764856</td></tr>\n",
       "\t<tr><th scope=row>AZGP1</th><td>0</td><td>-1.316638</td><td>0.711</td><td>0.941</td><td>0</td><td>-1.1890470</td><td>0.5954715</td><td>4.865499</td></tr>\n",
       "\t<tr><th scope=row>CD9</th><td>0</td><td>-1.084422</td><td>0.855</td><td>0.936</td><td>0</td><td>-0.7169299</td><td>0.8954627</td><td>3.321943</td></tr>\n",
       "\t<tr><th scope=row>MGP</th><td>0</td><td>-1.155150</td><td>0.912</td><td>0.964</td><td>0</td><td>-0.7262379</td><td>0.9215396</td><td>5.769526</td></tr>\n",
       "</tbody>\n",
       "</table>\n"
      ],
      "text/latex": [
       "A data.frame: 6 × 8\n",
       "\\begin{tabular}{r|llllllll}\n",
       "  & p\\_val & avg\\_log2FC & pct.1 & pct.2 & p\\_val\\_adj & expr\\_min & expr\\_mean & expr\\_max\\\\\n",
       "  & <dbl> & <dbl> & <dbl> & <dbl> & <dbl> & <dbl> & <dbl> & <dbl>\\\\\n",
       "\\hline\n",
       "\tS100A10 & 0 & -1.065813 & 0.970 & 0.996 & 0 & -0.1366832 & 2.2635748 & 4.918772\\\\\n",
       "\tS100A6 & 0 & -1.368022 & 0.998 & 1.000 & 0 &  0.0000000 & 2.7032959 & 5.504203\\\\\n",
       "\tACTB & 0 & -1.123139 & 0.994 & 0.997 & 0 &  0.0000000 & 2.4312526 & 4.764856\\\\\n",
       "\tAZGP1 & 0 & -1.316638 & 0.711 & 0.941 & 0 & -1.1890470 & 0.5954715 & 4.865499\\\\\n",
       "\tCD9 & 0 & -1.084422 & 0.855 & 0.936 & 0 & -0.7169299 & 0.8954627 & 3.321943\\\\\n",
       "\tMGP & 0 & -1.155150 & 0.912 & 0.964 & 0 & -0.7262379 & 0.9215396 & 5.769526\\\\\n",
       "\\end{tabular}\n"
      ],
      "text/markdown": [
       "\n",
       "A data.frame: 6 × 8\n",
       "\n",
       "| <!--/--> | p_val &lt;dbl&gt; | avg_log2FC &lt;dbl&gt; | pct.1 &lt;dbl&gt; | pct.2 &lt;dbl&gt; | p_val_adj &lt;dbl&gt; | expr_min &lt;dbl&gt; | expr_mean &lt;dbl&gt; | expr_max &lt;dbl&gt; |\n",
       "|---|---|---|---|---|---|---|---|---|\n",
       "| S100A10 | 0 | -1.065813 | 0.970 | 0.996 | 0 | -0.1366832 | 2.2635748 | 4.918772 |\n",
       "| S100A6 | 0 | -1.368022 | 0.998 | 1.000 | 0 |  0.0000000 | 2.7032959 | 5.504203 |\n",
       "| ACTB | 0 | -1.123139 | 0.994 | 0.997 | 0 |  0.0000000 | 2.4312526 | 4.764856 |\n",
       "| AZGP1 | 0 | -1.316638 | 0.711 | 0.941 | 0 | -1.1890470 | 0.5954715 | 4.865499 |\n",
       "| CD9 | 0 | -1.084422 | 0.855 | 0.936 | 0 | -0.7169299 | 0.8954627 | 3.321943 |\n",
       "| MGP | 0 | -1.155150 | 0.912 | 0.964 | 0 | -0.7262379 | 0.9215396 | 5.769526 |\n",
       "\n"
      ],
      "text/plain": [
       "        p_val avg_log2FC pct.1 pct.2 p_val_adj expr_min   expr_mean expr_max\n",
       "S100A10 0     -1.065813  0.970 0.996 0         -0.1366832 2.2635748 4.918772\n",
       "S100A6  0     -1.368022  0.998 1.000 0          0.0000000 2.7032959 5.504203\n",
       "ACTB    0     -1.123139  0.994 0.997 0          0.0000000 2.4312526 4.764856\n",
       "AZGP1   0     -1.316638  0.711 0.941 0         -1.1890470 0.5954715 4.865499\n",
       "CD9     0     -1.084422  0.855 0.936 0         -0.7169299 0.8954627 3.321943\n",
       "MGP     0     -1.155150  0.912 0.964 0         -0.7262379 0.9215396 5.769526"
      ]
     },
     "metadata": {},
     "output_type": "display_data"
    },
    {
     "data": {
      "text/html": [
       "<style>\n",
       ".list-inline {list-style: none; margin:0; padding: 0}\n",
       ".list-inline>li {display: inline-block}\n",
       ".list-inline>li:not(:last-child)::after {content: \"\\00b7\"; padding: 0 .5ex}\n",
       "</style>\n",
       "<ol class=list-inline><li>536</li><li>8</li></ol>\n"
      ],
      "text/latex": [
       "\\begin{enumerate*}\n",
       "\\item 536\n",
       "\\item 8\n",
       "\\end{enumerate*}\n"
      ],
      "text/markdown": [
       "1. 536\n",
       "2. 8\n",
       "\n",
       "\n"
      ],
      "text/plain": [
       "[1] 536   8"
      ]
     },
     "metadata": {},
     "output_type": "display_data"
    },
    {
     "data": {
      "text/html": [
       "<hr style=\"height:1px\">"
      ]
     },
     "metadata": {},
     "output_type": "display_data"
    },
    {
     "data": {
      "text/html": [
       "up h"
      ]
     },
     "metadata": {},
     "output_type": "display_data"
    },
    {
     "data": {
      "text/html": [
       "<table class=\"dataframe\">\n",
       "<caption>A data.frame: 6 × 9</caption>\n",
       "<thead>\n",
       "\t<tr><th></th><th scope=col>ID</th><th scope=col>Description</th><th scope=col>GeneRatio</th><th scope=col>BgRatio</th><th scope=col>pvalue</th><th scope=col>p.adjust</th><th scope=col>qvalue</th><th scope=col>geneID</th><th scope=col>Count</th></tr>\n",
       "\t<tr><th></th><th scope=col>&lt;chr&gt;</th><th scope=col>&lt;chr&gt;</th><th scope=col>&lt;chr&gt;</th><th scope=col>&lt;chr&gt;</th><th scope=col>&lt;dbl&gt;</th><th scope=col>&lt;dbl&gt;</th><th scope=col>&lt;dbl&gt;</th><th scope=col>&lt;chr&gt;</th><th scope=col>&lt;int&gt;</th></tr>\n",
       "</thead>\n",
       "<tbody>\n",
       "\t<tr><th scope=row>HALLMARK_TNFA_SIGNALING_VIA_NFKB</th><td>HALLMARK_TNFA_SIGNALING_VIA_NFKB          </td><td>HALLMARK_TNFA_SIGNALING_VIA_NFKB          </td><td>60/158</td><td>200/4386</td><td>2.519290e-42</td><td>1.184066e-40</td><td>7.425274e-41</td><td>SQSTM1/KDM6B/PNRC1/PPP1R15A/SOD2/GEM/TNFAIP3/NFIL3/REL/CCNL1/IL6/NR4A1/FOS/NFKB1/FOSB/NFKBIA/HBEGF/ZBTB10/ICAM1/ATF3/KLF9/NFAT5/DUSP5/PDE4B/KLF4/ZFP36/INHBA/PTGS2/DNAJB4/EGR1/GADD45A/TIPARP/MCL1/NFE2L2/GADD45B/BHLHE40/NR4A2/VEGFA/CDKN1A/LIF/NAMPT/MYC/IRF1/SOCS3/HES1/TNFAIP6/TRIB1/CXCL2/MAP2K3/ETS2/BTG1/CEBPB/IER5/JUN/G0S2/KLF10/CXCL3/SERPINE1/JUNB/CXCL1</td><td>60</td></tr>\n",
       "\t<tr><th scope=row>HALLMARK_HYPOXIA</th><td>HALLMARK_HYPOXIA                          </td><td>HALLMARK_HYPOXIA                          </td><td>29/158</td><td>200/4386</td><td>4.534647e-11</td><td>1.065642e-09</td><td>6.682638e-10</td><td>MT2A/PNRC1/PPP1R15A/HMOX1/TNFAIP3/DDIT3/MT1E/NFIL3/IL6/FOS/ATF3/NDRG1/ZFP36/DDIT4/ETS1/CSRP2/TIPARP/NR3C1/PLIN2/BHLHE40/WSB1/VEGFA/CDKN1A/PIM1/CAV1/HSPA5/BTG1/JUN/SERPINE1                                                                                                                                                                                        </td><td>29</td></tr>\n",
       "\t<tr><th scope=row>HALLMARK_UV_RESPONSE_UP</th><td>HALLMARK_UV_RESPONSE_UP                   </td><td>HALLMARK_UV_RESPONSE_UP                   </td><td>19/158</td><td>158/4386</td><td>2.706236e-06</td><td>4.239770e-05</td><td>2.658758e-05</td><td>SQSTM1/HMOX1/SOD2/IL6/NR4A1/FOS/FOSB/NFKBIA/ICAM1/ATF3/HSPA13/DDX21/DNAJA1/DNAJB1/IRF1/EIF5/CXCL2/BTG1/JUNB                                                                                                                                                                                                                                                        </td><td>19</td></tr>\n",
       "\t<tr><th scope=row>HALLMARK_EPITHELIAL_MESENCHYMAL_TRANSITION</th><td>HALLMARK_EPITHELIAL_MESENCHYMAL_TRANSITION</td><td>HALLMARK_EPITHELIAL_MESENCHYMAL_TRANSITION</td><td>21/158</td><td>200/4386</td><td>7.092643e-06</td><td>8.333856e-05</td><td>5.226158e-05</td><td>GEM/TNFAIP3/IL6/DAB2/VIM/TIMP3/FGF2/INHBA/COL4A1/GADD45A/GADD45B/PRRX1/SERPINE2/SPARC/VEGFA/JUN/TFPI2/MMP3/LGALS1/SERPINE1/CXCL1                                                                                                                                                                                                                                   </td><td>21</td></tr>\n",
       "\t<tr><th scope=row>HALLMARK_MTORC1_SIGNALING</th><td>HALLMARK_MTORC1_SIGNALING                 </td><td>HALLMARK_MTORC1_SIGNALING                 </td><td>20/158</td><td>200/4386</td><td>2.482021e-05</td><td>2.333100e-04</td><td>1.463086e-04</td><td>SQSTM1/PPP1R15A/INSIG1/DDIT3/NFIL3/IFRD1/FAM129A/IDI1/TXNRD1/DDIT4/HSP90B1/BHLHE40/MTHFD2/LGMN/CDKN1A/HSPA9/NAMPT/HSPA5/MAP2K3/ETF1                                                                                                                                                                                                                                </td><td>20</td></tr>\n",
       "\t<tr><th scope=row>HALLMARK_APOPTOSIS</th><td>HALLMARK_APOPTOSIS                        </td><td>HALLMARK_APOPTOSIS                        </td><td>17/158</td><td>161/4386</td><td>5.283092e-05</td><td>4.138422e-04</td><td>2.595203e-04</td><td>SQSTM1/HMOX1/SOD2/DDIT3/IL6/CYLD/ATF3/TIMP3/GADD45A/MCL1/GADD45B/DNAJA1/CDKN1A/IRF1/CAV1/ETF1/JUN                                                                                                                                                                                                                                                                  </td><td>17</td></tr>\n",
       "</tbody>\n",
       "</table>\n"
      ],
      "text/latex": [
       "A data.frame: 6 × 9\n",
       "\\begin{tabular}{r|lllllllll}\n",
       "  & ID & Description & GeneRatio & BgRatio & pvalue & p.adjust & qvalue & geneID & Count\\\\\n",
       "  & <chr> & <chr> & <chr> & <chr> & <dbl> & <dbl> & <dbl> & <chr> & <int>\\\\\n",
       "\\hline\n",
       "\tHALLMARK\\_TNFA\\_SIGNALING\\_VIA\\_NFKB & HALLMARK\\_TNFA\\_SIGNALING\\_VIA\\_NFKB           & HALLMARK\\_TNFA\\_SIGNALING\\_VIA\\_NFKB           & 60/158 & 200/4386 & 2.519290e-42 & 1.184066e-40 & 7.425274e-41 & SQSTM1/KDM6B/PNRC1/PPP1R15A/SOD2/GEM/TNFAIP3/NFIL3/REL/CCNL1/IL6/NR4A1/FOS/NFKB1/FOSB/NFKBIA/HBEGF/ZBTB10/ICAM1/ATF3/KLF9/NFAT5/DUSP5/PDE4B/KLF4/ZFP36/INHBA/PTGS2/DNAJB4/EGR1/GADD45A/TIPARP/MCL1/NFE2L2/GADD45B/BHLHE40/NR4A2/VEGFA/CDKN1A/LIF/NAMPT/MYC/IRF1/SOCS3/HES1/TNFAIP6/TRIB1/CXCL2/MAP2K3/ETS2/BTG1/CEBPB/IER5/JUN/G0S2/KLF10/CXCL3/SERPINE1/JUNB/CXCL1 & 60\\\\\n",
       "\tHALLMARK\\_HYPOXIA & HALLMARK\\_HYPOXIA                           & HALLMARK\\_HYPOXIA                           & 29/158 & 200/4386 & 4.534647e-11 & 1.065642e-09 & 6.682638e-10 & MT2A/PNRC1/PPP1R15A/HMOX1/TNFAIP3/DDIT3/MT1E/NFIL3/IL6/FOS/ATF3/NDRG1/ZFP36/DDIT4/ETS1/CSRP2/TIPARP/NR3C1/PLIN2/BHLHE40/WSB1/VEGFA/CDKN1A/PIM1/CAV1/HSPA5/BTG1/JUN/SERPINE1                                                                                                                                                                                         & 29\\\\\n",
       "\tHALLMARK\\_UV\\_RESPONSE\\_UP & HALLMARK\\_UV\\_RESPONSE\\_UP                    & HALLMARK\\_UV\\_RESPONSE\\_UP                    & 19/158 & 158/4386 & 2.706236e-06 & 4.239770e-05 & 2.658758e-05 & SQSTM1/HMOX1/SOD2/IL6/NR4A1/FOS/FOSB/NFKBIA/ICAM1/ATF3/HSPA13/DDX21/DNAJA1/DNAJB1/IRF1/EIF5/CXCL2/BTG1/JUNB                                                                                                                                                                                                                                                         & 19\\\\\n",
       "\tHALLMARK\\_EPITHELIAL\\_MESENCHYMAL\\_TRANSITION & HALLMARK\\_EPITHELIAL\\_MESENCHYMAL\\_TRANSITION & HALLMARK\\_EPITHELIAL\\_MESENCHYMAL\\_TRANSITION & 21/158 & 200/4386 & 7.092643e-06 & 8.333856e-05 & 5.226158e-05 & GEM/TNFAIP3/IL6/DAB2/VIM/TIMP3/FGF2/INHBA/COL4A1/GADD45A/GADD45B/PRRX1/SERPINE2/SPARC/VEGFA/JUN/TFPI2/MMP3/LGALS1/SERPINE1/CXCL1                                                                                                                                                                                                                                    & 21\\\\\n",
       "\tHALLMARK\\_MTORC1\\_SIGNALING & HALLMARK\\_MTORC1\\_SIGNALING                  & HALLMARK\\_MTORC1\\_SIGNALING                  & 20/158 & 200/4386 & 2.482021e-05 & 2.333100e-04 & 1.463086e-04 & SQSTM1/PPP1R15A/INSIG1/DDIT3/NFIL3/IFRD1/FAM129A/IDI1/TXNRD1/DDIT4/HSP90B1/BHLHE40/MTHFD2/LGMN/CDKN1A/HSPA9/NAMPT/HSPA5/MAP2K3/ETF1                                                                                                                                                                                                                                 & 20\\\\\n",
       "\tHALLMARK\\_APOPTOSIS & HALLMARK\\_APOPTOSIS                         & HALLMARK\\_APOPTOSIS                         & 17/158 & 161/4386 & 5.283092e-05 & 4.138422e-04 & 2.595203e-04 & SQSTM1/HMOX1/SOD2/DDIT3/IL6/CYLD/ATF3/TIMP3/GADD45A/MCL1/GADD45B/DNAJA1/CDKN1A/IRF1/CAV1/ETF1/JUN                                                                                                                                                                                                                                                                   & 17\\\\\n",
       "\\end{tabular}\n"
      ],
      "text/markdown": [
       "\n",
       "A data.frame: 6 × 9\n",
       "\n",
       "| <!--/--> | ID &lt;chr&gt; | Description &lt;chr&gt; | GeneRatio &lt;chr&gt; | BgRatio &lt;chr&gt; | pvalue &lt;dbl&gt; | p.adjust &lt;dbl&gt; | qvalue &lt;dbl&gt; | geneID &lt;chr&gt; | Count &lt;int&gt; |\n",
       "|---|---|---|---|---|---|---|---|---|---|\n",
       "| HALLMARK_TNFA_SIGNALING_VIA_NFKB | HALLMARK_TNFA_SIGNALING_VIA_NFKB           | HALLMARK_TNFA_SIGNALING_VIA_NFKB           | 60/158 | 200/4386 | 2.519290e-42 | 1.184066e-40 | 7.425274e-41 | SQSTM1/KDM6B/PNRC1/PPP1R15A/SOD2/GEM/TNFAIP3/NFIL3/REL/CCNL1/IL6/NR4A1/FOS/NFKB1/FOSB/NFKBIA/HBEGF/ZBTB10/ICAM1/ATF3/KLF9/NFAT5/DUSP5/PDE4B/KLF4/ZFP36/INHBA/PTGS2/DNAJB4/EGR1/GADD45A/TIPARP/MCL1/NFE2L2/GADD45B/BHLHE40/NR4A2/VEGFA/CDKN1A/LIF/NAMPT/MYC/IRF1/SOCS3/HES1/TNFAIP6/TRIB1/CXCL2/MAP2K3/ETS2/BTG1/CEBPB/IER5/JUN/G0S2/KLF10/CXCL3/SERPINE1/JUNB/CXCL1 | 60 |\n",
       "| HALLMARK_HYPOXIA | HALLMARK_HYPOXIA                           | HALLMARK_HYPOXIA                           | 29/158 | 200/4386 | 4.534647e-11 | 1.065642e-09 | 6.682638e-10 | MT2A/PNRC1/PPP1R15A/HMOX1/TNFAIP3/DDIT3/MT1E/NFIL3/IL6/FOS/ATF3/NDRG1/ZFP36/DDIT4/ETS1/CSRP2/TIPARP/NR3C1/PLIN2/BHLHE40/WSB1/VEGFA/CDKN1A/PIM1/CAV1/HSPA5/BTG1/JUN/SERPINE1                                                                                                                                                                                         | 29 |\n",
       "| HALLMARK_UV_RESPONSE_UP | HALLMARK_UV_RESPONSE_UP                    | HALLMARK_UV_RESPONSE_UP                    | 19/158 | 158/4386 | 2.706236e-06 | 4.239770e-05 | 2.658758e-05 | SQSTM1/HMOX1/SOD2/IL6/NR4A1/FOS/FOSB/NFKBIA/ICAM1/ATF3/HSPA13/DDX21/DNAJA1/DNAJB1/IRF1/EIF5/CXCL2/BTG1/JUNB                                                                                                                                                                                                                                                         | 19 |\n",
       "| HALLMARK_EPITHELIAL_MESENCHYMAL_TRANSITION | HALLMARK_EPITHELIAL_MESENCHYMAL_TRANSITION | HALLMARK_EPITHELIAL_MESENCHYMAL_TRANSITION | 21/158 | 200/4386 | 7.092643e-06 | 8.333856e-05 | 5.226158e-05 | GEM/TNFAIP3/IL6/DAB2/VIM/TIMP3/FGF2/INHBA/COL4A1/GADD45A/GADD45B/PRRX1/SERPINE2/SPARC/VEGFA/JUN/TFPI2/MMP3/LGALS1/SERPINE1/CXCL1                                                                                                                                                                                                                                    | 21 |\n",
       "| HALLMARK_MTORC1_SIGNALING | HALLMARK_MTORC1_SIGNALING                  | HALLMARK_MTORC1_SIGNALING                  | 20/158 | 200/4386 | 2.482021e-05 | 2.333100e-04 | 1.463086e-04 | SQSTM1/PPP1R15A/INSIG1/DDIT3/NFIL3/IFRD1/FAM129A/IDI1/TXNRD1/DDIT4/HSP90B1/BHLHE40/MTHFD2/LGMN/CDKN1A/HSPA9/NAMPT/HSPA5/MAP2K3/ETF1                                                                                                                                                                                                                                 | 20 |\n",
       "| HALLMARK_APOPTOSIS | HALLMARK_APOPTOSIS                         | HALLMARK_APOPTOSIS                         | 17/158 | 161/4386 | 5.283092e-05 | 4.138422e-04 | 2.595203e-04 | SQSTM1/HMOX1/SOD2/DDIT3/IL6/CYLD/ATF3/TIMP3/GADD45A/MCL1/GADD45B/DNAJA1/CDKN1A/IRF1/CAV1/ETF1/JUN                                                                                                                                                                                                                                                                   | 17 |\n",
       "\n"
      ],
      "text/plain": [
       "                                           ID                                        \n",
       "HALLMARK_TNFA_SIGNALING_VIA_NFKB           HALLMARK_TNFA_SIGNALING_VIA_NFKB          \n",
       "HALLMARK_HYPOXIA                           HALLMARK_HYPOXIA                          \n",
       "HALLMARK_UV_RESPONSE_UP                    HALLMARK_UV_RESPONSE_UP                   \n",
       "HALLMARK_EPITHELIAL_MESENCHYMAL_TRANSITION HALLMARK_EPITHELIAL_MESENCHYMAL_TRANSITION\n",
       "HALLMARK_MTORC1_SIGNALING                  HALLMARK_MTORC1_SIGNALING                 \n",
       "HALLMARK_APOPTOSIS                         HALLMARK_APOPTOSIS                        \n",
       "                                           Description                               \n",
       "HALLMARK_TNFA_SIGNALING_VIA_NFKB           HALLMARK_TNFA_SIGNALING_VIA_NFKB          \n",
       "HALLMARK_HYPOXIA                           HALLMARK_HYPOXIA                          \n",
       "HALLMARK_UV_RESPONSE_UP                    HALLMARK_UV_RESPONSE_UP                   \n",
       "HALLMARK_EPITHELIAL_MESENCHYMAL_TRANSITION HALLMARK_EPITHELIAL_MESENCHYMAL_TRANSITION\n",
       "HALLMARK_MTORC1_SIGNALING                  HALLMARK_MTORC1_SIGNALING                 \n",
       "HALLMARK_APOPTOSIS                         HALLMARK_APOPTOSIS                        \n",
       "                                           GeneRatio BgRatio  pvalue      \n",
       "HALLMARK_TNFA_SIGNALING_VIA_NFKB           60/158    200/4386 2.519290e-42\n",
       "HALLMARK_HYPOXIA                           29/158    200/4386 4.534647e-11\n",
       "HALLMARK_UV_RESPONSE_UP                    19/158    158/4386 2.706236e-06\n",
       "HALLMARK_EPITHELIAL_MESENCHYMAL_TRANSITION 21/158    200/4386 7.092643e-06\n",
       "HALLMARK_MTORC1_SIGNALING                  20/158    200/4386 2.482021e-05\n",
       "HALLMARK_APOPTOSIS                         17/158    161/4386 5.283092e-05\n",
       "                                           p.adjust     qvalue      \n",
       "HALLMARK_TNFA_SIGNALING_VIA_NFKB           1.184066e-40 7.425274e-41\n",
       "HALLMARK_HYPOXIA                           1.065642e-09 6.682638e-10\n",
       "HALLMARK_UV_RESPONSE_UP                    4.239770e-05 2.658758e-05\n",
       "HALLMARK_EPITHELIAL_MESENCHYMAL_TRANSITION 8.333856e-05 5.226158e-05\n",
       "HALLMARK_MTORC1_SIGNALING                  2.333100e-04 1.463086e-04\n",
       "HALLMARK_APOPTOSIS                         4.138422e-04 2.595203e-04\n",
       "                                           geneID                                                                                                                                                                                                                                                                                                                                                             \n",
       "HALLMARK_TNFA_SIGNALING_VIA_NFKB           SQSTM1/KDM6B/PNRC1/PPP1R15A/SOD2/GEM/TNFAIP3/NFIL3/REL/CCNL1/IL6/NR4A1/FOS/NFKB1/FOSB/NFKBIA/HBEGF/ZBTB10/ICAM1/ATF3/KLF9/NFAT5/DUSP5/PDE4B/KLF4/ZFP36/INHBA/PTGS2/DNAJB4/EGR1/GADD45A/TIPARP/MCL1/NFE2L2/GADD45B/BHLHE40/NR4A2/VEGFA/CDKN1A/LIF/NAMPT/MYC/IRF1/SOCS3/HES1/TNFAIP6/TRIB1/CXCL2/MAP2K3/ETS2/BTG1/CEBPB/IER5/JUN/G0S2/KLF10/CXCL3/SERPINE1/JUNB/CXCL1\n",
       "HALLMARK_HYPOXIA                           MT2A/PNRC1/PPP1R15A/HMOX1/TNFAIP3/DDIT3/MT1E/NFIL3/IL6/FOS/ATF3/NDRG1/ZFP36/DDIT4/ETS1/CSRP2/TIPARP/NR3C1/PLIN2/BHLHE40/WSB1/VEGFA/CDKN1A/PIM1/CAV1/HSPA5/BTG1/JUN/SERPINE1                                                                                                                                                                                        \n",
       "HALLMARK_UV_RESPONSE_UP                    SQSTM1/HMOX1/SOD2/IL6/NR4A1/FOS/FOSB/NFKBIA/ICAM1/ATF3/HSPA13/DDX21/DNAJA1/DNAJB1/IRF1/EIF5/CXCL2/BTG1/JUNB                                                                                                                                                                                                                                                        \n",
       "HALLMARK_EPITHELIAL_MESENCHYMAL_TRANSITION GEM/TNFAIP3/IL6/DAB2/VIM/TIMP3/FGF2/INHBA/COL4A1/GADD45A/GADD45B/PRRX1/SERPINE2/SPARC/VEGFA/JUN/TFPI2/MMP3/LGALS1/SERPINE1/CXCL1                                                                                                                                                                                                                                   \n",
       "HALLMARK_MTORC1_SIGNALING                  SQSTM1/PPP1R15A/INSIG1/DDIT3/NFIL3/IFRD1/FAM129A/IDI1/TXNRD1/DDIT4/HSP90B1/BHLHE40/MTHFD2/LGMN/CDKN1A/HSPA9/NAMPT/HSPA5/MAP2K3/ETF1                                                                                                                                                                                                                                \n",
       "HALLMARK_APOPTOSIS                         SQSTM1/HMOX1/SOD2/DDIT3/IL6/CYLD/ATF3/TIMP3/GADD45A/MCL1/GADD45B/DNAJA1/CDKN1A/IRF1/CAV1/ETF1/JUN                                                                                                                                                                                                                                                                  \n",
       "                                           Count\n",
       "HALLMARK_TNFA_SIGNALING_VIA_NFKB           60   \n",
       "HALLMARK_HYPOXIA                           29   \n",
       "HALLMARK_UV_RESPONSE_UP                    19   \n",
       "HALLMARK_EPITHELIAL_MESENCHYMAL_TRANSITION 21   \n",
       "HALLMARK_MTORC1_SIGNALING                  20   \n",
       "HALLMARK_APOPTOSIS                         17   "
      ]
     },
     "metadata": {},
     "output_type": "display_data"
    },
    {
     "data": {
      "text/html": [
       "<style>\n",
       ".list-inline {list-style: none; margin:0; padding: 0}\n",
       ".list-inline>li {display: inline-block}\n",
       ".list-inline>li:not(:last-child)::after {content: \"\\00b7\"; padding: 0 .5ex}\n",
       "</style>\n",
       "<ol class=list-inline><li>16</li><li>9</li></ol>\n"
      ],
      "text/latex": [
       "\\begin{enumerate*}\n",
       "\\item 16\n",
       "\\item 9\n",
       "\\end{enumerate*}\n"
      ],
      "text/markdown": [
       "1. 16\n",
       "2. 9\n",
       "\n",
       "\n"
      ],
      "text/plain": [
       "[1] 16  9"
      ]
     },
     "metadata": {},
     "output_type": "display_data"
    },
    {
     "data": {
      "text/html": [
       "up unc_lccc"
      ]
     },
     "metadata": {},
     "output_type": "display_data"
    },
    {
     "data": {
      "text/html": [
       "<table class=\"dataframe\">\n",
       "<caption>A data.frame: 6 × 9</caption>\n",
       "<thead>\n",
       "\t<tr><th></th><th scope=col>ID</th><th scope=col>Description</th><th scope=col>GeneRatio</th><th scope=col>BgRatio</th><th scope=col>pvalue</th><th scope=col>p.adjust</th><th scope=col>qvalue</th><th scope=col>geneID</th><th scope=col>Count</th></tr>\n",
       "\t<tr><th></th><th scope=col>&lt;chr&gt;</th><th scope=col>&lt;chr&gt;</th><th scope=col>&lt;chr&gt;</th><th scope=col>&lt;chr&gt;</th><th scope=col>&lt;dbl&gt;</th><th scope=col>&lt;dbl&gt;</th><th scope=col>&lt;dbl&gt;</th><th scope=col>&lt;chr&gt;</th><th scope=col>&lt;int&gt;</th></tr>\n",
       "</thead>\n",
       "<tbody>\n",
       "\t<tr><th scope=row>Tcell_EXH_Memory_CD8_T_cell_a_vs_Naive_CD8_T_cell_Metagene_3_Science.2016_PMID.27789795</th><td>Tcell_EXH_Memory_CD8_T_cell_a_vs_Naive_CD8_T_cell_Metagene_3_Science.2016_PMID.27789795 </td><td>Tcell_EXH_Memory_CD8_T_cell_a_vs_Naive_CD8_T_cell_Metagene_3_Science.2016_PMID.27789795 </td><td>38/281</td><td>141/19982</td><td>3.405637e-38</td><td>1.106832e-35</td><td>7.779193e-36</td><td>SQSTM1/KDM6B/HMOX1/SOD2/GEM/TNFAIP3/NFIL3/REL/NR4A1/IFRD1/FOSB/NFKBIA/ICAM1/ATF3/ARL5B/SPRY2/DUSP5/RYBP/DENND4A/NFKBIZ/DNAJB4/GADD45A/TIPARP/NFE2L2/GADD45B/NR4A2/CDKN1A/CREM/PIM1/TRIB1/MAP2K3/CEBPB/IER5/JUN/HSPA1A/CXCL3/SKIL/JUNB</td><td>38</td></tr>\n",
       "\t<tr><th scope=row>GSEA_GP15_EGF_signailng.r=0.936_NAGASHIMA_EGF_SIGNALING_UP</th><td>GSEA_GP15_EGF_signailng.r=0.936_NAGASHIMA_EGF_SIGNALING_UP                              </td><td>GSEA_GP15_EGF_signailng.r=0.936_NAGASHIMA_EGF_SIGNALING_UP                              </td><td>26/281</td><td>58/19982 </td><td>3.249587e-33</td><td>5.280578e-31</td><td>3.711370e-31</td><td>KDM6B/GEM/NR4A1/FOS/FOSB/HBEGF/ATF3/DUSP5/RYBP/ZFP36/EGR1/KBTBD2/TIPARP/MCL1/BHLHE40/NR4A2/LIF/DNAJB1/MYC/HES1/TRIB1/ETS2/JUN/ID3/KLF10/JUNB                                                                                         </td><td>26</td></tr>\n",
       "\t<tr><th scope=row>TCGA.BRCA.1198_immune_FOS_JUN_IL6_Cell.2015_PMID.26451490</th><td>TCGA.BRCA.1198_immune_FOS_JUN_IL6_Cell.2015_PMID.26451490                               </td><td>TCGA.BRCA.1198_immune_FOS_JUN_IL6_Cell.2015_PMID.26451490                               </td><td>11/281</td><td>14/19982 </td><td>1.226614e-18</td><td>1.328832e-16</td><td>9.339483e-17</td><td>PPP1R15A/IL6/NR4A1/FOSB/HBEGF/ATF3/CSRNP1/ZFP36/EGR1/SOCS3/JUN                                                                                                                                                                       </td><td>11</td></tr>\n",
       "\t<tr><th scope=row>Tcell_EXH_Exhausted_CD8_T_cell_vs_Naive_CD8_T_cell_Metagene_1_Science.2016_PMID.27789795</th><td>Tcell_EXH_Exhausted_CD8_T_cell_vs_Naive_CD8_T_cell_Metagene_1_Science.2016_PMID.27789795</td><td>Tcell_EXH_Exhausted_CD8_T_cell_vs_Naive_CD8_T_cell_Metagene_1_Science.2016_PMID.27789795</td><td>22/281</td><td>127/19982</td><td>5.247955e-18</td><td>4.263963e-16</td><td>2.996858e-16</td><td>SOD2/GEM/TNFAIP3/NFIL3/NR4A1/IRAK2/NFKBIA/IFI16/ATF3/ARL5B/DUSP5/RYBP/DENND4A/NFKBIZ/EGR1/GADD45B/NR4A2/CDKN1A/CREM/NAMPT/CEBPB/CXCL3                                                                                                </td><td>22</td></tr>\n",
       "\t<tr><th scope=row>UNC_HS_Red24_BMC.Med.Genomics.2011_PMID.21214954</th><td>UNC_HS_Red24_BMC.Med.Genomics.2011_PMID.21214954                                        </td><td>UNC_HS_Red24_BMC.Med.Genomics.2011_PMID.21214954                                        </td><td>16/281</td><td>52/19982 </td><td>1.003842e-17</td><td>6.524972e-16</td><td>4.585972e-16</td><td>GEM/IL6/NR4A1/FOS/FOSB/HBEGF/ATF3/KLF4/ZFP36/PTGS2/EGR1/NR4A2/TRIB1/JUN/SERPINE1/JUNB                                                                                                                                                </td><td>16</td></tr>\n",
       "\t<tr><th scope=row>FOS_JUN_Cluster_BMC.Med.Genomics.2011_PMID.21214954</th><td>FOS_JUN_Cluster_BMC.Med.Genomics.2011_PMID.21214954                                     </td><td>FOS_JUN_Cluster_BMC.Med.Genomics.2011_PMID.21214954                                     </td><td>10/281</td><td>16/19982 </td><td>1.916423e-15</td><td>1.038062e-13</td><td>7.295854e-14</td><td>PPP1R15A/GEM/NR4A1/FOS/FOSB/ATF3/ZFP36/EGR1/JUN/JUNB                                                                                                                                                                                 </td><td>10</td></tr>\n",
       "</tbody>\n",
       "</table>\n"
      ],
      "text/latex": [
       "A data.frame: 6 × 9\n",
       "\\begin{tabular}{r|lllllllll}\n",
       "  & ID & Description & GeneRatio & BgRatio & pvalue & p.adjust & qvalue & geneID & Count\\\\\n",
       "  & <chr> & <chr> & <chr> & <chr> & <dbl> & <dbl> & <dbl> & <chr> & <int>\\\\\n",
       "\\hline\n",
       "\tTcell\\_EXH\\_Memory\\_CD8\\_T\\_cell\\_a\\_vs\\_Naive\\_CD8\\_T\\_cell\\_Metagene\\_3\\_Science.2016\\_PMID.27789795 & Tcell\\_EXH\\_Memory\\_CD8\\_T\\_cell\\_a\\_vs\\_Naive\\_CD8\\_T\\_cell\\_Metagene\\_3\\_Science.2016\\_PMID.27789795  & Tcell\\_EXH\\_Memory\\_CD8\\_T\\_cell\\_a\\_vs\\_Naive\\_CD8\\_T\\_cell\\_Metagene\\_3\\_Science.2016\\_PMID.27789795  & 38/281 & 141/19982 & 3.405637e-38 & 1.106832e-35 & 7.779193e-36 & SQSTM1/KDM6B/HMOX1/SOD2/GEM/TNFAIP3/NFIL3/REL/NR4A1/IFRD1/FOSB/NFKBIA/ICAM1/ATF3/ARL5B/SPRY2/DUSP5/RYBP/DENND4A/NFKBIZ/DNAJB4/GADD45A/TIPARP/NFE2L2/GADD45B/NR4A2/CDKN1A/CREM/PIM1/TRIB1/MAP2K3/CEBPB/IER5/JUN/HSPA1A/CXCL3/SKIL/JUNB & 38\\\\\n",
       "\tGSEA\\_GP15\\_EGF\\_signailng.r=0.936\\_NAGASHIMA\\_EGF\\_SIGNALING\\_UP & GSEA\\_GP15\\_EGF\\_signailng.r=0.936\\_NAGASHIMA\\_EGF\\_SIGNALING\\_UP                               & GSEA\\_GP15\\_EGF\\_signailng.r=0.936\\_NAGASHIMA\\_EGF\\_SIGNALING\\_UP                               & 26/281 & 58/19982  & 3.249587e-33 & 5.280578e-31 & 3.711370e-31 & KDM6B/GEM/NR4A1/FOS/FOSB/HBEGF/ATF3/DUSP5/RYBP/ZFP36/EGR1/KBTBD2/TIPARP/MCL1/BHLHE40/NR4A2/LIF/DNAJB1/MYC/HES1/TRIB1/ETS2/JUN/ID3/KLF10/JUNB                                                                                          & 26\\\\\n",
       "\tTCGA.BRCA.1198\\_immune\\_FOS\\_JUN\\_IL6\\_Cell.2015\\_PMID.26451490 & TCGA.BRCA.1198\\_immune\\_FOS\\_JUN\\_IL6\\_Cell.2015\\_PMID.26451490                                & TCGA.BRCA.1198\\_immune\\_FOS\\_JUN\\_IL6\\_Cell.2015\\_PMID.26451490                                & 11/281 & 14/19982  & 1.226614e-18 & 1.328832e-16 & 9.339483e-17 & PPP1R15A/IL6/NR4A1/FOSB/HBEGF/ATF3/CSRNP1/ZFP36/EGR1/SOCS3/JUN                                                                                                                                                                        & 11\\\\\n",
       "\tTcell\\_EXH\\_Exhausted\\_CD8\\_T\\_cell\\_vs\\_Naive\\_CD8\\_T\\_cell\\_Metagene\\_1\\_Science.2016\\_PMID.27789795 & Tcell\\_EXH\\_Exhausted\\_CD8\\_T\\_cell\\_vs\\_Naive\\_CD8\\_T\\_cell\\_Metagene\\_1\\_Science.2016\\_PMID.27789795 & Tcell\\_EXH\\_Exhausted\\_CD8\\_T\\_cell\\_vs\\_Naive\\_CD8\\_T\\_cell\\_Metagene\\_1\\_Science.2016\\_PMID.27789795 & 22/281 & 127/19982 & 5.247955e-18 & 4.263963e-16 & 2.996858e-16 & SOD2/GEM/TNFAIP3/NFIL3/NR4A1/IRAK2/NFKBIA/IFI16/ATF3/ARL5B/DUSP5/RYBP/DENND4A/NFKBIZ/EGR1/GADD45B/NR4A2/CDKN1A/CREM/NAMPT/CEBPB/CXCL3                                                                                                 & 22\\\\\n",
       "\tUNC\\_HS\\_Red24\\_BMC.Med.Genomics.2011\\_PMID.21214954 & UNC\\_HS\\_Red24\\_BMC.Med.Genomics.2011\\_PMID.21214954                                         & UNC\\_HS\\_Red24\\_BMC.Med.Genomics.2011\\_PMID.21214954                                         & 16/281 & 52/19982  & 1.003842e-17 & 6.524972e-16 & 4.585972e-16 & GEM/IL6/NR4A1/FOS/FOSB/HBEGF/ATF3/KLF4/ZFP36/PTGS2/EGR1/NR4A2/TRIB1/JUN/SERPINE1/JUNB                                                                                                                                                 & 16\\\\\n",
       "\tFOS\\_JUN\\_Cluster\\_BMC.Med.Genomics.2011\\_PMID.21214954 & FOS\\_JUN\\_Cluster\\_BMC.Med.Genomics.2011\\_PMID.21214954                                      & FOS\\_JUN\\_Cluster\\_BMC.Med.Genomics.2011\\_PMID.21214954                                      & 10/281 & 16/19982  & 1.916423e-15 & 1.038062e-13 & 7.295854e-14 & PPP1R15A/GEM/NR4A1/FOS/FOSB/ATF3/ZFP36/EGR1/JUN/JUNB                                                                                                                                                                                  & 10\\\\\n",
       "\\end{tabular}\n"
      ],
      "text/markdown": [
       "\n",
       "A data.frame: 6 × 9\n",
       "\n",
       "| <!--/--> | ID &lt;chr&gt; | Description &lt;chr&gt; | GeneRatio &lt;chr&gt; | BgRatio &lt;chr&gt; | pvalue &lt;dbl&gt; | p.adjust &lt;dbl&gt; | qvalue &lt;dbl&gt; | geneID &lt;chr&gt; | Count &lt;int&gt; |\n",
       "|---|---|---|---|---|---|---|---|---|---|\n",
       "| Tcell_EXH_Memory_CD8_T_cell_a_vs_Naive_CD8_T_cell_Metagene_3_Science.2016_PMID.27789795 | Tcell_EXH_Memory_CD8_T_cell_a_vs_Naive_CD8_T_cell_Metagene_3_Science.2016_PMID.27789795  | Tcell_EXH_Memory_CD8_T_cell_a_vs_Naive_CD8_T_cell_Metagene_3_Science.2016_PMID.27789795  | 38/281 | 141/19982 | 3.405637e-38 | 1.106832e-35 | 7.779193e-36 | SQSTM1/KDM6B/HMOX1/SOD2/GEM/TNFAIP3/NFIL3/REL/NR4A1/IFRD1/FOSB/NFKBIA/ICAM1/ATF3/ARL5B/SPRY2/DUSP5/RYBP/DENND4A/NFKBIZ/DNAJB4/GADD45A/TIPARP/NFE2L2/GADD45B/NR4A2/CDKN1A/CREM/PIM1/TRIB1/MAP2K3/CEBPB/IER5/JUN/HSPA1A/CXCL3/SKIL/JUNB | 38 |\n",
       "| GSEA_GP15_EGF_signailng.r=0.936_NAGASHIMA_EGF_SIGNALING_UP | GSEA_GP15_EGF_signailng.r=0.936_NAGASHIMA_EGF_SIGNALING_UP                               | GSEA_GP15_EGF_signailng.r=0.936_NAGASHIMA_EGF_SIGNALING_UP                               | 26/281 | 58/19982  | 3.249587e-33 | 5.280578e-31 | 3.711370e-31 | KDM6B/GEM/NR4A1/FOS/FOSB/HBEGF/ATF3/DUSP5/RYBP/ZFP36/EGR1/KBTBD2/TIPARP/MCL1/BHLHE40/NR4A2/LIF/DNAJB1/MYC/HES1/TRIB1/ETS2/JUN/ID3/KLF10/JUNB                                                                                          | 26 |\n",
       "| TCGA.BRCA.1198_immune_FOS_JUN_IL6_Cell.2015_PMID.26451490 | TCGA.BRCA.1198_immune_FOS_JUN_IL6_Cell.2015_PMID.26451490                                | TCGA.BRCA.1198_immune_FOS_JUN_IL6_Cell.2015_PMID.26451490                                | 11/281 | 14/19982  | 1.226614e-18 | 1.328832e-16 | 9.339483e-17 | PPP1R15A/IL6/NR4A1/FOSB/HBEGF/ATF3/CSRNP1/ZFP36/EGR1/SOCS3/JUN                                                                                                                                                                        | 11 |\n",
       "| Tcell_EXH_Exhausted_CD8_T_cell_vs_Naive_CD8_T_cell_Metagene_1_Science.2016_PMID.27789795 | Tcell_EXH_Exhausted_CD8_T_cell_vs_Naive_CD8_T_cell_Metagene_1_Science.2016_PMID.27789795 | Tcell_EXH_Exhausted_CD8_T_cell_vs_Naive_CD8_T_cell_Metagene_1_Science.2016_PMID.27789795 | 22/281 | 127/19982 | 5.247955e-18 | 4.263963e-16 | 2.996858e-16 | SOD2/GEM/TNFAIP3/NFIL3/NR4A1/IRAK2/NFKBIA/IFI16/ATF3/ARL5B/DUSP5/RYBP/DENND4A/NFKBIZ/EGR1/GADD45B/NR4A2/CDKN1A/CREM/NAMPT/CEBPB/CXCL3                                                                                                 | 22 |\n",
       "| UNC_HS_Red24_BMC.Med.Genomics.2011_PMID.21214954 | UNC_HS_Red24_BMC.Med.Genomics.2011_PMID.21214954                                         | UNC_HS_Red24_BMC.Med.Genomics.2011_PMID.21214954                                         | 16/281 | 52/19982  | 1.003842e-17 | 6.524972e-16 | 4.585972e-16 | GEM/IL6/NR4A1/FOS/FOSB/HBEGF/ATF3/KLF4/ZFP36/PTGS2/EGR1/NR4A2/TRIB1/JUN/SERPINE1/JUNB                                                                                                                                                 | 16 |\n",
       "| FOS_JUN_Cluster_BMC.Med.Genomics.2011_PMID.21214954 | FOS_JUN_Cluster_BMC.Med.Genomics.2011_PMID.21214954                                      | FOS_JUN_Cluster_BMC.Med.Genomics.2011_PMID.21214954                                      | 10/281 | 16/19982  | 1.916423e-15 | 1.038062e-13 | 7.295854e-14 | PPP1R15A/GEM/NR4A1/FOS/FOSB/ATF3/ZFP36/EGR1/JUN/JUNB                                                                                                                                                                                  | 10 |\n",
       "\n"
      ],
      "text/plain": [
       "                                                                                         ID                                                                                      \n",
       "Tcell_EXH_Memory_CD8_T_cell_a_vs_Naive_CD8_T_cell_Metagene_3_Science.2016_PMID.27789795  Tcell_EXH_Memory_CD8_T_cell_a_vs_Naive_CD8_T_cell_Metagene_3_Science.2016_PMID.27789795 \n",
       "GSEA_GP15_EGF_signailng.r=0.936_NAGASHIMA_EGF_SIGNALING_UP                               GSEA_GP15_EGF_signailng.r=0.936_NAGASHIMA_EGF_SIGNALING_UP                              \n",
       "TCGA.BRCA.1198_immune_FOS_JUN_IL6_Cell.2015_PMID.26451490                                TCGA.BRCA.1198_immune_FOS_JUN_IL6_Cell.2015_PMID.26451490                               \n",
       "Tcell_EXH_Exhausted_CD8_T_cell_vs_Naive_CD8_T_cell_Metagene_1_Science.2016_PMID.27789795 Tcell_EXH_Exhausted_CD8_T_cell_vs_Naive_CD8_T_cell_Metagene_1_Science.2016_PMID.27789795\n",
       "UNC_HS_Red24_BMC.Med.Genomics.2011_PMID.21214954                                         UNC_HS_Red24_BMC.Med.Genomics.2011_PMID.21214954                                        \n",
       "FOS_JUN_Cluster_BMC.Med.Genomics.2011_PMID.21214954                                      FOS_JUN_Cluster_BMC.Med.Genomics.2011_PMID.21214954                                     \n",
       "                                                                                         Description                                                                             \n",
       "Tcell_EXH_Memory_CD8_T_cell_a_vs_Naive_CD8_T_cell_Metagene_3_Science.2016_PMID.27789795  Tcell_EXH_Memory_CD8_T_cell_a_vs_Naive_CD8_T_cell_Metagene_3_Science.2016_PMID.27789795 \n",
       "GSEA_GP15_EGF_signailng.r=0.936_NAGASHIMA_EGF_SIGNALING_UP                               GSEA_GP15_EGF_signailng.r=0.936_NAGASHIMA_EGF_SIGNALING_UP                              \n",
       "TCGA.BRCA.1198_immune_FOS_JUN_IL6_Cell.2015_PMID.26451490                                TCGA.BRCA.1198_immune_FOS_JUN_IL6_Cell.2015_PMID.26451490                               \n",
       "Tcell_EXH_Exhausted_CD8_T_cell_vs_Naive_CD8_T_cell_Metagene_1_Science.2016_PMID.27789795 Tcell_EXH_Exhausted_CD8_T_cell_vs_Naive_CD8_T_cell_Metagene_1_Science.2016_PMID.27789795\n",
       "UNC_HS_Red24_BMC.Med.Genomics.2011_PMID.21214954                                         UNC_HS_Red24_BMC.Med.Genomics.2011_PMID.21214954                                        \n",
       "FOS_JUN_Cluster_BMC.Med.Genomics.2011_PMID.21214954                                      FOS_JUN_Cluster_BMC.Med.Genomics.2011_PMID.21214954                                     \n",
       "                                                                                         GeneRatio\n",
       "Tcell_EXH_Memory_CD8_T_cell_a_vs_Naive_CD8_T_cell_Metagene_3_Science.2016_PMID.27789795  38/281   \n",
       "GSEA_GP15_EGF_signailng.r=0.936_NAGASHIMA_EGF_SIGNALING_UP                               26/281   \n",
       "TCGA.BRCA.1198_immune_FOS_JUN_IL6_Cell.2015_PMID.26451490                                11/281   \n",
       "Tcell_EXH_Exhausted_CD8_T_cell_vs_Naive_CD8_T_cell_Metagene_1_Science.2016_PMID.27789795 22/281   \n",
       "UNC_HS_Red24_BMC.Med.Genomics.2011_PMID.21214954                                         16/281   \n",
       "FOS_JUN_Cluster_BMC.Med.Genomics.2011_PMID.21214954                                      10/281   \n",
       "                                                                                         BgRatio  \n",
       "Tcell_EXH_Memory_CD8_T_cell_a_vs_Naive_CD8_T_cell_Metagene_3_Science.2016_PMID.27789795  141/19982\n",
       "GSEA_GP15_EGF_signailng.r=0.936_NAGASHIMA_EGF_SIGNALING_UP                               58/19982 \n",
       "TCGA.BRCA.1198_immune_FOS_JUN_IL6_Cell.2015_PMID.26451490                                14/19982 \n",
       "Tcell_EXH_Exhausted_CD8_T_cell_vs_Naive_CD8_T_cell_Metagene_1_Science.2016_PMID.27789795 127/19982\n",
       "UNC_HS_Red24_BMC.Med.Genomics.2011_PMID.21214954                                         52/19982 \n",
       "FOS_JUN_Cluster_BMC.Med.Genomics.2011_PMID.21214954                                      16/19982 \n",
       "                                                                                         pvalue      \n",
       "Tcell_EXH_Memory_CD8_T_cell_a_vs_Naive_CD8_T_cell_Metagene_3_Science.2016_PMID.27789795  3.405637e-38\n",
       "GSEA_GP15_EGF_signailng.r=0.936_NAGASHIMA_EGF_SIGNALING_UP                               3.249587e-33\n",
       "TCGA.BRCA.1198_immune_FOS_JUN_IL6_Cell.2015_PMID.26451490                                1.226614e-18\n",
       "Tcell_EXH_Exhausted_CD8_T_cell_vs_Naive_CD8_T_cell_Metagene_1_Science.2016_PMID.27789795 5.247955e-18\n",
       "UNC_HS_Red24_BMC.Med.Genomics.2011_PMID.21214954                                         1.003842e-17\n",
       "FOS_JUN_Cluster_BMC.Med.Genomics.2011_PMID.21214954                                      1.916423e-15\n",
       "                                                                                         p.adjust    \n",
       "Tcell_EXH_Memory_CD8_T_cell_a_vs_Naive_CD8_T_cell_Metagene_3_Science.2016_PMID.27789795  1.106832e-35\n",
       "GSEA_GP15_EGF_signailng.r=0.936_NAGASHIMA_EGF_SIGNALING_UP                               5.280578e-31\n",
       "TCGA.BRCA.1198_immune_FOS_JUN_IL6_Cell.2015_PMID.26451490                                1.328832e-16\n",
       "Tcell_EXH_Exhausted_CD8_T_cell_vs_Naive_CD8_T_cell_Metagene_1_Science.2016_PMID.27789795 4.263963e-16\n",
       "UNC_HS_Red24_BMC.Med.Genomics.2011_PMID.21214954                                         6.524972e-16\n",
       "FOS_JUN_Cluster_BMC.Med.Genomics.2011_PMID.21214954                                      1.038062e-13\n",
       "                                                                                         qvalue      \n",
       "Tcell_EXH_Memory_CD8_T_cell_a_vs_Naive_CD8_T_cell_Metagene_3_Science.2016_PMID.27789795  7.779193e-36\n",
       "GSEA_GP15_EGF_signailng.r=0.936_NAGASHIMA_EGF_SIGNALING_UP                               3.711370e-31\n",
       "TCGA.BRCA.1198_immune_FOS_JUN_IL6_Cell.2015_PMID.26451490                                9.339483e-17\n",
       "Tcell_EXH_Exhausted_CD8_T_cell_vs_Naive_CD8_T_cell_Metagene_1_Science.2016_PMID.27789795 2.996858e-16\n",
       "UNC_HS_Red24_BMC.Med.Genomics.2011_PMID.21214954                                         4.585972e-16\n",
       "FOS_JUN_Cluster_BMC.Med.Genomics.2011_PMID.21214954                                      7.295854e-14\n",
       "                                                                                         geneID                                                                                                                                                                                                                               \n",
       "Tcell_EXH_Memory_CD8_T_cell_a_vs_Naive_CD8_T_cell_Metagene_3_Science.2016_PMID.27789795  SQSTM1/KDM6B/HMOX1/SOD2/GEM/TNFAIP3/NFIL3/REL/NR4A1/IFRD1/FOSB/NFKBIA/ICAM1/ATF3/ARL5B/SPRY2/DUSP5/RYBP/DENND4A/NFKBIZ/DNAJB4/GADD45A/TIPARP/NFE2L2/GADD45B/NR4A2/CDKN1A/CREM/PIM1/TRIB1/MAP2K3/CEBPB/IER5/JUN/HSPA1A/CXCL3/SKIL/JUNB\n",
       "GSEA_GP15_EGF_signailng.r=0.936_NAGASHIMA_EGF_SIGNALING_UP                               KDM6B/GEM/NR4A1/FOS/FOSB/HBEGF/ATF3/DUSP5/RYBP/ZFP36/EGR1/KBTBD2/TIPARP/MCL1/BHLHE40/NR4A2/LIF/DNAJB1/MYC/HES1/TRIB1/ETS2/JUN/ID3/KLF10/JUNB                                                                                         \n",
       "TCGA.BRCA.1198_immune_FOS_JUN_IL6_Cell.2015_PMID.26451490                                PPP1R15A/IL6/NR4A1/FOSB/HBEGF/ATF3/CSRNP1/ZFP36/EGR1/SOCS3/JUN                                                                                                                                                                       \n",
       "Tcell_EXH_Exhausted_CD8_T_cell_vs_Naive_CD8_T_cell_Metagene_1_Science.2016_PMID.27789795 SOD2/GEM/TNFAIP3/NFIL3/NR4A1/IRAK2/NFKBIA/IFI16/ATF3/ARL5B/DUSP5/RYBP/DENND4A/NFKBIZ/EGR1/GADD45B/NR4A2/CDKN1A/CREM/NAMPT/CEBPB/CXCL3                                                                                                \n",
       "UNC_HS_Red24_BMC.Med.Genomics.2011_PMID.21214954                                         GEM/IL6/NR4A1/FOS/FOSB/HBEGF/ATF3/KLF4/ZFP36/PTGS2/EGR1/NR4A2/TRIB1/JUN/SERPINE1/JUNB                                                                                                                                                \n",
       "FOS_JUN_Cluster_BMC.Med.Genomics.2011_PMID.21214954                                      PPP1R15A/GEM/NR4A1/FOS/FOSB/ATF3/ZFP36/EGR1/JUN/JUNB                                                                                                                                                                                 \n",
       "                                                                                         Count\n",
       "Tcell_EXH_Memory_CD8_T_cell_a_vs_Naive_CD8_T_cell_Metagene_3_Science.2016_PMID.27789795  38   \n",
       "GSEA_GP15_EGF_signailng.r=0.936_NAGASHIMA_EGF_SIGNALING_UP                               26   \n",
       "TCGA.BRCA.1198_immune_FOS_JUN_IL6_Cell.2015_PMID.26451490                                11   \n",
       "Tcell_EXH_Exhausted_CD8_T_cell_vs_Naive_CD8_T_cell_Metagene_1_Science.2016_PMID.27789795 22   \n",
       "UNC_HS_Red24_BMC.Med.Genomics.2011_PMID.21214954                                         16   \n",
       "FOS_JUN_Cluster_BMC.Med.Genomics.2011_PMID.21214954                                      10   "
      ]
     },
     "metadata": {},
     "output_type": "display_data"
    },
    {
     "data": {
      "text/html": [
       "<style>\n",
       ".list-inline {list-style: none; margin:0; padding: 0}\n",
       ".list-inline>li {display: inline-block}\n",
       ".list-inline>li:not(:last-child)::after {content: \"\\00b7\"; padding: 0 .5ex}\n",
       "</style>\n",
       "<ol class=list-inline><li>88</li><li>9</li></ol>\n"
      ],
      "text/latex": [
       "\\begin{enumerate*}\n",
       "\\item 88\n",
       "\\item 9\n",
       "\\end{enumerate*}\n"
      ],
      "text/markdown": [
       "1. 88\n",
       "2. 9\n",
       "\n",
       "\n"
      ],
      "text/plain": [
       "[1] 88  9"
      ]
     },
     "metadata": {},
     "output_type": "display_data"
    },
    {
     "data": {
      "text/html": [
       "<hr style=\"height:1px\">"
      ]
     },
     "metadata": {},
     "output_type": "display_data"
    },
    {
     "data": {
      "text/html": [
       "down h"
      ]
     },
     "metadata": {},
     "output_type": "display_data"
    },
    {
     "data": {
      "text/html": [
       "<table class=\"dataframe\">\n",
       "<caption>A data.frame: 3 × 9</caption>\n",
       "<thead>\n",
       "\t<tr><th></th><th scope=col>ID</th><th scope=col>Description</th><th scope=col>GeneRatio</th><th scope=col>BgRatio</th><th scope=col>pvalue</th><th scope=col>p.adjust</th><th scope=col>qvalue</th><th scope=col>geneID</th><th scope=col>Count</th></tr>\n",
       "\t<tr><th></th><th scope=col>&lt;chr&gt;</th><th scope=col>&lt;chr&gt;</th><th scope=col>&lt;chr&gt;</th><th scope=col>&lt;chr&gt;</th><th scope=col>&lt;dbl&gt;</th><th scope=col>&lt;dbl&gt;</th><th scope=col>&lt;dbl&gt;</th><th scope=col>&lt;chr&gt;</th><th scope=col>&lt;int&gt;</th></tr>\n",
       "</thead>\n",
       "<tbody>\n",
       "\t<tr><th scope=row>HALLMARK_OXIDATIVE_PHOSPHORYLATION</th><td>HALLMARK_OXIDATIVE_PHOSPHORYLATION</td><td>HALLMARK_OXIDATIVE_PHOSPHORYLATION</td><td>45/275</td><td>200/4386</td><td>6.599832e-15</td><td>3.233918e-13</td><td>2.848349e-13</td><td>LDHA/ATP1B1/CYB5A/NDUFV2/COX4I1/NDUFA4/COX6C/GPX4/ATP6V0B/MGST3/COX6A1/NDUFC2/COX7A2/COX7C/COX5B/NDUFB7/UQCR10/COX5A/NDUFB2/IDH2/NDUFS6/VDAC2/ATP6V1G1/SLC25A3/COX6B1/ATP6V0E1/NDUFAB1/UQCR11/TIMM13/MDH2/UQCRFS1/COX8A/NDUFS8/UQCRB/TIMM8B/VDAC1/ATP6V1F/NDUFB8/UQCRQ/VDAC3/ECHS1/PRDX3/MRPS15/COX17/NDUFC1</td><td>45</td></tr>\n",
       "\t<tr><th scope=row>HALLMARK_MYC_TARGETS_V1</th><td>HALLMARK_MYC_TARGETS_V1           </td><td>HALLMARK_MYC_TARGETS_V1           </td><td>39/275</td><td>200/4386</td><td>6.082563e-11</td><td>1.490228e-09</td><td>1.312553e-09</td><td>LDHA/PHB/SSBP1/PSMD8/RPL14/PPIA/NME1/YWHAQ/COX5A/PSMB3/PGK1/CCT5/PSMA4/C1QBP/PSMB2/SNRPD3/CCT3/RANBP1/SLC25A3/RPL22/NDUFAB1/CBX3/TXNL4A/TUFM/PSMA7/LSM7/PSMA1/LSM2/PRDX4/ACP1/SNRPD1/VDAC1/UBE2L3/VDAC3/SNRPD2/NHP2/CCT7/PRDX3/PA2G4                                                                        </td><td>39</td></tr>\n",
       "\t<tr><th scope=row>HALLMARK_ANDROGEN_RESPONSE</th><td>HALLMARK_ANDROGEN_RESPONSE        </td><td>HALLMARK_ANDROGEN_RESPONSE        </td><td>16/275</td><td>101/4386</td><td>4.605441e-04</td><td>7.522221e-03</td><td>6.625372e-03</td><td>AZGP1/KRT8/KRT19/MYL12A/SAT1/ACTN1/CCND1/PMEPA1/STEAP4/PDLIM5/SMS/TMEM50A/DBI/H1F0/ADRM1/PA2G4                                                                                                                                                                                                              </td><td>16</td></tr>\n",
       "</tbody>\n",
       "</table>\n"
      ],
      "text/latex": [
       "A data.frame: 3 × 9\n",
       "\\begin{tabular}{r|lllllllll}\n",
       "  & ID & Description & GeneRatio & BgRatio & pvalue & p.adjust & qvalue & geneID & Count\\\\\n",
       "  & <chr> & <chr> & <chr> & <chr> & <dbl> & <dbl> & <dbl> & <chr> & <int>\\\\\n",
       "\\hline\n",
       "\tHALLMARK\\_OXIDATIVE\\_PHOSPHORYLATION & HALLMARK\\_OXIDATIVE\\_PHOSPHORYLATION & HALLMARK\\_OXIDATIVE\\_PHOSPHORYLATION & 45/275 & 200/4386 & 6.599832e-15 & 3.233918e-13 & 2.848349e-13 & LDHA/ATP1B1/CYB5A/NDUFV2/COX4I1/NDUFA4/COX6C/GPX4/ATP6V0B/MGST3/COX6A1/NDUFC2/COX7A2/COX7C/COX5B/NDUFB7/UQCR10/COX5A/NDUFB2/IDH2/NDUFS6/VDAC2/ATP6V1G1/SLC25A3/COX6B1/ATP6V0E1/NDUFAB1/UQCR11/TIMM13/MDH2/UQCRFS1/COX8A/NDUFS8/UQCRB/TIMM8B/VDAC1/ATP6V1F/NDUFB8/UQCRQ/VDAC3/ECHS1/PRDX3/MRPS15/COX17/NDUFC1 & 45\\\\\n",
       "\tHALLMARK\\_MYC\\_TARGETS\\_V1 & HALLMARK\\_MYC\\_TARGETS\\_V1            & HALLMARK\\_MYC\\_TARGETS\\_V1            & 39/275 & 200/4386 & 6.082563e-11 & 1.490228e-09 & 1.312553e-09 & LDHA/PHB/SSBP1/PSMD8/RPL14/PPIA/NME1/YWHAQ/COX5A/PSMB3/PGK1/CCT5/PSMA4/C1QBP/PSMB2/SNRPD3/CCT3/RANBP1/SLC25A3/RPL22/NDUFAB1/CBX3/TXNL4A/TUFM/PSMA7/LSM7/PSMA1/LSM2/PRDX4/ACP1/SNRPD1/VDAC1/UBE2L3/VDAC3/SNRPD2/NHP2/CCT7/PRDX3/PA2G4                                                                         & 39\\\\\n",
       "\tHALLMARK\\_ANDROGEN\\_RESPONSE & HALLMARK\\_ANDROGEN\\_RESPONSE         & HALLMARK\\_ANDROGEN\\_RESPONSE         & 16/275 & 101/4386 & 4.605441e-04 & 7.522221e-03 & 6.625372e-03 & AZGP1/KRT8/KRT19/MYL12A/SAT1/ACTN1/CCND1/PMEPA1/STEAP4/PDLIM5/SMS/TMEM50A/DBI/H1F0/ADRM1/PA2G4                                                                                                                                                                                                               & 16\\\\\n",
       "\\end{tabular}\n"
      ],
      "text/markdown": [
       "\n",
       "A data.frame: 3 × 9\n",
       "\n",
       "| <!--/--> | ID &lt;chr&gt; | Description &lt;chr&gt; | GeneRatio &lt;chr&gt; | BgRatio &lt;chr&gt; | pvalue &lt;dbl&gt; | p.adjust &lt;dbl&gt; | qvalue &lt;dbl&gt; | geneID &lt;chr&gt; | Count &lt;int&gt; |\n",
       "|---|---|---|---|---|---|---|---|---|---|\n",
       "| HALLMARK_OXIDATIVE_PHOSPHORYLATION | HALLMARK_OXIDATIVE_PHOSPHORYLATION | HALLMARK_OXIDATIVE_PHOSPHORYLATION | 45/275 | 200/4386 | 6.599832e-15 | 3.233918e-13 | 2.848349e-13 | LDHA/ATP1B1/CYB5A/NDUFV2/COX4I1/NDUFA4/COX6C/GPX4/ATP6V0B/MGST3/COX6A1/NDUFC2/COX7A2/COX7C/COX5B/NDUFB7/UQCR10/COX5A/NDUFB2/IDH2/NDUFS6/VDAC2/ATP6V1G1/SLC25A3/COX6B1/ATP6V0E1/NDUFAB1/UQCR11/TIMM13/MDH2/UQCRFS1/COX8A/NDUFS8/UQCRB/TIMM8B/VDAC1/ATP6V1F/NDUFB8/UQCRQ/VDAC3/ECHS1/PRDX3/MRPS15/COX17/NDUFC1 | 45 |\n",
       "| HALLMARK_MYC_TARGETS_V1 | HALLMARK_MYC_TARGETS_V1            | HALLMARK_MYC_TARGETS_V1            | 39/275 | 200/4386 | 6.082563e-11 | 1.490228e-09 | 1.312553e-09 | LDHA/PHB/SSBP1/PSMD8/RPL14/PPIA/NME1/YWHAQ/COX5A/PSMB3/PGK1/CCT5/PSMA4/C1QBP/PSMB2/SNRPD3/CCT3/RANBP1/SLC25A3/RPL22/NDUFAB1/CBX3/TXNL4A/TUFM/PSMA7/LSM7/PSMA1/LSM2/PRDX4/ACP1/SNRPD1/VDAC1/UBE2L3/VDAC3/SNRPD2/NHP2/CCT7/PRDX3/PA2G4                                                                         | 39 |\n",
       "| HALLMARK_ANDROGEN_RESPONSE | HALLMARK_ANDROGEN_RESPONSE         | HALLMARK_ANDROGEN_RESPONSE         | 16/275 | 101/4386 | 4.605441e-04 | 7.522221e-03 | 6.625372e-03 | AZGP1/KRT8/KRT19/MYL12A/SAT1/ACTN1/CCND1/PMEPA1/STEAP4/PDLIM5/SMS/TMEM50A/DBI/H1F0/ADRM1/PA2G4                                                                                                                                                                                                               | 16 |\n",
       "\n"
      ],
      "text/plain": [
       "                                   ID                                \n",
       "HALLMARK_OXIDATIVE_PHOSPHORYLATION HALLMARK_OXIDATIVE_PHOSPHORYLATION\n",
       "HALLMARK_MYC_TARGETS_V1            HALLMARK_MYC_TARGETS_V1           \n",
       "HALLMARK_ANDROGEN_RESPONSE         HALLMARK_ANDROGEN_RESPONSE        \n",
       "                                   Description                        GeneRatio\n",
       "HALLMARK_OXIDATIVE_PHOSPHORYLATION HALLMARK_OXIDATIVE_PHOSPHORYLATION 45/275   \n",
       "HALLMARK_MYC_TARGETS_V1            HALLMARK_MYC_TARGETS_V1            39/275   \n",
       "HALLMARK_ANDROGEN_RESPONSE         HALLMARK_ANDROGEN_RESPONSE         16/275   \n",
       "                                   BgRatio  pvalue       p.adjust    \n",
       "HALLMARK_OXIDATIVE_PHOSPHORYLATION 200/4386 6.599832e-15 3.233918e-13\n",
       "HALLMARK_MYC_TARGETS_V1            200/4386 6.082563e-11 1.490228e-09\n",
       "HALLMARK_ANDROGEN_RESPONSE         101/4386 4.605441e-04 7.522221e-03\n",
       "                                   qvalue      \n",
       "HALLMARK_OXIDATIVE_PHOSPHORYLATION 2.848349e-13\n",
       "HALLMARK_MYC_TARGETS_V1            1.312553e-09\n",
       "HALLMARK_ANDROGEN_RESPONSE         6.625372e-03\n",
       "                                   geneID                                                                                                                                                                                                                                                                                                      \n",
       "HALLMARK_OXIDATIVE_PHOSPHORYLATION LDHA/ATP1B1/CYB5A/NDUFV2/COX4I1/NDUFA4/COX6C/GPX4/ATP6V0B/MGST3/COX6A1/NDUFC2/COX7A2/COX7C/COX5B/NDUFB7/UQCR10/COX5A/NDUFB2/IDH2/NDUFS6/VDAC2/ATP6V1G1/SLC25A3/COX6B1/ATP6V0E1/NDUFAB1/UQCR11/TIMM13/MDH2/UQCRFS1/COX8A/NDUFS8/UQCRB/TIMM8B/VDAC1/ATP6V1F/NDUFB8/UQCRQ/VDAC3/ECHS1/PRDX3/MRPS15/COX17/NDUFC1\n",
       "HALLMARK_MYC_TARGETS_V1            LDHA/PHB/SSBP1/PSMD8/RPL14/PPIA/NME1/YWHAQ/COX5A/PSMB3/PGK1/CCT5/PSMA4/C1QBP/PSMB2/SNRPD3/CCT3/RANBP1/SLC25A3/RPL22/NDUFAB1/CBX3/TXNL4A/TUFM/PSMA7/LSM7/PSMA1/LSM2/PRDX4/ACP1/SNRPD1/VDAC1/UBE2L3/VDAC3/SNRPD2/NHP2/CCT7/PRDX3/PA2G4                                                                        \n",
       "HALLMARK_ANDROGEN_RESPONSE         AZGP1/KRT8/KRT19/MYL12A/SAT1/ACTN1/CCND1/PMEPA1/STEAP4/PDLIM5/SMS/TMEM50A/DBI/H1F0/ADRM1/PA2G4                                                                                                                                                                                                              \n",
       "                                   Count\n",
       "HALLMARK_OXIDATIVE_PHOSPHORYLATION 45   \n",
       "HALLMARK_MYC_TARGETS_V1            39   \n",
       "HALLMARK_ANDROGEN_RESPONSE         16   "
      ]
     },
     "metadata": {},
     "output_type": "display_data"
    },
    {
     "data": {
      "text/html": [
       "<style>\n",
       ".list-inline {list-style: none; margin:0; padding: 0}\n",
       ".list-inline>li {display: inline-block}\n",
       ".list-inline>li:not(:last-child)::after {content: \"\\00b7\"; padding: 0 .5ex}\n",
       "</style>\n",
       "<ol class=list-inline><li>3</li><li>9</li></ol>\n"
      ],
      "text/latex": [
       "\\begin{enumerate*}\n",
       "\\item 3\n",
       "\\item 9\n",
       "\\end{enumerate*}\n"
      ],
      "text/markdown": [
       "1. 3\n",
       "2. 9\n",
       "\n",
       "\n"
      ],
      "text/plain": [
       "[1] 3 9"
      ]
     },
     "metadata": {},
     "output_type": "display_data"
    },
    {
     "data": {
      "text/html": [
       "down unc_lccc"
      ]
     },
     "metadata": {},
     "output_type": "display_data"
    },
    {
     "data": {
      "text/html": [
       "<table class=\"dataframe\">\n",
       "<caption>A data.frame: 6 × 9</caption>\n",
       "<thead>\n",
       "\t<tr><th></th><th scope=col>ID</th><th scope=col>Description</th><th scope=col>GeneRatio</th><th scope=col>BgRatio</th><th scope=col>pvalue</th><th scope=col>p.adjust</th><th scope=col>qvalue</th><th scope=col>geneID</th><th scope=col>Count</th></tr>\n",
       "\t<tr><th></th><th scope=col>&lt;chr&gt;</th><th scope=col>&lt;chr&gt;</th><th scope=col>&lt;chr&gt;</th><th scope=col>&lt;chr&gt;</th><th scope=col>&lt;dbl&gt;</th><th scope=col>&lt;dbl&gt;</th><th scope=col>&lt;dbl&gt;</th><th scope=col>&lt;chr&gt;</th><th scope=col>&lt;int&gt;</th></tr>\n",
       "</thead>\n",
       "<tbody>\n",
       "\t<tr><th scope=row>GATA3.induced.genes_JCO.2006_PMID.16505416</th><td>GATA3.induced.genes_JCO.2006_PMID.16505416       </td><td>GATA3.induced.genes_JCO.2006_PMID.16505416       </td><td>53/515</td><td>277/19982</td><td>7.546456e-31</td><td>2.686538e-28</td><td>1.898530e-28</td><td>S100A6/CD9/KRT7/KRT8/KRT18/KRT19/CD24/S100A14/TACSTD2/S100A16/DSTN/TM4SF1/SPINT2/VAMP8/S100A9/MGST1/ATP1B1/S100A11/LMNA/ELF3/CLDN4/FXYD3/CALM1/CLDN7/RAC1/EIF6/LYPD3/KCNMA1/KRT15/SQOR/JUP/MAL2/HSPB1/EPCAM/TC2N/TSPAN15/MYOF/S100A4/GATA3/OCIAD2/ADIRF/RER1/FOXA1/MRPL13/RBM47/MLPH/ISG20/DUSP23/MGLL/CSRP1/NDUFB9/SPINT1/MALL</td><td>53</td></tr>\n",
       "\t<tr><th scope=row>Stromal_Down_Nat.Med.2009_PMID.19648928</th><td>Stromal_Down_Nat.Med.2009_PMID.19648928          </td><td>Stromal_Down_Nat.Med.2009_PMID.19648928          </td><td>46/515</td><td>347/19982</td><td>5.404606e-20</td><td>9.620199e-18</td><td>6.798426e-18</td><td>CD9/KRT7/KRT8/ACTG1/S100A14/TACSTD2/PERP/SPINT2/VAMP8/TSPO/MYH9/PPP1R14B/DSC2/EZR/TPM1/CLDN7/ACTN1/LAMB3/SDC4/ANXA3/VWA1/ITGA2/ACTN4/PDLIM5/JUP/MAL2/EPCAM/DSP/GATA3/OCIAD2/FAM173A/PLPP2/STC2/MPHOSPH6/SERINC2/TUBA4A/CD151/DUSP23/WWC1/CDH1/DSG2/CA2/SPINT1/SFN/TFAP2A/CDCP1                                                 </td><td>46</td></tr>\n",
       "\t<tr><th scope=row>MITO1_BMC.Med.Genomics.2011_PMID.21214954</th><td>MITO1_BMC.Med.Genomics.2011_PMID.21214954        </td><td>MITO1_BMC.Med.Genomics.2011_PMID.21214954        </td><td>16/515</td><td>38/19982 </td><td>3.970747e-16</td><td>4.711954e-14</td><td>3.329855e-14</td><td>COX6A1/COX7A2/COX7C/COX5B/TMA7/NDUFB2/DYNLL1/UQCR11/LSM5/COX8A/TIMM8B/TRMT112/SEM1/UQCRQ/COX17/NDUFC1                                                                                                                                                                                                                          </td><td>16</td></tr>\n",
       "\t<tr><th scope=row>UNC_MM_Green9_BMC.Med.Genomics.2011_PMID.21214954</th><td>UNC_MM_Green9_BMC.Med.Genomics.2011_PMID.21214954</td><td>UNC_MM_Green9_BMC.Med.Genomics.2011_PMID.21214954</td><td>37/515</td><td>356/19982</td><td>6.146245e-13</td><td>5.470158e-11</td><td>3.865665e-11</td><td>KRT7/KRT18/KRT19/WFDC2/TACSTD2/PERP/S100A16/SPINT2/MGST1/ATP1B1/ELF3/CLDN4/EZR/CLDN7/TALDO1/LYPD3/ITGB6/MAL2/EPCAM/DSP/EPPK1/LCN2/GATA3/CRYBG1/BAMBI/DBI/SERINC2/RBM47/LTF/MLPH/GABRP/WWC1/CDH1/SPINT1/SFN/NME3/MALL                                                                                                           </td><td>37</td></tr>\n",
       "\t<tr><th scope=row>UNC_HS_Red17_BMC.Med.Genomics.2011_PMID.21214954</th><td>UNC_HS_Red17_BMC.Med.Genomics.2011_PMID.21214954 </td><td>UNC_HS_Red17_BMC.Med.Genomics.2011_PMID.21214954 </td><td>35/515</td><td>335/19982</td><td>2.271604e-12</td><td>1.617382e-10</td><td>1.142975e-10</td><td>ACTB/VAMP8/TPM4/ENO1/EZR/PSMD8/RHOC/YWHAH/RHOA/TKT/FKBP1A/ARPC1A/ITGB6/BSG/SYPL1/WDR1/PLEC/HSPA8/PLPP2/SELENOT/VDAC1/TMEM14B/TMOD3/JUND/KDELR1/DRAP1/ARPC4/CDH1/CYBA/MRPS15/MGAT4B/CTSD/TBL1XR1/CAPN1/ARHGDIA                                                                                                                  </td><td>35</td></tr>\n",
       "\t<tr><th scope=row>Claudin_Low_Genome.Biol.2007_PMID.17493263</th><td>Claudin_Low_Genome.Biol.2007_PMID.17493263       </td><td>Claudin_Low_Genome.Biol.2007_PMID.17493263       </td><td>29/515</td><td>244/19982</td><td>7.760136e-12</td><td>4.604347e-10</td><td>3.253811e-10</td><td>AZGP1/CD9/KRT18/KRT19/S100A14/TACSTD2/PERP/SPINT2/ELF3/CLDN4/FXYD3/CLDN7/CTTN/MUC1/MAL2/EPCAM/DSP/MIF/EPPK1/METRN/GOLM1/GATA3/FOXA1/SERINC2/H1F0/WWC1/CDH1/SPINT1/PAFAH1B3                                                                                                                                                     </td><td>29</td></tr>\n",
       "</tbody>\n",
       "</table>\n"
      ],
      "text/latex": [
       "A data.frame: 6 × 9\n",
       "\\begin{tabular}{r|lllllllll}\n",
       "  & ID & Description & GeneRatio & BgRatio & pvalue & p.adjust & qvalue & geneID & Count\\\\\n",
       "  & <chr> & <chr> & <chr> & <chr> & <dbl> & <dbl> & <dbl> & <chr> & <int>\\\\\n",
       "\\hline\n",
       "\tGATA3.induced.genes\\_JCO.2006\\_PMID.16505416 & GATA3.induced.genes\\_JCO.2006\\_PMID.16505416        & GATA3.induced.genes\\_JCO.2006\\_PMID.16505416        & 53/515 & 277/19982 & 7.546456e-31 & 2.686538e-28 & 1.898530e-28 & S100A6/CD9/KRT7/KRT8/KRT18/KRT19/CD24/S100A14/TACSTD2/S100A16/DSTN/TM4SF1/SPINT2/VAMP8/S100A9/MGST1/ATP1B1/S100A11/LMNA/ELF3/CLDN4/FXYD3/CALM1/CLDN7/RAC1/EIF6/LYPD3/KCNMA1/KRT15/SQOR/JUP/MAL2/HSPB1/EPCAM/TC2N/TSPAN15/MYOF/S100A4/GATA3/OCIAD2/ADIRF/RER1/FOXA1/MRPL13/RBM47/MLPH/ISG20/DUSP23/MGLL/CSRP1/NDUFB9/SPINT1/MALL & 53\\\\\n",
       "\tStromal\\_Down\\_Nat.Med.2009\\_PMID.19648928 & Stromal\\_Down\\_Nat.Med.2009\\_PMID.19648928           & Stromal\\_Down\\_Nat.Med.2009\\_PMID.19648928           & 46/515 & 347/19982 & 5.404606e-20 & 9.620199e-18 & 6.798426e-18 & CD9/KRT7/KRT8/ACTG1/S100A14/TACSTD2/PERP/SPINT2/VAMP8/TSPO/MYH9/PPP1R14B/DSC2/EZR/TPM1/CLDN7/ACTN1/LAMB3/SDC4/ANXA3/VWA1/ITGA2/ACTN4/PDLIM5/JUP/MAL2/EPCAM/DSP/GATA3/OCIAD2/FAM173A/PLPP2/STC2/MPHOSPH6/SERINC2/TUBA4A/CD151/DUSP23/WWC1/CDH1/DSG2/CA2/SPINT1/SFN/TFAP2A/CDCP1                                                  & 46\\\\\n",
       "\tMITO1\\_BMC.Med.Genomics.2011\\_PMID.21214954 & MITO1\\_BMC.Med.Genomics.2011\\_PMID.21214954         & MITO1\\_BMC.Med.Genomics.2011\\_PMID.21214954         & 16/515 & 38/19982  & 3.970747e-16 & 4.711954e-14 & 3.329855e-14 & COX6A1/COX7A2/COX7C/COX5B/TMA7/NDUFB2/DYNLL1/UQCR11/LSM5/COX8A/TIMM8B/TRMT112/SEM1/UQCRQ/COX17/NDUFC1                                                                                                                                                                                                                           & 16\\\\\n",
       "\tUNC\\_MM\\_Green9\\_BMC.Med.Genomics.2011\\_PMID.21214954 & UNC\\_MM\\_Green9\\_BMC.Med.Genomics.2011\\_PMID.21214954 & UNC\\_MM\\_Green9\\_BMC.Med.Genomics.2011\\_PMID.21214954 & 37/515 & 356/19982 & 6.146245e-13 & 5.470158e-11 & 3.865665e-11 & KRT7/KRT18/KRT19/WFDC2/TACSTD2/PERP/S100A16/SPINT2/MGST1/ATP1B1/ELF3/CLDN4/EZR/CLDN7/TALDO1/LYPD3/ITGB6/MAL2/EPCAM/DSP/EPPK1/LCN2/GATA3/CRYBG1/BAMBI/DBI/SERINC2/RBM47/LTF/MLPH/GABRP/WWC1/CDH1/SPINT1/SFN/NME3/MALL                                                                                                            & 37\\\\\n",
       "\tUNC\\_HS\\_Red17\\_BMC.Med.Genomics.2011\\_PMID.21214954 & UNC\\_HS\\_Red17\\_BMC.Med.Genomics.2011\\_PMID.21214954  & UNC\\_HS\\_Red17\\_BMC.Med.Genomics.2011\\_PMID.21214954  & 35/515 & 335/19982 & 2.271604e-12 & 1.617382e-10 & 1.142975e-10 & ACTB/VAMP8/TPM4/ENO1/EZR/PSMD8/RHOC/YWHAH/RHOA/TKT/FKBP1A/ARPC1A/ITGB6/BSG/SYPL1/WDR1/PLEC/HSPA8/PLPP2/SELENOT/VDAC1/TMEM14B/TMOD3/JUND/KDELR1/DRAP1/ARPC4/CDH1/CYBA/MRPS15/MGAT4B/CTSD/TBL1XR1/CAPN1/ARHGDIA                                                                                                                   & 35\\\\\n",
       "\tClaudin\\_Low\\_Genome.Biol.2007\\_PMID.17493263 & Claudin\\_Low\\_Genome.Biol.2007\\_PMID.17493263        & Claudin\\_Low\\_Genome.Biol.2007\\_PMID.17493263        & 29/515 & 244/19982 & 7.760136e-12 & 4.604347e-10 & 3.253811e-10 & AZGP1/CD9/KRT18/KRT19/S100A14/TACSTD2/PERP/SPINT2/ELF3/CLDN4/FXYD3/CLDN7/CTTN/MUC1/MAL2/EPCAM/DSP/MIF/EPPK1/METRN/GOLM1/GATA3/FOXA1/SERINC2/H1F0/WWC1/CDH1/SPINT1/PAFAH1B3                                                                                                                                                      & 29\\\\\n",
       "\\end{tabular}\n"
      ],
      "text/markdown": [
       "\n",
       "A data.frame: 6 × 9\n",
       "\n",
       "| <!--/--> | ID &lt;chr&gt; | Description &lt;chr&gt; | GeneRatio &lt;chr&gt; | BgRatio &lt;chr&gt; | pvalue &lt;dbl&gt; | p.adjust &lt;dbl&gt; | qvalue &lt;dbl&gt; | geneID &lt;chr&gt; | Count &lt;int&gt; |\n",
       "|---|---|---|---|---|---|---|---|---|---|\n",
       "| GATA3.induced.genes_JCO.2006_PMID.16505416 | GATA3.induced.genes_JCO.2006_PMID.16505416        | GATA3.induced.genes_JCO.2006_PMID.16505416        | 53/515 | 277/19982 | 7.546456e-31 | 2.686538e-28 | 1.898530e-28 | S100A6/CD9/KRT7/KRT8/KRT18/KRT19/CD24/S100A14/TACSTD2/S100A16/DSTN/TM4SF1/SPINT2/VAMP8/S100A9/MGST1/ATP1B1/S100A11/LMNA/ELF3/CLDN4/FXYD3/CALM1/CLDN7/RAC1/EIF6/LYPD3/KCNMA1/KRT15/SQOR/JUP/MAL2/HSPB1/EPCAM/TC2N/TSPAN15/MYOF/S100A4/GATA3/OCIAD2/ADIRF/RER1/FOXA1/MRPL13/RBM47/MLPH/ISG20/DUSP23/MGLL/CSRP1/NDUFB9/SPINT1/MALL | 53 |\n",
       "| Stromal_Down_Nat.Med.2009_PMID.19648928 | Stromal_Down_Nat.Med.2009_PMID.19648928           | Stromal_Down_Nat.Med.2009_PMID.19648928           | 46/515 | 347/19982 | 5.404606e-20 | 9.620199e-18 | 6.798426e-18 | CD9/KRT7/KRT8/ACTG1/S100A14/TACSTD2/PERP/SPINT2/VAMP8/TSPO/MYH9/PPP1R14B/DSC2/EZR/TPM1/CLDN7/ACTN1/LAMB3/SDC4/ANXA3/VWA1/ITGA2/ACTN4/PDLIM5/JUP/MAL2/EPCAM/DSP/GATA3/OCIAD2/FAM173A/PLPP2/STC2/MPHOSPH6/SERINC2/TUBA4A/CD151/DUSP23/WWC1/CDH1/DSG2/CA2/SPINT1/SFN/TFAP2A/CDCP1                                                  | 46 |\n",
       "| MITO1_BMC.Med.Genomics.2011_PMID.21214954 | MITO1_BMC.Med.Genomics.2011_PMID.21214954         | MITO1_BMC.Med.Genomics.2011_PMID.21214954         | 16/515 | 38/19982  | 3.970747e-16 | 4.711954e-14 | 3.329855e-14 | COX6A1/COX7A2/COX7C/COX5B/TMA7/NDUFB2/DYNLL1/UQCR11/LSM5/COX8A/TIMM8B/TRMT112/SEM1/UQCRQ/COX17/NDUFC1                                                                                                                                                                                                                           | 16 |\n",
       "| UNC_MM_Green9_BMC.Med.Genomics.2011_PMID.21214954 | UNC_MM_Green9_BMC.Med.Genomics.2011_PMID.21214954 | UNC_MM_Green9_BMC.Med.Genomics.2011_PMID.21214954 | 37/515 | 356/19982 | 6.146245e-13 | 5.470158e-11 | 3.865665e-11 | KRT7/KRT18/KRT19/WFDC2/TACSTD2/PERP/S100A16/SPINT2/MGST1/ATP1B1/ELF3/CLDN4/EZR/CLDN7/TALDO1/LYPD3/ITGB6/MAL2/EPCAM/DSP/EPPK1/LCN2/GATA3/CRYBG1/BAMBI/DBI/SERINC2/RBM47/LTF/MLPH/GABRP/WWC1/CDH1/SPINT1/SFN/NME3/MALL                                                                                                            | 37 |\n",
       "| UNC_HS_Red17_BMC.Med.Genomics.2011_PMID.21214954 | UNC_HS_Red17_BMC.Med.Genomics.2011_PMID.21214954  | UNC_HS_Red17_BMC.Med.Genomics.2011_PMID.21214954  | 35/515 | 335/19982 | 2.271604e-12 | 1.617382e-10 | 1.142975e-10 | ACTB/VAMP8/TPM4/ENO1/EZR/PSMD8/RHOC/YWHAH/RHOA/TKT/FKBP1A/ARPC1A/ITGB6/BSG/SYPL1/WDR1/PLEC/HSPA8/PLPP2/SELENOT/VDAC1/TMEM14B/TMOD3/JUND/KDELR1/DRAP1/ARPC4/CDH1/CYBA/MRPS15/MGAT4B/CTSD/TBL1XR1/CAPN1/ARHGDIA                                                                                                                   | 35 |\n",
       "| Claudin_Low_Genome.Biol.2007_PMID.17493263 | Claudin_Low_Genome.Biol.2007_PMID.17493263        | Claudin_Low_Genome.Biol.2007_PMID.17493263        | 29/515 | 244/19982 | 7.760136e-12 | 4.604347e-10 | 3.253811e-10 | AZGP1/CD9/KRT18/KRT19/S100A14/TACSTD2/PERP/SPINT2/ELF3/CLDN4/FXYD3/CLDN7/CTTN/MUC1/MAL2/EPCAM/DSP/MIF/EPPK1/METRN/GOLM1/GATA3/FOXA1/SERINC2/H1F0/WWC1/CDH1/SPINT1/PAFAH1B3                                                                                                                                                      | 29 |\n",
       "\n"
      ],
      "text/plain": [
       "                                                  ID                                               \n",
       "GATA3.induced.genes_JCO.2006_PMID.16505416        GATA3.induced.genes_JCO.2006_PMID.16505416       \n",
       "Stromal_Down_Nat.Med.2009_PMID.19648928           Stromal_Down_Nat.Med.2009_PMID.19648928          \n",
       "MITO1_BMC.Med.Genomics.2011_PMID.21214954         MITO1_BMC.Med.Genomics.2011_PMID.21214954        \n",
       "UNC_MM_Green9_BMC.Med.Genomics.2011_PMID.21214954 UNC_MM_Green9_BMC.Med.Genomics.2011_PMID.21214954\n",
       "UNC_HS_Red17_BMC.Med.Genomics.2011_PMID.21214954  UNC_HS_Red17_BMC.Med.Genomics.2011_PMID.21214954 \n",
       "Claudin_Low_Genome.Biol.2007_PMID.17493263        Claudin_Low_Genome.Biol.2007_PMID.17493263       \n",
       "                                                  Description                                      \n",
       "GATA3.induced.genes_JCO.2006_PMID.16505416        GATA3.induced.genes_JCO.2006_PMID.16505416       \n",
       "Stromal_Down_Nat.Med.2009_PMID.19648928           Stromal_Down_Nat.Med.2009_PMID.19648928          \n",
       "MITO1_BMC.Med.Genomics.2011_PMID.21214954         MITO1_BMC.Med.Genomics.2011_PMID.21214954        \n",
       "UNC_MM_Green9_BMC.Med.Genomics.2011_PMID.21214954 UNC_MM_Green9_BMC.Med.Genomics.2011_PMID.21214954\n",
       "UNC_HS_Red17_BMC.Med.Genomics.2011_PMID.21214954  UNC_HS_Red17_BMC.Med.Genomics.2011_PMID.21214954 \n",
       "Claudin_Low_Genome.Biol.2007_PMID.17493263        Claudin_Low_Genome.Biol.2007_PMID.17493263       \n",
       "                                                  GeneRatio BgRatio  \n",
       "GATA3.induced.genes_JCO.2006_PMID.16505416        53/515    277/19982\n",
       "Stromal_Down_Nat.Med.2009_PMID.19648928           46/515    347/19982\n",
       "MITO1_BMC.Med.Genomics.2011_PMID.21214954         16/515    38/19982 \n",
       "UNC_MM_Green9_BMC.Med.Genomics.2011_PMID.21214954 37/515    356/19982\n",
       "UNC_HS_Red17_BMC.Med.Genomics.2011_PMID.21214954  35/515    335/19982\n",
       "Claudin_Low_Genome.Biol.2007_PMID.17493263        29/515    244/19982\n",
       "                                                  pvalue       p.adjust    \n",
       "GATA3.induced.genes_JCO.2006_PMID.16505416        7.546456e-31 2.686538e-28\n",
       "Stromal_Down_Nat.Med.2009_PMID.19648928           5.404606e-20 9.620199e-18\n",
       "MITO1_BMC.Med.Genomics.2011_PMID.21214954         3.970747e-16 4.711954e-14\n",
       "UNC_MM_Green9_BMC.Med.Genomics.2011_PMID.21214954 6.146245e-13 5.470158e-11\n",
       "UNC_HS_Red17_BMC.Med.Genomics.2011_PMID.21214954  2.271604e-12 1.617382e-10\n",
       "Claudin_Low_Genome.Biol.2007_PMID.17493263        7.760136e-12 4.604347e-10\n",
       "                                                  qvalue      \n",
       "GATA3.induced.genes_JCO.2006_PMID.16505416        1.898530e-28\n",
       "Stromal_Down_Nat.Med.2009_PMID.19648928           6.798426e-18\n",
       "MITO1_BMC.Med.Genomics.2011_PMID.21214954         3.329855e-14\n",
       "UNC_MM_Green9_BMC.Med.Genomics.2011_PMID.21214954 3.865665e-11\n",
       "UNC_HS_Red17_BMC.Med.Genomics.2011_PMID.21214954  1.142975e-10\n",
       "Claudin_Low_Genome.Biol.2007_PMID.17493263        3.253811e-10\n",
       "                                                  geneID                                                                                                                                                                                                                                                                                                                         \n",
       "GATA3.induced.genes_JCO.2006_PMID.16505416        S100A6/CD9/KRT7/KRT8/KRT18/KRT19/CD24/S100A14/TACSTD2/S100A16/DSTN/TM4SF1/SPINT2/VAMP8/S100A9/MGST1/ATP1B1/S100A11/LMNA/ELF3/CLDN4/FXYD3/CALM1/CLDN7/RAC1/EIF6/LYPD3/KCNMA1/KRT15/SQOR/JUP/MAL2/HSPB1/EPCAM/TC2N/TSPAN15/MYOF/S100A4/GATA3/OCIAD2/ADIRF/RER1/FOXA1/MRPL13/RBM47/MLPH/ISG20/DUSP23/MGLL/CSRP1/NDUFB9/SPINT1/MALL\n",
       "Stromal_Down_Nat.Med.2009_PMID.19648928           CD9/KRT7/KRT8/ACTG1/S100A14/TACSTD2/PERP/SPINT2/VAMP8/TSPO/MYH9/PPP1R14B/DSC2/EZR/TPM1/CLDN7/ACTN1/LAMB3/SDC4/ANXA3/VWA1/ITGA2/ACTN4/PDLIM5/JUP/MAL2/EPCAM/DSP/GATA3/OCIAD2/FAM173A/PLPP2/STC2/MPHOSPH6/SERINC2/TUBA4A/CD151/DUSP23/WWC1/CDH1/DSG2/CA2/SPINT1/SFN/TFAP2A/CDCP1                                                 \n",
       "MITO1_BMC.Med.Genomics.2011_PMID.21214954         COX6A1/COX7A2/COX7C/COX5B/TMA7/NDUFB2/DYNLL1/UQCR11/LSM5/COX8A/TIMM8B/TRMT112/SEM1/UQCRQ/COX17/NDUFC1                                                                                                                                                                                                                          \n",
       "UNC_MM_Green9_BMC.Med.Genomics.2011_PMID.21214954 KRT7/KRT18/KRT19/WFDC2/TACSTD2/PERP/S100A16/SPINT2/MGST1/ATP1B1/ELF3/CLDN4/EZR/CLDN7/TALDO1/LYPD3/ITGB6/MAL2/EPCAM/DSP/EPPK1/LCN2/GATA3/CRYBG1/BAMBI/DBI/SERINC2/RBM47/LTF/MLPH/GABRP/WWC1/CDH1/SPINT1/SFN/NME3/MALL                                                                                                           \n",
       "UNC_HS_Red17_BMC.Med.Genomics.2011_PMID.21214954  ACTB/VAMP8/TPM4/ENO1/EZR/PSMD8/RHOC/YWHAH/RHOA/TKT/FKBP1A/ARPC1A/ITGB6/BSG/SYPL1/WDR1/PLEC/HSPA8/PLPP2/SELENOT/VDAC1/TMEM14B/TMOD3/JUND/KDELR1/DRAP1/ARPC4/CDH1/CYBA/MRPS15/MGAT4B/CTSD/TBL1XR1/CAPN1/ARHGDIA                                                                                                                  \n",
       "Claudin_Low_Genome.Biol.2007_PMID.17493263        AZGP1/CD9/KRT18/KRT19/S100A14/TACSTD2/PERP/SPINT2/ELF3/CLDN4/FXYD3/CLDN7/CTTN/MUC1/MAL2/EPCAM/DSP/MIF/EPPK1/METRN/GOLM1/GATA3/FOXA1/SERINC2/H1F0/WWC1/CDH1/SPINT1/PAFAH1B3                                                                                                                                                     \n",
       "                                                  Count\n",
       "GATA3.induced.genes_JCO.2006_PMID.16505416        53   \n",
       "Stromal_Down_Nat.Med.2009_PMID.19648928           46   \n",
       "MITO1_BMC.Med.Genomics.2011_PMID.21214954         16   \n",
       "UNC_MM_Green9_BMC.Med.Genomics.2011_PMID.21214954 37   \n",
       "UNC_HS_Red17_BMC.Med.Genomics.2011_PMID.21214954  35   \n",
       "Claudin_Low_Genome.Biol.2007_PMID.17493263        29   "
      ]
     },
     "metadata": {},
     "output_type": "display_data"
    },
    {
     "data": {
      "text/html": [
       "<style>\n",
       ".list-inline {list-style: none; margin:0; padding: 0}\n",
       ".list-inline>li {display: inline-block}\n",
       ".list-inline>li:not(:last-child)::after {content: \"\\00b7\"; padding: 0 .5ex}\n",
       "</style>\n",
       "<ol class=list-inline><li>94</li><li>9</li></ol>\n"
      ],
      "text/latex": [
       "\\begin{enumerate*}\n",
       "\\item 94\n",
       "\\item 9\n",
       "\\end{enumerate*}\n"
      ],
      "text/markdown": [
       "1. 94\n",
       "2. 9\n",
       "\n",
       "\n"
      ],
      "text/plain": [
       "[1] 94  9"
      ]
     },
     "metadata": {},
     "output_type": "display_data"
    },
    {
     "data": {
      "text/html": [
       "filename_xlsx: xlsx/normal-breast-pairs_control_vs_tamoxifen_LEp_prog.xlsx\n"
      ]
     },
     "metadata": {},
     "output_type": "display_data"
    },
    {
     "data": {
      "text/html": [
       "filename_figure: heatmap_normal-breast-pairs_control_vs_tamoxifen_LEp_prog_no_down_mcf7.e2.induced.genes_zscore\n"
      ]
     },
     "metadata": {},
     "output_type": "display_data"
    },
    {
     "data": {
      "text/html": [
       "<hr style=\"height:2px\">"
      ]
     },
     "metadata": {},
     "output_type": "display_data"
    },
    {
     "data": {
      "text/html": [
       "LEp"
      ]
     },
     "metadata": {},
     "output_type": "display_data"
    },
    {
     "data": {
      "text/html": [
       "&nbsp;&nbsp;&nbsp;&nbsp;assay=integrated, slot=data<br>"
      ]
     },
     "metadata": {},
     "output_type": "display_data"
    },
    {
     "data": {
      "text/html": [
       "&nbsp;&nbsp;&nbsp;&nbsp;tamoxifen LEp n_idx1: 1057, samples: Normal_01_Tamoxifen, Normal_02_Tamoxifen<br>"
      ]
     },
     "metadata": {},
     "output_type": "display_data"
    },
    {
     "data": {
      "text/html": [
       "&nbsp;&nbsp;&nbsp;&nbsp;control LEp n_idx_ref: 1362, samples: Normal_01_Control, Normal_02_Control<br>"
      ]
     },
     "metadata": {},
     "output_type": "display_data"
    },
    {
     "data": {
      "text/html": [
       "df_up"
      ]
     },
     "metadata": {},
     "output_type": "display_data"
    },
    {
     "data": {
      "text/html": [
       "<table class=\"dataframe\">\n",
       "<caption>A data.frame: 6 × 8</caption>\n",
       "<thead>\n",
       "\t<tr><th></th><th scope=col>p_val</th><th scope=col>avg_log2FC</th><th scope=col>pct.1</th><th scope=col>pct.2</th><th scope=col>p_val_adj</th><th scope=col>expr_min</th><th scope=col>expr_mean</th><th scope=col>expr_max</th></tr>\n",
       "\t<tr><th></th><th scope=col>&lt;dbl&gt;</th><th scope=col>&lt;dbl&gt;</th><th scope=col>&lt;dbl&gt;</th><th scope=col>&lt;dbl&gt;</th><th scope=col>&lt;dbl&gt;</th><th scope=col>&lt;dbl&gt;</th><th scope=col>&lt;dbl&gt;</th><th scope=col>&lt;dbl&gt;</th></tr>\n",
       "</thead>\n",
       "<tbody>\n",
       "\t<tr><th scope=row>DDIT3</th><td>7.061882e-35</td><td>0.5907359</td><td>0.669</td><td>0.425</td><td>1.672607e-30</td><td> 0.0000000</td><td>0.8722920</td><td>3.329083</td></tr>\n",
       "\t<tr><th scope=row>DNAJB9</th><td>2.292854e-32</td><td>0.5541897</td><td>0.671</td><td>0.465</td><td>5.430625e-28</td><td> 0.0000000</td><td>0.8130779</td><td>3.903489</td></tr>\n",
       "\t<tr><th scope=row>SELENOK</th><td>1.159287e-29</td><td>0.4980851</td><td>0.932</td><td>0.816</td><td>2.745772e-25</td><td> 0.0000000</td><td>1.8370908</td><td>4.010892</td></tr>\n",
       "\t<tr><th scope=row>MT1G</th><td>1.450247e-29</td><td>0.7427145</td><td>0.270</td><td>0.073</td><td>3.434911e-25</td><td>-0.7889508</td><td>0.2272695</td><td>5.378685</td></tr>\n",
       "\t<tr><th scope=row>ATF3</th><td>3.350047e-29</td><td>0.5636712</td><td>0.737</td><td>0.504</td><td>7.934587e-25</td><td> 0.0000000</td><td>1.3009802</td><td>5.255027</td></tr>\n",
       "\t<tr><th scope=row>NFIL3</th><td>3.825672e-25</td><td>0.5267154</td><td>0.653</td><td>0.452</td><td>9.061103e-21</td><td> 0.0000000</td><td>0.7439943</td><td>3.259615</td></tr>\n",
       "</tbody>\n",
       "</table>\n"
      ],
      "text/latex": [
       "A data.frame: 6 × 8\n",
       "\\begin{tabular}{r|llllllll}\n",
       "  & p\\_val & avg\\_log2FC & pct.1 & pct.2 & p\\_val\\_adj & expr\\_min & expr\\_mean & expr\\_max\\\\\n",
       "  & <dbl> & <dbl> & <dbl> & <dbl> & <dbl> & <dbl> & <dbl> & <dbl>\\\\\n",
       "\\hline\n",
       "\tDDIT3 & 7.061882e-35 & 0.5907359 & 0.669 & 0.425 & 1.672607e-30 &  0.0000000 & 0.8722920 & 3.329083\\\\\n",
       "\tDNAJB9 & 2.292854e-32 & 0.5541897 & 0.671 & 0.465 & 5.430625e-28 &  0.0000000 & 0.8130779 & 3.903489\\\\\n",
       "\tSELENOK & 1.159287e-29 & 0.4980851 & 0.932 & 0.816 & 2.745772e-25 &  0.0000000 & 1.8370908 & 4.010892\\\\\n",
       "\tMT1G & 1.450247e-29 & 0.7427145 & 0.270 & 0.073 & 3.434911e-25 & -0.7889508 & 0.2272695 & 5.378685\\\\\n",
       "\tATF3 & 3.350047e-29 & 0.5636712 & 0.737 & 0.504 & 7.934587e-25 &  0.0000000 & 1.3009802 & 5.255027\\\\\n",
       "\tNFIL3 & 3.825672e-25 & 0.5267154 & 0.653 & 0.452 & 9.061103e-21 &  0.0000000 & 0.7439943 & 3.259615\\\\\n",
       "\\end{tabular}\n"
      ],
      "text/markdown": [
       "\n",
       "A data.frame: 6 × 8\n",
       "\n",
       "| <!--/--> | p_val &lt;dbl&gt; | avg_log2FC &lt;dbl&gt; | pct.1 &lt;dbl&gt; | pct.2 &lt;dbl&gt; | p_val_adj &lt;dbl&gt; | expr_min &lt;dbl&gt; | expr_mean &lt;dbl&gt; | expr_max &lt;dbl&gt; |\n",
       "|---|---|---|---|---|---|---|---|---|\n",
       "| DDIT3 | 7.061882e-35 | 0.5907359 | 0.669 | 0.425 | 1.672607e-30 |  0.0000000 | 0.8722920 | 3.329083 |\n",
       "| DNAJB9 | 2.292854e-32 | 0.5541897 | 0.671 | 0.465 | 5.430625e-28 |  0.0000000 | 0.8130779 | 3.903489 |\n",
       "| SELENOK | 1.159287e-29 | 0.4980851 | 0.932 | 0.816 | 2.745772e-25 |  0.0000000 | 1.8370908 | 4.010892 |\n",
       "| MT1G | 1.450247e-29 | 0.7427145 | 0.270 | 0.073 | 3.434911e-25 | -0.7889508 | 0.2272695 | 5.378685 |\n",
       "| ATF3 | 3.350047e-29 | 0.5636712 | 0.737 | 0.504 | 7.934587e-25 |  0.0000000 | 1.3009802 | 5.255027 |\n",
       "| NFIL3 | 3.825672e-25 | 0.5267154 | 0.653 | 0.452 | 9.061103e-21 |  0.0000000 | 0.7439943 | 3.259615 |\n",
       "\n"
      ],
      "text/plain": [
       "        p_val        avg_log2FC pct.1 pct.2 p_val_adj    expr_min   expr_mean\n",
       "DDIT3   7.061882e-35 0.5907359  0.669 0.425 1.672607e-30  0.0000000 0.8722920\n",
       "DNAJB9  2.292854e-32 0.5541897  0.671 0.465 5.430625e-28  0.0000000 0.8130779\n",
       "SELENOK 1.159287e-29 0.4980851  0.932 0.816 2.745772e-25  0.0000000 1.8370908\n",
       "MT1G    1.450247e-29 0.7427145  0.270 0.073 3.434911e-25 -0.7889508 0.2272695\n",
       "ATF3    3.350047e-29 0.5636712  0.737 0.504 7.934587e-25  0.0000000 1.3009802\n",
       "NFIL3   3.825672e-25 0.5267154  0.653 0.452 9.061103e-21  0.0000000 0.7439943\n",
       "        expr_max\n",
       "DDIT3   3.329083\n",
       "DNAJB9  3.903489\n",
       "SELENOK 4.010892\n",
       "MT1G    5.378685\n",
       "ATF3    5.255027\n",
       "NFIL3   3.259615"
      ]
     },
     "metadata": {},
     "output_type": "display_data"
    },
    {
     "data": {
      "text/html": [
       "<style>\n",
       ".list-inline {list-style: none; margin:0; padding: 0}\n",
       ".list-inline>li {display: inline-block}\n",
       ".list-inline>li:not(:last-child)::after {content: \"\\00b7\"; padding: 0 .5ex}\n",
       "</style>\n",
       "<ol class=list-inline><li>91</li><li>8</li></ol>\n"
      ],
      "text/latex": [
       "\\begin{enumerate*}\n",
       "\\item 91\n",
       "\\item 8\n",
       "\\end{enumerate*}\n"
      ],
      "text/markdown": [
       "1. 91\n",
       "2. 8\n",
       "\n",
       "\n"
      ],
      "text/plain": [
       "[1] 91  8"
      ]
     },
     "metadata": {},
     "output_type": "display_data"
    },
    {
     "data": {
      "text/html": [
       "df_dn"
      ]
     },
     "metadata": {},
     "output_type": "display_data"
    },
    {
     "data": {
      "text/html": [
       "<table class=\"dataframe\">\n",
       "<caption>A data.frame: 6 × 8</caption>\n",
       "<thead>\n",
       "\t<tr><th></th><th scope=col>p_val</th><th scope=col>avg_log2FC</th><th scope=col>pct.1</th><th scope=col>pct.2</th><th scope=col>p_val_adj</th><th scope=col>expr_min</th><th scope=col>expr_mean</th><th scope=col>expr_max</th></tr>\n",
       "\t<tr><th></th><th scope=col>&lt;dbl&gt;</th><th scope=col>&lt;dbl&gt;</th><th scope=col>&lt;dbl&gt;</th><th scope=col>&lt;dbl&gt;</th><th scope=col>&lt;dbl&gt;</th><th scope=col>&lt;dbl&gt;</th><th scope=col>&lt;dbl&gt;</th><th scope=col>&lt;dbl&gt;</th></tr>\n",
       "</thead>\n",
       "<tbody>\n",
       "\t<tr><th scope=row>KRT19</th><td>1.180235e-40</td><td>-0.3867610</td><td>0.803</td><td>0.949</td><td>2.795387e-36</td><td>-0.8857302</td><td>1.8290757</td><td>5.404732</td></tr>\n",
       "\t<tr><th scope=row>ACTB</th><td>1.536593e-40</td><td>-0.4085812</td><td>0.977</td><td>0.988</td><td>3.639420e-36</td><td> 0.0000000</td><td>2.8159609</td><td>5.806842</td></tr>\n",
       "\t<tr><th scope=row>TACSTD2</th><td>3.177478e-35</td><td>-0.4555147</td><td>0.816</td><td>0.913</td><td>7.525856e-31</td><td>-0.1339508</td><td>1.7741924</td><td>4.885132</td></tr>\n",
       "\t<tr><th scope=row>TGM2</th><td>1.810059e-34</td><td>-0.5656624</td><td>0.387</td><td>0.628</td><td>4.287125e-30</td><td> 0.0000000</td><td>0.5104940</td><td>3.329244</td></tr>\n",
       "\t<tr><th scope=row>WFDC2</th><td>2.003432e-34</td><td>-0.3797320</td><td>0.780</td><td>0.913</td><td>4.745128e-30</td><td>-0.6975311</td><td>1.3679869</td><td>4.300373</td></tr>\n",
       "\t<tr><th scope=row>S100A9</th><td>3.596539e-33</td><td>-0.4938688</td><td>0.206</td><td>0.457</td><td>8.518402e-29</td><td>-0.4875647</td><td>0.1985339</td><td>5.010577</td></tr>\n",
       "</tbody>\n",
       "</table>\n"
      ],
      "text/latex": [
       "A data.frame: 6 × 8\n",
       "\\begin{tabular}{r|llllllll}\n",
       "  & p\\_val & avg\\_log2FC & pct.1 & pct.2 & p\\_val\\_adj & expr\\_min & expr\\_mean & expr\\_max\\\\\n",
       "  & <dbl> & <dbl> & <dbl> & <dbl> & <dbl> & <dbl> & <dbl> & <dbl>\\\\\n",
       "\\hline\n",
       "\tKRT19 & 1.180235e-40 & -0.3867610 & 0.803 & 0.949 & 2.795387e-36 & -0.8857302 & 1.8290757 & 5.404732\\\\\n",
       "\tACTB & 1.536593e-40 & -0.4085812 & 0.977 & 0.988 & 3.639420e-36 &  0.0000000 & 2.8159609 & 5.806842\\\\\n",
       "\tTACSTD2 & 3.177478e-35 & -0.4555147 & 0.816 & 0.913 & 7.525856e-31 & -0.1339508 & 1.7741924 & 4.885132\\\\\n",
       "\tTGM2 & 1.810059e-34 & -0.5656624 & 0.387 & 0.628 & 4.287125e-30 &  0.0000000 & 0.5104940 & 3.329244\\\\\n",
       "\tWFDC2 & 2.003432e-34 & -0.3797320 & 0.780 & 0.913 & 4.745128e-30 & -0.6975311 & 1.3679869 & 4.300373\\\\\n",
       "\tS100A9 & 3.596539e-33 & -0.4938688 & 0.206 & 0.457 & 8.518402e-29 & -0.4875647 & 0.1985339 & 5.010577\\\\\n",
       "\\end{tabular}\n"
      ],
      "text/markdown": [
       "\n",
       "A data.frame: 6 × 8\n",
       "\n",
       "| <!--/--> | p_val &lt;dbl&gt; | avg_log2FC &lt;dbl&gt; | pct.1 &lt;dbl&gt; | pct.2 &lt;dbl&gt; | p_val_adj &lt;dbl&gt; | expr_min &lt;dbl&gt; | expr_mean &lt;dbl&gt; | expr_max &lt;dbl&gt; |\n",
       "|---|---|---|---|---|---|---|---|---|\n",
       "| KRT19 | 1.180235e-40 | -0.3867610 | 0.803 | 0.949 | 2.795387e-36 | -0.8857302 | 1.8290757 | 5.404732 |\n",
       "| ACTB | 1.536593e-40 | -0.4085812 | 0.977 | 0.988 | 3.639420e-36 |  0.0000000 | 2.8159609 | 5.806842 |\n",
       "| TACSTD2 | 3.177478e-35 | -0.4555147 | 0.816 | 0.913 | 7.525856e-31 | -0.1339508 | 1.7741924 | 4.885132 |\n",
       "| TGM2 | 1.810059e-34 | -0.5656624 | 0.387 | 0.628 | 4.287125e-30 |  0.0000000 | 0.5104940 | 3.329244 |\n",
       "| WFDC2 | 2.003432e-34 | -0.3797320 | 0.780 | 0.913 | 4.745128e-30 | -0.6975311 | 1.3679869 | 4.300373 |\n",
       "| S100A9 | 3.596539e-33 | -0.4938688 | 0.206 | 0.457 | 8.518402e-29 | -0.4875647 | 0.1985339 | 5.010577 |\n",
       "\n"
      ],
      "text/plain": [
       "        p_val        avg_log2FC pct.1 pct.2 p_val_adj    expr_min   expr_mean\n",
       "KRT19   1.180235e-40 -0.3867610 0.803 0.949 2.795387e-36 -0.8857302 1.8290757\n",
       "ACTB    1.536593e-40 -0.4085812 0.977 0.988 3.639420e-36  0.0000000 2.8159609\n",
       "TACSTD2 3.177478e-35 -0.4555147 0.816 0.913 7.525856e-31 -0.1339508 1.7741924\n",
       "TGM2    1.810059e-34 -0.5656624 0.387 0.628 4.287125e-30  0.0000000 0.5104940\n",
       "WFDC2   2.003432e-34 -0.3797320 0.780 0.913 4.745128e-30 -0.6975311 1.3679869\n",
       "S100A9  3.596539e-33 -0.4938688 0.206 0.457 8.518402e-29 -0.4875647 0.1985339\n",
       "        expr_max\n",
       "KRT19   5.404732\n",
       "ACTB    5.806842\n",
       "TACSTD2 4.885132\n",
       "TGM2    3.329244\n",
       "WFDC2   4.300373\n",
       "S100A9  5.010577"
      ]
     },
     "metadata": {},
     "output_type": "display_data"
    },
    {
     "data": {
      "text/html": [
       "<style>\n",
       ".list-inline {list-style: none; margin:0; padding: 0}\n",
       ".list-inline>li {display: inline-block}\n",
       ".list-inline>li:not(:last-child)::after {content: \"\\00b7\"; padding: 0 .5ex}\n",
       "</style>\n",
       "<ol class=list-inline><li>139</li><li>8</li></ol>\n"
      ],
      "text/latex": [
       "\\begin{enumerate*}\n",
       "\\item 139\n",
       "\\item 8\n",
       "\\end{enumerate*}\n"
      ],
      "text/markdown": [
       "1. 139\n",
       "2. 8\n",
       "\n",
       "\n"
      ],
      "text/plain": [
       "[1] 139   8"
      ]
     },
     "metadata": {},
     "output_type": "display_data"
    },
    {
     "data": {
      "text/html": [
       "<hr style=\"height:1px\">"
      ]
     },
     "metadata": {},
     "output_type": "display_data"
    },
    {
     "data": {
      "text/html": [
       "up h"
      ]
     },
     "metadata": {},
     "output_type": "display_data"
    },
    {
     "data": {
      "text/html": [
       "<table class=\"dataframe\">\n",
       "<caption>A data.frame: 4 × 9</caption>\n",
       "<thead>\n",
       "\t<tr><th></th><th scope=col>ID</th><th scope=col>Description</th><th scope=col>GeneRatio</th><th scope=col>BgRatio</th><th scope=col>pvalue</th><th scope=col>p.adjust</th><th scope=col>qvalue</th><th scope=col>geneID</th><th scope=col>Count</th></tr>\n",
       "\t<tr><th></th><th scope=col>&lt;chr&gt;</th><th scope=col>&lt;chr&gt;</th><th scope=col>&lt;chr&gt;</th><th scope=col>&lt;chr&gt;</th><th scope=col>&lt;dbl&gt;</th><th scope=col>&lt;dbl&gt;</th><th scope=col>&lt;dbl&gt;</th><th scope=col>&lt;chr&gt;</th><th scope=col>&lt;int&gt;</th></tr>\n",
       "</thead>\n",
       "<tbody>\n",
       "\t<tr><th scope=row>HALLMARK_TNFA_SIGNALING_VIA_NFKB</th><td>HALLMARK_TNFA_SIGNALING_VIA_NFKB  </td><td>HALLMARK_TNFA_SIGNALING_VIA_NFKB  </td><td>17/48</td><td>200/4386</td><td>9.902640e-12</td><td>3.366898e-10</td><td>2.710196e-10</td><td>ATF3/NFIL3/DUSP5/ZBTB10/KDM6B/PNRC1/REL/CCNL1/TNF/NFKBIA/PPP1R15A/GADD45A/AREG/BHLHE40/BTG1/EGR1/FOSB</td><td>17</td></tr>\n",
       "\t<tr><th scope=row>HALLMARK_HYPOXIA</th><td>HALLMARK_HYPOXIA                  </td><td>HALLMARK_HYPOXIA                  </td><td>13/48</td><td>200/4386</td><td>1.177233e-07</td><td>2.001295e-06</td><td>1.610950e-06</td><td>DDIT3/ATF3/NFIL3/HSPA5/MT1E/PNRC1/STC1/NEDD4L/ZNF292/PPP1R15A/BHLHE40/BTG1/MT2A                      </td><td>13</td></tr>\n",
       "\t<tr><th scope=row>HALLMARK_MTORC1_SIGNALING</th><td>HALLMARK_MTORC1_SIGNALING         </td><td>HALLMARK_MTORC1_SIGNALING         </td><td>11/48</td><td>200/4386</td><td>6.892744e-06</td><td>7.811776e-05</td><td>6.288117e-05</td><td>DDIT3/NFIL3/HSP90B1/HSPA5/IFRD1/SERP1/STC1/HMGCS1/PPP1R15A/NFKBIB/BHLHE40                            </td><td>11</td></tr>\n",
       "\t<tr><th scope=row>HALLMARK_UNFOLDED_PROTEIN_RESPONSE</th><td>HALLMARK_UNFOLDED_PROTEIN_RESPONSE</td><td>HALLMARK_UNFOLDED_PROTEIN_RESPONSE</td><td>7/48 </td><td>113/4386</td><td>1.922879e-04</td><td>1.634447e-03</td><td>1.315654e-03</td><td>DNAJB9/ATF3/HSP90B1/HSPA5/SERP1/HERPUD1/EIF4A2                                                       </td><td> 7</td></tr>\n",
       "</tbody>\n",
       "</table>\n"
      ],
      "text/latex": [
       "A data.frame: 4 × 9\n",
       "\\begin{tabular}{r|lllllllll}\n",
       "  & ID & Description & GeneRatio & BgRatio & pvalue & p.adjust & qvalue & geneID & Count\\\\\n",
       "  & <chr> & <chr> & <chr> & <chr> & <dbl> & <dbl> & <dbl> & <chr> & <int>\\\\\n",
       "\\hline\n",
       "\tHALLMARK\\_TNFA\\_SIGNALING\\_VIA\\_NFKB & HALLMARK\\_TNFA\\_SIGNALING\\_VIA\\_NFKB   & HALLMARK\\_TNFA\\_SIGNALING\\_VIA\\_NFKB   & 17/48 & 200/4386 & 9.902640e-12 & 3.366898e-10 & 2.710196e-10 & ATF3/NFIL3/DUSP5/ZBTB10/KDM6B/PNRC1/REL/CCNL1/TNF/NFKBIA/PPP1R15A/GADD45A/AREG/BHLHE40/BTG1/EGR1/FOSB & 17\\\\\n",
       "\tHALLMARK\\_HYPOXIA & HALLMARK\\_HYPOXIA                   & HALLMARK\\_HYPOXIA                   & 13/48 & 200/4386 & 1.177233e-07 & 2.001295e-06 & 1.610950e-06 & DDIT3/ATF3/NFIL3/HSPA5/MT1E/PNRC1/STC1/NEDD4L/ZNF292/PPP1R15A/BHLHE40/BTG1/MT2A                       & 13\\\\\n",
       "\tHALLMARK\\_MTORC1\\_SIGNALING & HALLMARK\\_MTORC1\\_SIGNALING          & HALLMARK\\_MTORC1\\_SIGNALING          & 11/48 & 200/4386 & 6.892744e-06 & 7.811776e-05 & 6.288117e-05 & DDIT3/NFIL3/HSP90B1/HSPA5/IFRD1/SERP1/STC1/HMGCS1/PPP1R15A/NFKBIB/BHLHE40                             & 11\\\\\n",
       "\tHALLMARK\\_UNFOLDED\\_PROTEIN\\_RESPONSE & HALLMARK\\_UNFOLDED\\_PROTEIN\\_RESPONSE & HALLMARK\\_UNFOLDED\\_PROTEIN\\_RESPONSE & 7/48  & 113/4386 & 1.922879e-04 & 1.634447e-03 & 1.315654e-03 & DNAJB9/ATF3/HSP90B1/HSPA5/SERP1/HERPUD1/EIF4A2                                                        &  7\\\\\n",
       "\\end{tabular}\n"
      ],
      "text/markdown": [
       "\n",
       "A data.frame: 4 × 9\n",
       "\n",
       "| <!--/--> | ID &lt;chr&gt; | Description &lt;chr&gt; | GeneRatio &lt;chr&gt; | BgRatio &lt;chr&gt; | pvalue &lt;dbl&gt; | p.adjust &lt;dbl&gt; | qvalue &lt;dbl&gt; | geneID &lt;chr&gt; | Count &lt;int&gt; |\n",
       "|---|---|---|---|---|---|---|---|---|---|\n",
       "| HALLMARK_TNFA_SIGNALING_VIA_NFKB | HALLMARK_TNFA_SIGNALING_VIA_NFKB   | HALLMARK_TNFA_SIGNALING_VIA_NFKB   | 17/48 | 200/4386 | 9.902640e-12 | 3.366898e-10 | 2.710196e-10 | ATF3/NFIL3/DUSP5/ZBTB10/KDM6B/PNRC1/REL/CCNL1/TNF/NFKBIA/PPP1R15A/GADD45A/AREG/BHLHE40/BTG1/EGR1/FOSB | 17 |\n",
       "| HALLMARK_HYPOXIA | HALLMARK_HYPOXIA                   | HALLMARK_HYPOXIA                   | 13/48 | 200/4386 | 1.177233e-07 | 2.001295e-06 | 1.610950e-06 | DDIT3/ATF3/NFIL3/HSPA5/MT1E/PNRC1/STC1/NEDD4L/ZNF292/PPP1R15A/BHLHE40/BTG1/MT2A                       | 13 |\n",
       "| HALLMARK_MTORC1_SIGNALING | HALLMARK_MTORC1_SIGNALING          | HALLMARK_MTORC1_SIGNALING          | 11/48 | 200/4386 | 6.892744e-06 | 7.811776e-05 | 6.288117e-05 | DDIT3/NFIL3/HSP90B1/HSPA5/IFRD1/SERP1/STC1/HMGCS1/PPP1R15A/NFKBIB/BHLHE40                             | 11 |\n",
       "| HALLMARK_UNFOLDED_PROTEIN_RESPONSE | HALLMARK_UNFOLDED_PROTEIN_RESPONSE | HALLMARK_UNFOLDED_PROTEIN_RESPONSE | 7/48  | 113/4386 | 1.922879e-04 | 1.634447e-03 | 1.315654e-03 | DNAJB9/ATF3/HSP90B1/HSPA5/SERP1/HERPUD1/EIF4A2                                                        |  7 |\n",
       "\n"
      ],
      "text/plain": [
       "                                   ID                                \n",
       "HALLMARK_TNFA_SIGNALING_VIA_NFKB   HALLMARK_TNFA_SIGNALING_VIA_NFKB  \n",
       "HALLMARK_HYPOXIA                   HALLMARK_HYPOXIA                  \n",
       "HALLMARK_MTORC1_SIGNALING          HALLMARK_MTORC1_SIGNALING         \n",
       "HALLMARK_UNFOLDED_PROTEIN_RESPONSE HALLMARK_UNFOLDED_PROTEIN_RESPONSE\n",
       "                                   Description                        GeneRatio\n",
       "HALLMARK_TNFA_SIGNALING_VIA_NFKB   HALLMARK_TNFA_SIGNALING_VIA_NFKB   17/48    \n",
       "HALLMARK_HYPOXIA                   HALLMARK_HYPOXIA                   13/48    \n",
       "HALLMARK_MTORC1_SIGNALING          HALLMARK_MTORC1_SIGNALING          11/48    \n",
       "HALLMARK_UNFOLDED_PROTEIN_RESPONSE HALLMARK_UNFOLDED_PROTEIN_RESPONSE 7/48     \n",
       "                                   BgRatio  pvalue       p.adjust    \n",
       "HALLMARK_TNFA_SIGNALING_VIA_NFKB   200/4386 9.902640e-12 3.366898e-10\n",
       "HALLMARK_HYPOXIA                   200/4386 1.177233e-07 2.001295e-06\n",
       "HALLMARK_MTORC1_SIGNALING          200/4386 6.892744e-06 7.811776e-05\n",
       "HALLMARK_UNFOLDED_PROTEIN_RESPONSE 113/4386 1.922879e-04 1.634447e-03\n",
       "                                   qvalue      \n",
       "HALLMARK_TNFA_SIGNALING_VIA_NFKB   2.710196e-10\n",
       "HALLMARK_HYPOXIA                   1.610950e-06\n",
       "HALLMARK_MTORC1_SIGNALING          6.288117e-05\n",
       "HALLMARK_UNFOLDED_PROTEIN_RESPONSE 1.315654e-03\n",
       "                                   geneID                                                                                               \n",
       "HALLMARK_TNFA_SIGNALING_VIA_NFKB   ATF3/NFIL3/DUSP5/ZBTB10/KDM6B/PNRC1/REL/CCNL1/TNF/NFKBIA/PPP1R15A/GADD45A/AREG/BHLHE40/BTG1/EGR1/FOSB\n",
       "HALLMARK_HYPOXIA                   DDIT3/ATF3/NFIL3/HSPA5/MT1E/PNRC1/STC1/NEDD4L/ZNF292/PPP1R15A/BHLHE40/BTG1/MT2A                      \n",
       "HALLMARK_MTORC1_SIGNALING          DDIT3/NFIL3/HSP90B1/HSPA5/IFRD1/SERP1/STC1/HMGCS1/PPP1R15A/NFKBIB/BHLHE40                            \n",
       "HALLMARK_UNFOLDED_PROTEIN_RESPONSE DNAJB9/ATF3/HSP90B1/HSPA5/SERP1/HERPUD1/EIF4A2                                                       \n",
       "                                   Count\n",
       "HALLMARK_TNFA_SIGNALING_VIA_NFKB   17   \n",
       "HALLMARK_HYPOXIA                   13   \n",
       "HALLMARK_MTORC1_SIGNALING          11   \n",
       "HALLMARK_UNFOLDED_PROTEIN_RESPONSE  7   "
      ]
     },
     "metadata": {},
     "output_type": "display_data"
    },
    {
     "data": {
      "text/html": [
       "<style>\n",
       ".list-inline {list-style: none; margin:0; padding: 0}\n",
       ".list-inline>li {display: inline-block}\n",
       ".list-inline>li:not(:last-child)::after {content: \"\\00b7\"; padding: 0 .5ex}\n",
       "</style>\n",
       "<ol class=list-inline><li>4</li><li>9</li></ol>\n"
      ],
      "text/latex": [
       "\\begin{enumerate*}\n",
       "\\item 4\n",
       "\\item 9\n",
       "\\end{enumerate*}\n"
      ],
      "text/markdown": [
       "1. 4\n",
       "2. 9\n",
       "\n",
       "\n"
      ],
      "text/plain": [
       "[1] 4 9"
      ]
     },
     "metadata": {},
     "output_type": "display_data"
    },
    {
     "data": {
      "text/html": [
       "up unc_lccc"
      ]
     },
     "metadata": {},
     "output_type": "display_data"
    },
    {
     "data": {
      "text/html": [
       "<table class=\"dataframe\">\n",
       "<caption>A data.frame: 6 × 9</caption>\n",
       "<thead>\n",
       "\t<tr><th></th><th scope=col>ID</th><th scope=col>Description</th><th scope=col>GeneRatio</th><th scope=col>BgRatio</th><th scope=col>pvalue</th><th scope=col>p.adjust</th><th scope=col>qvalue</th><th scope=col>geneID</th><th scope=col>Count</th></tr>\n",
       "\t<tr><th></th><th scope=col>&lt;chr&gt;</th><th scope=col>&lt;chr&gt;</th><th scope=col>&lt;chr&gt;</th><th scope=col>&lt;chr&gt;</th><th scope=col>&lt;dbl&gt;</th><th scope=col>&lt;dbl&gt;</th><th scope=col>&lt;dbl&gt;</th><th scope=col>&lt;chr&gt;</th><th scope=col>&lt;int&gt;</th></tr>\n",
       "</thead>\n",
       "<tbody>\n",
       "\t<tr><th scope=row>Tcell_EXH_Memory_CD8_T_cell_a_vs_Naive_CD8_T_cell_Metagene_3_Science.2016_PMID.27789795</th><td>Tcell_EXH_Memory_CD8_T_cell_a_vs_Naive_CD8_T_cell_Metagene_3_Science.2016_PMID.27789795</td><td>Tcell_EXH_Memory_CD8_T_cell_a_vs_Naive_CD8_T_cell_Metagene_3_Science.2016_PMID.27789795</td><td>12/88</td><td>141/19982</td><td>1.231443e-12</td><td>2.265854e-10</td><td>1.736982e-10</td><td>ATF3/NFIL3/IFRD1/DUSP5/ARL5B/KDM6B/REL/TNF/NFKBIA/GADD45A/NFKBIB/FOSB</td><td>12</td></tr>\n",
       "\t<tr><th scope=row>TCGA.BRCA.1198_immune_FOS_JUN_IL6_Cell.2015_PMID.26451490</th><td>TCGA.BRCA.1198_immune_FOS_JUN_IL6_Cell.2015_PMID.26451490                              </td><td>TCGA.BRCA.1198_immune_FOS_JUN_IL6_Cell.2015_PMID.26451490                              </td><td>5/88 </td><td>14/19982 </td><td>2.865048e-09</td><td>2.635844e-07</td><td>2.020613e-07</td><td>ATF3/PPP1R15A/EGR1/FOSB/CSRNP1                                       </td><td> 5</td></tr>\n",
       "\t<tr><th scope=row>GSEA_GP15_EGF_signailng.r=0.936_NAGASHIMA_EGF_SIGNALING_UP</th><td>GSEA_GP15_EGF_signailng.r=0.936_NAGASHIMA_EGF_SIGNALING_UP                             </td><td>GSEA_GP15_EGF_signailng.r=0.936_NAGASHIMA_EGF_SIGNALING_UP                             </td><td>7/88 </td><td>58/19982 </td><td>6.316361e-09</td><td>3.874035e-07</td><td>2.969798e-07</td><td>ATF3/DUSP5/KDM6B/AREG/BHLHE40/EGR1/FOSB                              </td><td> 7</td></tr>\n",
       "\t<tr><th scope=row>MDSC_tumor_MO_Schlecker_J.Immunol.2012_PMID.23152559</th><td>MDSC_tumor_MO_Schlecker_J.Immunol.2012_PMID.23152559                                   </td><td>MDSC_tumor_MO_Schlecker_J.Immunol.2012_PMID.23152559                                   </td><td>8/88 </td><td>129/19982</td><td>1.010911e-07</td><td>4.064300e-06</td><td>3.115654e-06</td><td>DDIT3/ATF3/DUSP5/TNF/PPP1R15A/GADD45A/EGR1/CSRNP1                    </td><td> 8</td></tr>\n",
       "\t<tr><th scope=row>Duke_Module07_glucosedepletion_Mike_PMID.20335537</th><td>Duke_Module07_glucosedepletion_Mike_PMID.20335537                                      </td><td>Duke_Module07_glucosedepletion_Mike_PMID.20335537                                      </td><td>5/88 </td><td>27/19982 </td><td>1.104429e-07</td><td>4.064300e-06</td><td>3.115654e-06</td><td>DNAJB9/IFRD1/HERPUD1/HBP1/MAP1LC3B                                   </td><td> 5</td></tr>\n",
       "\t<tr><th scope=row>UNC_Unknown_6_BMC.Med.Genomics.2011_PMID.21214954</th><td>UNC_Unknown_6_BMC.Med.Genomics.2011_PMID.21214954                                      </td><td>UNC_Unknown_6_BMC.Med.Genomics.2011_PMID.21214954                                      </td><td>6/88 </td><td>55/19982 </td><td>1.496444e-07</td><td>4.589094e-06</td><td>3.517956e-06</td><td>RB1CC1/CCNL1/RBM39/CLK1/RSRC2/PPIG                                   </td><td> 6</td></tr>\n",
       "</tbody>\n",
       "</table>\n"
      ],
      "text/latex": [
       "A data.frame: 6 × 9\n",
       "\\begin{tabular}{r|lllllllll}\n",
       "  & ID & Description & GeneRatio & BgRatio & pvalue & p.adjust & qvalue & geneID & Count\\\\\n",
       "  & <chr> & <chr> & <chr> & <chr> & <dbl> & <dbl> & <dbl> & <chr> & <int>\\\\\n",
       "\\hline\n",
       "\tTcell\\_EXH\\_Memory\\_CD8\\_T\\_cell\\_a\\_vs\\_Naive\\_CD8\\_T\\_cell\\_Metagene\\_3\\_Science.2016\\_PMID.27789795 & Tcell\\_EXH\\_Memory\\_CD8\\_T\\_cell\\_a\\_vs\\_Naive\\_CD8\\_T\\_cell\\_Metagene\\_3\\_Science.2016\\_PMID.27789795 & Tcell\\_EXH\\_Memory\\_CD8\\_T\\_cell\\_a\\_vs\\_Naive\\_CD8\\_T\\_cell\\_Metagene\\_3\\_Science.2016\\_PMID.27789795 & 12/88 & 141/19982 & 1.231443e-12 & 2.265854e-10 & 1.736982e-10 & ATF3/NFIL3/IFRD1/DUSP5/ARL5B/KDM6B/REL/TNF/NFKBIA/GADD45A/NFKBIB/FOSB & 12\\\\\n",
       "\tTCGA.BRCA.1198\\_immune\\_FOS\\_JUN\\_IL6\\_Cell.2015\\_PMID.26451490 & TCGA.BRCA.1198\\_immune\\_FOS\\_JUN\\_IL6\\_Cell.2015\\_PMID.26451490                               & TCGA.BRCA.1198\\_immune\\_FOS\\_JUN\\_IL6\\_Cell.2015\\_PMID.26451490                               & 5/88  & 14/19982  & 2.865048e-09 & 2.635844e-07 & 2.020613e-07 & ATF3/PPP1R15A/EGR1/FOSB/CSRNP1                                        &  5\\\\\n",
       "\tGSEA\\_GP15\\_EGF\\_signailng.r=0.936\\_NAGASHIMA\\_EGF\\_SIGNALING\\_UP & GSEA\\_GP15\\_EGF\\_signailng.r=0.936\\_NAGASHIMA\\_EGF\\_SIGNALING\\_UP                              & GSEA\\_GP15\\_EGF\\_signailng.r=0.936\\_NAGASHIMA\\_EGF\\_SIGNALING\\_UP                              & 7/88  & 58/19982  & 6.316361e-09 & 3.874035e-07 & 2.969798e-07 & ATF3/DUSP5/KDM6B/AREG/BHLHE40/EGR1/FOSB                               &  7\\\\\n",
       "\tMDSC\\_tumor\\_MO\\_Schlecker\\_J.Immunol.2012\\_PMID.23152559 & MDSC\\_tumor\\_MO\\_Schlecker\\_J.Immunol.2012\\_PMID.23152559                                    & MDSC\\_tumor\\_MO\\_Schlecker\\_J.Immunol.2012\\_PMID.23152559                                    & 8/88  & 129/19982 & 1.010911e-07 & 4.064300e-06 & 3.115654e-06 & DDIT3/ATF3/DUSP5/TNF/PPP1R15A/GADD45A/EGR1/CSRNP1                     &  8\\\\\n",
       "\tDuke\\_Module07\\_glucosedepletion\\_Mike\\_PMID.20335537 & Duke\\_Module07\\_glucosedepletion\\_Mike\\_PMID.20335537                                       & Duke\\_Module07\\_glucosedepletion\\_Mike\\_PMID.20335537                                       & 5/88  & 27/19982  & 1.104429e-07 & 4.064300e-06 & 3.115654e-06 & DNAJB9/IFRD1/HERPUD1/HBP1/MAP1LC3B                                    &  5\\\\\n",
       "\tUNC\\_Unknown\\_6\\_BMC.Med.Genomics.2011\\_PMID.21214954 & UNC\\_Unknown\\_6\\_BMC.Med.Genomics.2011\\_PMID.21214954                                       & UNC\\_Unknown\\_6\\_BMC.Med.Genomics.2011\\_PMID.21214954                                       & 6/88  & 55/19982  & 1.496444e-07 & 4.589094e-06 & 3.517956e-06 & RB1CC1/CCNL1/RBM39/CLK1/RSRC2/PPIG                                    &  6\\\\\n",
       "\\end{tabular}\n"
      ],
      "text/markdown": [
       "\n",
       "A data.frame: 6 × 9\n",
       "\n",
       "| <!--/--> | ID &lt;chr&gt; | Description &lt;chr&gt; | GeneRatio &lt;chr&gt; | BgRatio &lt;chr&gt; | pvalue &lt;dbl&gt; | p.adjust &lt;dbl&gt; | qvalue &lt;dbl&gt; | geneID &lt;chr&gt; | Count &lt;int&gt; |\n",
       "|---|---|---|---|---|---|---|---|---|---|\n",
       "| Tcell_EXH_Memory_CD8_T_cell_a_vs_Naive_CD8_T_cell_Metagene_3_Science.2016_PMID.27789795 | Tcell_EXH_Memory_CD8_T_cell_a_vs_Naive_CD8_T_cell_Metagene_3_Science.2016_PMID.27789795 | Tcell_EXH_Memory_CD8_T_cell_a_vs_Naive_CD8_T_cell_Metagene_3_Science.2016_PMID.27789795 | 12/88 | 141/19982 | 1.231443e-12 | 2.265854e-10 | 1.736982e-10 | ATF3/NFIL3/IFRD1/DUSP5/ARL5B/KDM6B/REL/TNF/NFKBIA/GADD45A/NFKBIB/FOSB | 12 |\n",
       "| TCGA.BRCA.1198_immune_FOS_JUN_IL6_Cell.2015_PMID.26451490 | TCGA.BRCA.1198_immune_FOS_JUN_IL6_Cell.2015_PMID.26451490                               | TCGA.BRCA.1198_immune_FOS_JUN_IL6_Cell.2015_PMID.26451490                               | 5/88  | 14/19982  | 2.865048e-09 | 2.635844e-07 | 2.020613e-07 | ATF3/PPP1R15A/EGR1/FOSB/CSRNP1                                        |  5 |\n",
       "| GSEA_GP15_EGF_signailng.r=0.936_NAGASHIMA_EGF_SIGNALING_UP | GSEA_GP15_EGF_signailng.r=0.936_NAGASHIMA_EGF_SIGNALING_UP                              | GSEA_GP15_EGF_signailng.r=0.936_NAGASHIMA_EGF_SIGNALING_UP                              | 7/88  | 58/19982  | 6.316361e-09 | 3.874035e-07 | 2.969798e-07 | ATF3/DUSP5/KDM6B/AREG/BHLHE40/EGR1/FOSB                               |  7 |\n",
       "| MDSC_tumor_MO_Schlecker_J.Immunol.2012_PMID.23152559 | MDSC_tumor_MO_Schlecker_J.Immunol.2012_PMID.23152559                                    | MDSC_tumor_MO_Schlecker_J.Immunol.2012_PMID.23152559                                    | 8/88  | 129/19982 | 1.010911e-07 | 4.064300e-06 | 3.115654e-06 | DDIT3/ATF3/DUSP5/TNF/PPP1R15A/GADD45A/EGR1/CSRNP1                     |  8 |\n",
       "| Duke_Module07_glucosedepletion_Mike_PMID.20335537 | Duke_Module07_glucosedepletion_Mike_PMID.20335537                                       | Duke_Module07_glucosedepletion_Mike_PMID.20335537                                       | 5/88  | 27/19982  | 1.104429e-07 | 4.064300e-06 | 3.115654e-06 | DNAJB9/IFRD1/HERPUD1/HBP1/MAP1LC3B                                    |  5 |\n",
       "| UNC_Unknown_6_BMC.Med.Genomics.2011_PMID.21214954 | UNC_Unknown_6_BMC.Med.Genomics.2011_PMID.21214954                                       | UNC_Unknown_6_BMC.Med.Genomics.2011_PMID.21214954                                       | 6/88  | 55/19982  | 1.496444e-07 | 4.589094e-06 | 3.517956e-06 | RB1CC1/CCNL1/RBM39/CLK1/RSRC2/PPIG                                    |  6 |\n",
       "\n"
      ],
      "text/plain": [
       "                                                                                        ID                                                                                     \n",
       "Tcell_EXH_Memory_CD8_T_cell_a_vs_Naive_CD8_T_cell_Metagene_3_Science.2016_PMID.27789795 Tcell_EXH_Memory_CD8_T_cell_a_vs_Naive_CD8_T_cell_Metagene_3_Science.2016_PMID.27789795\n",
       "TCGA.BRCA.1198_immune_FOS_JUN_IL6_Cell.2015_PMID.26451490                               TCGA.BRCA.1198_immune_FOS_JUN_IL6_Cell.2015_PMID.26451490                              \n",
       "GSEA_GP15_EGF_signailng.r=0.936_NAGASHIMA_EGF_SIGNALING_UP                              GSEA_GP15_EGF_signailng.r=0.936_NAGASHIMA_EGF_SIGNALING_UP                             \n",
       "MDSC_tumor_MO_Schlecker_J.Immunol.2012_PMID.23152559                                    MDSC_tumor_MO_Schlecker_J.Immunol.2012_PMID.23152559                                   \n",
       "Duke_Module07_glucosedepletion_Mike_PMID.20335537                                       Duke_Module07_glucosedepletion_Mike_PMID.20335537                                      \n",
       "UNC_Unknown_6_BMC.Med.Genomics.2011_PMID.21214954                                       UNC_Unknown_6_BMC.Med.Genomics.2011_PMID.21214954                                      \n",
       "                                                                                        Description                                                                            \n",
       "Tcell_EXH_Memory_CD8_T_cell_a_vs_Naive_CD8_T_cell_Metagene_3_Science.2016_PMID.27789795 Tcell_EXH_Memory_CD8_T_cell_a_vs_Naive_CD8_T_cell_Metagene_3_Science.2016_PMID.27789795\n",
       "TCGA.BRCA.1198_immune_FOS_JUN_IL6_Cell.2015_PMID.26451490                               TCGA.BRCA.1198_immune_FOS_JUN_IL6_Cell.2015_PMID.26451490                              \n",
       "GSEA_GP15_EGF_signailng.r=0.936_NAGASHIMA_EGF_SIGNALING_UP                              GSEA_GP15_EGF_signailng.r=0.936_NAGASHIMA_EGF_SIGNALING_UP                             \n",
       "MDSC_tumor_MO_Schlecker_J.Immunol.2012_PMID.23152559                                    MDSC_tumor_MO_Schlecker_J.Immunol.2012_PMID.23152559                                   \n",
       "Duke_Module07_glucosedepletion_Mike_PMID.20335537                                       Duke_Module07_glucosedepletion_Mike_PMID.20335537                                      \n",
       "UNC_Unknown_6_BMC.Med.Genomics.2011_PMID.21214954                                       UNC_Unknown_6_BMC.Med.Genomics.2011_PMID.21214954                                      \n",
       "                                                                                        GeneRatio\n",
       "Tcell_EXH_Memory_CD8_T_cell_a_vs_Naive_CD8_T_cell_Metagene_3_Science.2016_PMID.27789795 12/88    \n",
       "TCGA.BRCA.1198_immune_FOS_JUN_IL6_Cell.2015_PMID.26451490                               5/88     \n",
       "GSEA_GP15_EGF_signailng.r=0.936_NAGASHIMA_EGF_SIGNALING_UP                              7/88     \n",
       "MDSC_tumor_MO_Schlecker_J.Immunol.2012_PMID.23152559                                    8/88     \n",
       "Duke_Module07_glucosedepletion_Mike_PMID.20335537                                       5/88     \n",
       "UNC_Unknown_6_BMC.Med.Genomics.2011_PMID.21214954                                       6/88     \n",
       "                                                                                        BgRatio  \n",
       "Tcell_EXH_Memory_CD8_T_cell_a_vs_Naive_CD8_T_cell_Metagene_3_Science.2016_PMID.27789795 141/19982\n",
       "TCGA.BRCA.1198_immune_FOS_JUN_IL6_Cell.2015_PMID.26451490                               14/19982 \n",
       "GSEA_GP15_EGF_signailng.r=0.936_NAGASHIMA_EGF_SIGNALING_UP                              58/19982 \n",
       "MDSC_tumor_MO_Schlecker_J.Immunol.2012_PMID.23152559                                    129/19982\n",
       "Duke_Module07_glucosedepletion_Mike_PMID.20335537                                       27/19982 \n",
       "UNC_Unknown_6_BMC.Med.Genomics.2011_PMID.21214954                                       55/19982 \n",
       "                                                                                        pvalue      \n",
       "Tcell_EXH_Memory_CD8_T_cell_a_vs_Naive_CD8_T_cell_Metagene_3_Science.2016_PMID.27789795 1.231443e-12\n",
       "TCGA.BRCA.1198_immune_FOS_JUN_IL6_Cell.2015_PMID.26451490                               2.865048e-09\n",
       "GSEA_GP15_EGF_signailng.r=0.936_NAGASHIMA_EGF_SIGNALING_UP                              6.316361e-09\n",
       "MDSC_tumor_MO_Schlecker_J.Immunol.2012_PMID.23152559                                    1.010911e-07\n",
       "Duke_Module07_glucosedepletion_Mike_PMID.20335537                                       1.104429e-07\n",
       "UNC_Unknown_6_BMC.Med.Genomics.2011_PMID.21214954                                       1.496444e-07\n",
       "                                                                                        p.adjust    \n",
       "Tcell_EXH_Memory_CD8_T_cell_a_vs_Naive_CD8_T_cell_Metagene_3_Science.2016_PMID.27789795 2.265854e-10\n",
       "TCGA.BRCA.1198_immune_FOS_JUN_IL6_Cell.2015_PMID.26451490                               2.635844e-07\n",
       "GSEA_GP15_EGF_signailng.r=0.936_NAGASHIMA_EGF_SIGNALING_UP                              3.874035e-07\n",
       "MDSC_tumor_MO_Schlecker_J.Immunol.2012_PMID.23152559                                    4.064300e-06\n",
       "Duke_Module07_glucosedepletion_Mike_PMID.20335537                                       4.064300e-06\n",
       "UNC_Unknown_6_BMC.Med.Genomics.2011_PMID.21214954                                       4.589094e-06\n",
       "                                                                                        qvalue      \n",
       "Tcell_EXH_Memory_CD8_T_cell_a_vs_Naive_CD8_T_cell_Metagene_3_Science.2016_PMID.27789795 1.736982e-10\n",
       "TCGA.BRCA.1198_immune_FOS_JUN_IL6_Cell.2015_PMID.26451490                               2.020613e-07\n",
       "GSEA_GP15_EGF_signailng.r=0.936_NAGASHIMA_EGF_SIGNALING_UP                              2.969798e-07\n",
       "MDSC_tumor_MO_Schlecker_J.Immunol.2012_PMID.23152559                                    3.115654e-06\n",
       "Duke_Module07_glucosedepletion_Mike_PMID.20335537                                       3.115654e-06\n",
       "UNC_Unknown_6_BMC.Med.Genomics.2011_PMID.21214954                                       3.517956e-06\n",
       "                                                                                        geneID                                                               \n",
       "Tcell_EXH_Memory_CD8_T_cell_a_vs_Naive_CD8_T_cell_Metagene_3_Science.2016_PMID.27789795 ATF3/NFIL3/IFRD1/DUSP5/ARL5B/KDM6B/REL/TNF/NFKBIA/GADD45A/NFKBIB/FOSB\n",
       "TCGA.BRCA.1198_immune_FOS_JUN_IL6_Cell.2015_PMID.26451490                               ATF3/PPP1R15A/EGR1/FOSB/CSRNP1                                       \n",
       "GSEA_GP15_EGF_signailng.r=0.936_NAGASHIMA_EGF_SIGNALING_UP                              ATF3/DUSP5/KDM6B/AREG/BHLHE40/EGR1/FOSB                              \n",
       "MDSC_tumor_MO_Schlecker_J.Immunol.2012_PMID.23152559                                    DDIT3/ATF3/DUSP5/TNF/PPP1R15A/GADD45A/EGR1/CSRNP1                    \n",
       "Duke_Module07_glucosedepletion_Mike_PMID.20335537                                       DNAJB9/IFRD1/HERPUD1/HBP1/MAP1LC3B                                   \n",
       "UNC_Unknown_6_BMC.Med.Genomics.2011_PMID.21214954                                       RB1CC1/CCNL1/RBM39/CLK1/RSRC2/PPIG                                   \n",
       "                                                                                        Count\n",
       "Tcell_EXH_Memory_CD8_T_cell_a_vs_Naive_CD8_T_cell_Metagene_3_Science.2016_PMID.27789795 12   \n",
       "TCGA.BRCA.1198_immune_FOS_JUN_IL6_Cell.2015_PMID.26451490                                5   \n",
       "GSEA_GP15_EGF_signailng.r=0.936_NAGASHIMA_EGF_SIGNALING_UP                               7   \n",
       "MDSC_tumor_MO_Schlecker_J.Immunol.2012_PMID.23152559                                     8   \n",
       "Duke_Module07_glucosedepletion_Mike_PMID.20335537                                        5   \n",
       "UNC_Unknown_6_BMC.Med.Genomics.2011_PMID.21214954                                        6   "
      ]
     },
     "metadata": {},
     "output_type": "display_data"
    },
    {
     "data": {
      "text/html": [
       "<style>\n",
       ".list-inline {list-style: none; margin:0; padding: 0}\n",
       ".list-inline>li {display: inline-block}\n",
       ".list-inline>li:not(:last-child)::after {content: \"\\00b7\"; padding: 0 .5ex}\n",
       "</style>\n",
       "<ol class=list-inline><li>29</li><li>9</li></ol>\n"
      ],
      "text/latex": [
       "\\begin{enumerate*}\n",
       "\\item 29\n",
       "\\item 9\n",
       "\\end{enumerate*}\n"
      ],
      "text/markdown": [
       "1. 29\n",
       "2. 9\n",
       "\n",
       "\n"
      ],
      "text/plain": [
       "[1] 29  9"
      ]
     },
     "metadata": {},
     "output_type": "display_data"
    },
    {
     "data": {
      "text/html": [
       "<hr style=\"height:1px\">"
      ]
     },
     "metadata": {},
     "output_type": "display_data"
    },
    {
     "data": {
      "text/html": [
       "down h"
      ]
     },
     "metadata": {},
     "output_type": "display_data"
    },
    {
     "data": {
      "text/html": [
       "<table class=\"dataframe\">\n",
       "<caption>A data.frame: 5 × 9</caption>\n",
       "<thead>\n",
       "\t<tr><th></th><th scope=col>ID</th><th scope=col>Description</th><th scope=col>GeneRatio</th><th scope=col>BgRatio</th><th scope=col>pvalue</th><th scope=col>p.adjust</th><th scope=col>qvalue</th><th scope=col>geneID</th><th scope=col>Count</th></tr>\n",
       "\t<tr><th></th><th scope=col>&lt;chr&gt;</th><th scope=col>&lt;chr&gt;</th><th scope=col>&lt;chr&gt;</th><th scope=col>&lt;chr&gt;</th><th scope=col>&lt;dbl&gt;</th><th scope=col>&lt;dbl&gt;</th><th scope=col>&lt;dbl&gt;</th><th scope=col>&lt;chr&gt;</th><th scope=col>&lt;int&gt;</th></tr>\n",
       "</thead>\n",
       "<tbody>\n",
       "\t<tr><th scope=row>HALLMARK_ESTROGEN_RESPONSE_EARLY</th><td>HALLMARK_ESTROGEN_RESPONSE_EARLY          </td><td>HALLMARK_ESTROGEN_RESPONSE_EARLY          </td><td>15/86</td><td>200/4386</td><td>5.615477e-06</td><td>0.0002470810</td><td>0.0002009750</td><td>KRT19/TGM2/KRT8/CCND1/FKBP4/PRSS23/PODXL/IGFBP4/KRT15/FHL2/MYOF/SLC9A3R1/FAM102A/MREG/WWC1</td><td>15</td></tr>\n",
       "\t<tr><th scope=row>HALLMARK_ESTROGEN_RESPONSE_LATE</th><td>HALLMARK_ESTROGEN_RESPONSE_LATE           </td><td>HALLMARK_ESTROGEN_RESPONSE_LATE           </td><td>14/86</td><td>200/4386</td><td>2.642844e-05</td><td>0.0005814256</td><td>0.0004729299</td><td>KRT19/S100A9/CD9/CCND1/FKBP4/FABP5/PRSS23/PRLR/PERP/IGFBP4/COX6C/MYOF/SLC9A3R1/FAM102A    </td><td>14</td></tr>\n",
       "\t<tr><th scope=row>HALLMARK_EPITHELIAL_MESENCHYMAL_TRANSITION</th><td>HALLMARK_EPITHELIAL_MESENCHYMAL_TRANSITION</td><td>HALLMARK_EPITHELIAL_MESENCHYMAL_TRANSITION</td><td>10/86</td><td>200/4386</td><td>5.305844e-03</td><td>0.0466914257</td><td>0.0379786716</td><td>TGM2/TPM1/TPM4/CYR61/CD59/IGFBP4/PLOD2/PMP22/THBS1/CALD1                                  </td><td>10</td></tr>\n",
       "\t<tr><th scope=row>HALLMARK_HYPOXIA</th><td>HALLMARK_HYPOXIA                          </td><td>HALLMARK_HYPOXIA                          </td><td>10/86</td><td>200/4386</td><td>5.305844e-03</td><td>0.0466914257</td><td>0.0379786716</td><td>TGM2/ANXA2/GAPDH/CYR61/LDHA/S100A4/MYH9/TPI1/F3/PGK1                                      </td><td>10</td></tr>\n",
       "\t<tr><th scope=row>HALLMARK_MTORC1_SIGNALING</th><td>HALLMARK_MTORC1_SIGNALING                 </td><td>HALLMARK_MTORC1_SIGNALING                 </td><td>10/86</td><td>200/4386</td><td>5.305844e-03</td><td>0.0466914257</td><td>0.0379786716</td><td>CD9/GAPDH/LDHA/PLOD2/TPI1/SLC9A3R1/PDAP1/PGK1/PPA1/CACYBP                                 </td><td>10</td></tr>\n",
       "</tbody>\n",
       "</table>\n"
      ],
      "text/latex": [
       "A data.frame: 5 × 9\n",
       "\\begin{tabular}{r|lllllllll}\n",
       "  & ID & Description & GeneRatio & BgRatio & pvalue & p.adjust & qvalue & geneID & Count\\\\\n",
       "  & <chr> & <chr> & <chr> & <chr> & <dbl> & <dbl> & <dbl> & <chr> & <int>\\\\\n",
       "\\hline\n",
       "\tHALLMARK\\_ESTROGEN\\_RESPONSE\\_EARLY & HALLMARK\\_ESTROGEN\\_RESPONSE\\_EARLY           & HALLMARK\\_ESTROGEN\\_RESPONSE\\_EARLY           & 15/86 & 200/4386 & 5.615477e-06 & 0.0002470810 & 0.0002009750 & KRT19/TGM2/KRT8/CCND1/FKBP4/PRSS23/PODXL/IGFBP4/KRT15/FHL2/MYOF/SLC9A3R1/FAM102A/MREG/WWC1 & 15\\\\\n",
       "\tHALLMARK\\_ESTROGEN\\_RESPONSE\\_LATE & HALLMARK\\_ESTROGEN\\_RESPONSE\\_LATE            & HALLMARK\\_ESTROGEN\\_RESPONSE\\_LATE            & 14/86 & 200/4386 & 2.642844e-05 & 0.0005814256 & 0.0004729299 & KRT19/S100A9/CD9/CCND1/FKBP4/FABP5/PRSS23/PRLR/PERP/IGFBP4/COX6C/MYOF/SLC9A3R1/FAM102A     & 14\\\\\n",
       "\tHALLMARK\\_EPITHELIAL\\_MESENCHYMAL\\_TRANSITION & HALLMARK\\_EPITHELIAL\\_MESENCHYMAL\\_TRANSITION & HALLMARK\\_EPITHELIAL\\_MESENCHYMAL\\_TRANSITION & 10/86 & 200/4386 & 5.305844e-03 & 0.0466914257 & 0.0379786716 & TGM2/TPM1/TPM4/CYR61/CD59/IGFBP4/PLOD2/PMP22/THBS1/CALD1                                   & 10\\\\\n",
       "\tHALLMARK\\_HYPOXIA & HALLMARK\\_HYPOXIA                           & HALLMARK\\_HYPOXIA                           & 10/86 & 200/4386 & 5.305844e-03 & 0.0466914257 & 0.0379786716 & TGM2/ANXA2/GAPDH/CYR61/LDHA/S100A4/MYH9/TPI1/F3/PGK1                                       & 10\\\\\n",
       "\tHALLMARK\\_MTORC1\\_SIGNALING & HALLMARK\\_MTORC1\\_SIGNALING                  & HALLMARK\\_MTORC1\\_SIGNALING                  & 10/86 & 200/4386 & 5.305844e-03 & 0.0466914257 & 0.0379786716 & CD9/GAPDH/LDHA/PLOD2/TPI1/SLC9A3R1/PDAP1/PGK1/PPA1/CACYBP                                  & 10\\\\\n",
       "\\end{tabular}\n"
      ],
      "text/markdown": [
       "\n",
       "A data.frame: 5 × 9\n",
       "\n",
       "| <!--/--> | ID &lt;chr&gt; | Description &lt;chr&gt; | GeneRatio &lt;chr&gt; | BgRatio &lt;chr&gt; | pvalue &lt;dbl&gt; | p.adjust &lt;dbl&gt; | qvalue &lt;dbl&gt; | geneID &lt;chr&gt; | Count &lt;int&gt; |\n",
       "|---|---|---|---|---|---|---|---|---|---|\n",
       "| HALLMARK_ESTROGEN_RESPONSE_EARLY | HALLMARK_ESTROGEN_RESPONSE_EARLY           | HALLMARK_ESTROGEN_RESPONSE_EARLY           | 15/86 | 200/4386 | 5.615477e-06 | 0.0002470810 | 0.0002009750 | KRT19/TGM2/KRT8/CCND1/FKBP4/PRSS23/PODXL/IGFBP4/KRT15/FHL2/MYOF/SLC9A3R1/FAM102A/MREG/WWC1 | 15 |\n",
       "| HALLMARK_ESTROGEN_RESPONSE_LATE | HALLMARK_ESTROGEN_RESPONSE_LATE            | HALLMARK_ESTROGEN_RESPONSE_LATE            | 14/86 | 200/4386 | 2.642844e-05 | 0.0005814256 | 0.0004729299 | KRT19/S100A9/CD9/CCND1/FKBP4/FABP5/PRSS23/PRLR/PERP/IGFBP4/COX6C/MYOF/SLC9A3R1/FAM102A     | 14 |\n",
       "| HALLMARK_EPITHELIAL_MESENCHYMAL_TRANSITION | HALLMARK_EPITHELIAL_MESENCHYMAL_TRANSITION | HALLMARK_EPITHELIAL_MESENCHYMAL_TRANSITION | 10/86 | 200/4386 | 5.305844e-03 | 0.0466914257 | 0.0379786716 | TGM2/TPM1/TPM4/CYR61/CD59/IGFBP4/PLOD2/PMP22/THBS1/CALD1                                   | 10 |\n",
       "| HALLMARK_HYPOXIA | HALLMARK_HYPOXIA                           | HALLMARK_HYPOXIA                           | 10/86 | 200/4386 | 5.305844e-03 | 0.0466914257 | 0.0379786716 | TGM2/ANXA2/GAPDH/CYR61/LDHA/S100A4/MYH9/TPI1/F3/PGK1                                       | 10 |\n",
       "| HALLMARK_MTORC1_SIGNALING | HALLMARK_MTORC1_SIGNALING                  | HALLMARK_MTORC1_SIGNALING                  | 10/86 | 200/4386 | 5.305844e-03 | 0.0466914257 | 0.0379786716 | CD9/GAPDH/LDHA/PLOD2/TPI1/SLC9A3R1/PDAP1/PGK1/PPA1/CACYBP                                  | 10 |\n",
       "\n"
      ],
      "text/plain": [
       "                                           ID                                        \n",
       "HALLMARK_ESTROGEN_RESPONSE_EARLY           HALLMARK_ESTROGEN_RESPONSE_EARLY          \n",
       "HALLMARK_ESTROGEN_RESPONSE_LATE            HALLMARK_ESTROGEN_RESPONSE_LATE           \n",
       "HALLMARK_EPITHELIAL_MESENCHYMAL_TRANSITION HALLMARK_EPITHELIAL_MESENCHYMAL_TRANSITION\n",
       "HALLMARK_HYPOXIA                           HALLMARK_HYPOXIA                          \n",
       "HALLMARK_MTORC1_SIGNALING                  HALLMARK_MTORC1_SIGNALING                 \n",
       "                                           Description                               \n",
       "HALLMARK_ESTROGEN_RESPONSE_EARLY           HALLMARK_ESTROGEN_RESPONSE_EARLY          \n",
       "HALLMARK_ESTROGEN_RESPONSE_LATE            HALLMARK_ESTROGEN_RESPONSE_LATE           \n",
       "HALLMARK_EPITHELIAL_MESENCHYMAL_TRANSITION HALLMARK_EPITHELIAL_MESENCHYMAL_TRANSITION\n",
       "HALLMARK_HYPOXIA                           HALLMARK_HYPOXIA                          \n",
       "HALLMARK_MTORC1_SIGNALING                  HALLMARK_MTORC1_SIGNALING                 \n",
       "                                           GeneRatio BgRatio  pvalue      \n",
       "HALLMARK_ESTROGEN_RESPONSE_EARLY           15/86     200/4386 5.615477e-06\n",
       "HALLMARK_ESTROGEN_RESPONSE_LATE            14/86     200/4386 2.642844e-05\n",
       "HALLMARK_EPITHELIAL_MESENCHYMAL_TRANSITION 10/86     200/4386 5.305844e-03\n",
       "HALLMARK_HYPOXIA                           10/86     200/4386 5.305844e-03\n",
       "HALLMARK_MTORC1_SIGNALING                  10/86     200/4386 5.305844e-03\n",
       "                                           p.adjust     qvalue      \n",
       "HALLMARK_ESTROGEN_RESPONSE_EARLY           0.0002470810 0.0002009750\n",
       "HALLMARK_ESTROGEN_RESPONSE_LATE            0.0005814256 0.0004729299\n",
       "HALLMARK_EPITHELIAL_MESENCHYMAL_TRANSITION 0.0466914257 0.0379786716\n",
       "HALLMARK_HYPOXIA                           0.0466914257 0.0379786716\n",
       "HALLMARK_MTORC1_SIGNALING                  0.0466914257 0.0379786716\n",
       "                                           geneID                                                                                    \n",
       "HALLMARK_ESTROGEN_RESPONSE_EARLY           KRT19/TGM2/KRT8/CCND1/FKBP4/PRSS23/PODXL/IGFBP4/KRT15/FHL2/MYOF/SLC9A3R1/FAM102A/MREG/WWC1\n",
       "HALLMARK_ESTROGEN_RESPONSE_LATE            KRT19/S100A9/CD9/CCND1/FKBP4/FABP5/PRSS23/PRLR/PERP/IGFBP4/COX6C/MYOF/SLC9A3R1/FAM102A    \n",
       "HALLMARK_EPITHELIAL_MESENCHYMAL_TRANSITION TGM2/TPM1/TPM4/CYR61/CD59/IGFBP4/PLOD2/PMP22/THBS1/CALD1                                  \n",
       "HALLMARK_HYPOXIA                           TGM2/ANXA2/GAPDH/CYR61/LDHA/S100A4/MYH9/TPI1/F3/PGK1                                      \n",
       "HALLMARK_MTORC1_SIGNALING                  CD9/GAPDH/LDHA/PLOD2/TPI1/SLC9A3R1/PDAP1/PGK1/PPA1/CACYBP                                 \n",
       "                                           Count\n",
       "HALLMARK_ESTROGEN_RESPONSE_EARLY           15   \n",
       "HALLMARK_ESTROGEN_RESPONSE_LATE            14   \n",
       "HALLMARK_EPITHELIAL_MESENCHYMAL_TRANSITION 10   \n",
       "HALLMARK_HYPOXIA                           10   \n",
       "HALLMARK_MTORC1_SIGNALING                  10   "
      ]
     },
     "metadata": {},
     "output_type": "display_data"
    },
    {
     "data": {
      "text/html": [
       "<style>\n",
       ".list-inline {list-style: none; margin:0; padding: 0}\n",
       ".list-inline>li {display: inline-block}\n",
       ".list-inline>li:not(:last-child)::after {content: \"\\00b7\"; padding: 0 .5ex}\n",
       "</style>\n",
       "<ol class=list-inline><li>5</li><li>9</li></ol>\n"
      ],
      "text/latex": [
       "\\begin{enumerate*}\n",
       "\\item 5\n",
       "\\item 9\n",
       "\\end{enumerate*}\n"
      ],
      "text/markdown": [
       "1. 5\n",
       "2. 9\n",
       "\n",
       "\n"
      ],
      "text/plain": [
       "[1] 5 9"
      ]
     },
     "metadata": {},
     "output_type": "display_data"
    },
    {
     "data": {
      "text/html": [
       "down unc_lccc"
      ]
     },
     "metadata": {},
     "output_type": "display_data"
    },
    {
     "data": {
      "text/html": [
       "<table class=\"dataframe\">\n",
       "<caption>A data.frame: 6 × 9</caption>\n",
       "<thead>\n",
       "\t<tr><th></th><th scope=col>ID</th><th scope=col>Description</th><th scope=col>GeneRatio</th><th scope=col>BgRatio</th><th scope=col>pvalue</th><th scope=col>p.adjust</th><th scope=col>qvalue</th><th scope=col>geneID</th><th scope=col>Count</th></tr>\n",
       "\t<tr><th></th><th scope=col>&lt;chr&gt;</th><th scope=col>&lt;chr&gt;</th><th scope=col>&lt;chr&gt;</th><th scope=col>&lt;chr&gt;</th><th scope=col>&lt;dbl&gt;</th><th scope=col>&lt;dbl&gt;</th><th scope=col>&lt;dbl&gt;</th><th scope=col>&lt;chr&gt;</th><th scope=col>&lt;int&gt;</th></tr>\n",
       "</thead>\n",
       "<tbody>\n",
       "\t<tr><th scope=row>GATA3.induced.genes_JCO.2006_PMID.16505416</th><td>GATA3.induced.genes_JCO.2006_PMID.16505416                                   </td><td>GATA3.induced.genes_JCO.2006_PMID.16505416                                   </td><td>19/133</td><td>277/19982</td><td>3.119736e-14</td><td>7.830537e-12</td><td>5.057256e-12</td><td>KRT19/TACSTD2/S100A9/CD9/KRT8/KRT7/CD24/S100A16/CALM1/S100A11/S100A4/KRT15/FOXA1/SPINT2/VAMP8/LYPD3/MYOF/SLC9A3R1/ADIRF        </td><td>19</td></tr>\n",
       "\t<tr><th scope=row>Stromal_Down_Nat.Med.2009_PMID.19648928</th><td>Stromal_Down_Nat.Med.2009_PMID.19648928                                      </td><td>Stromal_Down_Nat.Med.2009_PMID.19648928                                      </td><td>20/133</td><td>347/19982</td><td>1.664190e-13</td><td>2.088559e-11</td><td>1.348870e-11</td><td>TACSTD2/CD9/KRT8/KRT7/TPM1/ACTG1/ACTN1/PERP/KRT16/TSPO/MYH9/EZR/SPINT2/VAMP8/ACTN4/ANXA3/SOX9/DSC2/MREG/WWC1                   </td><td>20</td></tr>\n",
       "\t<tr><th scope=row>MCF7.E2.induced.genes_JCO.2006_PMID.16505416</th><td>MCF7.E2.induced.genes_JCO.2006_PMID.16505416                                 </td><td>MCF7.E2.induced.genes_JCO.2006_PMID.16505416                                 </td><td>17/133</td><td>290/19982</td><td>9.570355e-12</td><td>7.519358e-10</td><td>4.856285e-10</td><td>ACTB/KRT8/CCND1/TPM1/TPM4/FKBP4/ACTN1/FABP5/PRSS23/IGFBP4/ZFP36L2/JPT1/KRT15/HIGD1A/FHL2/MREG/ARF6                             </td><td>17</td></tr>\n",
       "\t<tr><th scope=row>MIR_200c_Induced_ONCO.2015_PMID.25746005</th><td>MIR_200c_Induced_ONCO.2015_PMID.25746005                                     </td><td>MIR_200c_Induced_ONCO.2015_PMID.25746005                                     </td><td>21/133</td><td>491/19982</td><td>1.198304e-11</td><td>7.519358e-10</td><td>4.856285e-10</td><td>TGM2/WFDC2/CD9/ANXA2/TPM1/CYR61/PERP/S100A16/ANXA1/IGFBP4/S100A11/NINJ1/THBS1/FOXA1/VAMP8/ANXA3/ITM2B/CAST/SLC9A3R1/CD47/ANXA11</td><td>21</td></tr>\n",
       "\t<tr><th scope=row>UNC_HS_Green21_BMC.Med.Genomics.2011_PMID.21214954</th><td>UNC_HS_Green21_BMC.Med.Genomics.2011_PMID.21214954                           </td><td>UNC_HS_Green21_BMC.Med.Genomics.2011_PMID.21214954                           </td><td>10/133</td><td>96/19982 </td><td>8.417139e-10</td><td>4.225404e-08</td><td>2.728925e-08</td><td>TACSTD2/KRT7/DUSP4/SLPI/ITGB6/KRT15/GOLM1/ANXA3/SOX9/F3                                                                        </td><td>10</td></tr>\n",
       "\t<tr><th scope=row>GSEA_GP4_MES_ECM.r=0.954_PerouLab_HS_Red7_BMC_Med_Genomics_2011_PMID.21214954</th><td>GSEA_GP4_MES_ECM.r=0.954_PerouLab_HS_Red7_BMC_Med_Genomics_2011_PMID.21214954</td><td>GSEA_GP4_MES_ECM.r=0.954_PerouLab_HS_Red7_BMC_Med_Genomics_2011_PMID.21214954</td><td>16/133</td><td>386/19982</td><td>6.322114e-09</td><td>2.068858e-07</td><td>1.336146e-07</td><td>S100A10/TPM4/PRSS23/CYR61/RIN2/PLOD2/CAVIN1/S100A4/PMP22/MYH9/THBS1/GOLM1/CALD1/FHL2/CTSB/CYB5R3                               </td><td>16</td></tr>\n",
       "</tbody>\n",
       "</table>\n"
      ],
      "text/latex": [
       "A data.frame: 6 × 9\n",
       "\\begin{tabular}{r|lllllllll}\n",
       "  & ID & Description & GeneRatio & BgRatio & pvalue & p.adjust & qvalue & geneID & Count\\\\\n",
       "  & <chr> & <chr> & <chr> & <chr> & <dbl> & <dbl> & <dbl> & <chr> & <int>\\\\\n",
       "\\hline\n",
       "\tGATA3.induced.genes\\_JCO.2006\\_PMID.16505416 & GATA3.induced.genes\\_JCO.2006\\_PMID.16505416                                    & GATA3.induced.genes\\_JCO.2006\\_PMID.16505416                                    & 19/133 & 277/19982 & 3.119736e-14 & 7.830537e-12 & 5.057256e-12 & KRT19/TACSTD2/S100A9/CD9/KRT8/KRT7/CD24/S100A16/CALM1/S100A11/S100A4/KRT15/FOXA1/SPINT2/VAMP8/LYPD3/MYOF/SLC9A3R1/ADIRF         & 19\\\\\n",
       "\tStromal\\_Down\\_Nat.Med.2009\\_PMID.19648928 & Stromal\\_Down\\_Nat.Med.2009\\_PMID.19648928                                       & Stromal\\_Down\\_Nat.Med.2009\\_PMID.19648928                                       & 20/133 & 347/19982 & 1.664190e-13 & 2.088559e-11 & 1.348870e-11 & TACSTD2/CD9/KRT8/KRT7/TPM1/ACTG1/ACTN1/PERP/KRT16/TSPO/MYH9/EZR/SPINT2/VAMP8/ACTN4/ANXA3/SOX9/DSC2/MREG/WWC1                    & 20\\\\\n",
       "\tMCF7.E2.induced.genes\\_JCO.2006\\_PMID.16505416 & MCF7.E2.induced.genes\\_JCO.2006\\_PMID.16505416                                  & MCF7.E2.induced.genes\\_JCO.2006\\_PMID.16505416                                  & 17/133 & 290/19982 & 9.570355e-12 & 7.519358e-10 & 4.856285e-10 & ACTB/KRT8/CCND1/TPM1/TPM4/FKBP4/ACTN1/FABP5/PRSS23/IGFBP4/ZFP36L2/JPT1/KRT15/HIGD1A/FHL2/MREG/ARF6                              & 17\\\\\n",
       "\tMIR\\_200c\\_Induced\\_ONCO.2015\\_PMID.25746005 & MIR\\_200c\\_Induced\\_ONCO.2015\\_PMID.25746005                                      & MIR\\_200c\\_Induced\\_ONCO.2015\\_PMID.25746005                                      & 21/133 & 491/19982 & 1.198304e-11 & 7.519358e-10 & 4.856285e-10 & TGM2/WFDC2/CD9/ANXA2/TPM1/CYR61/PERP/S100A16/ANXA1/IGFBP4/S100A11/NINJ1/THBS1/FOXA1/VAMP8/ANXA3/ITM2B/CAST/SLC9A3R1/CD47/ANXA11 & 21\\\\\n",
       "\tUNC\\_HS\\_Green21\\_BMC.Med.Genomics.2011\\_PMID.21214954 & UNC\\_HS\\_Green21\\_BMC.Med.Genomics.2011\\_PMID.21214954                            & UNC\\_HS\\_Green21\\_BMC.Med.Genomics.2011\\_PMID.21214954                            & 10/133 & 96/19982  & 8.417139e-10 & 4.225404e-08 & 2.728925e-08 & TACSTD2/KRT7/DUSP4/SLPI/ITGB6/KRT15/GOLM1/ANXA3/SOX9/F3                                                                         & 10\\\\\n",
       "\tGSEA\\_GP4\\_MES\\_ECM.r=0.954\\_PerouLab\\_HS\\_Red7\\_BMC\\_Med\\_Genomics\\_2011\\_PMID.21214954 & GSEA\\_GP4\\_MES\\_ECM.r=0.954\\_PerouLab\\_HS\\_Red7\\_BMC\\_Med\\_Genomics\\_2011\\_PMID.21214954 & GSEA\\_GP4\\_MES\\_ECM.r=0.954\\_PerouLab\\_HS\\_Red7\\_BMC\\_Med\\_Genomics\\_2011\\_PMID.21214954 & 16/133 & 386/19982 & 6.322114e-09 & 2.068858e-07 & 1.336146e-07 & S100A10/TPM4/PRSS23/CYR61/RIN2/PLOD2/CAVIN1/S100A4/PMP22/MYH9/THBS1/GOLM1/CALD1/FHL2/CTSB/CYB5R3                                & 16\\\\\n",
       "\\end{tabular}\n"
      ],
      "text/markdown": [
       "\n",
       "A data.frame: 6 × 9\n",
       "\n",
       "| <!--/--> | ID &lt;chr&gt; | Description &lt;chr&gt; | GeneRatio &lt;chr&gt; | BgRatio &lt;chr&gt; | pvalue &lt;dbl&gt; | p.adjust &lt;dbl&gt; | qvalue &lt;dbl&gt; | geneID &lt;chr&gt; | Count &lt;int&gt; |\n",
       "|---|---|---|---|---|---|---|---|---|---|\n",
       "| GATA3.induced.genes_JCO.2006_PMID.16505416 | GATA3.induced.genes_JCO.2006_PMID.16505416                                    | GATA3.induced.genes_JCO.2006_PMID.16505416                                    | 19/133 | 277/19982 | 3.119736e-14 | 7.830537e-12 | 5.057256e-12 | KRT19/TACSTD2/S100A9/CD9/KRT8/KRT7/CD24/S100A16/CALM1/S100A11/S100A4/KRT15/FOXA1/SPINT2/VAMP8/LYPD3/MYOF/SLC9A3R1/ADIRF         | 19 |\n",
       "| Stromal_Down_Nat.Med.2009_PMID.19648928 | Stromal_Down_Nat.Med.2009_PMID.19648928                                       | Stromal_Down_Nat.Med.2009_PMID.19648928                                       | 20/133 | 347/19982 | 1.664190e-13 | 2.088559e-11 | 1.348870e-11 | TACSTD2/CD9/KRT8/KRT7/TPM1/ACTG1/ACTN1/PERP/KRT16/TSPO/MYH9/EZR/SPINT2/VAMP8/ACTN4/ANXA3/SOX9/DSC2/MREG/WWC1                    | 20 |\n",
       "| MCF7.E2.induced.genes_JCO.2006_PMID.16505416 | MCF7.E2.induced.genes_JCO.2006_PMID.16505416                                  | MCF7.E2.induced.genes_JCO.2006_PMID.16505416                                  | 17/133 | 290/19982 | 9.570355e-12 | 7.519358e-10 | 4.856285e-10 | ACTB/KRT8/CCND1/TPM1/TPM4/FKBP4/ACTN1/FABP5/PRSS23/IGFBP4/ZFP36L2/JPT1/KRT15/HIGD1A/FHL2/MREG/ARF6                              | 17 |\n",
       "| MIR_200c_Induced_ONCO.2015_PMID.25746005 | MIR_200c_Induced_ONCO.2015_PMID.25746005                                      | MIR_200c_Induced_ONCO.2015_PMID.25746005                                      | 21/133 | 491/19982 | 1.198304e-11 | 7.519358e-10 | 4.856285e-10 | TGM2/WFDC2/CD9/ANXA2/TPM1/CYR61/PERP/S100A16/ANXA1/IGFBP4/S100A11/NINJ1/THBS1/FOXA1/VAMP8/ANXA3/ITM2B/CAST/SLC9A3R1/CD47/ANXA11 | 21 |\n",
       "| UNC_HS_Green21_BMC.Med.Genomics.2011_PMID.21214954 | UNC_HS_Green21_BMC.Med.Genomics.2011_PMID.21214954                            | UNC_HS_Green21_BMC.Med.Genomics.2011_PMID.21214954                            | 10/133 | 96/19982  | 8.417139e-10 | 4.225404e-08 | 2.728925e-08 | TACSTD2/KRT7/DUSP4/SLPI/ITGB6/KRT15/GOLM1/ANXA3/SOX9/F3                                                                         | 10 |\n",
       "| GSEA_GP4_MES_ECM.r=0.954_PerouLab_HS_Red7_BMC_Med_Genomics_2011_PMID.21214954 | GSEA_GP4_MES_ECM.r=0.954_PerouLab_HS_Red7_BMC_Med_Genomics_2011_PMID.21214954 | GSEA_GP4_MES_ECM.r=0.954_PerouLab_HS_Red7_BMC_Med_Genomics_2011_PMID.21214954 | 16/133 | 386/19982 | 6.322114e-09 | 2.068858e-07 | 1.336146e-07 | S100A10/TPM4/PRSS23/CYR61/RIN2/PLOD2/CAVIN1/S100A4/PMP22/MYH9/THBS1/GOLM1/CALD1/FHL2/CTSB/CYB5R3                                | 16 |\n",
       "\n"
      ],
      "text/plain": [
       "                                                                              ID                                                                           \n",
       "GATA3.induced.genes_JCO.2006_PMID.16505416                                    GATA3.induced.genes_JCO.2006_PMID.16505416                                   \n",
       "Stromal_Down_Nat.Med.2009_PMID.19648928                                       Stromal_Down_Nat.Med.2009_PMID.19648928                                      \n",
       "MCF7.E2.induced.genes_JCO.2006_PMID.16505416                                  MCF7.E2.induced.genes_JCO.2006_PMID.16505416                                 \n",
       "MIR_200c_Induced_ONCO.2015_PMID.25746005                                      MIR_200c_Induced_ONCO.2015_PMID.25746005                                     \n",
       "UNC_HS_Green21_BMC.Med.Genomics.2011_PMID.21214954                            UNC_HS_Green21_BMC.Med.Genomics.2011_PMID.21214954                           \n",
       "GSEA_GP4_MES_ECM.r=0.954_PerouLab_HS_Red7_BMC_Med_Genomics_2011_PMID.21214954 GSEA_GP4_MES_ECM.r=0.954_PerouLab_HS_Red7_BMC_Med_Genomics_2011_PMID.21214954\n",
       "                                                                              Description                                                                  \n",
       "GATA3.induced.genes_JCO.2006_PMID.16505416                                    GATA3.induced.genes_JCO.2006_PMID.16505416                                   \n",
       "Stromal_Down_Nat.Med.2009_PMID.19648928                                       Stromal_Down_Nat.Med.2009_PMID.19648928                                      \n",
       "MCF7.E2.induced.genes_JCO.2006_PMID.16505416                                  MCF7.E2.induced.genes_JCO.2006_PMID.16505416                                 \n",
       "MIR_200c_Induced_ONCO.2015_PMID.25746005                                      MIR_200c_Induced_ONCO.2015_PMID.25746005                                     \n",
       "UNC_HS_Green21_BMC.Med.Genomics.2011_PMID.21214954                            UNC_HS_Green21_BMC.Med.Genomics.2011_PMID.21214954                           \n",
       "GSEA_GP4_MES_ECM.r=0.954_PerouLab_HS_Red7_BMC_Med_Genomics_2011_PMID.21214954 GSEA_GP4_MES_ECM.r=0.954_PerouLab_HS_Red7_BMC_Med_Genomics_2011_PMID.21214954\n",
       "                                                                              GeneRatio\n",
       "GATA3.induced.genes_JCO.2006_PMID.16505416                                    19/133   \n",
       "Stromal_Down_Nat.Med.2009_PMID.19648928                                       20/133   \n",
       "MCF7.E2.induced.genes_JCO.2006_PMID.16505416                                  17/133   \n",
       "MIR_200c_Induced_ONCO.2015_PMID.25746005                                      21/133   \n",
       "UNC_HS_Green21_BMC.Med.Genomics.2011_PMID.21214954                            10/133   \n",
       "GSEA_GP4_MES_ECM.r=0.954_PerouLab_HS_Red7_BMC_Med_Genomics_2011_PMID.21214954 16/133   \n",
       "                                                                              BgRatio  \n",
       "GATA3.induced.genes_JCO.2006_PMID.16505416                                    277/19982\n",
       "Stromal_Down_Nat.Med.2009_PMID.19648928                                       347/19982\n",
       "MCF7.E2.induced.genes_JCO.2006_PMID.16505416                                  290/19982\n",
       "MIR_200c_Induced_ONCO.2015_PMID.25746005                                      491/19982\n",
       "UNC_HS_Green21_BMC.Med.Genomics.2011_PMID.21214954                            96/19982 \n",
       "GSEA_GP4_MES_ECM.r=0.954_PerouLab_HS_Red7_BMC_Med_Genomics_2011_PMID.21214954 386/19982\n",
       "                                                                              pvalue      \n",
       "GATA3.induced.genes_JCO.2006_PMID.16505416                                    3.119736e-14\n",
       "Stromal_Down_Nat.Med.2009_PMID.19648928                                       1.664190e-13\n",
       "MCF7.E2.induced.genes_JCO.2006_PMID.16505416                                  9.570355e-12\n",
       "MIR_200c_Induced_ONCO.2015_PMID.25746005                                      1.198304e-11\n",
       "UNC_HS_Green21_BMC.Med.Genomics.2011_PMID.21214954                            8.417139e-10\n",
       "GSEA_GP4_MES_ECM.r=0.954_PerouLab_HS_Red7_BMC_Med_Genomics_2011_PMID.21214954 6.322114e-09\n",
       "                                                                              p.adjust    \n",
       "GATA3.induced.genes_JCO.2006_PMID.16505416                                    7.830537e-12\n",
       "Stromal_Down_Nat.Med.2009_PMID.19648928                                       2.088559e-11\n",
       "MCF7.E2.induced.genes_JCO.2006_PMID.16505416                                  7.519358e-10\n",
       "MIR_200c_Induced_ONCO.2015_PMID.25746005                                      7.519358e-10\n",
       "UNC_HS_Green21_BMC.Med.Genomics.2011_PMID.21214954                            4.225404e-08\n",
       "GSEA_GP4_MES_ECM.r=0.954_PerouLab_HS_Red7_BMC_Med_Genomics_2011_PMID.21214954 2.068858e-07\n",
       "                                                                              qvalue      \n",
       "GATA3.induced.genes_JCO.2006_PMID.16505416                                    5.057256e-12\n",
       "Stromal_Down_Nat.Med.2009_PMID.19648928                                       1.348870e-11\n",
       "MCF7.E2.induced.genes_JCO.2006_PMID.16505416                                  4.856285e-10\n",
       "MIR_200c_Induced_ONCO.2015_PMID.25746005                                      4.856285e-10\n",
       "UNC_HS_Green21_BMC.Med.Genomics.2011_PMID.21214954                            2.728925e-08\n",
       "GSEA_GP4_MES_ECM.r=0.954_PerouLab_HS_Red7_BMC_Med_Genomics_2011_PMID.21214954 1.336146e-07\n",
       "                                                                              geneID                                                                                                                         \n",
       "GATA3.induced.genes_JCO.2006_PMID.16505416                                    KRT19/TACSTD2/S100A9/CD9/KRT8/KRT7/CD24/S100A16/CALM1/S100A11/S100A4/KRT15/FOXA1/SPINT2/VAMP8/LYPD3/MYOF/SLC9A3R1/ADIRF        \n",
       "Stromal_Down_Nat.Med.2009_PMID.19648928                                       TACSTD2/CD9/KRT8/KRT7/TPM1/ACTG1/ACTN1/PERP/KRT16/TSPO/MYH9/EZR/SPINT2/VAMP8/ACTN4/ANXA3/SOX9/DSC2/MREG/WWC1                   \n",
       "MCF7.E2.induced.genes_JCO.2006_PMID.16505416                                  ACTB/KRT8/CCND1/TPM1/TPM4/FKBP4/ACTN1/FABP5/PRSS23/IGFBP4/ZFP36L2/JPT1/KRT15/HIGD1A/FHL2/MREG/ARF6                             \n",
       "MIR_200c_Induced_ONCO.2015_PMID.25746005                                      TGM2/WFDC2/CD9/ANXA2/TPM1/CYR61/PERP/S100A16/ANXA1/IGFBP4/S100A11/NINJ1/THBS1/FOXA1/VAMP8/ANXA3/ITM2B/CAST/SLC9A3R1/CD47/ANXA11\n",
       "UNC_HS_Green21_BMC.Med.Genomics.2011_PMID.21214954                            TACSTD2/KRT7/DUSP4/SLPI/ITGB6/KRT15/GOLM1/ANXA3/SOX9/F3                                                                        \n",
       "GSEA_GP4_MES_ECM.r=0.954_PerouLab_HS_Red7_BMC_Med_Genomics_2011_PMID.21214954 S100A10/TPM4/PRSS23/CYR61/RIN2/PLOD2/CAVIN1/S100A4/PMP22/MYH9/THBS1/GOLM1/CALD1/FHL2/CTSB/CYB5R3                               \n",
       "                                                                              Count\n",
       "GATA3.induced.genes_JCO.2006_PMID.16505416                                    19   \n",
       "Stromal_Down_Nat.Med.2009_PMID.19648928                                       20   \n",
       "MCF7.E2.induced.genes_JCO.2006_PMID.16505416                                  17   \n",
       "MIR_200c_Induced_ONCO.2015_PMID.25746005                                      21   \n",
       "UNC_HS_Green21_BMC.Med.Genomics.2011_PMID.21214954                            10   \n",
       "GSEA_GP4_MES_ECM.r=0.954_PerouLab_HS_Red7_BMC_Med_Genomics_2011_PMID.21214954 16   "
      ]
     },
     "metadata": {},
     "output_type": "display_data"
    },
    {
     "data": {
      "text/html": [
       "<style>\n",
       ".list-inline {list-style: none; margin:0; padding: 0}\n",
       ".list-inline>li {display: inline-block}\n",
       ".list-inline>li:not(:last-child)::after {content: \"\\00b7\"; padding: 0 .5ex}\n",
       "</style>\n",
       "<ol class=list-inline><li>72</li><li>9</li></ol>\n"
      ],
      "text/latex": [
       "\\begin{enumerate*}\n",
       "\\item 72\n",
       "\\item 9\n",
       "\\end{enumerate*}\n"
      ],
      "text/markdown": [
       "1. 72\n",
       "2. 9\n",
       "\n",
       "\n"
      ],
      "text/plain": [
       "[1] 72  9"
      ]
     },
     "metadata": {},
     "output_type": "display_data"
    },
    {
     "data": {
      "text/html": [
       "filename_xlsx: xlsx/normal-breast-pairs_control_vs_tamoxifen_LEp.xlsx\n"
      ]
     },
     "metadata": {},
     "output_type": "display_data"
    },
    {
     "data": {
      "text/html": [
       "filename_figure: heatmap_normal-breast-pairs_control_vs_tamoxifen_LEp_no_down_mcf7.e2.induced.genes_zscore\n"
      ]
     },
     "metadata": {},
     "output_type": "display_data"
    },
    {
     "data": {
      "image/png": "[encoded data removed]",
      "text/plain": [
       "plot without title"
      ]
     },
     "metadata": {
      "image/png": {
       "height": 240,
       "width": 240
      }
     },
     "output_type": "display_data"
    },
    {
     "data": {
      "image/png": "[encoded data removed]",
      "text/plain": [
       "plot without title"
      ]
     },
     "metadata": {
      "image/png": {
       "height": 240,
       "width": 240
      }
     },
     "output_type": "display_data"
    },
    {
     "data": {
      "text/html": [],
      "text/latex": [],
      "text/markdown": [],
      "text/plain": [
       "<0 x 0 matrix>"
      ]
     },
     "metadata": {},
     "output_type": "display_data"
    },
    {
     "data": {
      "image/png": "[encoded data removed]",
      "text/plain": [
       "plot without title"
      ]
     },
     "metadata": {
      "image/png": {
       "height": 240,
       "width": 240
      }
     },
     "output_type": "display_data"
    }
   ],
   "source": [
    "cell_types <- c(\"BEp\", \"LEp_prog\", \"LEp\")\n",
    "\n",
    "df_info <- data.frame()\n",
    "\n",
    "for (cell_type in cell_types) {\n",
    "    \n",
    "    display_html(\"<hr style=\\\"height:2px\\\">\")\n",
    "    log_txt(cell_type)\n",
    "    \n",
    "    list_markers <- find_markers(rna, sample1 = sample1,\n",
    "                        sample_ref = sample_ref,\n",
    "                        pattern_sample1 = pattern_sample1,\n",
    "                        pattern_sample_ref = pattern_sample_ref,\n",
    "                        cell_type1 = cell_type,\n",
    "                        cell_type_ref = cell_type,\n",
    "                                 \n",
    "                        group_name1 = sprintf(\"%s %s\", group_name1, cell_type),\n",
    "                        group_name_ref = sprintf(\"%s %s\", group_name_ref, cell_type),\n",
    "                        col_cluster_types = col_cluster_types_,\n",
    "                        col_cell_types = col_cell_types_,\n",
    "                        th_log2fc=th_log2fc_,\n",
    "                        th_padj=th_padj_, \n",
    "                        min.pct=min.pct_,\n",
    "                        min.diff.pct=min.diff.pct_,\n",
    "                        max.cells.per.ident=max.cells.per.ident_,\n",
    "                        method_dge = method_dge,\n",
    "                        n_log = 1)\n",
    "\n",
    "  if (!is.null(list_markers)) {\n",
    "    \n",
    "    head(list_markers$markers)\n",
    "    dim(list_markers$markers)\n",
    "\n",
    "    str_condition_tmp <- sprintf(\"%s_%s_vs_%s_%s\",\n",
    "                               str_condition,\n",
    "                               group_name_ref, group_name1, cell_type)\n",
    "    \n",
    "    list_ea <- execute_enrichment_analysis(list_markers$markers,\n",
    "                        str_condition_tmp,\n",
    "                        th_log2fc = th_log2fc_,\n",
    "                        th_padj = th_padj_)\n",
    "\n",
    "    genes_up <- rownames(list_ea$df_up)\n",
    "    genes_dn <- rownames(list_ea$df_dn)\n",
    "    list_genes_dn[[cell_type]] <- genes_dn\n",
    "\n",
    "    if (f_featureplot) {\n",
    "      gg <- featureplot_enrichment_analysis(rna,\n",
    "                list_ea,\n",
    "                str_condition_tmp)\n",
    "    }\n",
    "\n",
    "    str_condition_tmp_ <- str_condition_tmp\n",
    "    unlink(sprintf(\"%s/%s*\", figure_format, str_condition_tmp))\n",
    "    df_dp <- as.data.frame(list_ea[[\"down peroulab\"]])\n",
    "    if (any(grepl(\"MCF7.E2.induced.genes\", rownames(df_dp)))) {\n",
    "        df_info[cell_type, \"pairs\"] <- \"E2IG down\"\n",
    "    } else {\n",
    "        str_condition_tmp_ <- sprintf(\"%s_no_down_mcf7.e2.induced.genes\", str_condition_tmp)\n",
    "    }\n",
    "    list_out_heatmap <- heatmap_enrichment_analysis(list_markers,\n",
    "                    list_ea,\n",
    "                    str_condition_tmp_,\n",
    "                    pattern_gene_removal=\"^MT-|^RPS|^RPL\",\n",
    "                    max_up=5, max_dn=5,\n",
    "                    n_sampling=n_sampling,\n",
    "                    cluster_rows=cluster_rows)\n",
    "\n",
    "  } # if\n",
    "    \n",
    "} # for\n",
    "\n",
    "\n",
    "display(df_info)\n"
   ]
  },
  {
   "cell_type": "markdown",
   "id": "b0ceefbd",
   "metadata": {},
   "source": [
    "# session info"
   ]
  },
  {
   "cell_type": "code",
   "execution_count": 22,
   "id": "04158981",
   "metadata": {},
   "outputs": [],
   "source": [
    "\n",
    "writeLines(capture.output(sessionInfo()), \"txt/sessionInfo.txt\")\n"
   ]
  },
  {
   "cell_type": "markdown",
   "id": "11a8c620",
   "metadata": {},
   "source": [
    "# reference"
   ]
  },
  {
   "cell_type": "markdown",
   "id": "674ff0fb",
   "metadata": {},
   "source": [
    "https://satijalab.org/seurat/\n",
    "\n",
    "\n"
   ]
  },
  {
   "cell_type": "code",
   "execution_count": null,
   "id": "43319b6c",
   "metadata": {},
   "outputs": [],
   "source": []
  }
 ],
 "metadata": {
  "kernelspec": {
   "display_name": "R 4.1.2",
   "language": "R",
   "name": "r4.1.2"
  },
  "language_info": {
   "codemirror_mode": "r",
   "file_extension": ".r",
   "mimetype": "text/x-r-source",
   "name": "R",
   "pygments_lexer": "r",
   "version": "4.1.2"
  },
  "toc": {
   "base_numbering": 1,
   "nav_menu": {},
   "number_sections": true,
   "sideBar": true,
   "skip_h1_title": false,
   "title_cell": "Table of Contents",
   "title_sidebar": "Contents",
   "toc_cell": false,
   "toc_position": {
    "height": "calc(100% - 180px)",
    "left": "10px",
    "top": "150px",
    "width": "196px"
   },
   "toc_section_display": true,
   "toc_window_display": true
  }
 },
 "nbformat": 4,
 "nbformat_minor": 5
}
