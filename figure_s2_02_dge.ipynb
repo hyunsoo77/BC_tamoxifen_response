{
 "cells": [
  {
   "cell_type": "markdown",
   "id": "f42aca45",
   "metadata": {},
   "source": [
    "# load library"
   ]
  },
  {
   "cell_type": "code",
   "execution_count": 1,
   "id": "3923e930",
   "metadata": {},
   "outputs": [],
   "source": [
    "source(\"r/jupyter_common.R\")\n",
    "\n",
    "source(\"r/enrichment_analysis.R\")\n",
    "source(\"r/find_markers.R\")\n",
    "source(\"r/identify_cell_types.R\")\n",
    "source(\"r/plot_sc_clusters.R\")\n"
   ]
  },
  {
   "cell_type": "code",
   "execution_count": 2,
   "id": "076042f0",
   "metadata": {
    "scrolled": false
   },
   "outputs": [],
   "source": [
    "# data structure\n",
    "suppressPackageStartupMessages(library(stringi))\n",
    "suppressPackageStartupMessages(library(forcats))\n",
    "\n",
    "# utils\n",
    "suppressPackageStartupMessages(library(amap)) # for Dist()\n",
    "suppressPackageStartupMessages(library(scales))\n",
    "\n",
    "# scRNA-seq\n",
    "suppressPackageStartupMessages(library(Seurat))\n",
    "\n"
   ]
  },
  {
   "cell_type": "markdown",
   "id": "3bfa7459",
   "metadata": {},
   "source": [
    "## parallel"
   ]
  },
  {
   "cell_type": "code",
   "execution_count": 3,
   "id": "bdaa516f",
   "metadata": {},
   "outputs": [],
   "source": [
    "suppressPackageStartupMessages(library(future))\n",
    "plan(\"multicore\", workers = 8)\n",
    "\n",
    "options(future.globals.maxSize = 5 * 1024^3) # 5GB\n"
   ]
  },
  {
   "cell_type": "markdown",
   "id": "3076641a",
   "metadata": {},
   "source": [
    "# parameters"
   ]
  },
  {
   "cell_type": "code",
   "execution_count": 4,
   "id": "7204f433",
   "metadata": {},
   "outputs": [
    {
     "data": {
      "text/html": [
       "'er+bc-pairs'"
      ],
      "text/latex": [
       "'er+bc-pairs'"
      ],
      "text/markdown": [
       "'er+bc-pairs'"
      ],
      "text/plain": [
       "[1] \"er+bc-pairs\""
      ]
     },
     "metadata": {},
     "output_type": "display_data"
    },
    {
     "data": {
      "text/html": [
       "'RNA_snn_res.0.8'"
      ],
      "text/latex": [
       "'RNA\\_snn\\_res.0.8'"
      ],
      "text/markdown": [
       "'RNA_snn_res.0.8'"
      ],
      "text/plain": [
       "[1] \"RNA_snn_res.0.8\""
      ]
     },
     "metadata": {},
     "output_type": "display_data"
    },
    {
     "data": {
      "text/html": [
       "'umap'"
      ],
      "text/latex": [
       "'umap'"
      ],
      "text/markdown": [
       "'umap'"
      ],
      "text/plain": [
       "[1] \"umap\""
      ]
     },
     "metadata": {},
     "output_type": "display_data"
    },
    {
     "data": {
      "text/html": [
       "'cluster.type'"
      ],
      "text/latex": [
       "'cluster.type'"
      ],
      "text/markdown": [
       "'cluster.type'"
      ],
      "text/plain": [
       "[1] \"cluster.type\""
      ]
     },
     "metadata": {},
     "output_type": "display_data"
    }
   ],
   "source": [
    "cancer_type <- \"er+bc-pairs\"\n",
    "\n",
    "\n",
    "args <- list()\n",
    "args$cancer_type <- cancer_type\n",
    "args$method_to_identify_cell_types <- \"singler_blueprint_encode\"\n",
    "args$seurat_resolution <- 0.8\n",
    "args$harmony_theta <- 0\n",
    "\n",
    "str_column_of_meta_data_cluster <- sprintf(\"RNA_snn_res.%g\", args$seurat_resolution)\n",
    "str_column_of_meta_data_harmony <- sprintf(\"RNA_harmony_th.%s\", paste(args$harmony_theta, collapse=\",\"))\n",
    "\n",
    "str_reduction <- \"pca\"\n",
    "str_umap_reduction <- \"umap\"  \n",
    "col_cluster_types <- \"cluster.type\"\n",
    "\n",
    "str_condition <- cancer_type\n",
    "\n",
    "str_condition\n",
    "str_column_of_meta_data_cluster\n",
    "str_umap_reduction\n",
    "col_cluster_types\n",
    "\n",
    "figure_format <- \"pdf\"\n",
    "\n",
    "\n"
   ]
  },
  {
   "cell_type": "markdown",
   "id": "b4121f0a",
   "metadata": {},
   "source": [
    "## set.seed"
   ]
  },
  {
   "cell_type": "code",
   "execution_count": 5,
   "id": "60200569",
   "metadata": {},
   "outputs": [],
   "source": [
    "# set seed for reproducibility\n",
    "set.seed(51)\n",
    "\n"
   ]
  },
  {
   "cell_type": "markdown",
   "id": "8bb58886",
   "metadata": {},
   "source": [
    "## display"
   ]
  },
  {
   "cell_type": "code",
   "execution_count": 6,
   "id": "9dcd2205",
   "metadata": {},
   "outputs": [],
   "source": [
    "options(repr.matrix.max.cols=150, repr.matrix.max.rows=50)\n"
   ]
  },
  {
   "cell_type": "markdown",
   "id": "7d44885a",
   "metadata": {},
   "source": [
    "## nv_cell_type_conversion_table"
   ]
  },
  {
   "cell_type": "code",
   "execution_count": 7,
   "id": "056c4bc9",
   "metadata": {},
   "outputs": [],
   "source": [
    "nv_cell_type_conversion_table <- c(\n",
    "            \"Epithelial cells\"=\"Epi. CNA-\",\n",
    "            \"Normal-like\"=\"Normal-like\",\n",
    "            \"Basal\"=\"Basal\",\n",
    "            \"Her2\"=\"Her2\",\n",
    "            \"LumA\"=\"LumA\",\n",
    "            \"LumB\"=\"LumB\")\n"
   ]
  },
  {
   "cell_type": "markdown",
   "id": "589fe403",
   "metadata": {},
   "source": [
    "# read scRNA-seq"
   ]
  },
  {
   "cell_type": "code",
   "execution_count": 8,
   "id": "d5f0426d",
   "metadata": {},
   "outputs": [
    {
     "data": {
      "text/html": [
       "'/home/hkim77/spanheimer_lab.w/sc-rna-seq/tr-bc/run-20220121/output/rds_er+bc-pairs/er+bc-pairs_sc-rna-seq_merged_seurat_obj.rds'"
      ],
      "text/latex": [
       "'/home/hkim77/spanheimer\\_lab.w/sc-rna-seq/tr-bc/run-20220121/output/rds\\_er+bc-pairs/er+bc-pairs\\_sc-rna-seq\\_merged\\_seurat\\_obj.rds'"
      ],
      "text/markdown": [
       "'/home/hkim77/spanheimer_lab.w/sc-rna-seq/tr-bc/run-20220121/output/rds_er+bc-pairs/er+bc-pairs_sc-rna-seq_merged_seurat_obj.rds'"
      ],
      "text/plain": [
       "[1] \"/home/hkim77/spanheimer_lab.w/sc-rna-seq/tr-bc/run-20220121/output/rds_er+bc-pairs/er+bc-pairs_sc-rna-seq_merged_seurat_obj.rds\""
      ]
     },
     "metadata": {},
     "output_type": "display_data"
    }
   ],
   "source": [
    "\n",
    "dir_rna <- \"/home/hkim77/spanheimer_lab.w/sc-rna-seq/tr-bc/run-20220121\"\n",
    "fname_rna <- sprintf(\"%s/output/rds_%s/%s_sc-rna-seq_merged_seurat_obj.rds\",\n",
    "                     dir_rna, cancer_type, cancer_type)\n",
    "fname_rna\n",
    "\n",
    "rna <- readRDS(fname_rna)\n",
    "\n"
   ]
  },
  {
   "cell_type": "markdown",
   "id": "bd5eb854",
   "metadata": {},
   "source": [
    "https://mojaveazure.github.io/seurat-object/reference/Seurat-methods.html\n",
    "\n",
    "dim: The number of features (nrow) and cells (ncol) for the default assay; note: while the number of features changes depending on the active assay, the number of cells remains the same across all assays\n"
   ]
  },
  {
   "cell_type": "markdown",
   "id": "0e71853e",
   "metadata": {},
   "source": [
    "## mapping sample IDs"
   ]
  },
  {
   "cell_type": "code",
   "execution_count": 9,
   "id": "a2e105e3",
   "metadata": {},
   "outputs": [],
   "source": [
    "df_id_map <- read.table(\"tsv/sample_id_mapping_table.tsv\",\n",
    "                     sep=\"\\t\",\n",
    "                     header=T,\n",
    "                     row.names=1)\n",
    "\n",
    "idx <- match(rna@meta.data[, \"Sample\"], rownames(df_id_map))\n",
    "rna@meta.data[, \"Sample\"] <- df_id_map[idx, 1]\n"
   ]
  },
  {
   "cell_type": "markdown",
   "id": "9f72d42a",
   "metadata": {},
   "source": [
    "## n_samples"
   ]
  },
  {
   "cell_type": "code",
   "execution_count": 10,
   "id": "b8c91128",
   "metadata": {},
   "outputs": [
    {
     "data": {
      "text/html": [
       "<style>\n",
       ".list-inline {list-style: none; margin:0; padding: 0}\n",
       ".list-inline>li {display: inline-block}\n",
       ".list-inline>li:not(:last-child)::after {content: \"\\00b7\"; padding: 0 .5ex}\n",
       "</style>\n",
       "<ol class=list-inline><li>'Tumor_03_Control'</li><li>'Tumor_03_Tamoxifen'</li><li>'Tumor_05_Control'</li><li>'Tumor_05_Tamoxifen'</li><li>'Tumor_06_Control'</li><li>'Tumor_06_Tamoxifen'</li><li>'Tumor_08_Control'</li><li>'Tumor_08_Tamoxifen'</li></ol>\n"
      ],
      "text/latex": [
       "\\begin{enumerate*}\n",
       "\\item 'Tumor\\_03\\_Control'\n",
       "\\item 'Tumor\\_03\\_Tamoxifen'\n",
       "\\item 'Tumor\\_05\\_Control'\n",
       "\\item 'Tumor\\_05\\_Tamoxifen'\n",
       "\\item 'Tumor\\_06\\_Control'\n",
       "\\item 'Tumor\\_06\\_Tamoxifen'\n",
       "\\item 'Tumor\\_08\\_Control'\n",
       "\\item 'Tumor\\_08\\_Tamoxifen'\n",
       "\\end{enumerate*}\n"
      ],
      "text/markdown": [
       "1. 'Tumor_03_Control'\n",
       "2. 'Tumor_03_Tamoxifen'\n",
       "3. 'Tumor_05_Control'\n",
       "4. 'Tumor_05_Tamoxifen'\n",
       "5. 'Tumor_06_Control'\n",
       "6. 'Tumor_06_Tamoxifen'\n",
       "7. 'Tumor_08_Control'\n",
       "8. 'Tumor_08_Tamoxifen'\n",
       "\n",
       "\n"
      ],
      "text/plain": [
       "[1] \"Tumor_03_Control\"   \"Tumor_03_Tamoxifen\" \"Tumor_05_Control\"  \n",
       "[4] \"Tumor_05_Tamoxifen\" \"Tumor_06_Control\"   \"Tumor_06_Tamoxifen\"\n",
       "[7] \"Tumor_08_Control\"   \"Tumor_08_Tamoxifen\""
      ]
     },
     "metadata": {},
     "output_type": "display_data"
    },
    {
     "data": {
      "text/html": [
       "8"
      ],
      "text/latex": [
       "8"
      ],
      "text/markdown": [
       "8"
      ],
      "text/plain": [
       "[1] 8"
      ]
     },
     "metadata": {},
     "output_type": "display_data"
    }
   ],
   "source": [
    "samples <- unique(rna@meta.data$Sample)\n",
    "samples\n",
    "\n",
    "n_samples <- length(samples)\n",
    "n_samples\n"
   ]
  },
  {
   "cell_type": "markdown",
   "id": "2f725871",
   "metadata": {},
   "source": [
    "## mtx"
   ]
  },
  {
   "cell_type": "code",
   "execution_count": 11,
   "id": "c372000e",
   "metadata": {},
   "outputs": [],
   "source": [
    "if (DefaultAssay(rna) == \"integrated\") {\n",
    "    mtx <- GetAssayData(object = rna, assay=NULL, slot = \"data\")\n",
    "} else {\n",
    "    mtx <- GetAssayData(object = rna, assay=\"RNA\", slot = \"data\")\n",
    "}\n"
   ]
  },
  {
   "cell_type": "markdown",
   "id": "d4b1ca83",
   "metadata": {},
   "source": [
    "## list_sort"
   ]
  },
  {
   "cell_type": "code",
   "execution_count": 12,
   "id": "123d3539",
   "metadata": {
    "scrolled": false
   },
   "outputs": [
    {
     "name": "stdout",
     "output_type": "stream",
     "text": [
      "\twarning: cluster.type.skipped: 18-HSC\n"
     ]
    }
   ],
   "source": [
    "\n",
    "list_sort <- sort_cluster_members(rna, args,\n",
    "                    col_cluster_types = col_cluster_types,\n",
    "                    str_umap_reduction = str_umap_reduction,\n",
    "                    f_merge_immune_cell = FALSE)\n"
   ]
  },
  {
   "cell_type": "markdown",
   "id": "65e4d65f",
   "metadata": {},
   "source": [
    "## colors"
   ]
  },
  {
   "cell_type": "markdown",
   "id": "bf96dc41",
   "metadata": {},
   "source": [
    "### samples"
   ]
  },
  {
   "cell_type": "code",
   "execution_count": 13,
   "id": "d82bd376",
   "metadata": {},
   "outputs": [
    {
     "data": {
      "text/html": [
       "<style>\n",
       ".list-inline {list-style: none; margin:0; padding: 0}\n",
       ".list-inline>li {display: inline-block}\n",
       ".list-inline>li:not(:last-child)::after {content: \"\\00b7\"; padding: 0 .5ex}\n",
       "</style>\n",
       "<ol class=list-inline><li>'#A6CEE3'</li><li>'#1F78B4'</li><li>'#B2DF8A'</li><li>'#33A02C'</li><li>'#FB9A99'</li><li>'#E31A1C'</li><li>'#FDBF6F'</li><li>'#FF7F00'</li></ol>\n"
      ],
      "text/latex": [
       "\\begin{enumerate*}\n",
       "\\item '\\#A6CEE3'\n",
       "\\item '\\#1F78B4'\n",
       "\\item '\\#B2DF8A'\n",
       "\\item '\\#33A02C'\n",
       "\\item '\\#FB9A99'\n",
       "\\item '\\#E31A1C'\n",
       "\\item '\\#FDBF6F'\n",
       "\\item '\\#FF7F00'\n",
       "\\end{enumerate*}\n"
      ],
      "text/markdown": [
       "1. '#A6CEE3'\n",
       "2. '#1F78B4'\n",
       "3. '#B2DF8A'\n",
       "4. '#33A02C'\n",
       "5. '#FB9A99'\n",
       "6. '#E31A1C'\n",
       "7. '#FDBF6F'\n",
       "8. '#FF7F00'\n",
       "\n",
       "\n"
      ],
      "text/plain": [
       "[1] \"#A6CEE3\" \"#1F78B4\" \"#B2DF8A\" \"#33A02C\" \"#FB9A99\" \"#E31A1C\" \"#FDBF6F\"\n",
       "[8] \"#FF7F00\""
      ]
     },
     "metadata": {},
     "output_type": "display_data"
    },
    {
     "data": {
      "text/html": [
       "8"
      ],
      "text/latex": [
       "8"
      ],
      "text/markdown": [
       "8"
      ],
      "text/plain": [
       "[1] 8"
      ]
     },
     "metadata": {},
     "output_type": "display_data"
    },
    {
     "data": {
      "image/png": "[encoded data removed]",
      "text/plain": [
       "plot without title"
      ]
     },
     "metadata": {
      "image/png": {
       "height": 420.6,
       "width": 480.6
      }
     },
     "output_type": "display_data"
    }
   ],
   "source": [
    "# make patient sample metadata and color assignments \n",
    "# http://applied-r.com/rcolorbrewer-palettes/\n",
    "\n",
    "if (n_samples <= 4) {\n",
    "    sampleColors <- brewer.pal(12, \"Paired\")\n",
    "    sampleColors <- sampleColors[c(1,5,2,6)]\n",
    "} else if (n_samples <= 12){\n",
    "    sampleColors <- brewer.pal(n_samples, \"Paired\")\n",
    "} else {\n",
    "    vec_color1 <- colorRampPalette(brewer.pal(9, \"Set1\"))(n_samples/2)\n",
    "    vec_color2 <- colorspace::lighten(vec_color1, amount=0.4) \n",
    "    sampleColors <- c(rbind(vec_color1, vec_color2))\n",
    "}\n",
    "\n",
    "sampleColors\n",
    "length(sampleColors)\n",
    "\n",
    "options(repr.plot.width=8.01, repr.plot.height=7.01)\n",
    "pie(rep(1,n_samples), col=sampleColors) \n"
   ]
  },
  {
   "cell_type": "markdown",
   "id": "bbc545c6",
   "metadata": {},
   "source": [
    "### epi"
   ]
  },
  {
   "cell_type": "code",
   "execution_count": 14,
   "id": "a6d4152d",
   "metadata": {},
   "outputs": [
    {
     "data": {
      "text/html": [
       "<style>\n",
       ".list-inline {list-style: none; margin:0; padding: 0}\n",
       ".list-inline>li {display: inline-block}\n",
       ".list-inline>li:not(:last-child)::after {content: \"\\00b7\"; padding: 0 .5ex}\n",
       "</style>\n",
       "<ol class=list-inline><li>'Epithelial cells'</li><li>'Epi. Non-tumor'</li><li>'LEp_prog'</li><li>'LEp_secretory'</li><li>'LEp'</li><li>'LEp_hormone'</li><li>'BEp'</li><li>'BEp_MaSCs'</li><li>'BEp_myo'</li><li>'Epi. Unassigned'</li><li>'Epi. Tumor'</li><li>'Normal-like'</li><li>'NBL'</li><li>'Basal'</li><li>'CLow'</li><li>'Her2E'</li><li>'LumA'</li><li>'LumB'</li><li>'Keratinocytes'</li></ol>\n"
      ],
      "text/latex": [
       "\\begin{enumerate*}\n",
       "\\item 'Epithelial cells'\n",
       "\\item 'Epi. Non-tumor'\n",
       "\\item 'LEp\\_prog'\n",
       "\\item 'LEp\\_secretory'\n",
       "\\item 'LEp'\n",
       "\\item 'LEp\\_hormone'\n",
       "\\item 'BEp'\n",
       "\\item 'BEp\\_MaSCs'\n",
       "\\item 'BEp\\_myo'\n",
       "\\item 'Epi. Unassigned'\n",
       "\\item 'Epi. Tumor'\n",
       "\\item 'Normal-like'\n",
       "\\item 'NBL'\n",
       "\\item 'Basal'\n",
       "\\item 'CLow'\n",
       "\\item 'Her2E'\n",
       "\\item 'LumA'\n",
       "\\item 'LumB'\n",
       "\\item 'Keratinocytes'\n",
       "\\end{enumerate*}\n"
      ],
      "text/markdown": [
       "1. 'Epithelial cells'\n",
       "2. 'Epi. Non-tumor'\n",
       "3. 'LEp_prog'\n",
       "4. 'LEp_secretory'\n",
       "5. 'LEp'\n",
       "6. 'LEp_hormone'\n",
       "7. 'BEp'\n",
       "8. 'BEp_MaSCs'\n",
       "9. 'BEp_myo'\n",
       "10. 'Epi. Unassigned'\n",
       "11. 'Epi. Tumor'\n",
       "12. 'Normal-like'\n",
       "13. 'NBL'\n",
       "14. 'Basal'\n",
       "15. 'CLow'\n",
       "16. 'Her2E'\n",
       "17. 'LumA'\n",
       "18. 'LumB'\n",
       "19. 'Keratinocytes'\n",
       "\n",
       "\n"
      ],
      "text/plain": [
       " [1] \"Epithelial cells\" \"Epi. Non-tumor\"   \"LEp_prog\"         \"LEp_secretory\"   \n",
       " [5] \"LEp\"              \"LEp_hormone\"      \"BEp\"              \"BEp_MaSCs\"       \n",
       " [9] \"BEp_myo\"          \"Epi. Unassigned\"  \"Epi. Tumor\"       \"Normal-like\"     \n",
       "[13] \"NBL\"              \"Basal\"            \"CLow\"             \"Her2E\"           \n",
       "[17] \"LumA\"             \"LumB\"             \"Keratinocytes\"   "
      ]
     },
     "metadata": {},
     "output_type": "display_data"
    },
    {
     "data": {
      "image/png": "[encoded data removed]",
      "text/plain": [
       "plot without title"
      ]
     },
     "metadata": {
      "image/png": {
       "height": 420.6,
       "width": 480.6
      }
     },
     "output_type": "display_data"
    }
   ],
   "source": [
    "idx_epi <- grep(pattern_epi, names(nv_color))\n",
    "names(nv_color)[idx_epi]\n",
    "# http://applied-r.com/rcolorbrewer-palettes/\n",
    "colors_epi <- RColorBrewer::brewer.pal(9, \"Set1\")\n",
    "colors_epi <- colorspace::lighten(colors_epi, amount=0.4)\n",
    "\n",
    "nv_color[\"Epi. Tumor\"] <- \"forestgreen\"\n",
    "\n",
    "nv_color[\"LEp_prog\"] <- \"#b4fd9e\"\n",
    "nv_color[\"LEp\"] <- colors_epi[3]\n",
    "nv_color[\"BEp\"] <- colors_epi[4]\n",
    "\n",
    "nv_color[\"Basal\"] <- colors_epi[1]\n",
    "nv_color[\"Her2E\"] <- colors_epi[6]\n",
    "nv_color[\"Her2\"] <- colors_epi[6]\n",
    "nv_color[\"LumA\"] <- colors_epi[7]\n",
    "nv_color[\"LumB\"] <- colors_epi[5]\n",
    "nv_color[\"Normal-like\"] <- colorspace::darken(colors_epi[3], amount=0.4)\n",
    "\n",
    "pie(rep(1, length(idx_epi)), col=nv_color[idx_epi],\n",
    "       labels=names(nv_color)[idx_epi]) \n"
   ]
  },
  {
   "cell_type": "code",
   "execution_count": 15,
   "id": "40eba03d",
   "metadata": {},
   "outputs": [
    {
     "data": {
      "image/png": "[encoded data removed]",
      "text/plain": [
       "plot without title"
      ]
     },
     "metadata": {
      "image/png": {
       "height": 420.6,
       "width": 480.6
      }
     },
     "output_type": "display_data"
    }
   ],
   "source": [
    "list_sort <- update_nv_color_cell_type(list_sort)\n",
    "colors_epi <- list_sort$nv_color_cell_type\n",
    "\n",
    "pie(rep(1, length(colors_epi)), col=colors_epi,\n",
    "       labels=names(colors_epi)) \n"
   ]
  },
  {
   "cell_type": "markdown",
   "id": "e245872c",
   "metadata": {},
   "source": [
    "### cell.type"
   ]
  },
  {
   "cell_type": "code",
   "execution_count": 16,
   "id": "57d6d598",
   "metadata": {},
   "outputs": [
    {
     "data": {
      "image/png": "[encoded data removed]",
      "text/plain": [
       "plot without title"
      ]
     },
     "metadata": {
      "image/png": {
       "height": 420.6,
       "width": 480.6
      }
     },
     "output_type": "display_data"
    }
   ],
   "source": [
    "options(repr.plot.width=8.01, repr.plot.height=7.01)\n",
    "pie(rep(1, length(list_sort$nv_color_cluster_type_ordered)),\n",
    "    col=list_sort$nv_color_cluster_type_ordered) \n"
   ]
  },
  {
   "cell_type": "markdown",
   "id": "9e280c46",
   "metadata": {},
   "source": [
    "# DGE"
   ]
  },
  {
   "cell_type": "markdown",
   "id": "1972e284",
   "metadata": {},
   "source": [
    "## gmt"
   ]
  },
  {
   "cell_type": "code",
   "execution_count": 17,
   "id": "e758e27d",
   "metadata": {},
   "outputs": [],
   "source": [
    "\n",
    "list_gmt <- list()\n",
    "list_gmt[[\"h\"]] <- read.gmt(\"reference/gmt/h.all.v6.1.symbols.gmt\")\n",
    "list_gmt[[\"unc_lccc\"]] <- read.gmt(\"reference/gmt/unc_lccc_human_gene_signatures.gmt\")\n",
    "\n"
   ]
  },
  {
   "cell_type": "markdown",
   "id": "6e32d75c",
   "metadata": {},
   "source": [
    "## type_condition"
   ]
  },
  {
   "cell_type": "code",
   "execution_count": 18,
   "id": "14129e39",
   "metadata": {},
   "outputs": [],
   "source": [
    "\n",
    "method_dge <- \"seurat_findmarkers_enricher\"\n",
    "dir_xlsx <- \"xlsx\"\n",
    "\n",
    "list_genes_dn <- list()\n",
    "\n",
    "\n",
    "# additional conditions \n",
    "genes <- NULL\n",
    "str_cond1 <- NULL\n",
    "str_cond_ref <- NULL\n",
    "type_condition <- \"none\"\n",
    "\n"
   ]
  },
  {
   "cell_type": "markdown",
   "id": "3c7c0718",
   "metadata": {},
   "source": [
    "## cluster 2 vs. cluster 3"
   ]
  },
  {
   "cell_type": "code",
   "execution_count": 19,
   "id": "bf62bdf3",
   "metadata": {},
   "outputs": [],
   "source": [
    "# tumor pairs with large differences\n",
    "\n",
    "sample1 <- NULL\n",
    "sample_ref <- NULL\n",
    "\n",
    "th_log2fc_=0.25; th_padj_=0.01\n",
    "min.pct_=0.25; min.diff.pct_=-Inf; max.cells.per.ident_=Inf\n",
    "\n",
    "f_featureplot=FALSE\n",
    "n_sampling=-1\n",
    "cluster_rows=FALSE\n",
    "\n",
    "pattern_sample1 <- \"Tamoxifen\"\n",
    "pattern_sample_ref <- \"Tamoxifen\"\n",
    "\n",
    "drug_name <- \"tamoxifen\"\n",
    "\n",
    "clusters1 <- c(3)  # 2 vs. 3 LumA, n=865\n",
    "#clusters1 <- c(12)  # 2 vs. 12 LumA, n=345\n",
    "#clusters1 <- c(3,12)  # 2 vs. (3+12) LumA, n=1210\n",
    "#clusters1 <- c(19)  # 2 vs. 19 LumB, n=100\n",
    "\n",
    "clusters_ref <- c(2) # reponsive, n=2100\n",
    "\n",
    "group_name1 <- sprintf(\"cluster%s\", paste(clusters1, collapse=\",\"))\n",
    "group_name_ref <- sprintf(\"cluster%s\", paste(clusters_ref, collapse=\",\"))\n",
    "\n",
    "col_cluster_types_ <- NULL\n",
    "col_cell_types_ <- \"cell.type\"\n",
    "\n"
   ]
  },
  {
   "cell_type": "code",
   "execution_count": 20,
   "id": "77033119",
   "metadata": {},
   "outputs": [
    {
     "name": "stdout",
     "output_type": "stream",
     "text": [
      "drug_name=tamoxifen\n",
      "pattern_sample1=Tamoxifen\n",
      "pattern_sample_ref=Tamoxifen\n",
      "\t\tgroup_name1=cluster3\n",
      "\t\tgroup_name_ref=cluster2\n",
      "\t\tcol_cell_types_=cell.type\n",
      "\t\tth_log2fc=0.25\n",
      "\t\tth_padj=0.01\n",
      "\t\tmin.pct=0.25\n",
      "\t\tmin.diff.pct=-Inf\n",
      "\t\tmax.cells.per.ident=Inf\n",
      "\t\tmethod_dge=seurat_findmarkers_enricher\n",
      "\t\ttype_condition=none\n",
      "\t\tgenes=\n"
     ]
    }
   ],
   "source": [
    "\n",
    "cat(sprintf(\"sample1=%s\\n\", sample1))\n",
    "cat(sprintf(\"sample_ref=%s\\n\", sample_ref))\n",
    "\n",
    "cat(sprintf(\"drug_name=%s\\n\", drug_name))\n",
    "cat(sprintf(\"pattern_sample1=%s\\n\", pattern_sample1))\n",
    "cat(sprintf(\"pattern_sample_ref=%s\\n\", pattern_sample_ref))\n",
    "\n",
    "    cat(sprintf(\"\\t\\tgroup_name1=%s\\n\", group_name1))\n",
    "    cat(sprintf(\"\\t\\tgroup_name_ref=%s\\n\", group_name_ref))\n",
    "    cat(sprintf(\"\\t\\tcol_cluster_types_=%s\\n\", col_cluster_types_))\n",
    "    cat(sprintf(\"\\t\\tcol_cell_types_=%s\\n\", col_cell_types_))\n",
    "\n",
    "    cat(sprintf(\"\\t\\tth_log2fc=%g\\n\", th_log2fc_))\n",
    "    cat(sprintf(\"\\t\\tth_padj=%g\\n\", th_padj_))\n",
    "    cat(sprintf(\"\\t\\tmin.pct=%g\\n\", min.pct_))\n",
    "    cat(sprintf(\"\\t\\tmin.diff.pct=%g\\n\", min.diff.pct_))\n",
    "    cat(sprintf(\"\\t\\tmax.cells.per.ident=%g\\n\", max.cells.per.ident_))\n",
    "    cat(sprintf(\"\\t\\tmethod_dge=%s\\n\", method_dge))\n",
    "\n",
    "    cat(sprintf(\"\\t\\ttype_condition=%s\\n\", type_condition))\n",
    "    cat(sprintf(\"\\t\\tgenes=%s\\n\", paste(genes, collapse=\", \")))\n",
    "    cat(sprintf(\"\\t\\tstr_cond1=%s\\n\", str_cond1))\n",
    "    cat(sprintf(\"\\t\\tstr_cond_ref=%s\\n\", str_cond_ref))\n",
    "\n"
   ]
  },
  {
   "cell_type": "code",
   "execution_count": 21,
   "id": "217ec52d",
   "metadata": {
    "scrolled": false
   },
   "outputs": [
    {
     "data": {
      "text/html": [
       "seurat_findmarkers_enricher<br>&nbsp;&nbsp;&nbsp;&nbsp;&nbsp;&nbsp;&nbsp;&nbsp;col_log2fc=avg_log2FC<br>&nbsp;&nbsp;&nbsp;&nbsp;&nbsp;&nbsp;&nbsp;&nbsp;col_pvalue=p_val<br>&nbsp;&nbsp;&nbsp;&nbsp;&nbsp;&nbsp;&nbsp;&nbsp;col_padj=p_val_adj<br>&nbsp;&nbsp;&nbsp;&nbsp;&nbsp;&nbsp;&nbsp;&nbsp;th_log2fc=0.25<br>&nbsp;&nbsp;&nbsp;&nbsp;&nbsp;&nbsp;&nbsp;&nbsp;th_padj=0.01<br>"
      ]
     },
     "metadata": {},
     "output_type": "display_data"
    },
    {
     "data": {
      "text/html": [
       "df_up"
      ]
     },
     "metadata": {},
     "output_type": "display_data"
    },
    {
     "data": {
      "text/html": [
       "<table class=\"dataframe\">\n",
       "<caption>A data.frame: 6 × 8</caption>\n",
       "<thead>\n",
       "\t<tr><th></th><th scope=col>p_val</th><th scope=col>avg_log2FC</th><th scope=col>pct.1</th><th scope=col>pct.2</th><th scope=col>p_val_adj</th><th scope=col>expr_min</th><th scope=col>expr_mean</th><th scope=col>expr_max</th></tr>\n",
       "\t<tr><th></th><th scope=col>&lt;dbl&gt;</th><th scope=col>&lt;dbl&gt;</th><th scope=col>&lt;dbl&gt;</th><th scope=col>&lt;dbl&gt;</th><th scope=col>&lt;dbl&gt;</th><th scope=col>&lt;dbl&gt;</th><th scope=col>&lt;dbl&gt;</th><th scope=col>&lt;dbl&gt;</th></tr>\n",
       "</thead>\n",
       "<tbody>\n",
       "\t<tr><th scope=row>ACTB</th><td>6.808906e-193</td><td>1.4023918</td><td>1.000</td><td>0.977</td><td>1.654973e-188</td><td> 0.8691134</td><td>2.8248663</td><td>4.089300</td></tr>\n",
       "\t<tr><th scope=row>MAP9</th><td>7.315661e-170</td><td>0.3318075</td><td>0.418</td><td>0.007</td><td>1.778144e-165</td><td>-0.3407625</td><td>0.1821948</td><td>1.626550</td></tr>\n",
       "\t<tr><th scope=row>MYL6</th><td>6.059284e-160</td><td>0.9252911</td><td>1.000</td><td>1.000</td><td>1.472770e-155</td><td> 0.8082293</td><td>3.1149004</td><td>4.106468</td></tr>\n",
       "\t<tr><th scope=row>PKIB</th><td>1.166690e-151</td><td>0.4605322</td><td>0.521</td><td>0.034</td><td>2.835757e-147</td><td>-0.3844361</td><td>0.2668200</td><td>1.676520</td></tr>\n",
       "\t<tr><th scope=row>ME1</th><td>3.852815e-150</td><td>0.2576544</td><td>0.382</td><td>0.001</td><td>9.364651e-146</td><td>-0.1422437</td><td>0.1420609</td><td>1.478560</td></tr>\n",
       "\t<tr><th scope=row>MARCKS</th><td>9.407972e-148</td><td>0.5061800</td><td>0.623</td><td>0.038</td><td>2.286702e-143</td><td>-0.6267424</td><td>0.2951444</td><td>1.910405</td></tr>\n",
       "</tbody>\n",
       "</table>\n"
      ],
      "text/latex": [
       "A data.frame: 6 × 8\n",
       "\\begin{tabular}{r|llllllll}\n",
       "  & p\\_val & avg\\_log2FC & pct.1 & pct.2 & p\\_val\\_adj & expr\\_min & expr\\_mean & expr\\_max\\\\\n",
       "  & <dbl> & <dbl> & <dbl> & <dbl> & <dbl> & <dbl> & <dbl> & <dbl>\\\\\n",
       "\\hline\n",
       "\tACTB & 6.808906e-193 & 1.4023918 & 1.000 & 0.977 & 1.654973e-188 &  0.8691134 & 2.8248663 & 4.089300\\\\\n",
       "\tMAP9 & 7.315661e-170 & 0.3318075 & 0.418 & 0.007 & 1.778144e-165 & -0.3407625 & 0.1821948 & 1.626550\\\\\n",
       "\tMYL6 & 6.059284e-160 & 0.9252911 & 1.000 & 1.000 & 1.472770e-155 &  0.8082293 & 3.1149004 & 4.106468\\\\\n",
       "\tPKIB & 1.166690e-151 & 0.4605322 & 0.521 & 0.034 & 2.835757e-147 & -0.3844361 & 0.2668200 & 1.676520\\\\\n",
       "\tME1 & 3.852815e-150 & 0.2576544 & 0.382 & 0.001 & 9.364651e-146 & -0.1422437 & 0.1420609 & 1.478560\\\\\n",
       "\tMARCKS & 9.407972e-148 & 0.5061800 & 0.623 & 0.038 & 2.286702e-143 & -0.6267424 & 0.2951444 & 1.910405\\\\\n",
       "\\end{tabular}\n"
      ],
      "text/markdown": [
       "\n",
       "A data.frame: 6 × 8\n",
       "\n",
       "| <!--/--> | p_val &lt;dbl&gt; | avg_log2FC &lt;dbl&gt; | pct.1 &lt;dbl&gt; | pct.2 &lt;dbl&gt; | p_val_adj &lt;dbl&gt; | expr_min &lt;dbl&gt; | expr_mean &lt;dbl&gt; | expr_max &lt;dbl&gt; |\n",
       "|---|---|---|---|---|---|---|---|---|\n",
       "| ACTB | 6.808906e-193 | 1.4023918 | 1.000 | 0.977 | 1.654973e-188 |  0.8691134 | 2.8248663 | 4.089300 |\n",
       "| MAP9 | 7.315661e-170 | 0.3318075 | 0.418 | 0.007 | 1.778144e-165 | -0.3407625 | 0.1821948 | 1.626550 |\n",
       "| MYL6 | 6.059284e-160 | 0.9252911 | 1.000 | 1.000 | 1.472770e-155 |  0.8082293 | 3.1149004 | 4.106468 |\n",
       "| PKIB | 1.166690e-151 | 0.4605322 | 0.521 | 0.034 | 2.835757e-147 | -0.3844361 | 0.2668200 | 1.676520 |\n",
       "| ME1 | 3.852815e-150 | 0.2576544 | 0.382 | 0.001 | 9.364651e-146 | -0.1422437 | 0.1420609 | 1.478560 |\n",
       "| MARCKS | 9.407972e-148 | 0.5061800 | 0.623 | 0.038 | 2.286702e-143 | -0.6267424 | 0.2951444 | 1.910405 |\n",
       "\n"
      ],
      "text/plain": [
       "       p_val         avg_log2FC pct.1 pct.2 p_val_adj     expr_min   expr_mean\n",
       "ACTB   6.808906e-193 1.4023918  1.000 0.977 1.654973e-188  0.8691134 2.8248663\n",
       "MAP9   7.315661e-170 0.3318075  0.418 0.007 1.778144e-165 -0.3407625 0.1821948\n",
       "MYL6   6.059284e-160 0.9252911  1.000 1.000 1.472770e-155  0.8082293 3.1149004\n",
       "PKIB   1.166690e-151 0.4605322  0.521 0.034 2.835757e-147 -0.3844361 0.2668200\n",
       "ME1    3.852815e-150 0.2576544  0.382 0.001 9.364651e-146 -0.1422437 0.1420609\n",
       "MARCKS 9.407972e-148 0.5061800  0.623 0.038 2.286702e-143 -0.6267424 0.2951444\n",
       "       expr_max\n",
       "ACTB   4.089300\n",
       "MAP9   1.626550\n",
       "MYL6   4.106468\n",
       "PKIB   1.676520\n",
       "ME1    1.478560\n",
       "MARCKS 1.910405"
      ]
     },
     "metadata": {},
     "output_type": "display_data"
    },
    {
     "data": {
      "text/html": [
       "<style>\n",
       ".list-inline {list-style: none; margin:0; padding: 0}\n",
       ".list-inline>li {display: inline-block}\n",
       ".list-inline>li:not(:last-child)::after {content: \"\\00b7\"; padding: 0 .5ex}\n",
       "</style>\n",
       "<ol class=list-inline><li>603</li><li>8</li></ol>\n"
      ],
      "text/latex": [
       "\\begin{enumerate*}\n",
       "\\item 603\n",
       "\\item 8\n",
       "\\end{enumerate*}\n"
      ],
      "text/markdown": [
       "1. 603\n",
       "2. 8\n",
       "\n",
       "\n"
      ],
      "text/plain": [
       "[1] 603   8"
      ]
     },
     "metadata": {},
     "output_type": "display_data"
    },
    {
     "data": {
      "text/html": [
       "df_dn"
      ]
     },
     "metadata": {},
     "output_type": "display_data"
    },
    {
     "data": {
      "text/html": [
       "<table class=\"dataframe\">\n",
       "<caption>A data.frame: 6 × 8</caption>\n",
       "<thead>\n",
       "\t<tr><th></th><th scope=col>p_val</th><th scope=col>avg_log2FC</th><th scope=col>pct.1</th><th scope=col>pct.2</th><th scope=col>p_val_adj</th><th scope=col>expr_min</th><th scope=col>expr_mean</th><th scope=col>expr_max</th></tr>\n",
       "\t<tr><th></th><th scope=col>&lt;dbl&gt;</th><th scope=col>&lt;dbl&gt;</th><th scope=col>&lt;dbl&gt;</th><th scope=col>&lt;dbl&gt;</th><th scope=col>&lt;dbl&gt;</th><th scope=col>&lt;dbl&gt;</th><th scope=col>&lt;dbl&gt;</th><th scope=col>&lt;dbl&gt;</th></tr>\n",
       "</thead>\n",
       "<tbody>\n",
       "\t<tr><th scope=row>SLC3A2</th><td>4.077649e-216</td><td>-1.404636</td><td>0.954</td><td>1.000</td><td>9.911133e-212</td><td>0</td><td>2.00442304</td><td>4.055056</td></tr>\n",
       "\t<tr><th scope=row>MT1G</th><td>2.351338e-204</td><td>-3.923986</td><td>0.030</td><td>0.809</td><td>5.715163e-200</td><td>0</td><td>0.03373129</td><td>2.357016</td></tr>\n",
       "\t<tr><th scope=row>MTRNR2L8</th><td>3.295584e-202</td><td>-2.086704</td><td>0.248</td><td>1.000</td><td>8.010247e-198</td><td>0</td><td>0.63766998</td><td>4.351839</td></tr>\n",
       "\t<tr><th scope=row>NUPR1</th><td>1.764460e-193</td><td>-1.562209</td><td>0.443</td><td>1.000</td><td>4.288696e-189</td><td>0</td><td>1.11072400</td><td>5.360088</td></tr>\n",
       "\t<tr><th scope=row>HSPA5</th><td>1.098809e-191</td><td>-1.682083</td><td>0.716</td><td>0.998</td><td>2.670766e-187</td><td>0</td><td>1.28477873</td><td>3.872525</td></tr>\n",
       "\t<tr><th scope=row>HERPUD1</th><td>2.439895e-182</td><td>-1.514899</td><td>0.339</td><td>0.970</td><td>5.930410e-178</td><td>0</td><td>0.42779816</td><td>2.970285</td></tr>\n",
       "</tbody>\n",
       "</table>\n"
      ],
      "text/latex": [
       "A data.frame: 6 × 8\n",
       "\\begin{tabular}{r|llllllll}\n",
       "  & p\\_val & avg\\_log2FC & pct.1 & pct.2 & p\\_val\\_adj & expr\\_min & expr\\_mean & expr\\_max\\\\\n",
       "  & <dbl> & <dbl> & <dbl> & <dbl> & <dbl> & <dbl> & <dbl> & <dbl>\\\\\n",
       "\\hline\n",
       "\tSLC3A2 & 4.077649e-216 & -1.404636 & 0.954 & 1.000 & 9.911133e-212 & 0 & 2.00442304 & 4.055056\\\\\n",
       "\tMT1G & 2.351338e-204 & -3.923986 & 0.030 & 0.809 & 5.715163e-200 & 0 & 0.03373129 & 2.357016\\\\\n",
       "\tMTRNR2L8 & 3.295584e-202 & -2.086704 & 0.248 & 1.000 & 8.010247e-198 & 0 & 0.63766998 & 4.351839\\\\\n",
       "\tNUPR1 & 1.764460e-193 & -1.562209 & 0.443 & 1.000 & 4.288696e-189 & 0 & 1.11072400 & 5.360088\\\\\n",
       "\tHSPA5 & 1.098809e-191 & -1.682083 & 0.716 & 0.998 & 2.670766e-187 & 0 & 1.28477873 & 3.872525\\\\\n",
       "\tHERPUD1 & 2.439895e-182 & -1.514899 & 0.339 & 0.970 & 5.930410e-178 & 0 & 0.42779816 & 2.970285\\\\\n",
       "\\end{tabular}\n"
      ],
      "text/markdown": [
       "\n",
       "A data.frame: 6 × 8\n",
       "\n",
       "| <!--/--> | p_val &lt;dbl&gt; | avg_log2FC &lt;dbl&gt; | pct.1 &lt;dbl&gt; | pct.2 &lt;dbl&gt; | p_val_adj &lt;dbl&gt; | expr_min &lt;dbl&gt; | expr_mean &lt;dbl&gt; | expr_max &lt;dbl&gt; |\n",
       "|---|---|---|---|---|---|---|---|---|\n",
       "| SLC3A2 | 4.077649e-216 | -1.404636 | 0.954 | 1.000 | 9.911133e-212 | 0 | 2.00442304 | 4.055056 |\n",
       "| MT1G | 2.351338e-204 | -3.923986 | 0.030 | 0.809 | 5.715163e-200 | 0 | 0.03373129 | 2.357016 |\n",
       "| MTRNR2L8 | 3.295584e-202 | -2.086704 | 0.248 | 1.000 | 8.010247e-198 | 0 | 0.63766998 | 4.351839 |\n",
       "| NUPR1 | 1.764460e-193 | -1.562209 | 0.443 | 1.000 | 4.288696e-189 | 0 | 1.11072400 | 5.360088 |\n",
       "| HSPA5 | 1.098809e-191 | -1.682083 | 0.716 | 0.998 | 2.670766e-187 | 0 | 1.28477873 | 3.872525 |\n",
       "| HERPUD1 | 2.439895e-182 | -1.514899 | 0.339 | 0.970 | 5.930410e-178 | 0 | 0.42779816 | 2.970285 |\n",
       "\n"
      ],
      "text/plain": [
       "         p_val         avg_log2FC pct.1 pct.2 p_val_adj     expr_min expr_mean \n",
       "SLC3A2   4.077649e-216 -1.404636  0.954 1.000 9.911133e-212 0        2.00442304\n",
       "MT1G     2.351338e-204 -3.923986  0.030 0.809 5.715163e-200 0        0.03373129\n",
       "MTRNR2L8 3.295584e-202 -2.086704  0.248 1.000 8.010247e-198 0        0.63766998\n",
       "NUPR1    1.764460e-193 -1.562209  0.443 1.000 4.288696e-189 0        1.11072400\n",
       "HSPA5    1.098809e-191 -1.682083  0.716 0.998 2.670766e-187 0        1.28477873\n",
       "HERPUD1  2.439895e-182 -1.514899  0.339 0.970 5.930410e-178 0        0.42779816\n",
       "         expr_max\n",
       "SLC3A2   4.055056\n",
       "MT1G     2.357016\n",
       "MTRNR2L8 4.351839\n",
       "NUPR1    5.360088\n",
       "HSPA5    3.872525\n",
       "HERPUD1  2.970285"
      ]
     },
     "metadata": {},
     "output_type": "display_data"
    },
    {
     "data": {
      "text/html": [
       "<style>\n",
       ".list-inline {list-style: none; margin:0; padding: 0}\n",
       ".list-inline>li {display: inline-block}\n",
       ".list-inline>li:not(:last-child)::after {content: \"\\00b7\"; padding: 0 .5ex}\n",
       "</style>\n",
       "<ol class=list-inline><li>637</li><li>8</li></ol>\n"
      ],
      "text/latex": [
       "\\begin{enumerate*}\n",
       "\\item 637\n",
       "\\item 8\n",
       "\\end{enumerate*}\n"
      ],
      "text/markdown": [
       "1. 637\n",
       "2. 8\n",
       "\n",
       "\n"
      ],
      "text/plain": [
       "[1] 637   8"
      ]
     },
     "metadata": {},
     "output_type": "display_data"
    },
    {
     "data": {
      "text/html": [
       "<hr style=\"height:1px\">"
      ]
     },
     "metadata": {},
     "output_type": "display_data"
    },
    {
     "data": {
      "text/html": [
       "up h"
      ]
     },
     "metadata": {},
     "output_type": "display_data"
    },
    {
     "data": {
      "text/html": [
       "<table class=\"dataframe\">\n",
       "<caption>A data.frame: 5 × 9</caption>\n",
       "<thead>\n",
       "\t<tr><th></th><th scope=col>ID</th><th scope=col>Description</th><th scope=col>GeneRatio</th><th scope=col>BgRatio</th><th scope=col>pvalue</th><th scope=col>p.adjust</th><th scope=col>qvalue</th><th scope=col>geneID</th><th scope=col>Count</th></tr>\n",
       "\t<tr><th></th><th scope=col>&lt;chr&gt;</th><th scope=col>&lt;chr&gt;</th><th scope=col>&lt;chr&gt;</th><th scope=col>&lt;chr&gt;</th><th scope=col>&lt;dbl&gt;</th><th scope=col>&lt;dbl&gt;</th><th scope=col>&lt;dbl&gt;</th><th scope=col>&lt;chr&gt;</th><th scope=col>&lt;int&gt;</th></tr>\n",
       "</thead>\n",
       "<tbody>\n",
       "\t<tr><th scope=row>HALLMARK_OXIDATIVE_PHOSPHORYLATION</th><td>HALLMARK_OXIDATIVE_PHOSPHORYLATION</td><td>HALLMARK_OXIDATIVE_PHOSPHORYLATION</td><td>38/298</td><td>200/4386</td><td>2.654587e-09</td><td>1.327294e-07</td><td>1.061835e-07</td><td>ATP6V0E1/CPT1A/LDHB/NDUFA4/NDUFB3/LDHA/COX6B1/ATP1B1/NDUFV2/NDUFC2/COX6C/COX7A2/MGST3/NDUFS6/GPI/UQCR10/COX6A1/UQCR11/NDUFB2/UQCRH/NDUFB4/UQCRQ/NDUFA2/COX7B/COX5A/NDUFAB1/NDUFB1/NDUFC1/COX5B/TIMM8B/COX4I1/NDUFB6/CYB5A/SDHC/NDUFA8/NDUFA3/IDH2/NDUFB7</td><td>38</td></tr>\n",
       "\t<tr><th scope=row>HALLMARK_MYC_TARGETS_V1</th><td>HALLMARK_MYC_TARGETS_V1           </td><td>HALLMARK_MYC_TARGETS_V1           </td><td>36/298</td><td>200/4386</td><td>3.235485e-08</td><td>8.088711e-07</td><td>6.470969e-07</td><td>HSPE1/LDHA/PPIA/RAN/PSMB3/SRSF2/PSMA7/NHP2/SET/YWHAE/SNRPD1/NME1/SSBP1/SRSF3/COX5A/HDAC2/SNRPG/PGK1/NDUFAB1/SNRPD3/CCT2/XPO1/PSMA1/C1QBP/CCT3/EIF4A1/SNRPD2/HNRNPA2B1/PSMB2/PSMA4/SRSF7/NOP56/PHB/HNRNPD/UBE2L3/LSM2                                    </td><td>36</td></tr>\n",
       "\t<tr><th scope=row>HALLMARK_ESTROGEN_RESPONSE_EARLY</th><td>HALLMARK_ESTROGEN_RESPONSE_EARLY  </td><td>HALLMARK_ESTROGEN_RESPONSE_EARLY  </td><td>29/298</td><td>200/4386</td><td>6.250329e-05</td><td>7.812911e-04</td><td>6.250329e-04</td><td>CISH/KRT15/KRT19/KRT8/CCND1/TSKU/NPY1R/LAD1/HSPB8/TGM2/PRSS23/SLC9A3R1/INHBB/RARA/MUC1/ABHD2/AMFR/IGFBP4/TFF3/SLC7A2/PEX11A/MYOF/SCNN1A/RHOBTB3/KRT18/TFF1/FKBP4/CLDN7/XBP1                                                                             </td><td>29</td></tr>\n",
       "\t<tr><th scope=row>HALLMARK_ESTROGEN_RESPONSE_LATE</th><td>HALLMARK_ESTROGEN_RESPONSE_LATE   </td><td>HALLMARK_ESTROGEN_RESPONSE_LATE   </td><td>29/298</td><td>200/4386</td><td>6.250329e-05</td><td>7.812911e-04</td><td>6.250329e-04</td><td>BTG3/CISH/CPE/KRT19/CCND1/NPY1R/MDK/HSPB8/FABP5/ATP2B4/CD9/PRSS23/SLC9A3R1/COX6C/S100A9/MOCS2/CDH1/ABHD2/AMFR/IGFBP4/TFF3/MYOF/SCNN1A/CXCL14/BATF/TFF1/FKBP4/IDH2/XBP1                                                                                  </td><td>29</td></tr>\n",
       "\t<tr><th scope=row>HALLMARK_MTORC1_SIGNALING</th><td>HALLMARK_MTORC1_SIGNALING         </td><td>HALLMARK_MTORC1_SIGNALING         </td><td>27/298</td><td>200/4386</td><td>3.779901e-04</td><td>3.779901e-03</td><td>3.023921e-03</td><td>ME1/PLOD2/FADS2/FADS1/STC1/HSPE1/TPI1/LDHA/PRDX1/CD9/PPIA/SLC9A3R1/SCD/PPA1/GPI/GLRX/ENO1/EGLN3/GAPDH/CACYBP/PGK1/STIP1/TES/CCT6A/PSMA4/XBP1/HSPA4                                                                                                      </td><td>27</td></tr>\n",
       "</tbody>\n",
       "</table>\n"
      ],
      "text/latex": [
       "A data.frame: 5 × 9\n",
       "\\begin{tabular}{r|lllllllll}\n",
       "  & ID & Description & GeneRatio & BgRatio & pvalue & p.adjust & qvalue & geneID & Count\\\\\n",
       "  & <chr> & <chr> & <chr> & <chr> & <dbl> & <dbl> & <dbl> & <chr> & <int>\\\\\n",
       "\\hline\n",
       "\tHALLMARK\\_OXIDATIVE\\_PHOSPHORYLATION & HALLMARK\\_OXIDATIVE\\_PHOSPHORYLATION & HALLMARK\\_OXIDATIVE\\_PHOSPHORYLATION & 38/298 & 200/4386 & 2.654587e-09 & 1.327294e-07 & 1.061835e-07 & ATP6V0E1/CPT1A/LDHB/NDUFA4/NDUFB3/LDHA/COX6B1/ATP1B1/NDUFV2/NDUFC2/COX6C/COX7A2/MGST3/NDUFS6/GPI/UQCR10/COX6A1/UQCR11/NDUFB2/UQCRH/NDUFB4/UQCRQ/NDUFA2/COX7B/COX5A/NDUFAB1/NDUFB1/NDUFC1/COX5B/TIMM8B/COX4I1/NDUFB6/CYB5A/SDHC/NDUFA8/NDUFA3/IDH2/NDUFB7 & 38\\\\\n",
       "\tHALLMARK\\_MYC\\_TARGETS\\_V1 & HALLMARK\\_MYC\\_TARGETS\\_V1            & HALLMARK\\_MYC\\_TARGETS\\_V1            & 36/298 & 200/4386 & 3.235485e-08 & 8.088711e-07 & 6.470969e-07 & HSPE1/LDHA/PPIA/RAN/PSMB3/SRSF2/PSMA7/NHP2/SET/YWHAE/SNRPD1/NME1/SSBP1/SRSF3/COX5A/HDAC2/SNRPG/PGK1/NDUFAB1/SNRPD3/CCT2/XPO1/PSMA1/C1QBP/CCT3/EIF4A1/SNRPD2/HNRNPA2B1/PSMB2/PSMA4/SRSF7/NOP56/PHB/HNRNPD/UBE2L3/LSM2                                     & 36\\\\\n",
       "\tHALLMARK\\_ESTROGEN\\_RESPONSE\\_EARLY & HALLMARK\\_ESTROGEN\\_RESPONSE\\_EARLY   & HALLMARK\\_ESTROGEN\\_RESPONSE\\_EARLY   & 29/298 & 200/4386 & 6.250329e-05 & 7.812911e-04 & 6.250329e-04 & CISH/KRT15/KRT19/KRT8/CCND1/TSKU/NPY1R/LAD1/HSPB8/TGM2/PRSS23/SLC9A3R1/INHBB/RARA/MUC1/ABHD2/AMFR/IGFBP4/TFF3/SLC7A2/PEX11A/MYOF/SCNN1A/RHOBTB3/KRT18/TFF1/FKBP4/CLDN7/XBP1                                                                              & 29\\\\\n",
       "\tHALLMARK\\_ESTROGEN\\_RESPONSE\\_LATE & HALLMARK\\_ESTROGEN\\_RESPONSE\\_LATE    & HALLMARK\\_ESTROGEN\\_RESPONSE\\_LATE    & 29/298 & 200/4386 & 6.250329e-05 & 7.812911e-04 & 6.250329e-04 & BTG3/CISH/CPE/KRT19/CCND1/NPY1R/MDK/HSPB8/FABP5/ATP2B4/CD9/PRSS23/SLC9A3R1/COX6C/S100A9/MOCS2/CDH1/ABHD2/AMFR/IGFBP4/TFF3/MYOF/SCNN1A/CXCL14/BATF/TFF1/FKBP4/IDH2/XBP1                                                                                   & 29\\\\\n",
       "\tHALLMARK\\_MTORC1\\_SIGNALING & HALLMARK\\_MTORC1\\_SIGNALING          & HALLMARK\\_MTORC1\\_SIGNALING          & 27/298 & 200/4386 & 3.779901e-04 & 3.779901e-03 & 3.023921e-03 & ME1/PLOD2/FADS2/FADS1/STC1/HSPE1/TPI1/LDHA/PRDX1/CD9/PPIA/SLC9A3R1/SCD/PPA1/GPI/GLRX/ENO1/EGLN3/GAPDH/CACYBP/PGK1/STIP1/TES/CCT6A/PSMA4/XBP1/HSPA4                                                                                                       & 27\\\\\n",
       "\\end{tabular}\n"
      ],
      "text/markdown": [
       "\n",
       "A data.frame: 5 × 9\n",
       "\n",
       "| <!--/--> | ID &lt;chr&gt; | Description &lt;chr&gt; | GeneRatio &lt;chr&gt; | BgRatio &lt;chr&gt; | pvalue &lt;dbl&gt; | p.adjust &lt;dbl&gt; | qvalue &lt;dbl&gt; | geneID &lt;chr&gt; | Count &lt;int&gt; |\n",
       "|---|---|---|---|---|---|---|---|---|---|\n",
       "| HALLMARK_OXIDATIVE_PHOSPHORYLATION | HALLMARK_OXIDATIVE_PHOSPHORYLATION | HALLMARK_OXIDATIVE_PHOSPHORYLATION | 38/298 | 200/4386 | 2.654587e-09 | 1.327294e-07 | 1.061835e-07 | ATP6V0E1/CPT1A/LDHB/NDUFA4/NDUFB3/LDHA/COX6B1/ATP1B1/NDUFV2/NDUFC2/COX6C/COX7A2/MGST3/NDUFS6/GPI/UQCR10/COX6A1/UQCR11/NDUFB2/UQCRH/NDUFB4/UQCRQ/NDUFA2/COX7B/COX5A/NDUFAB1/NDUFB1/NDUFC1/COX5B/TIMM8B/COX4I1/NDUFB6/CYB5A/SDHC/NDUFA8/NDUFA3/IDH2/NDUFB7 | 38 |\n",
       "| HALLMARK_MYC_TARGETS_V1 | HALLMARK_MYC_TARGETS_V1            | HALLMARK_MYC_TARGETS_V1            | 36/298 | 200/4386 | 3.235485e-08 | 8.088711e-07 | 6.470969e-07 | HSPE1/LDHA/PPIA/RAN/PSMB3/SRSF2/PSMA7/NHP2/SET/YWHAE/SNRPD1/NME1/SSBP1/SRSF3/COX5A/HDAC2/SNRPG/PGK1/NDUFAB1/SNRPD3/CCT2/XPO1/PSMA1/C1QBP/CCT3/EIF4A1/SNRPD2/HNRNPA2B1/PSMB2/PSMA4/SRSF7/NOP56/PHB/HNRNPD/UBE2L3/LSM2                                     | 36 |\n",
       "| HALLMARK_ESTROGEN_RESPONSE_EARLY | HALLMARK_ESTROGEN_RESPONSE_EARLY   | HALLMARK_ESTROGEN_RESPONSE_EARLY   | 29/298 | 200/4386 | 6.250329e-05 | 7.812911e-04 | 6.250329e-04 | CISH/KRT15/KRT19/KRT8/CCND1/TSKU/NPY1R/LAD1/HSPB8/TGM2/PRSS23/SLC9A3R1/INHBB/RARA/MUC1/ABHD2/AMFR/IGFBP4/TFF3/SLC7A2/PEX11A/MYOF/SCNN1A/RHOBTB3/KRT18/TFF1/FKBP4/CLDN7/XBP1                                                                              | 29 |\n",
       "| HALLMARK_ESTROGEN_RESPONSE_LATE | HALLMARK_ESTROGEN_RESPONSE_LATE    | HALLMARK_ESTROGEN_RESPONSE_LATE    | 29/298 | 200/4386 | 6.250329e-05 | 7.812911e-04 | 6.250329e-04 | BTG3/CISH/CPE/KRT19/CCND1/NPY1R/MDK/HSPB8/FABP5/ATP2B4/CD9/PRSS23/SLC9A3R1/COX6C/S100A9/MOCS2/CDH1/ABHD2/AMFR/IGFBP4/TFF3/MYOF/SCNN1A/CXCL14/BATF/TFF1/FKBP4/IDH2/XBP1                                                                                   | 29 |\n",
       "| HALLMARK_MTORC1_SIGNALING | HALLMARK_MTORC1_SIGNALING          | HALLMARK_MTORC1_SIGNALING          | 27/298 | 200/4386 | 3.779901e-04 | 3.779901e-03 | 3.023921e-03 | ME1/PLOD2/FADS2/FADS1/STC1/HSPE1/TPI1/LDHA/PRDX1/CD9/PPIA/SLC9A3R1/SCD/PPA1/GPI/GLRX/ENO1/EGLN3/GAPDH/CACYBP/PGK1/STIP1/TES/CCT6A/PSMA4/XBP1/HSPA4                                                                                                       | 27 |\n",
       "\n"
      ],
      "text/plain": [
       "                                   ID                                \n",
       "HALLMARK_OXIDATIVE_PHOSPHORYLATION HALLMARK_OXIDATIVE_PHOSPHORYLATION\n",
       "HALLMARK_MYC_TARGETS_V1            HALLMARK_MYC_TARGETS_V1           \n",
       "HALLMARK_ESTROGEN_RESPONSE_EARLY   HALLMARK_ESTROGEN_RESPONSE_EARLY  \n",
       "HALLMARK_ESTROGEN_RESPONSE_LATE    HALLMARK_ESTROGEN_RESPONSE_LATE   \n",
       "HALLMARK_MTORC1_SIGNALING          HALLMARK_MTORC1_SIGNALING         \n",
       "                                   Description                        GeneRatio\n",
       "HALLMARK_OXIDATIVE_PHOSPHORYLATION HALLMARK_OXIDATIVE_PHOSPHORYLATION 38/298   \n",
       "HALLMARK_MYC_TARGETS_V1            HALLMARK_MYC_TARGETS_V1            36/298   \n",
       "HALLMARK_ESTROGEN_RESPONSE_EARLY   HALLMARK_ESTROGEN_RESPONSE_EARLY   29/298   \n",
       "HALLMARK_ESTROGEN_RESPONSE_LATE    HALLMARK_ESTROGEN_RESPONSE_LATE    29/298   \n",
       "HALLMARK_MTORC1_SIGNALING          HALLMARK_MTORC1_SIGNALING          27/298   \n",
       "                                   BgRatio  pvalue       p.adjust    \n",
       "HALLMARK_OXIDATIVE_PHOSPHORYLATION 200/4386 2.654587e-09 1.327294e-07\n",
       "HALLMARK_MYC_TARGETS_V1            200/4386 3.235485e-08 8.088711e-07\n",
       "HALLMARK_ESTROGEN_RESPONSE_EARLY   200/4386 6.250329e-05 7.812911e-04\n",
       "HALLMARK_ESTROGEN_RESPONSE_LATE    200/4386 6.250329e-05 7.812911e-04\n",
       "HALLMARK_MTORC1_SIGNALING          200/4386 3.779901e-04 3.779901e-03\n",
       "                                   qvalue      \n",
       "HALLMARK_OXIDATIVE_PHOSPHORYLATION 1.061835e-07\n",
       "HALLMARK_MYC_TARGETS_V1            6.470969e-07\n",
       "HALLMARK_ESTROGEN_RESPONSE_EARLY   6.250329e-04\n",
       "HALLMARK_ESTROGEN_RESPONSE_LATE    6.250329e-04\n",
       "HALLMARK_MTORC1_SIGNALING          3.023921e-03\n",
       "                                   geneID                                                                                                                                                                                                                                                  \n",
       "HALLMARK_OXIDATIVE_PHOSPHORYLATION ATP6V0E1/CPT1A/LDHB/NDUFA4/NDUFB3/LDHA/COX6B1/ATP1B1/NDUFV2/NDUFC2/COX6C/COX7A2/MGST3/NDUFS6/GPI/UQCR10/COX6A1/UQCR11/NDUFB2/UQCRH/NDUFB4/UQCRQ/NDUFA2/COX7B/COX5A/NDUFAB1/NDUFB1/NDUFC1/COX5B/TIMM8B/COX4I1/NDUFB6/CYB5A/SDHC/NDUFA8/NDUFA3/IDH2/NDUFB7\n",
       "HALLMARK_MYC_TARGETS_V1            HSPE1/LDHA/PPIA/RAN/PSMB3/SRSF2/PSMA7/NHP2/SET/YWHAE/SNRPD1/NME1/SSBP1/SRSF3/COX5A/HDAC2/SNRPG/PGK1/NDUFAB1/SNRPD3/CCT2/XPO1/PSMA1/C1QBP/CCT3/EIF4A1/SNRPD2/HNRNPA2B1/PSMB2/PSMA4/SRSF7/NOP56/PHB/HNRNPD/UBE2L3/LSM2                                    \n",
       "HALLMARK_ESTROGEN_RESPONSE_EARLY   CISH/KRT15/KRT19/KRT8/CCND1/TSKU/NPY1R/LAD1/HSPB8/TGM2/PRSS23/SLC9A3R1/INHBB/RARA/MUC1/ABHD2/AMFR/IGFBP4/TFF3/SLC7A2/PEX11A/MYOF/SCNN1A/RHOBTB3/KRT18/TFF1/FKBP4/CLDN7/XBP1                                                                             \n",
       "HALLMARK_ESTROGEN_RESPONSE_LATE    BTG3/CISH/CPE/KRT19/CCND1/NPY1R/MDK/HSPB8/FABP5/ATP2B4/CD9/PRSS23/SLC9A3R1/COX6C/S100A9/MOCS2/CDH1/ABHD2/AMFR/IGFBP4/TFF3/MYOF/SCNN1A/CXCL14/BATF/TFF1/FKBP4/IDH2/XBP1                                                                                  \n",
       "HALLMARK_MTORC1_SIGNALING          ME1/PLOD2/FADS2/FADS1/STC1/HSPE1/TPI1/LDHA/PRDX1/CD9/PPIA/SLC9A3R1/SCD/PPA1/GPI/GLRX/ENO1/EGLN3/GAPDH/CACYBP/PGK1/STIP1/TES/CCT6A/PSMA4/XBP1/HSPA4                                                                                                      \n",
       "                                   Count\n",
       "HALLMARK_OXIDATIVE_PHOSPHORYLATION 38   \n",
       "HALLMARK_MYC_TARGETS_V1            36   \n",
       "HALLMARK_ESTROGEN_RESPONSE_EARLY   29   \n",
       "HALLMARK_ESTROGEN_RESPONSE_LATE    29   \n",
       "HALLMARK_MTORC1_SIGNALING          27   "
      ]
     },
     "metadata": {},
     "output_type": "display_data"
    },
    {
     "data": {
      "text/html": [
       "<style>\n",
       ".list-inline {list-style: none; margin:0; padding: 0}\n",
       ".list-inline>li {display: inline-block}\n",
       ".list-inline>li:not(:last-child)::after {content: \"\\00b7\"; padding: 0 .5ex}\n",
       "</style>\n",
       "<ol class=list-inline><li>5</li><li>9</li></ol>\n"
      ],
      "text/latex": [
       "\\begin{enumerate*}\n",
       "\\item 5\n",
       "\\item 9\n",
       "\\end{enumerate*}\n"
      ],
      "text/markdown": [
       "1. 5\n",
       "2. 9\n",
       "\n",
       "\n"
      ],
      "text/plain": [
       "[1] 5 9"
      ]
     },
     "metadata": {},
     "output_type": "display_data"
    },
    {
     "data": {
      "text/html": [
       "up unc_lccc"
      ]
     },
     "metadata": {},
     "output_type": "display_data"
    },
    {
     "data": {
      "text/html": [
       "<table class=\"dataframe\">\n",
       "<caption>A data.frame: 6 × 9</caption>\n",
       "<thead>\n",
       "\t<tr><th></th><th scope=col>ID</th><th scope=col>Description</th><th scope=col>GeneRatio</th><th scope=col>BgRatio</th><th scope=col>pvalue</th><th scope=col>p.adjust</th><th scope=col>qvalue</th><th scope=col>geneID</th><th scope=col>Count</th></tr>\n",
       "\t<tr><th></th><th scope=col>&lt;chr&gt;</th><th scope=col>&lt;chr&gt;</th><th scope=col>&lt;chr&gt;</th><th scope=col>&lt;chr&gt;</th><th scope=col>&lt;dbl&gt;</th><th scope=col>&lt;dbl&gt;</th><th scope=col>&lt;dbl&gt;</th><th scope=col>&lt;chr&gt;</th><th scope=col>&lt;int&gt;</th></tr>\n",
       "</thead>\n",
       "<tbody>\n",
       "\t<tr><th scope=row>GATA3.induced.genes_JCO.2006_PMID.16505416</th><td>GATA3.induced.genes_JCO.2006_PMID.16505416        </td><td>GATA3.induced.genes_JCO.2006_PMID.16505416        </td><td>52/580</td><td>277/19993</td><td>2.266054e-27</td><td>8.905591e-25</td><td>5.844033e-25</td><td>TACSTD2/HSPB1/S100A11/PRR15L/KRT15/SECTM1/KRT19/KRT8/SLC16A3/LAD1/GATA3/CEACAM6/FXYD3/CD24/ALDH1A3/TM4SF1/EGR1/SAMD12/C19orf33/VAMP8/CLU/ATP1B1/CD9/SLC9A3R1/S100A9/INHBB/SDC1/CALM1/LGALS3BP/ARPC1B/TFF3/MYOF/ID1/CYP1B1/TSPAN15/S100A4/SMIM22/KRT7/KRT18/ADIRF/BATF/TFF1/NDUFB9/ARHGDIB/OCIAD2/CLDN4/S100A16/CLDN7/CLDN3/CRIP2/XBP1/TMC5</td><td>52</td></tr>\n",
       "\t<tr><th scope=row>T47D_control_vs_tamoxifen_down_Tumor cells</th><td>T47D_control_vs_tamoxifen_down_Tumor cells        </td><td>T47D_control_vs_tamoxifen_down_Tumor cells        </td><td>30/580</td><td>107/19993</td><td>1.423349e-21</td><td>2.796880e-19</td><td>1.835371e-19</td><td>DYNLL1/ATP5MC3/HSP90AA1/JPT1/KRT19/MARCKSL1/SLC40A1/LDHA/NDUFC2/RUNX1/IGFBP4/ID1/SFPQ/ENO1/TUBB4B/THBS1/HNRNPM/CCT2/ARPC5/FKBP4/CCT3/SNRPB/DNAJA1/HNRNPA2B1/GOLM1/NDUFA8/SRSF7/TMBIM4/TRPS1/DEGS2                                                                                                                                         </td><td>30</td></tr>\n",
       "\t<tr><th scope=row>MCF7.E2.induced.genes_JCO.2006_PMID.16505416</th><td>MCF7.E2.induced.genes_JCO.2006_PMID.16505416      </td><td>MCF7.E2.induced.genes_JCO.2006_PMID.16505416      </td><td>43/580</td><td>290/19993</td><td>1.053687e-18</td><td>1.380330e-16</td><td>9.058013e-17</td><td>ACTB/PKIB/BTG3/KRT15/HIF1A/JPT1/FADS1/KRT8/CCND1/TUBB6/NPY1R/LAD1/FABP5/ATP1B1/PRSS23/TPM3/RAN/CORO1C/TPM1/SRSF2/SCD/AMFR/IGFBP4/SNRPD1/SPATS2L/TPM4/ACTN1/LETM1/SRSF3/CYP1B1/DHX9/RAB32/HIGD1A/TFF1/FKBP4/ALYREF/DIAPH1/ARF6/RBM8A/CCT6A/NOP56/XBP1/ZFP36L2                                                                              </td><td>43</td></tr>\n",
       "\t<tr><th scope=row>MITO1_BMC.Med.Genomics.2011_PMID.21214954</th><td>MITO1_BMC.Med.Genomics.2011_PMID.21214954         </td><td>MITO1_BMC.Med.Genomics.2011_PMID.21214954         </td><td>16/580</td><td>38/19993 </td><td>2.527547e-15</td><td>2.483315e-13</td><td>1.629602e-13</td><td>DYNLL1/POMP/TXN/TMA7/COX7A2/SEM1/COX6A1/UQCR11/NDUFB2/UQCRQ/NDUFB1/NDUFC1/COX5B/TIMM8B/LSM5/ORMDL2                                                                                                                                                                                                                                        </td><td>16</td></tr>\n",
       "\t<tr><th scope=row>UNC_HS_Green20_BMC.Med.Genomics.2011_PMID.21214954</th><td>UNC_HS_Green20_BMC.Med.Genomics.2011_PMID.21214954</td><td>UNC_HS_Green20_BMC.Med.Genomics.2011_PMID.21214954</td><td>30/580</td><td>174/19993</td><td>3.179204e-15</td><td>2.498854e-13</td><td>1.639800e-13</td><td>ACTB/MARCKS/PLOD2/S100A11/HIF1A/JPT1/VIM/SLC16A3/MX1/TUBB6/PLAUR/CTSL/PLAU/S100A10/FLNA/CKLF/IFI6/TIMP2/S100A9/CORO1C/ARPC2/PSMA7/SPATS2L/TPM4/S100A4/MSN/CAPZB/CTSB/CD74/NPC2                                                                                                                                                            </td><td>30</td></tr>\n",
       "\t<tr><th scope=row>UNC_HS_Red25_BMC.Med.Genomics.2011_PMID.21214954</th><td>UNC_HS_Red25_BMC.Med.Genomics.2011_PMID.21214954  </td><td>UNC_HS_Red25_BMC.Med.Genomics.2011_PMID.21214954  </td><td>27/580</td><td>143/19993</td><td>7.643772e-15</td><td>5.006671e-13</td><td>3.285481e-13</td><td>ZFHX3/HSPB1/PRR15L/STC1/CALML5/CEACAM6/FXYD3/CACNG4/SLC9A3R1/PSMB3/CDH1/ITGB6/RARA/SCD/SYNGR2/CEACAM5/TFF3/SLC12A2/APRT/ITGA3/GPRC5A/TFF1/ZNF217/PHB/FKBP3/ORMDL2/SNF8                                                                                                                                                                    </td><td>27</td></tr>\n",
       "</tbody>\n",
       "</table>\n"
      ],
      "text/latex": [
       "A data.frame: 6 × 9\n",
       "\\begin{tabular}{r|lllllllll}\n",
       "  & ID & Description & GeneRatio & BgRatio & pvalue & p.adjust & qvalue & geneID & Count\\\\\n",
       "  & <chr> & <chr> & <chr> & <chr> & <dbl> & <dbl> & <dbl> & <chr> & <int>\\\\\n",
       "\\hline\n",
       "\tGATA3.induced.genes\\_JCO.2006\\_PMID.16505416 & GATA3.induced.genes\\_JCO.2006\\_PMID.16505416         & GATA3.induced.genes\\_JCO.2006\\_PMID.16505416         & 52/580 & 277/19993 & 2.266054e-27 & 8.905591e-25 & 5.844033e-25 & TACSTD2/HSPB1/S100A11/PRR15L/KRT15/SECTM1/KRT19/KRT8/SLC16A3/LAD1/GATA3/CEACAM6/FXYD3/CD24/ALDH1A3/TM4SF1/EGR1/SAMD12/C19orf33/VAMP8/CLU/ATP1B1/CD9/SLC9A3R1/S100A9/INHBB/SDC1/CALM1/LGALS3BP/ARPC1B/TFF3/MYOF/ID1/CYP1B1/TSPAN15/S100A4/SMIM22/KRT7/KRT18/ADIRF/BATF/TFF1/NDUFB9/ARHGDIB/OCIAD2/CLDN4/S100A16/CLDN7/CLDN3/CRIP2/XBP1/TMC5 & 52\\\\\n",
       "\tT47D\\_control\\_vs\\_tamoxifen\\_down\\_Tumor cells & T47D\\_control\\_vs\\_tamoxifen\\_down\\_Tumor cells         & T47D\\_control\\_vs\\_tamoxifen\\_down\\_Tumor cells         & 30/580 & 107/19993 & 1.423349e-21 & 2.796880e-19 & 1.835371e-19 & DYNLL1/ATP5MC3/HSP90AA1/JPT1/KRT19/MARCKSL1/SLC40A1/LDHA/NDUFC2/RUNX1/IGFBP4/ID1/SFPQ/ENO1/TUBB4B/THBS1/HNRNPM/CCT2/ARPC5/FKBP4/CCT3/SNRPB/DNAJA1/HNRNPA2B1/GOLM1/NDUFA8/SRSF7/TMBIM4/TRPS1/DEGS2                                                                                                                                          & 30\\\\\n",
       "\tMCF7.E2.induced.genes\\_JCO.2006\\_PMID.16505416 & MCF7.E2.induced.genes\\_JCO.2006\\_PMID.16505416       & MCF7.E2.induced.genes\\_JCO.2006\\_PMID.16505416       & 43/580 & 290/19993 & 1.053687e-18 & 1.380330e-16 & 9.058013e-17 & ACTB/PKIB/BTG3/KRT15/HIF1A/JPT1/FADS1/KRT8/CCND1/TUBB6/NPY1R/LAD1/FABP5/ATP1B1/PRSS23/TPM3/RAN/CORO1C/TPM1/SRSF2/SCD/AMFR/IGFBP4/SNRPD1/SPATS2L/TPM4/ACTN1/LETM1/SRSF3/CYP1B1/DHX9/RAB32/HIGD1A/TFF1/FKBP4/ALYREF/DIAPH1/ARF6/RBM8A/CCT6A/NOP56/XBP1/ZFP36L2                                                                               & 43\\\\\n",
       "\tMITO1\\_BMC.Med.Genomics.2011\\_PMID.21214954 & MITO1\\_BMC.Med.Genomics.2011\\_PMID.21214954          & MITO1\\_BMC.Med.Genomics.2011\\_PMID.21214954          & 16/580 & 38/19993  & 2.527547e-15 & 2.483315e-13 & 1.629602e-13 & DYNLL1/POMP/TXN/TMA7/COX7A2/SEM1/COX6A1/UQCR11/NDUFB2/UQCRQ/NDUFB1/NDUFC1/COX5B/TIMM8B/LSM5/ORMDL2                                                                                                                                                                                                                                         & 16\\\\\n",
       "\tUNC\\_HS\\_Green20\\_BMC.Med.Genomics.2011\\_PMID.21214954 & UNC\\_HS\\_Green20\\_BMC.Med.Genomics.2011\\_PMID.21214954 & UNC\\_HS\\_Green20\\_BMC.Med.Genomics.2011\\_PMID.21214954 & 30/580 & 174/19993 & 3.179204e-15 & 2.498854e-13 & 1.639800e-13 & ACTB/MARCKS/PLOD2/S100A11/HIF1A/JPT1/VIM/SLC16A3/MX1/TUBB6/PLAUR/CTSL/PLAU/S100A10/FLNA/CKLF/IFI6/TIMP2/S100A9/CORO1C/ARPC2/PSMA7/SPATS2L/TPM4/S100A4/MSN/CAPZB/CTSB/CD74/NPC2                                                                                                                                                             & 30\\\\\n",
       "\tUNC\\_HS\\_Red25\\_BMC.Med.Genomics.2011\\_PMID.21214954 & UNC\\_HS\\_Red25\\_BMC.Med.Genomics.2011\\_PMID.21214954   & UNC\\_HS\\_Red25\\_BMC.Med.Genomics.2011\\_PMID.21214954   & 27/580 & 143/19993 & 7.643772e-15 & 5.006671e-13 & 3.285481e-13 & ZFHX3/HSPB1/PRR15L/STC1/CALML5/CEACAM6/FXYD3/CACNG4/SLC9A3R1/PSMB3/CDH1/ITGB6/RARA/SCD/SYNGR2/CEACAM5/TFF3/SLC12A2/APRT/ITGA3/GPRC5A/TFF1/ZNF217/PHB/FKBP3/ORMDL2/SNF8                                                                                                                                                                     & 27\\\\\n",
       "\\end{tabular}\n"
      ],
      "text/markdown": [
       "\n",
       "A data.frame: 6 × 9\n",
       "\n",
       "| <!--/--> | ID &lt;chr&gt; | Description &lt;chr&gt; | GeneRatio &lt;chr&gt; | BgRatio &lt;chr&gt; | pvalue &lt;dbl&gt; | p.adjust &lt;dbl&gt; | qvalue &lt;dbl&gt; | geneID &lt;chr&gt; | Count &lt;int&gt; |\n",
       "|---|---|---|---|---|---|---|---|---|---|\n",
       "| GATA3.induced.genes_JCO.2006_PMID.16505416 | GATA3.induced.genes_JCO.2006_PMID.16505416         | GATA3.induced.genes_JCO.2006_PMID.16505416         | 52/580 | 277/19993 | 2.266054e-27 | 8.905591e-25 | 5.844033e-25 | TACSTD2/HSPB1/S100A11/PRR15L/KRT15/SECTM1/KRT19/KRT8/SLC16A3/LAD1/GATA3/CEACAM6/FXYD3/CD24/ALDH1A3/TM4SF1/EGR1/SAMD12/C19orf33/VAMP8/CLU/ATP1B1/CD9/SLC9A3R1/S100A9/INHBB/SDC1/CALM1/LGALS3BP/ARPC1B/TFF3/MYOF/ID1/CYP1B1/TSPAN15/S100A4/SMIM22/KRT7/KRT18/ADIRF/BATF/TFF1/NDUFB9/ARHGDIB/OCIAD2/CLDN4/S100A16/CLDN7/CLDN3/CRIP2/XBP1/TMC5 | 52 |\n",
       "| T47D_control_vs_tamoxifen_down_Tumor cells | T47D_control_vs_tamoxifen_down_Tumor cells         | T47D_control_vs_tamoxifen_down_Tumor cells         | 30/580 | 107/19993 | 1.423349e-21 | 2.796880e-19 | 1.835371e-19 | DYNLL1/ATP5MC3/HSP90AA1/JPT1/KRT19/MARCKSL1/SLC40A1/LDHA/NDUFC2/RUNX1/IGFBP4/ID1/SFPQ/ENO1/TUBB4B/THBS1/HNRNPM/CCT2/ARPC5/FKBP4/CCT3/SNRPB/DNAJA1/HNRNPA2B1/GOLM1/NDUFA8/SRSF7/TMBIM4/TRPS1/DEGS2                                                                                                                                          | 30 |\n",
       "| MCF7.E2.induced.genes_JCO.2006_PMID.16505416 | MCF7.E2.induced.genes_JCO.2006_PMID.16505416       | MCF7.E2.induced.genes_JCO.2006_PMID.16505416       | 43/580 | 290/19993 | 1.053687e-18 | 1.380330e-16 | 9.058013e-17 | ACTB/PKIB/BTG3/KRT15/HIF1A/JPT1/FADS1/KRT8/CCND1/TUBB6/NPY1R/LAD1/FABP5/ATP1B1/PRSS23/TPM3/RAN/CORO1C/TPM1/SRSF2/SCD/AMFR/IGFBP4/SNRPD1/SPATS2L/TPM4/ACTN1/LETM1/SRSF3/CYP1B1/DHX9/RAB32/HIGD1A/TFF1/FKBP4/ALYREF/DIAPH1/ARF6/RBM8A/CCT6A/NOP56/XBP1/ZFP36L2                                                                               | 43 |\n",
       "| MITO1_BMC.Med.Genomics.2011_PMID.21214954 | MITO1_BMC.Med.Genomics.2011_PMID.21214954          | MITO1_BMC.Med.Genomics.2011_PMID.21214954          | 16/580 | 38/19993  | 2.527547e-15 | 2.483315e-13 | 1.629602e-13 | DYNLL1/POMP/TXN/TMA7/COX7A2/SEM1/COX6A1/UQCR11/NDUFB2/UQCRQ/NDUFB1/NDUFC1/COX5B/TIMM8B/LSM5/ORMDL2                                                                                                                                                                                                                                         | 16 |\n",
       "| UNC_HS_Green20_BMC.Med.Genomics.2011_PMID.21214954 | UNC_HS_Green20_BMC.Med.Genomics.2011_PMID.21214954 | UNC_HS_Green20_BMC.Med.Genomics.2011_PMID.21214954 | 30/580 | 174/19993 | 3.179204e-15 | 2.498854e-13 | 1.639800e-13 | ACTB/MARCKS/PLOD2/S100A11/HIF1A/JPT1/VIM/SLC16A3/MX1/TUBB6/PLAUR/CTSL/PLAU/S100A10/FLNA/CKLF/IFI6/TIMP2/S100A9/CORO1C/ARPC2/PSMA7/SPATS2L/TPM4/S100A4/MSN/CAPZB/CTSB/CD74/NPC2                                                                                                                                                             | 30 |\n",
       "| UNC_HS_Red25_BMC.Med.Genomics.2011_PMID.21214954 | UNC_HS_Red25_BMC.Med.Genomics.2011_PMID.21214954   | UNC_HS_Red25_BMC.Med.Genomics.2011_PMID.21214954   | 27/580 | 143/19993 | 7.643772e-15 | 5.006671e-13 | 3.285481e-13 | ZFHX3/HSPB1/PRR15L/STC1/CALML5/CEACAM6/FXYD3/CACNG4/SLC9A3R1/PSMB3/CDH1/ITGB6/RARA/SCD/SYNGR2/CEACAM5/TFF3/SLC12A2/APRT/ITGA3/GPRC5A/TFF1/ZNF217/PHB/FKBP3/ORMDL2/SNF8                                                                                                                                                                     | 27 |\n",
       "\n"
      ],
      "text/plain": [
       "                                                   ID                                                \n",
       "GATA3.induced.genes_JCO.2006_PMID.16505416         GATA3.induced.genes_JCO.2006_PMID.16505416        \n",
       "T47D_control_vs_tamoxifen_down_Tumor cells         T47D_control_vs_tamoxifen_down_Tumor cells        \n",
       "MCF7.E2.induced.genes_JCO.2006_PMID.16505416       MCF7.E2.induced.genes_JCO.2006_PMID.16505416      \n",
       "MITO1_BMC.Med.Genomics.2011_PMID.21214954          MITO1_BMC.Med.Genomics.2011_PMID.21214954         \n",
       "UNC_HS_Green20_BMC.Med.Genomics.2011_PMID.21214954 UNC_HS_Green20_BMC.Med.Genomics.2011_PMID.21214954\n",
       "UNC_HS_Red25_BMC.Med.Genomics.2011_PMID.21214954   UNC_HS_Red25_BMC.Med.Genomics.2011_PMID.21214954  \n",
       "                                                   Description                                       \n",
       "GATA3.induced.genes_JCO.2006_PMID.16505416         GATA3.induced.genes_JCO.2006_PMID.16505416        \n",
       "T47D_control_vs_tamoxifen_down_Tumor cells         T47D_control_vs_tamoxifen_down_Tumor cells        \n",
       "MCF7.E2.induced.genes_JCO.2006_PMID.16505416       MCF7.E2.induced.genes_JCO.2006_PMID.16505416      \n",
       "MITO1_BMC.Med.Genomics.2011_PMID.21214954          MITO1_BMC.Med.Genomics.2011_PMID.21214954         \n",
       "UNC_HS_Green20_BMC.Med.Genomics.2011_PMID.21214954 UNC_HS_Green20_BMC.Med.Genomics.2011_PMID.21214954\n",
       "UNC_HS_Red25_BMC.Med.Genomics.2011_PMID.21214954   UNC_HS_Red25_BMC.Med.Genomics.2011_PMID.21214954  \n",
       "                                                   GeneRatio BgRatio  \n",
       "GATA3.induced.genes_JCO.2006_PMID.16505416         52/580    277/19993\n",
       "T47D_control_vs_tamoxifen_down_Tumor cells         30/580    107/19993\n",
       "MCF7.E2.induced.genes_JCO.2006_PMID.16505416       43/580    290/19993\n",
       "MITO1_BMC.Med.Genomics.2011_PMID.21214954          16/580    38/19993 \n",
       "UNC_HS_Green20_BMC.Med.Genomics.2011_PMID.21214954 30/580    174/19993\n",
       "UNC_HS_Red25_BMC.Med.Genomics.2011_PMID.21214954   27/580    143/19993\n",
       "                                                   pvalue       p.adjust    \n",
       "GATA3.induced.genes_JCO.2006_PMID.16505416         2.266054e-27 8.905591e-25\n",
       "T47D_control_vs_tamoxifen_down_Tumor cells         1.423349e-21 2.796880e-19\n",
       "MCF7.E2.induced.genes_JCO.2006_PMID.16505416       1.053687e-18 1.380330e-16\n",
       "MITO1_BMC.Med.Genomics.2011_PMID.21214954          2.527547e-15 2.483315e-13\n",
       "UNC_HS_Green20_BMC.Med.Genomics.2011_PMID.21214954 3.179204e-15 2.498854e-13\n",
       "UNC_HS_Red25_BMC.Med.Genomics.2011_PMID.21214954   7.643772e-15 5.006671e-13\n",
       "                                                   qvalue      \n",
       "GATA3.induced.genes_JCO.2006_PMID.16505416         5.844033e-25\n",
       "T47D_control_vs_tamoxifen_down_Tumor cells         1.835371e-19\n",
       "MCF7.E2.induced.genes_JCO.2006_PMID.16505416       9.058013e-17\n",
       "MITO1_BMC.Med.Genomics.2011_PMID.21214954          1.629602e-13\n",
       "UNC_HS_Green20_BMC.Med.Genomics.2011_PMID.21214954 1.639800e-13\n",
       "UNC_HS_Red25_BMC.Med.Genomics.2011_PMID.21214954   3.285481e-13\n",
       "                                                   geneID                                                                                                                                                                                                                                                                                                                                    \n",
       "GATA3.induced.genes_JCO.2006_PMID.16505416         TACSTD2/HSPB1/S100A11/PRR15L/KRT15/SECTM1/KRT19/KRT8/SLC16A3/LAD1/GATA3/CEACAM6/FXYD3/CD24/ALDH1A3/TM4SF1/EGR1/SAMD12/C19orf33/VAMP8/CLU/ATP1B1/CD9/SLC9A3R1/S100A9/INHBB/SDC1/CALM1/LGALS3BP/ARPC1B/TFF3/MYOF/ID1/CYP1B1/TSPAN15/S100A4/SMIM22/KRT7/KRT18/ADIRF/BATF/TFF1/NDUFB9/ARHGDIB/OCIAD2/CLDN4/S100A16/CLDN7/CLDN3/CRIP2/XBP1/TMC5\n",
       "T47D_control_vs_tamoxifen_down_Tumor cells         DYNLL1/ATP5MC3/HSP90AA1/JPT1/KRT19/MARCKSL1/SLC40A1/LDHA/NDUFC2/RUNX1/IGFBP4/ID1/SFPQ/ENO1/TUBB4B/THBS1/HNRNPM/CCT2/ARPC5/FKBP4/CCT3/SNRPB/DNAJA1/HNRNPA2B1/GOLM1/NDUFA8/SRSF7/TMBIM4/TRPS1/DEGS2                                                                                                                                         \n",
       "MCF7.E2.induced.genes_JCO.2006_PMID.16505416       ACTB/PKIB/BTG3/KRT15/HIF1A/JPT1/FADS1/KRT8/CCND1/TUBB6/NPY1R/LAD1/FABP5/ATP1B1/PRSS23/TPM3/RAN/CORO1C/TPM1/SRSF2/SCD/AMFR/IGFBP4/SNRPD1/SPATS2L/TPM4/ACTN1/LETM1/SRSF3/CYP1B1/DHX9/RAB32/HIGD1A/TFF1/FKBP4/ALYREF/DIAPH1/ARF6/RBM8A/CCT6A/NOP56/XBP1/ZFP36L2                                                                              \n",
       "MITO1_BMC.Med.Genomics.2011_PMID.21214954          DYNLL1/POMP/TXN/TMA7/COX7A2/SEM1/COX6A1/UQCR11/NDUFB2/UQCRQ/NDUFB1/NDUFC1/COX5B/TIMM8B/LSM5/ORMDL2                                                                                                                                                                                                                                        \n",
       "UNC_HS_Green20_BMC.Med.Genomics.2011_PMID.21214954 ACTB/MARCKS/PLOD2/S100A11/HIF1A/JPT1/VIM/SLC16A3/MX1/TUBB6/PLAUR/CTSL/PLAU/S100A10/FLNA/CKLF/IFI6/TIMP2/S100A9/CORO1C/ARPC2/PSMA7/SPATS2L/TPM4/S100A4/MSN/CAPZB/CTSB/CD74/NPC2                                                                                                                                                            \n",
       "UNC_HS_Red25_BMC.Med.Genomics.2011_PMID.21214954   ZFHX3/HSPB1/PRR15L/STC1/CALML5/CEACAM6/FXYD3/CACNG4/SLC9A3R1/PSMB3/CDH1/ITGB6/RARA/SCD/SYNGR2/CEACAM5/TFF3/SLC12A2/APRT/ITGA3/GPRC5A/TFF1/ZNF217/PHB/FKBP3/ORMDL2/SNF8                                                                                                                                                                    \n",
       "                                                   Count\n",
       "GATA3.induced.genes_JCO.2006_PMID.16505416         52   \n",
       "T47D_control_vs_tamoxifen_down_Tumor cells         30   \n",
       "MCF7.E2.induced.genes_JCO.2006_PMID.16505416       43   \n",
       "MITO1_BMC.Med.Genomics.2011_PMID.21214954          16   \n",
       "UNC_HS_Green20_BMC.Med.Genomics.2011_PMID.21214954 30   \n",
       "UNC_HS_Red25_BMC.Med.Genomics.2011_PMID.21214954   27   "
      ]
     },
     "metadata": {},
     "output_type": "display_data"
    },
    {
     "data": {
      "text/html": [
       "<style>\n",
       ".list-inline {list-style: none; margin:0; padding: 0}\n",
       ".list-inline>li {display: inline-block}\n",
       ".list-inline>li:not(:last-child)::after {content: \"\\00b7\"; padding: 0 .5ex}\n",
       "</style>\n",
       "<ol class=list-inline><li>117</li><li>9</li></ol>\n"
      ],
      "text/latex": [
       "\\begin{enumerate*}\n",
       "\\item 117\n",
       "\\item 9\n",
       "\\end{enumerate*}\n"
      ],
      "text/markdown": [
       "1. 117\n",
       "2. 9\n",
       "\n",
       "\n"
      ],
      "text/plain": [
       "[1] 117   9"
      ]
     },
     "metadata": {},
     "output_type": "display_data"
    },
    {
     "data": {
      "text/html": [
       "<hr style=\"height:1px\">"
      ]
     },
     "metadata": {},
     "output_type": "display_data"
    },
    {
     "data": {
      "text/html": [
       "down h"
      ]
     },
     "metadata": {},
     "output_type": "display_data"
    },
    {
     "data": {
      "text/html": [
       "<table class=\"dataframe\">\n",
       "<caption>A data.frame: 6 × 9</caption>\n",
       "<thead>\n",
       "\t<tr><th></th><th scope=col>ID</th><th scope=col>Description</th><th scope=col>GeneRatio</th><th scope=col>BgRatio</th><th scope=col>pvalue</th><th scope=col>p.adjust</th><th scope=col>qvalue</th><th scope=col>geneID</th><th scope=col>Count</th></tr>\n",
       "\t<tr><th></th><th scope=col>&lt;chr&gt;</th><th scope=col>&lt;chr&gt;</th><th scope=col>&lt;chr&gt;</th><th scope=col>&lt;chr&gt;</th><th scope=col>&lt;dbl&gt;</th><th scope=col>&lt;dbl&gt;</th><th scope=col>&lt;dbl&gt;</th><th scope=col>&lt;chr&gt;</th><th scope=col>&lt;int&gt;</th></tr>\n",
       "</thead>\n",
       "<tbody>\n",
       "\t<tr><th scope=row>HALLMARK_UNFOLDED_PROTEIN_RESPONSE</th><td>HALLMARK_UNFOLDED_PROTEIN_RESPONSE</td><td>HALLMARK_UNFOLDED_PROTEIN_RESPONSE</td><td>35/232</td><td>113/4386</td><td>8.898574e-19</td><td>4.182330e-17</td><td>3.278422e-17</td><td>HSPA5/HERPUD1/DDX10/SERP1/HSP90B1/ASNS/CEBPG/DNAJB9/PDIA6/HYOU1/MTHFD2/ATF4/DDIT4/DNAJC3/EIF2AK3/HSPA9/SRPRB/FKBP14/PDIA5/CALR/PSAT1/SSR1/EXOSC1/CKS1B/TSPYL2/SLC1A4/IARS/CHAC1/EIF4EBP1/VEGFA/SEC31A/ATF3/WIPI1/CEBPB/XPOT                                            </td><td>35</td></tr>\n",
       "\t<tr><th scope=row>HALLMARK_MTORC1_SIGNALING</th><td>HALLMARK_MTORC1_SIGNALING         </td><td>HALLMARK_MTORC1_SIGNALING         </td><td>43/232</td><td>200/4386</td><td>2.677399e-16</td><td>6.291888e-15</td><td>4.932051e-15</td><td>NUPR1/HSPA5/DDIT3/PHGDH/SDF2L1/SERP1/HSP90B1/TRIB3/ASNS/SQSTM1/GOT1/SQLE/TCEA1/CANX/HMGCR/MTHFD2/TUBA4A/FAM129A/DDIT4/HSPA9/SHMT2/CALR/HMGCS1/EPRS/PSAT1/SSR1/FKBP2/IDI1/IFRD1/SLC1A4/USO1/EIF2S2/PPP1R15A/UFM1/LDLR/SLC7A11/EBP/INSIG1/RPN1/DHCR7/HSPD1/BHLHE40/TXNRD1</td><td>43</td></tr>\n",
       "\t<tr><th scope=row>HALLMARK_CHOLESTEROL_HOMEOSTASIS</th><td>HALLMARK_CHOLESTEROL_HOMEOSTASIS  </td><td>HALLMARK_CHOLESTEROL_HOMEOSTASIS  </td><td>18/232</td><td>74/4386 </td><td>2.793102e-08</td><td>4.375860e-07</td><td>3.430125e-07</td><td>TRIB3/STX5/SQLE/HMGCR/FAM129A/MVD/HMGCS1/HSD17B7/IDI1/FDPS/SREBF2/ECH1/PNRC1/ATF3/LDLR/TNFRSF12A/EBP/DHCR7                                                                                                                                                             </td><td>18</td></tr>\n",
       "\t<tr><th scope=row>HALLMARK_PROTEIN_SECRETION</th><td>HALLMARK_PROTEIN_SECRETION        </td><td>HALLMARK_PROTEIN_SECRETION        </td><td>18/232</td><td>96/4386 </td><td>1.840627e-06</td><td>2.162737e-05</td><td>1.695315e-05</td><td>ARFGAP3/LMAN1/COPE/ARCN1/RAB9A/SEC24D/GOLGA4/RAB5A/BET1/ARF1/USO1/TPD52/SEC31A/TMED10/ICA1/COPB2/DST/NAPA                                                                                                                                                              </td><td>18</td></tr>\n",
       "\t<tr><th scope=row>HALLMARK_TNFA_SIGNALING_VIA_NFKB</th><td>HALLMARK_TNFA_SIGNALING_VIA_NFKB  </td><td>HALLMARK_TNFA_SIGNALING_VIA_NFKB  </td><td>26/232</td><td>200/4386</td><td>1.349707e-05</td><td>1.268724e-04</td><td>9.945207e-05</td><td>SQSTM1/EIF1/GEM/RIPK2/BTG1/CD44/HBEGF/GADD45A/VEGFA/PPP1R15A/JUN/PNRC1/TNFAIP8/REL/IRF1/ATF3/LDLR/CEBPB/TRIB1/TSC22D1/NFKBIA/DUSP1/LITAF/BHLHE40/KLF6/GADD45B                                                                                                          </td><td>26</td></tr>\n",
       "\t<tr><th scope=row>HALLMARK_ANDROGEN_RESPONSE</th><td>HALLMARK_ANDROGEN_RESPONSE        </td><td>HALLMARK_ANDROGEN_RESPONSE        </td><td>17/232</td><td>101/4386</td><td>1.638811e-05</td><td>1.283735e-04</td><td>1.006287e-04</td><td>LMAN1/DNAJB9/PGM3/HMGCR/HMGCS1/SEC24D/HOMER2/IDI1/TPD52/SLC38A2/TNFAIP8/SRP19/H1F0/TSC22D1/INSIG1/GNAI3/ITGAV                                                                                                                                                          </td><td>17</td></tr>\n",
       "</tbody>\n",
       "</table>\n"
      ],
      "text/latex": [
       "A data.frame: 6 × 9\n",
       "\\begin{tabular}{r|lllllllll}\n",
       "  & ID & Description & GeneRatio & BgRatio & pvalue & p.adjust & qvalue & geneID & Count\\\\\n",
       "  & <chr> & <chr> & <chr> & <chr> & <dbl> & <dbl> & <dbl> & <chr> & <int>\\\\\n",
       "\\hline\n",
       "\tHALLMARK\\_UNFOLDED\\_PROTEIN\\_RESPONSE & HALLMARK\\_UNFOLDED\\_PROTEIN\\_RESPONSE & HALLMARK\\_UNFOLDED\\_PROTEIN\\_RESPONSE & 35/232 & 113/4386 & 8.898574e-19 & 4.182330e-17 & 3.278422e-17 & HSPA5/HERPUD1/DDX10/SERP1/HSP90B1/ASNS/CEBPG/DNAJB9/PDIA6/HYOU1/MTHFD2/ATF4/DDIT4/DNAJC3/EIF2AK3/HSPA9/SRPRB/FKBP14/PDIA5/CALR/PSAT1/SSR1/EXOSC1/CKS1B/TSPYL2/SLC1A4/IARS/CHAC1/EIF4EBP1/VEGFA/SEC31A/ATF3/WIPI1/CEBPB/XPOT                                             & 35\\\\\n",
       "\tHALLMARK\\_MTORC1\\_SIGNALING & HALLMARK\\_MTORC1\\_SIGNALING          & HALLMARK\\_MTORC1\\_SIGNALING          & 43/232 & 200/4386 & 2.677399e-16 & 6.291888e-15 & 4.932051e-15 & NUPR1/HSPA5/DDIT3/PHGDH/SDF2L1/SERP1/HSP90B1/TRIB3/ASNS/SQSTM1/GOT1/SQLE/TCEA1/CANX/HMGCR/MTHFD2/TUBA4A/FAM129A/DDIT4/HSPA9/SHMT2/CALR/HMGCS1/EPRS/PSAT1/SSR1/FKBP2/IDI1/IFRD1/SLC1A4/USO1/EIF2S2/PPP1R15A/UFM1/LDLR/SLC7A11/EBP/INSIG1/RPN1/DHCR7/HSPD1/BHLHE40/TXNRD1 & 43\\\\\n",
       "\tHALLMARK\\_CHOLESTEROL\\_HOMEOSTASIS & HALLMARK\\_CHOLESTEROL\\_HOMEOSTASIS   & HALLMARK\\_CHOLESTEROL\\_HOMEOSTASIS   & 18/232 & 74/4386  & 2.793102e-08 & 4.375860e-07 & 3.430125e-07 & TRIB3/STX5/SQLE/HMGCR/FAM129A/MVD/HMGCS1/HSD17B7/IDI1/FDPS/SREBF2/ECH1/PNRC1/ATF3/LDLR/TNFRSF12A/EBP/DHCR7                                                                                                                                                              & 18\\\\\n",
       "\tHALLMARK\\_PROTEIN\\_SECRETION & HALLMARK\\_PROTEIN\\_SECRETION         & HALLMARK\\_PROTEIN\\_SECRETION         & 18/232 & 96/4386  & 1.840627e-06 & 2.162737e-05 & 1.695315e-05 & ARFGAP3/LMAN1/COPE/ARCN1/RAB9A/SEC24D/GOLGA4/RAB5A/BET1/ARF1/USO1/TPD52/SEC31A/TMED10/ICA1/COPB2/DST/NAPA                                                                                                                                                               & 18\\\\\n",
       "\tHALLMARK\\_TNFA\\_SIGNALING\\_VIA\\_NFKB & HALLMARK\\_TNFA\\_SIGNALING\\_VIA\\_NFKB   & HALLMARK\\_TNFA\\_SIGNALING\\_VIA\\_NFKB   & 26/232 & 200/4386 & 1.349707e-05 & 1.268724e-04 & 9.945207e-05 & SQSTM1/EIF1/GEM/RIPK2/BTG1/CD44/HBEGF/GADD45A/VEGFA/PPP1R15A/JUN/PNRC1/TNFAIP8/REL/IRF1/ATF3/LDLR/CEBPB/TRIB1/TSC22D1/NFKBIA/DUSP1/LITAF/BHLHE40/KLF6/GADD45B                                                                                                           & 26\\\\\n",
       "\tHALLMARK\\_ANDROGEN\\_RESPONSE & HALLMARK\\_ANDROGEN\\_RESPONSE         & HALLMARK\\_ANDROGEN\\_RESPONSE         & 17/232 & 101/4386 & 1.638811e-05 & 1.283735e-04 & 1.006287e-04 & LMAN1/DNAJB9/PGM3/HMGCR/HMGCS1/SEC24D/HOMER2/IDI1/TPD52/SLC38A2/TNFAIP8/SRP19/H1F0/TSC22D1/INSIG1/GNAI3/ITGAV                                                                                                                                                           & 17\\\\\n",
       "\\end{tabular}\n"
      ],
      "text/markdown": [
       "\n",
       "A data.frame: 6 × 9\n",
       "\n",
       "| <!--/--> | ID &lt;chr&gt; | Description &lt;chr&gt; | GeneRatio &lt;chr&gt; | BgRatio &lt;chr&gt; | pvalue &lt;dbl&gt; | p.adjust &lt;dbl&gt; | qvalue &lt;dbl&gt; | geneID &lt;chr&gt; | Count &lt;int&gt; |\n",
       "|---|---|---|---|---|---|---|---|---|---|\n",
       "| HALLMARK_UNFOLDED_PROTEIN_RESPONSE | HALLMARK_UNFOLDED_PROTEIN_RESPONSE | HALLMARK_UNFOLDED_PROTEIN_RESPONSE | 35/232 | 113/4386 | 8.898574e-19 | 4.182330e-17 | 3.278422e-17 | HSPA5/HERPUD1/DDX10/SERP1/HSP90B1/ASNS/CEBPG/DNAJB9/PDIA6/HYOU1/MTHFD2/ATF4/DDIT4/DNAJC3/EIF2AK3/HSPA9/SRPRB/FKBP14/PDIA5/CALR/PSAT1/SSR1/EXOSC1/CKS1B/TSPYL2/SLC1A4/IARS/CHAC1/EIF4EBP1/VEGFA/SEC31A/ATF3/WIPI1/CEBPB/XPOT                                             | 35 |\n",
       "| HALLMARK_MTORC1_SIGNALING | HALLMARK_MTORC1_SIGNALING          | HALLMARK_MTORC1_SIGNALING          | 43/232 | 200/4386 | 2.677399e-16 | 6.291888e-15 | 4.932051e-15 | NUPR1/HSPA5/DDIT3/PHGDH/SDF2L1/SERP1/HSP90B1/TRIB3/ASNS/SQSTM1/GOT1/SQLE/TCEA1/CANX/HMGCR/MTHFD2/TUBA4A/FAM129A/DDIT4/HSPA9/SHMT2/CALR/HMGCS1/EPRS/PSAT1/SSR1/FKBP2/IDI1/IFRD1/SLC1A4/USO1/EIF2S2/PPP1R15A/UFM1/LDLR/SLC7A11/EBP/INSIG1/RPN1/DHCR7/HSPD1/BHLHE40/TXNRD1 | 43 |\n",
       "| HALLMARK_CHOLESTEROL_HOMEOSTASIS | HALLMARK_CHOLESTEROL_HOMEOSTASIS   | HALLMARK_CHOLESTEROL_HOMEOSTASIS   | 18/232 | 74/4386  | 2.793102e-08 | 4.375860e-07 | 3.430125e-07 | TRIB3/STX5/SQLE/HMGCR/FAM129A/MVD/HMGCS1/HSD17B7/IDI1/FDPS/SREBF2/ECH1/PNRC1/ATF3/LDLR/TNFRSF12A/EBP/DHCR7                                                                                                                                                              | 18 |\n",
       "| HALLMARK_PROTEIN_SECRETION | HALLMARK_PROTEIN_SECRETION         | HALLMARK_PROTEIN_SECRETION         | 18/232 | 96/4386  | 1.840627e-06 | 2.162737e-05 | 1.695315e-05 | ARFGAP3/LMAN1/COPE/ARCN1/RAB9A/SEC24D/GOLGA4/RAB5A/BET1/ARF1/USO1/TPD52/SEC31A/TMED10/ICA1/COPB2/DST/NAPA                                                                                                                                                               | 18 |\n",
       "| HALLMARK_TNFA_SIGNALING_VIA_NFKB | HALLMARK_TNFA_SIGNALING_VIA_NFKB   | HALLMARK_TNFA_SIGNALING_VIA_NFKB   | 26/232 | 200/4386 | 1.349707e-05 | 1.268724e-04 | 9.945207e-05 | SQSTM1/EIF1/GEM/RIPK2/BTG1/CD44/HBEGF/GADD45A/VEGFA/PPP1R15A/JUN/PNRC1/TNFAIP8/REL/IRF1/ATF3/LDLR/CEBPB/TRIB1/TSC22D1/NFKBIA/DUSP1/LITAF/BHLHE40/KLF6/GADD45B                                                                                                           | 26 |\n",
       "| HALLMARK_ANDROGEN_RESPONSE | HALLMARK_ANDROGEN_RESPONSE         | HALLMARK_ANDROGEN_RESPONSE         | 17/232 | 101/4386 | 1.638811e-05 | 1.283735e-04 | 1.006287e-04 | LMAN1/DNAJB9/PGM3/HMGCR/HMGCS1/SEC24D/HOMER2/IDI1/TPD52/SLC38A2/TNFAIP8/SRP19/H1F0/TSC22D1/INSIG1/GNAI3/ITGAV                                                                                                                                                           | 17 |\n",
       "\n"
      ],
      "text/plain": [
       "                                   ID                                \n",
       "HALLMARK_UNFOLDED_PROTEIN_RESPONSE HALLMARK_UNFOLDED_PROTEIN_RESPONSE\n",
       "HALLMARK_MTORC1_SIGNALING          HALLMARK_MTORC1_SIGNALING         \n",
       "HALLMARK_CHOLESTEROL_HOMEOSTASIS   HALLMARK_CHOLESTEROL_HOMEOSTASIS  \n",
       "HALLMARK_PROTEIN_SECRETION         HALLMARK_PROTEIN_SECRETION        \n",
       "HALLMARK_TNFA_SIGNALING_VIA_NFKB   HALLMARK_TNFA_SIGNALING_VIA_NFKB  \n",
       "HALLMARK_ANDROGEN_RESPONSE         HALLMARK_ANDROGEN_RESPONSE        \n",
       "                                   Description                        GeneRatio\n",
       "HALLMARK_UNFOLDED_PROTEIN_RESPONSE HALLMARK_UNFOLDED_PROTEIN_RESPONSE 35/232   \n",
       "HALLMARK_MTORC1_SIGNALING          HALLMARK_MTORC1_SIGNALING          43/232   \n",
       "HALLMARK_CHOLESTEROL_HOMEOSTASIS   HALLMARK_CHOLESTEROL_HOMEOSTASIS   18/232   \n",
       "HALLMARK_PROTEIN_SECRETION         HALLMARK_PROTEIN_SECRETION         18/232   \n",
       "HALLMARK_TNFA_SIGNALING_VIA_NFKB   HALLMARK_TNFA_SIGNALING_VIA_NFKB   26/232   \n",
       "HALLMARK_ANDROGEN_RESPONSE         HALLMARK_ANDROGEN_RESPONSE         17/232   \n",
       "                                   BgRatio  pvalue       p.adjust    \n",
       "HALLMARK_UNFOLDED_PROTEIN_RESPONSE 113/4386 8.898574e-19 4.182330e-17\n",
       "HALLMARK_MTORC1_SIGNALING          200/4386 2.677399e-16 6.291888e-15\n",
       "HALLMARK_CHOLESTEROL_HOMEOSTASIS   74/4386  2.793102e-08 4.375860e-07\n",
       "HALLMARK_PROTEIN_SECRETION         96/4386  1.840627e-06 2.162737e-05\n",
       "HALLMARK_TNFA_SIGNALING_VIA_NFKB   200/4386 1.349707e-05 1.268724e-04\n",
       "HALLMARK_ANDROGEN_RESPONSE         101/4386 1.638811e-05 1.283735e-04\n",
       "                                   qvalue      \n",
       "HALLMARK_UNFOLDED_PROTEIN_RESPONSE 3.278422e-17\n",
       "HALLMARK_MTORC1_SIGNALING          4.932051e-15\n",
       "HALLMARK_CHOLESTEROL_HOMEOSTASIS   3.430125e-07\n",
       "HALLMARK_PROTEIN_SECRETION         1.695315e-05\n",
       "HALLMARK_TNFA_SIGNALING_VIA_NFKB   9.945207e-05\n",
       "HALLMARK_ANDROGEN_RESPONSE         1.006287e-04\n",
       "                                   geneID                                                                                                                                                                                                                                                                 \n",
       "HALLMARK_UNFOLDED_PROTEIN_RESPONSE HSPA5/HERPUD1/DDX10/SERP1/HSP90B1/ASNS/CEBPG/DNAJB9/PDIA6/HYOU1/MTHFD2/ATF4/DDIT4/DNAJC3/EIF2AK3/HSPA9/SRPRB/FKBP14/PDIA5/CALR/PSAT1/SSR1/EXOSC1/CKS1B/TSPYL2/SLC1A4/IARS/CHAC1/EIF4EBP1/VEGFA/SEC31A/ATF3/WIPI1/CEBPB/XPOT                                            \n",
       "HALLMARK_MTORC1_SIGNALING          NUPR1/HSPA5/DDIT3/PHGDH/SDF2L1/SERP1/HSP90B1/TRIB3/ASNS/SQSTM1/GOT1/SQLE/TCEA1/CANX/HMGCR/MTHFD2/TUBA4A/FAM129A/DDIT4/HSPA9/SHMT2/CALR/HMGCS1/EPRS/PSAT1/SSR1/FKBP2/IDI1/IFRD1/SLC1A4/USO1/EIF2S2/PPP1R15A/UFM1/LDLR/SLC7A11/EBP/INSIG1/RPN1/DHCR7/HSPD1/BHLHE40/TXNRD1\n",
       "HALLMARK_CHOLESTEROL_HOMEOSTASIS   TRIB3/STX5/SQLE/HMGCR/FAM129A/MVD/HMGCS1/HSD17B7/IDI1/FDPS/SREBF2/ECH1/PNRC1/ATF3/LDLR/TNFRSF12A/EBP/DHCR7                                                                                                                                                             \n",
       "HALLMARK_PROTEIN_SECRETION         ARFGAP3/LMAN1/COPE/ARCN1/RAB9A/SEC24D/GOLGA4/RAB5A/BET1/ARF1/USO1/TPD52/SEC31A/TMED10/ICA1/COPB2/DST/NAPA                                                                                                                                                              \n",
       "HALLMARK_TNFA_SIGNALING_VIA_NFKB   SQSTM1/EIF1/GEM/RIPK2/BTG1/CD44/HBEGF/GADD45A/VEGFA/PPP1R15A/JUN/PNRC1/TNFAIP8/REL/IRF1/ATF3/LDLR/CEBPB/TRIB1/TSC22D1/NFKBIA/DUSP1/LITAF/BHLHE40/KLF6/GADD45B                                                                                                          \n",
       "HALLMARK_ANDROGEN_RESPONSE         LMAN1/DNAJB9/PGM3/HMGCR/HMGCS1/SEC24D/HOMER2/IDI1/TPD52/SLC38A2/TNFAIP8/SRP19/H1F0/TSC22D1/INSIG1/GNAI3/ITGAV                                                                                                                                                          \n",
       "                                   Count\n",
       "HALLMARK_UNFOLDED_PROTEIN_RESPONSE 35   \n",
       "HALLMARK_MTORC1_SIGNALING          43   \n",
       "HALLMARK_CHOLESTEROL_HOMEOSTASIS   18   \n",
       "HALLMARK_PROTEIN_SECRETION         18   \n",
       "HALLMARK_TNFA_SIGNALING_VIA_NFKB   26   \n",
       "HALLMARK_ANDROGEN_RESPONSE         17   "
      ]
     },
     "metadata": {},
     "output_type": "display_data"
    },
    {
     "data": {
      "text/html": [
       "<style>\n",
       ".list-inline {list-style: none; margin:0; padding: 0}\n",
       ".list-inline>li {display: inline-block}\n",
       ".list-inline>li:not(:last-child)::after {content: \"\\00b7\"; padding: 0 .5ex}\n",
       "</style>\n",
       "<ol class=list-inline><li>9</li><li>9</li></ol>\n"
      ],
      "text/latex": [
       "\\begin{enumerate*}\n",
       "\\item 9\n",
       "\\item 9\n",
       "\\end{enumerate*}\n"
      ],
      "text/markdown": [
       "1. 9\n",
       "2. 9\n",
       "\n",
       "\n"
      ],
      "text/plain": [
       "[1] 9 9"
      ]
     },
     "metadata": {},
     "output_type": "display_data"
    },
    {
     "data": {
      "text/html": [
       "down unc_lccc"
      ]
     },
     "metadata": {},
     "output_type": "display_data"
    },
    {
     "data": {
      "text/html": [
       "<table class=\"dataframe\">\n",
       "<caption>A data.frame: 6 × 9</caption>\n",
       "<thead>\n",
       "\t<tr><th></th><th scope=col>ID</th><th scope=col>Description</th><th scope=col>GeneRatio</th><th scope=col>BgRatio</th><th scope=col>pvalue</th><th scope=col>p.adjust</th><th scope=col>qvalue</th><th scope=col>geneID</th><th scope=col>Count</th></tr>\n",
       "\t<tr><th></th><th scope=col>&lt;chr&gt;</th><th scope=col>&lt;chr&gt;</th><th scope=col>&lt;chr&gt;</th><th scope=col>&lt;chr&gt;</th><th scope=col>&lt;dbl&gt;</th><th scope=col>&lt;dbl&gt;</th><th scope=col>&lt;dbl&gt;</th><th scope=col>&lt;chr&gt;</th><th scope=col>&lt;int&gt;</th></tr>\n",
       "</thead>\n",
       "<tbody>\n",
       "\t<tr><th scope=row>UNC_HS_Red22_BMC.Med.Genomics.2011_PMID.21214954</th><td>UNC_HS_Red22_BMC.Med.Genomics.2011_PMID.21214954  </td><td>UNC_HS_Red22_BMC.Med.Genomics.2011_PMID.21214954  </td><td>58/610</td><td>430/19993</td><td>1.112977e-21</td><td>4.028976e-19</td><td>3.116335e-19</td><td>ARFGAP3/SERP1/HSP90B1/DNAJB9/KDELR2/MTHFD2/GFPT1/HSPA13/RSL24D1/EIF2AK3/CCPG1/ARCN1/RAB9A/JMJD1C/SCFD1/SEC61G/TMED5/TMEM258/SEC24D/ARL1/INSIG2/MPC1/BCAS2/IDI1/BET1/EXOSC8/MCFD2/TMEM39A/NRBF2/EMC2/SDHD/USO1/SLK/CYCS/LRIF1/PRELID3B/PPP1R2/UFM1/SRP54/USP16/FAM3C/SRP19/ACBD3/ABHD5/MAP1LC3B/COPB2/ALG5/ARL8B/EIF5/CSGALNACT2/GOLT1B/CALCOCO2/PTS/XPOT/GNAI3/MAPK6/ITGAV/TXNRD1</td><td>58</td></tr>\n",
       "\t<tr><th scope=row>Duke_Module07_glucosedepletion_Mike_PMID.20335537</th><td>Duke_Module07_glucosedepletion_Mike_PMID.20335537 </td><td>Duke_Module07_glucosedepletion_Mike_PMID.20335537 </td><td>17/610</td><td>27/19993 </td><td>8.782147e-20</td><td>1.589569e-17</td><td>1.229501e-17</td><td>SLC3A2/HERPUD1/SDF2L1/DNAJB9/HYOU1/DDIT4/CLIC4/YARS/EPRS/SEL1L/IFRD1/HBP1/SLC38A2/SEC63/MAP1LC3B/CARS/CALU                                                                                                                                                                                                                                                                       </td><td>17</td></tr>\n",
       "\t<tr><th scope=row>GSEA_HDAC_TARGETS_DN_HELLER</th><td>GSEA_HDAC_TARGETS_DN_HELLER                       </td><td>GSEA_HDAC_TARGETS_DN_HELLER                       </td><td>39/610</td><td>290/19993</td><td>6.863291e-15</td><td>8.281704e-13</td><td>6.405738e-13</td><td>SLC3A2/HSPA5/HERPUD1/DDIT3/SERP1/TRIB3/PDIA3/CEBPG/CRELD2/DNAJB9/HMOX1/ATF4/TMPRSS3/HSPA9/SHMT2/TMED1/CCPG1/TIMM44/CD44/CALR/SEC24D/PSAT1/SLC1A4/CHAC1/GADD45A/PPP1R15A/BCL2/DCPS/KLHL21/CLK1/ATF3/CEBPB/SLC7A11/EIF5/OSBPL1A/SLC38A1/DDX17/ISG20/HSPD1                                                                                                                          </td><td>39</td></tr>\n",
       "\t<tr><th scope=row>UNC_Unknown_10_BMC.Med.Genomics.2011_PMID.21214954</th><td>UNC_Unknown_10_BMC.Med.Genomics.2011_PMID.21214954</td><td>UNC_Unknown_10_BMC.Med.Genomics.2011_PMID.21214954</td><td>14/610</td><td>29/19993 </td><td>2.659622e-14</td><td>2.406958e-12</td><td>1.861736e-12</td><td>PDIA3/PPIB/TMED9/KDELR2/SLC39A7/SRPRB/PDIA5/SEC61A1/CKAP4/SEC13/GORASP2/RABAC1/COPB2/RPN1                                                                                                                                                                                                                                                                                        </td><td>14</td></tr>\n",
       "\t<tr><th scope=row>UNC_HS_Red17_BMC.Med.Genomics.2011_PMID.21214954</th><td>UNC_HS_Red17_BMC.Med.Genomics.2011_PMID.21214954  </td><td>UNC_HS_Red17_BMC.Med.Genomics.2011_PMID.21214954  </td><td>36/610</td><td>335/19993</td><td>6.043711e-11</td><td>4.375646e-09</td><td>3.384478e-09</td><td>PDIA3/LMAN1/PPIB/JUND/PGM3/CANX/SRPRA/PJA2/ARF4/CLIC4/RAB9A/CDV3/TMCO3/TRAM1/P4HB/SSR1/RAB5A/EHF/ARF1/DNAJC10/CREBZF/PSAP/NEU1/GCLM/PPP1R2/YIPF5/CDYL/MAP1LC3B/TRIM27/KDELR1/TKT/STX3/CALU/GNAI3/PTP4A1/KLF6                                                                                                                                                                     </td><td>36</td></tr>\n",
       "\t<tr><th scope=row>Duke_Module05_egfr_Mike_PMID.20335537</th><td>Duke_Module05_egfr_Mike_PMID.20335537             </td><td>Duke_Module05_egfr_Mike_PMID.20335537             </td><td>32/610</td><td>281/19993</td><td>1.616775e-10</td><td>9.754545e-09</td><td>7.544952e-09</td><td>SQLE/ATXN1/HMGCR/DDIT4/BNIP3L/BTG1/ARHGAP29/CD44/INSIG2/GOLGA2/EHF/LRRFIP2/INTS6/GADD45A/VEGFA/SEC31A/SLC38A2/LDLR/DUSP10/ACBD3/CEBPB/CDYL/TRIB1/ARL8B/DST/TSC22D1/STX3/NFKBIA/MAPK6/ISG20/BHLHE40/KLF6                                                                                                                                                                          </td><td>32</td></tr>\n",
       "</tbody>\n",
       "</table>\n"
      ],
      "text/latex": [
       "A data.frame: 6 × 9\n",
       "\\begin{tabular}{r|lllllllll}\n",
       "  & ID & Description & GeneRatio & BgRatio & pvalue & p.adjust & qvalue & geneID & Count\\\\\n",
       "  & <chr> & <chr> & <chr> & <chr> & <dbl> & <dbl> & <dbl> & <chr> & <int>\\\\\n",
       "\\hline\n",
       "\tUNC\\_HS\\_Red22\\_BMC.Med.Genomics.2011\\_PMID.21214954 & UNC\\_HS\\_Red22\\_BMC.Med.Genomics.2011\\_PMID.21214954   & UNC\\_HS\\_Red22\\_BMC.Med.Genomics.2011\\_PMID.21214954   & 58/610 & 430/19993 & 1.112977e-21 & 4.028976e-19 & 3.116335e-19 & ARFGAP3/SERP1/HSP90B1/DNAJB9/KDELR2/MTHFD2/GFPT1/HSPA13/RSL24D1/EIF2AK3/CCPG1/ARCN1/RAB9A/JMJD1C/SCFD1/SEC61G/TMED5/TMEM258/SEC24D/ARL1/INSIG2/MPC1/BCAS2/IDI1/BET1/EXOSC8/MCFD2/TMEM39A/NRBF2/EMC2/SDHD/USO1/SLK/CYCS/LRIF1/PRELID3B/PPP1R2/UFM1/SRP54/USP16/FAM3C/SRP19/ACBD3/ABHD5/MAP1LC3B/COPB2/ALG5/ARL8B/EIF5/CSGALNACT2/GOLT1B/CALCOCO2/PTS/XPOT/GNAI3/MAPK6/ITGAV/TXNRD1 & 58\\\\\n",
       "\tDuke\\_Module07\\_glucosedepletion\\_Mike\\_PMID.20335537 & Duke\\_Module07\\_glucosedepletion\\_Mike\\_PMID.20335537  & Duke\\_Module07\\_glucosedepletion\\_Mike\\_PMID.20335537  & 17/610 & 27/19993  & 8.782147e-20 & 1.589569e-17 & 1.229501e-17 & SLC3A2/HERPUD1/SDF2L1/DNAJB9/HYOU1/DDIT4/CLIC4/YARS/EPRS/SEL1L/IFRD1/HBP1/SLC38A2/SEC63/MAP1LC3B/CARS/CALU                                                                                                                                                                                                                                                                        & 17\\\\\n",
       "\tGSEA\\_HDAC\\_TARGETS\\_DN\\_HELLER & GSEA\\_HDAC\\_TARGETS\\_DN\\_HELLER                        & GSEA\\_HDAC\\_TARGETS\\_DN\\_HELLER                        & 39/610 & 290/19993 & 6.863291e-15 & 8.281704e-13 & 6.405738e-13 & SLC3A2/HSPA5/HERPUD1/DDIT3/SERP1/TRIB3/PDIA3/CEBPG/CRELD2/DNAJB9/HMOX1/ATF4/TMPRSS3/HSPA9/SHMT2/TMED1/CCPG1/TIMM44/CD44/CALR/SEC24D/PSAT1/SLC1A4/CHAC1/GADD45A/PPP1R15A/BCL2/DCPS/KLHL21/CLK1/ATF3/CEBPB/SLC7A11/EIF5/OSBPL1A/SLC38A1/DDX17/ISG20/HSPD1                                                                                                                           & 39\\\\\n",
       "\tUNC\\_Unknown\\_10\\_BMC.Med.Genomics.2011\\_PMID.21214954 & UNC\\_Unknown\\_10\\_BMC.Med.Genomics.2011\\_PMID.21214954 & UNC\\_Unknown\\_10\\_BMC.Med.Genomics.2011\\_PMID.21214954 & 14/610 & 29/19993  & 2.659622e-14 & 2.406958e-12 & 1.861736e-12 & PDIA3/PPIB/TMED9/KDELR2/SLC39A7/SRPRB/PDIA5/SEC61A1/CKAP4/SEC13/GORASP2/RABAC1/COPB2/RPN1                                                                                                                                                                                                                                                                                         & 14\\\\\n",
       "\tUNC\\_HS\\_Red17\\_BMC.Med.Genomics.2011\\_PMID.21214954 & UNC\\_HS\\_Red17\\_BMC.Med.Genomics.2011\\_PMID.21214954   & UNC\\_HS\\_Red17\\_BMC.Med.Genomics.2011\\_PMID.21214954   & 36/610 & 335/19993 & 6.043711e-11 & 4.375646e-09 & 3.384478e-09 & PDIA3/LMAN1/PPIB/JUND/PGM3/CANX/SRPRA/PJA2/ARF4/CLIC4/RAB9A/CDV3/TMCO3/TRAM1/P4HB/SSR1/RAB5A/EHF/ARF1/DNAJC10/CREBZF/PSAP/NEU1/GCLM/PPP1R2/YIPF5/CDYL/MAP1LC3B/TRIM27/KDELR1/TKT/STX3/CALU/GNAI3/PTP4A1/KLF6                                                                                                                                                                      & 36\\\\\n",
       "\tDuke\\_Module05\\_egfr\\_Mike\\_PMID.20335537 & Duke\\_Module05\\_egfr\\_Mike\\_PMID.20335537              & Duke\\_Module05\\_egfr\\_Mike\\_PMID.20335537              & 32/610 & 281/19993 & 1.616775e-10 & 9.754545e-09 & 7.544952e-09 & SQLE/ATXN1/HMGCR/DDIT4/BNIP3L/BTG1/ARHGAP29/CD44/INSIG2/GOLGA2/EHF/LRRFIP2/INTS6/GADD45A/VEGFA/SEC31A/SLC38A2/LDLR/DUSP10/ACBD3/CEBPB/CDYL/TRIB1/ARL8B/DST/TSC22D1/STX3/NFKBIA/MAPK6/ISG20/BHLHE40/KLF6                                                                                                                                                                           & 32\\\\\n",
       "\\end{tabular}\n"
      ],
      "text/markdown": [
       "\n",
       "A data.frame: 6 × 9\n",
       "\n",
       "| <!--/--> | ID &lt;chr&gt; | Description &lt;chr&gt; | GeneRatio &lt;chr&gt; | BgRatio &lt;chr&gt; | pvalue &lt;dbl&gt; | p.adjust &lt;dbl&gt; | qvalue &lt;dbl&gt; | geneID &lt;chr&gt; | Count &lt;int&gt; |\n",
       "|---|---|---|---|---|---|---|---|---|---|\n",
       "| UNC_HS_Red22_BMC.Med.Genomics.2011_PMID.21214954 | UNC_HS_Red22_BMC.Med.Genomics.2011_PMID.21214954   | UNC_HS_Red22_BMC.Med.Genomics.2011_PMID.21214954   | 58/610 | 430/19993 | 1.112977e-21 | 4.028976e-19 | 3.116335e-19 | ARFGAP3/SERP1/HSP90B1/DNAJB9/KDELR2/MTHFD2/GFPT1/HSPA13/RSL24D1/EIF2AK3/CCPG1/ARCN1/RAB9A/JMJD1C/SCFD1/SEC61G/TMED5/TMEM258/SEC24D/ARL1/INSIG2/MPC1/BCAS2/IDI1/BET1/EXOSC8/MCFD2/TMEM39A/NRBF2/EMC2/SDHD/USO1/SLK/CYCS/LRIF1/PRELID3B/PPP1R2/UFM1/SRP54/USP16/FAM3C/SRP19/ACBD3/ABHD5/MAP1LC3B/COPB2/ALG5/ARL8B/EIF5/CSGALNACT2/GOLT1B/CALCOCO2/PTS/XPOT/GNAI3/MAPK6/ITGAV/TXNRD1 | 58 |\n",
       "| Duke_Module07_glucosedepletion_Mike_PMID.20335537 | Duke_Module07_glucosedepletion_Mike_PMID.20335537  | Duke_Module07_glucosedepletion_Mike_PMID.20335537  | 17/610 | 27/19993  | 8.782147e-20 | 1.589569e-17 | 1.229501e-17 | SLC3A2/HERPUD1/SDF2L1/DNAJB9/HYOU1/DDIT4/CLIC4/YARS/EPRS/SEL1L/IFRD1/HBP1/SLC38A2/SEC63/MAP1LC3B/CARS/CALU                                                                                                                                                                                                                                                                        | 17 |\n",
       "| GSEA_HDAC_TARGETS_DN_HELLER | GSEA_HDAC_TARGETS_DN_HELLER                        | GSEA_HDAC_TARGETS_DN_HELLER                        | 39/610 | 290/19993 | 6.863291e-15 | 8.281704e-13 | 6.405738e-13 | SLC3A2/HSPA5/HERPUD1/DDIT3/SERP1/TRIB3/PDIA3/CEBPG/CRELD2/DNAJB9/HMOX1/ATF4/TMPRSS3/HSPA9/SHMT2/TMED1/CCPG1/TIMM44/CD44/CALR/SEC24D/PSAT1/SLC1A4/CHAC1/GADD45A/PPP1R15A/BCL2/DCPS/KLHL21/CLK1/ATF3/CEBPB/SLC7A11/EIF5/OSBPL1A/SLC38A1/DDX17/ISG20/HSPD1                                                                                                                           | 39 |\n",
       "| UNC_Unknown_10_BMC.Med.Genomics.2011_PMID.21214954 | UNC_Unknown_10_BMC.Med.Genomics.2011_PMID.21214954 | UNC_Unknown_10_BMC.Med.Genomics.2011_PMID.21214954 | 14/610 | 29/19993  | 2.659622e-14 | 2.406958e-12 | 1.861736e-12 | PDIA3/PPIB/TMED9/KDELR2/SLC39A7/SRPRB/PDIA5/SEC61A1/CKAP4/SEC13/GORASP2/RABAC1/COPB2/RPN1                                                                                                                                                                                                                                                                                         | 14 |\n",
       "| UNC_HS_Red17_BMC.Med.Genomics.2011_PMID.21214954 | UNC_HS_Red17_BMC.Med.Genomics.2011_PMID.21214954   | UNC_HS_Red17_BMC.Med.Genomics.2011_PMID.21214954   | 36/610 | 335/19993 | 6.043711e-11 | 4.375646e-09 | 3.384478e-09 | PDIA3/LMAN1/PPIB/JUND/PGM3/CANX/SRPRA/PJA2/ARF4/CLIC4/RAB9A/CDV3/TMCO3/TRAM1/P4HB/SSR1/RAB5A/EHF/ARF1/DNAJC10/CREBZF/PSAP/NEU1/GCLM/PPP1R2/YIPF5/CDYL/MAP1LC3B/TRIM27/KDELR1/TKT/STX3/CALU/GNAI3/PTP4A1/KLF6                                                                                                                                                                      | 36 |\n",
       "| Duke_Module05_egfr_Mike_PMID.20335537 | Duke_Module05_egfr_Mike_PMID.20335537              | Duke_Module05_egfr_Mike_PMID.20335537              | 32/610 | 281/19993 | 1.616775e-10 | 9.754545e-09 | 7.544952e-09 | SQLE/ATXN1/HMGCR/DDIT4/BNIP3L/BTG1/ARHGAP29/CD44/INSIG2/GOLGA2/EHF/LRRFIP2/INTS6/GADD45A/VEGFA/SEC31A/SLC38A2/LDLR/DUSP10/ACBD3/CEBPB/CDYL/TRIB1/ARL8B/DST/TSC22D1/STX3/NFKBIA/MAPK6/ISG20/BHLHE40/KLF6                                                                                                                                                                           | 32 |\n",
       "\n"
      ],
      "text/plain": [
       "                                                   ID                                                \n",
       "UNC_HS_Red22_BMC.Med.Genomics.2011_PMID.21214954   UNC_HS_Red22_BMC.Med.Genomics.2011_PMID.21214954  \n",
       "Duke_Module07_glucosedepletion_Mike_PMID.20335537  Duke_Module07_glucosedepletion_Mike_PMID.20335537 \n",
       "GSEA_HDAC_TARGETS_DN_HELLER                        GSEA_HDAC_TARGETS_DN_HELLER                       \n",
       "UNC_Unknown_10_BMC.Med.Genomics.2011_PMID.21214954 UNC_Unknown_10_BMC.Med.Genomics.2011_PMID.21214954\n",
       "UNC_HS_Red17_BMC.Med.Genomics.2011_PMID.21214954   UNC_HS_Red17_BMC.Med.Genomics.2011_PMID.21214954  \n",
       "Duke_Module05_egfr_Mike_PMID.20335537              Duke_Module05_egfr_Mike_PMID.20335537             \n",
       "                                                   Description                                       \n",
       "UNC_HS_Red22_BMC.Med.Genomics.2011_PMID.21214954   UNC_HS_Red22_BMC.Med.Genomics.2011_PMID.21214954  \n",
       "Duke_Module07_glucosedepletion_Mike_PMID.20335537  Duke_Module07_glucosedepletion_Mike_PMID.20335537 \n",
       "GSEA_HDAC_TARGETS_DN_HELLER                        GSEA_HDAC_TARGETS_DN_HELLER                       \n",
       "UNC_Unknown_10_BMC.Med.Genomics.2011_PMID.21214954 UNC_Unknown_10_BMC.Med.Genomics.2011_PMID.21214954\n",
       "UNC_HS_Red17_BMC.Med.Genomics.2011_PMID.21214954   UNC_HS_Red17_BMC.Med.Genomics.2011_PMID.21214954  \n",
       "Duke_Module05_egfr_Mike_PMID.20335537              Duke_Module05_egfr_Mike_PMID.20335537             \n",
       "                                                   GeneRatio BgRatio  \n",
       "UNC_HS_Red22_BMC.Med.Genomics.2011_PMID.21214954   58/610    430/19993\n",
       "Duke_Module07_glucosedepletion_Mike_PMID.20335537  17/610    27/19993 \n",
       "GSEA_HDAC_TARGETS_DN_HELLER                        39/610    290/19993\n",
       "UNC_Unknown_10_BMC.Med.Genomics.2011_PMID.21214954 14/610    29/19993 \n",
       "UNC_HS_Red17_BMC.Med.Genomics.2011_PMID.21214954   36/610    335/19993\n",
       "Duke_Module05_egfr_Mike_PMID.20335537              32/610    281/19993\n",
       "                                                   pvalue       p.adjust    \n",
       "UNC_HS_Red22_BMC.Med.Genomics.2011_PMID.21214954   1.112977e-21 4.028976e-19\n",
       "Duke_Module07_glucosedepletion_Mike_PMID.20335537  8.782147e-20 1.589569e-17\n",
       "GSEA_HDAC_TARGETS_DN_HELLER                        6.863291e-15 8.281704e-13\n",
       "UNC_Unknown_10_BMC.Med.Genomics.2011_PMID.21214954 2.659622e-14 2.406958e-12\n",
       "UNC_HS_Red17_BMC.Med.Genomics.2011_PMID.21214954   6.043711e-11 4.375646e-09\n",
       "Duke_Module05_egfr_Mike_PMID.20335537              1.616775e-10 9.754545e-09\n",
       "                                                   qvalue      \n",
       "UNC_HS_Red22_BMC.Med.Genomics.2011_PMID.21214954   3.116335e-19\n",
       "Duke_Module07_glucosedepletion_Mike_PMID.20335537  1.229501e-17\n",
       "GSEA_HDAC_TARGETS_DN_HELLER                        6.405738e-13\n",
       "UNC_Unknown_10_BMC.Med.Genomics.2011_PMID.21214954 1.861736e-12\n",
       "UNC_HS_Red17_BMC.Med.Genomics.2011_PMID.21214954   3.384478e-09\n",
       "Duke_Module05_egfr_Mike_PMID.20335537              7.544952e-09\n",
       "                                                   geneID                                                                                                                                                                                                                                                                                                                                                                           \n",
       "UNC_HS_Red22_BMC.Med.Genomics.2011_PMID.21214954   ARFGAP3/SERP1/HSP90B1/DNAJB9/KDELR2/MTHFD2/GFPT1/HSPA13/RSL24D1/EIF2AK3/CCPG1/ARCN1/RAB9A/JMJD1C/SCFD1/SEC61G/TMED5/TMEM258/SEC24D/ARL1/INSIG2/MPC1/BCAS2/IDI1/BET1/EXOSC8/MCFD2/TMEM39A/NRBF2/EMC2/SDHD/USO1/SLK/CYCS/LRIF1/PRELID3B/PPP1R2/UFM1/SRP54/USP16/FAM3C/SRP19/ACBD3/ABHD5/MAP1LC3B/COPB2/ALG5/ARL8B/EIF5/CSGALNACT2/GOLT1B/CALCOCO2/PTS/XPOT/GNAI3/MAPK6/ITGAV/TXNRD1\n",
       "Duke_Module07_glucosedepletion_Mike_PMID.20335537  SLC3A2/HERPUD1/SDF2L1/DNAJB9/HYOU1/DDIT4/CLIC4/YARS/EPRS/SEL1L/IFRD1/HBP1/SLC38A2/SEC63/MAP1LC3B/CARS/CALU                                                                                                                                                                                                                                                                       \n",
       "GSEA_HDAC_TARGETS_DN_HELLER                        SLC3A2/HSPA5/HERPUD1/DDIT3/SERP1/TRIB3/PDIA3/CEBPG/CRELD2/DNAJB9/HMOX1/ATF4/TMPRSS3/HSPA9/SHMT2/TMED1/CCPG1/TIMM44/CD44/CALR/SEC24D/PSAT1/SLC1A4/CHAC1/GADD45A/PPP1R15A/BCL2/DCPS/KLHL21/CLK1/ATF3/CEBPB/SLC7A11/EIF5/OSBPL1A/SLC38A1/DDX17/ISG20/HSPD1                                                                                                                          \n",
       "UNC_Unknown_10_BMC.Med.Genomics.2011_PMID.21214954 PDIA3/PPIB/TMED9/KDELR2/SLC39A7/SRPRB/PDIA5/SEC61A1/CKAP4/SEC13/GORASP2/RABAC1/COPB2/RPN1                                                                                                                                                                                                                                                                                        \n",
       "UNC_HS_Red17_BMC.Med.Genomics.2011_PMID.21214954   PDIA3/LMAN1/PPIB/JUND/PGM3/CANX/SRPRA/PJA2/ARF4/CLIC4/RAB9A/CDV3/TMCO3/TRAM1/P4HB/SSR1/RAB5A/EHF/ARF1/DNAJC10/CREBZF/PSAP/NEU1/GCLM/PPP1R2/YIPF5/CDYL/MAP1LC3B/TRIM27/KDELR1/TKT/STX3/CALU/GNAI3/PTP4A1/KLF6                                                                                                                                                                     \n",
       "Duke_Module05_egfr_Mike_PMID.20335537              SQLE/ATXN1/HMGCR/DDIT4/BNIP3L/BTG1/ARHGAP29/CD44/INSIG2/GOLGA2/EHF/LRRFIP2/INTS6/GADD45A/VEGFA/SEC31A/SLC38A2/LDLR/DUSP10/ACBD3/CEBPB/CDYL/TRIB1/ARL8B/DST/TSC22D1/STX3/NFKBIA/MAPK6/ISG20/BHLHE40/KLF6                                                                                                                                                                          \n",
       "                                                   Count\n",
       "UNC_HS_Red22_BMC.Med.Genomics.2011_PMID.21214954   58   \n",
       "Duke_Module07_glucosedepletion_Mike_PMID.20335537  17   \n",
       "GSEA_HDAC_TARGETS_DN_HELLER                        39   \n",
       "UNC_Unknown_10_BMC.Med.Genomics.2011_PMID.21214954 14   \n",
       "UNC_HS_Red17_BMC.Med.Genomics.2011_PMID.21214954   36   \n",
       "Duke_Module05_egfr_Mike_PMID.20335537              32   "
      ]
     },
     "metadata": {},
     "output_type": "display_data"
    },
    {
     "data": {
      "text/html": [
       "<style>\n",
       ".list-inline {list-style: none; margin:0; padding: 0}\n",
       ".list-inline>li {display: inline-block}\n",
       ".list-inline>li:not(:last-child)::after {content: \"\\00b7\"; padding: 0 .5ex}\n",
       "</style>\n",
       "<ol class=list-inline><li>65</li><li>9</li></ol>\n"
      ],
      "text/latex": [
       "\\begin{enumerate*}\n",
       "\\item 65\n",
       "\\item 9\n",
       "\\end{enumerate*}\n"
      ],
      "text/markdown": [
       "1. 65\n",
       "2. 9\n",
       "\n",
       "\n"
      ],
      "text/plain": [
       "[1] 65  9"
      ]
     },
     "metadata": {},
     "output_type": "display_data"
    },
    {
     "data": {
      "text/html": [
       "filename_xlsx: xlsx/er+bc-pairs_cluster2_vs_cluster3_Tumor_cells.xlsx\n"
      ]
     },
     "metadata": {},
     "output_type": "display_data"
    },
    {
     "data": {
      "text/html": [
       "filename_figure: heatmap_er+bc-pairs_cluster2_vs_cluster3_Tumor_cells_zscore\n"
      ]
     },
     "metadata": {},
     "output_type": "display_data"
    },
    {
     "data": {
      "image/png": "[encoded data removed]",
      "text/plain": [
       "plot without title"
      ]
     },
     "metadata": {
      "image/png": {
       "height": 240,
       "width": 240
      }
     },
     "output_type": "display_data"
    }
   ],
   "source": [
    "\n",
    "list_markers <- find_markers(rna, sample1 = sample1,\n",
    "                        sample_ref = sample_ref,\n",
    "                        pattern_sample1 = pattern_sample1,\n",
    "                        pattern_sample_ref = pattern_sample_ref,\n",
    "                             \n",
    "                        # pattern_tumor_epi     \n",
    "                        pattern_cell_type1 = pattern_tumor_epi,\n",
    "                        pattern_cell_type_ref = pattern_tumor_epi,\n",
    "                             \n",
    "                        # cluster number\n",
    "                        str_column_of_meta_data_cluster = str_column_of_meta_data_cluster,\n",
    "                        clusters1 = clusters1,\n",
    "                        clusters_ref = clusters_ref,\n",
    "                             \n",
    "                        group_name1 = sprintf(\"%s Tumor cells\", group_name1),\n",
    "                        group_name_ref = sprintf(\"%s Tumor cells\", group_name_ref),\n",
    "                        col_cluster_types = col_cluster_types_,\n",
    "                        col_cell_types = col_cell_types_,\n",
    "                        th_log2fc = th_log2fc_,\n",
    "                        th_padj = th_padj_, \n",
    "                        min.pct = min.pct_,\n",
    "                        min.diff.pct = min.diff.pct_,\n",
    "                        max.cells.per.ident = max.cells.per.ident_,\n",
    "                        method_dge = method_dge)\n",
    "\n",
    "str_condition_tmp <- sprintf(\"%s_%s_vs_%s_Tumor cells\",\n",
    "                             str_condition,\n",
    "                             group_name_ref, group_name1)\n",
    "\n",
    "if (type_condition != \"none\") {\n",
    "          str_condition_tmp <- sprintf(\"%s_%s\", str_condition_tmp, type_condition)\n",
    "}\n",
    "\n",
    "list_ea <- execute_enrichment_analysis(list_markers$markers,\n",
    "                        str_condition_tmp,\n",
    "                        th_log2fc = th_log2fc_,\n",
    "                        th_padj = th_padj_,\n",
    "                        method_dge = method_dge,\n",
    "                        dir_xlsx = dir_xlsx,       \n",
    "                        n_log = 1)\n",
    "\n",
    "\n",
    "genes_up <- rownames(list_ea$df_up)\n",
    "genes_dn <- rownames(list_ea$df_dn)\n",
    "list_genes_dn[[\"Epi\"]] <- genes_dn\n",
    "\n",
    "if (f_featureplot) {\n",
    "    gg <- featureplot_enrichment_analysis(rna,\n",
    "                list_ea,\n",
    "                str_condition_tmp)\n",
    "}\n",
    "\n",
    "list_out_heatmap <- heatmap_enrichment_analysis(list_markers,\n",
    "                    list_ea,\n",
    "                    str_condition_tmp,\n",
    "                    pattern_gene_removal=\"^MT-|^RPS|^RPL\",\n",
    "                    max_up=5, max_dn=5,\n",
    "                    n_sampling=n_sampling,\n",
    "                    cluster_rows=cluster_rows)\n",
    "\n"
   ]
  },
  {
   "cell_type": "markdown",
   "id": "8462efd6",
   "metadata": {},
   "source": [
    "## cluster 2 vs. cluster 12"
   ]
  },
  {
   "cell_type": "code",
   "execution_count": 22,
   "id": "381aa0a5",
   "metadata": {},
   "outputs": [],
   "source": [
    "# tumor pairs with large differences\n",
    "\n",
    "sample1 <- NULL\n",
    "sample_ref <- NULL\n",
    "\n",
    "th_log2fc_=0.25; th_padj_=0.01\n",
    "min.pct_=0.25; min.diff.pct_=-Inf; max.cells.per.ident_=Inf\n",
    "\n",
    "f_featureplot=FALSE\n",
    "n_sampling=-1\n",
    "cluster_rows=FALSE\n",
    "\n",
    "pattern_sample1 <- \"Tamoxifen\"\n",
    "pattern_sample_ref <- \"Tamoxifen\"\n",
    "\n",
    "drug_name <- \"tamoxifen\"\n",
    "\n",
    "#clusters1 <- c(3)  # 2 vs. 3 LumA, n=865\n",
    "clusters1 <- c(12)  # 2 vs. 12 LumA, n=345\n",
    "#clusters1 <- c(3,12)  # 2 vs. (3+12) LumA, n=1210\n",
    "#clusters1 <- c(19)  # 2 vs. 19 LumB, n=100\n",
    "\n",
    "clusters_ref <- c(2) # reponsive, n=2100\n",
    "\n",
    "group_name1 <- sprintf(\"cluster%s\", paste(clusters1, collapse=\",\"))\n",
    "group_name_ref <- sprintf(\"cluster%s\", paste(clusters_ref, collapse=\",\"))\n",
    "\n",
    "col_cluster_types_ <- NULL\n",
    "col_cell_types_ <- \"cell.type\"\n",
    "\n"
   ]
  },
  {
   "cell_type": "code",
   "execution_count": 23,
   "id": "d20679b4",
   "metadata": {},
   "outputs": [
    {
     "name": "stdout",
     "output_type": "stream",
     "text": [
      "drug_name=tamoxifen\n",
      "pattern_sample1=Tamoxifen\n",
      "pattern_sample_ref=Tamoxifen\n",
      "\t\tgroup_name1=cluster12\n",
      "\t\tgroup_name_ref=cluster2\n",
      "\t\tcol_cell_types_=cell.type\n",
      "\t\tth_log2fc=0.25\n",
      "\t\tth_padj=0.01\n",
      "\t\tmin.pct=0.25\n",
      "\t\tmin.diff.pct=-Inf\n",
      "\t\tmax.cells.per.ident=Inf\n",
      "\t\tmethod_dge=seurat_findmarkers_enricher\n",
      "\t\ttype_condition=none\n",
      "\t\tgenes=\n"
     ]
    }
   ],
   "source": [
    "\n",
    "cat(sprintf(\"sample1=%s\\n\", sample1))\n",
    "cat(sprintf(\"sample_ref=%s\\n\", sample_ref))\n",
    "\n",
    "cat(sprintf(\"drug_name=%s\\n\", drug_name))\n",
    "cat(sprintf(\"pattern_sample1=%s\\n\", pattern_sample1))\n",
    "cat(sprintf(\"pattern_sample_ref=%s\\n\", pattern_sample_ref))\n",
    "\n",
    "    cat(sprintf(\"\\t\\tgroup_name1=%s\\n\", group_name1))\n",
    "    cat(sprintf(\"\\t\\tgroup_name_ref=%s\\n\", group_name_ref))\n",
    "    cat(sprintf(\"\\t\\tcol_cluster_types_=%s\\n\", col_cluster_types_))\n",
    "    cat(sprintf(\"\\t\\tcol_cell_types_=%s\\n\", col_cell_types_))\n",
    "\n",
    "    cat(sprintf(\"\\t\\tth_log2fc=%g\\n\", th_log2fc_))\n",
    "    cat(sprintf(\"\\t\\tth_padj=%g\\n\", th_padj_))\n",
    "    cat(sprintf(\"\\t\\tmin.pct=%g\\n\", min.pct_))\n",
    "    cat(sprintf(\"\\t\\tmin.diff.pct=%g\\n\", min.diff.pct_))\n",
    "    cat(sprintf(\"\\t\\tmax.cells.per.ident=%g\\n\", max.cells.per.ident_))\n",
    "    cat(sprintf(\"\\t\\tmethod_dge=%s\\n\", method_dge))\n",
    "\n",
    "    cat(sprintf(\"\\t\\ttype_condition=%s\\n\", type_condition))\n",
    "    cat(sprintf(\"\\t\\tgenes=%s\\n\", paste(genes, collapse=\", \")))\n",
    "    cat(sprintf(\"\\t\\tstr_cond1=%s\\n\", str_cond1))\n",
    "    cat(sprintf(\"\\t\\tstr_cond_ref=%s\\n\", str_cond_ref))\n",
    "\n"
   ]
  },
  {
   "cell_type": "code",
   "execution_count": 24,
   "id": "a43c94c6",
   "metadata": {
    "scrolled": false
   },
   "outputs": [
    {
     "data": {
      "text/html": [
       "seurat_findmarkers_enricher<br>&nbsp;&nbsp;&nbsp;&nbsp;&nbsp;&nbsp;&nbsp;&nbsp;col_log2fc=avg_log2FC<br>&nbsp;&nbsp;&nbsp;&nbsp;&nbsp;&nbsp;&nbsp;&nbsp;col_pvalue=p_val<br>&nbsp;&nbsp;&nbsp;&nbsp;&nbsp;&nbsp;&nbsp;&nbsp;col_padj=p_val_adj<br>&nbsp;&nbsp;&nbsp;&nbsp;&nbsp;&nbsp;&nbsp;&nbsp;th_log2fc=0.25<br>&nbsp;&nbsp;&nbsp;&nbsp;&nbsp;&nbsp;&nbsp;&nbsp;th_padj=0.01<br>"
      ]
     },
     "metadata": {},
     "output_type": "display_data"
    },
    {
     "data": {
      "text/html": [
       "df_up"
      ]
     },
     "metadata": {},
     "output_type": "display_data"
    },
    {
     "data": {
      "text/html": [
       "<table class=\"dataframe\">\n",
       "<caption>A data.frame: 6 × 8</caption>\n",
       "<thead>\n",
       "\t<tr><th></th><th scope=col>p_val</th><th scope=col>avg_log2FC</th><th scope=col>pct.1</th><th scope=col>pct.2</th><th scope=col>p_val_adj</th><th scope=col>expr_min</th><th scope=col>expr_mean</th><th scope=col>expr_max</th></tr>\n",
       "\t<tr><th></th><th scope=col>&lt;dbl&gt;</th><th scope=col>&lt;dbl&gt;</th><th scope=col>&lt;dbl&gt;</th><th scope=col>&lt;dbl&gt;</th><th scope=col>&lt;dbl&gt;</th><th scope=col>&lt;dbl&gt;</th><th scope=col>&lt;dbl&gt;</th><th scope=col>&lt;dbl&gt;</th></tr>\n",
       "</thead>\n",
       "<tbody>\n",
       "\t<tr><th scope=row>ATP5MC3</th><td>2.232368e-160</td><td>1.2140738</td><td>1.000</td><td>0.940</td><td>5.425993e-156</td><td> 1.14483079</td><td>2.1040055</td><td>2.858964</td></tr>\n",
       "\t<tr><th scope=row>MYL6</th><td>5.184565e-160</td><td>1.2595958</td><td>1.000</td><td>1.000</td><td>1.260160e-155</td><td> 2.65452665</td><td>3.3894687</td><td>4.065704</td></tr>\n",
       "\t<tr><th scope=row>ACTB</th><td>3.137859e-158</td><td>1.7657372</td><td>1.000</td><td>0.977</td><td>7.626881e-154</td><td> 1.63721004</td><td>3.1361429</td><td>4.101061</td></tr>\n",
       "\t<tr><th scope=row>DYNLL1</th><td>7.563499e-155</td><td>1.4572730</td><td>1.000</td><td>0.901</td><td>1.838384e-150</td><td> 0.96466962</td><td>2.2702212</td><td>3.064603</td></tr>\n",
       "\t<tr><th scope=row>LY6E</th><td>2.986751e-149</td><td>0.6825340</td><td>0.885</td><td>0.215</td><td>7.259597e-145</td><td>-0.06104762</td><td>0.5456860</td><td>1.474264</td></tr>\n",
       "\t<tr><th scope=row>PKIB</th><td>3.513621e-147</td><td>0.3459165</td><td>0.578</td><td>0.034</td><td>8.540207e-143</td><td>-0.16434295</td><td>0.2168596</td><td>1.452402</td></tr>\n",
       "</tbody>\n",
       "</table>\n"
      ],
      "text/latex": [
       "A data.frame: 6 × 8\n",
       "\\begin{tabular}{r|llllllll}\n",
       "  & p\\_val & avg\\_log2FC & pct.1 & pct.2 & p\\_val\\_adj & expr\\_min & expr\\_mean & expr\\_max\\\\\n",
       "  & <dbl> & <dbl> & <dbl> & <dbl> & <dbl> & <dbl> & <dbl> & <dbl>\\\\\n",
       "\\hline\n",
       "\tATP5MC3 & 2.232368e-160 & 1.2140738 & 1.000 & 0.940 & 5.425993e-156 &  1.14483079 & 2.1040055 & 2.858964\\\\\n",
       "\tMYL6 & 5.184565e-160 & 1.2595958 & 1.000 & 1.000 & 1.260160e-155 &  2.65452665 & 3.3894687 & 4.065704\\\\\n",
       "\tACTB & 3.137859e-158 & 1.7657372 & 1.000 & 0.977 & 7.626881e-154 &  1.63721004 & 3.1361429 & 4.101061\\\\\n",
       "\tDYNLL1 & 7.563499e-155 & 1.4572730 & 1.000 & 0.901 & 1.838384e-150 &  0.96466962 & 2.2702212 & 3.064603\\\\\n",
       "\tLY6E & 2.986751e-149 & 0.6825340 & 0.885 & 0.215 & 7.259597e-145 & -0.06104762 & 0.5456860 & 1.474264\\\\\n",
       "\tPKIB & 3.513621e-147 & 0.3459165 & 0.578 & 0.034 & 8.540207e-143 & -0.16434295 & 0.2168596 & 1.452402\\\\\n",
       "\\end{tabular}\n"
      ],
      "text/markdown": [
       "\n",
       "A data.frame: 6 × 8\n",
       "\n",
       "| <!--/--> | p_val &lt;dbl&gt; | avg_log2FC &lt;dbl&gt; | pct.1 &lt;dbl&gt; | pct.2 &lt;dbl&gt; | p_val_adj &lt;dbl&gt; | expr_min &lt;dbl&gt; | expr_mean &lt;dbl&gt; | expr_max &lt;dbl&gt; |\n",
       "|---|---|---|---|---|---|---|---|---|\n",
       "| ATP5MC3 | 2.232368e-160 | 1.2140738 | 1.000 | 0.940 | 5.425993e-156 |  1.14483079 | 2.1040055 | 2.858964 |\n",
       "| MYL6 | 5.184565e-160 | 1.2595958 | 1.000 | 1.000 | 1.260160e-155 |  2.65452665 | 3.3894687 | 4.065704 |\n",
       "| ACTB | 3.137859e-158 | 1.7657372 | 1.000 | 0.977 | 7.626881e-154 |  1.63721004 | 3.1361429 | 4.101061 |\n",
       "| DYNLL1 | 7.563499e-155 | 1.4572730 | 1.000 | 0.901 | 1.838384e-150 |  0.96466962 | 2.2702212 | 3.064603 |\n",
       "| LY6E | 2.986751e-149 | 0.6825340 | 0.885 | 0.215 | 7.259597e-145 | -0.06104762 | 0.5456860 | 1.474264 |\n",
       "| PKIB | 3.513621e-147 | 0.3459165 | 0.578 | 0.034 | 8.540207e-143 | -0.16434295 | 0.2168596 | 1.452402 |\n",
       "\n"
      ],
      "text/plain": [
       "        p_val         avg_log2FC pct.1 pct.2 p_val_adj     expr_min   \n",
       "ATP5MC3 2.232368e-160 1.2140738  1.000 0.940 5.425993e-156  1.14483079\n",
       "MYL6    5.184565e-160 1.2595958  1.000 1.000 1.260160e-155  2.65452665\n",
       "ACTB    3.137859e-158 1.7657372  1.000 0.977 7.626881e-154  1.63721004\n",
       "DYNLL1  7.563499e-155 1.4572730  1.000 0.901 1.838384e-150  0.96466962\n",
       "LY6E    2.986751e-149 0.6825340  0.885 0.215 7.259597e-145 -0.06104762\n",
       "PKIB    3.513621e-147 0.3459165  0.578 0.034 8.540207e-143 -0.16434295\n",
       "        expr_mean expr_max\n",
       "ATP5MC3 2.1040055 2.858964\n",
       "MYL6    3.3894687 4.065704\n",
       "ACTB    3.1361429 4.101061\n",
       "DYNLL1  2.2702212 3.064603\n",
       "LY6E    0.5456860 1.474264\n",
       "PKIB    0.2168596 1.452402"
      ]
     },
     "metadata": {},
     "output_type": "display_data"
    },
    {
     "data": {
      "text/html": [
       "<style>\n",
       ".list-inline {list-style: none; margin:0; padding: 0}\n",
       ".list-inline>li {display: inline-block}\n",
       ".list-inline>li:not(:last-child)::after {content: \"\\00b7\"; padding: 0 .5ex}\n",
       "</style>\n",
       "<ol class=list-inline><li>531</li><li>8</li></ol>\n"
      ],
      "text/latex": [
       "\\begin{enumerate*}\n",
       "\\item 531\n",
       "\\item 8\n",
       "\\end{enumerate*}\n"
      ],
      "text/markdown": [
       "1. 531\n",
       "2. 8\n",
       "\n",
       "\n"
      ],
      "text/plain": [
       "[1] 531   8"
      ]
     },
     "metadata": {},
     "output_type": "display_data"
    },
    {
     "data": {
      "text/html": [
       "df_dn"
      ]
     },
     "metadata": {},
     "output_type": "display_data"
    },
    {
     "data": {
      "text/html": [
       "<table class=\"dataframe\">\n",
       "<caption>A data.frame: 6 × 8</caption>\n",
       "<thead>\n",
       "\t<tr><th></th><th scope=col>p_val</th><th scope=col>avg_log2FC</th><th scope=col>pct.1</th><th scope=col>pct.2</th><th scope=col>p_val_adj</th><th scope=col>expr_min</th><th scope=col>expr_mean</th><th scope=col>expr_max</th></tr>\n",
       "\t<tr><th></th><th scope=col>&lt;dbl&gt;</th><th scope=col>&lt;dbl&gt;</th><th scope=col>&lt;dbl&gt;</th><th scope=col>&lt;dbl&gt;</th><th scope=col>&lt;dbl&gt;</th><th scope=col>&lt;dbl&gt;</th><th scope=col>&lt;dbl&gt;</th><th scope=col>&lt;dbl&gt;</th></tr>\n",
       "</thead>\n",
       "<tbody>\n",
       "\t<tr><th scope=row>SLC3A2</th><td>9.713929e-183</td><td>-2.272678</td><td>0.997</td><td>1.000</td><td>2.361068e-178</td><td>0</td><td>1.5293648</td><td>3.180158</td></tr>\n",
       "\t<tr><th scope=row>NUPR1</th><td>5.653467e-175</td><td>-2.134931</td><td>0.652</td><td>1.000</td><td>1.374132e-170</td><td>0</td><td>1.2106824</td><td>3.367310</td></tr>\n",
       "\t<tr><th scope=row>HSPA5</th><td>6.182296e-173</td><td>-2.493555</td><td>0.991</td><td>0.998</td><td>1.502669e-168</td><td>0</td><td>1.0624772</td><td>3.198018</td></tr>\n",
       "\t<tr><th scope=row>DDIT3</th><td>2.407137e-166</td><td>-2.582003</td><td>0.676</td><td>0.976</td><td>5.850788e-162</td><td>0</td><td>0.4161904</td><td>1.635127</td></tr>\n",
       "\t<tr><th scope=row>HERPUD1</th><td>5.149551e-164</td><td>-2.053970</td><td>0.428</td><td>0.970</td><td>1.251650e-159</td><td>0</td><td>0.2625473</td><td>2.032582</td></tr>\n",
       "\t<tr><th scope=row>MTRNR2L8</th><td>6.341356e-157</td><td>-2.224923</td><td>0.469</td><td>1.000</td><td>1.541330e-152</td><td>0</td><td>0.9506590</td><td>3.273059</td></tr>\n",
       "</tbody>\n",
       "</table>\n"
      ],
      "text/latex": [
       "A data.frame: 6 × 8\n",
       "\\begin{tabular}{r|llllllll}\n",
       "  & p\\_val & avg\\_log2FC & pct.1 & pct.2 & p\\_val\\_adj & expr\\_min & expr\\_mean & expr\\_max\\\\\n",
       "  & <dbl> & <dbl> & <dbl> & <dbl> & <dbl> & <dbl> & <dbl> & <dbl>\\\\\n",
       "\\hline\n",
       "\tSLC3A2 & 9.713929e-183 & -2.272678 & 0.997 & 1.000 & 2.361068e-178 & 0 & 1.5293648 & 3.180158\\\\\n",
       "\tNUPR1 & 5.653467e-175 & -2.134931 & 0.652 & 1.000 & 1.374132e-170 & 0 & 1.2106824 & 3.367310\\\\\n",
       "\tHSPA5 & 6.182296e-173 & -2.493555 & 0.991 & 0.998 & 1.502669e-168 & 0 & 1.0624772 & 3.198018\\\\\n",
       "\tDDIT3 & 2.407137e-166 & -2.582003 & 0.676 & 0.976 & 5.850788e-162 & 0 & 0.4161904 & 1.635127\\\\\n",
       "\tHERPUD1 & 5.149551e-164 & -2.053970 & 0.428 & 0.970 & 1.251650e-159 & 0 & 0.2625473 & 2.032582\\\\\n",
       "\tMTRNR2L8 & 6.341356e-157 & -2.224923 & 0.469 & 1.000 & 1.541330e-152 & 0 & 0.9506590 & 3.273059\\\\\n",
       "\\end{tabular}\n"
      ],
      "text/markdown": [
       "\n",
       "A data.frame: 6 × 8\n",
       "\n",
       "| <!--/--> | p_val &lt;dbl&gt; | avg_log2FC &lt;dbl&gt; | pct.1 &lt;dbl&gt; | pct.2 &lt;dbl&gt; | p_val_adj &lt;dbl&gt; | expr_min &lt;dbl&gt; | expr_mean &lt;dbl&gt; | expr_max &lt;dbl&gt; |\n",
       "|---|---|---|---|---|---|---|---|---|\n",
       "| SLC3A2 | 9.713929e-183 | -2.272678 | 0.997 | 1.000 | 2.361068e-178 | 0 | 1.5293648 | 3.180158 |\n",
       "| NUPR1 | 5.653467e-175 | -2.134931 | 0.652 | 1.000 | 1.374132e-170 | 0 | 1.2106824 | 3.367310 |\n",
       "| HSPA5 | 6.182296e-173 | -2.493555 | 0.991 | 0.998 | 1.502669e-168 | 0 | 1.0624772 | 3.198018 |\n",
       "| DDIT3 | 2.407137e-166 | -2.582003 | 0.676 | 0.976 | 5.850788e-162 | 0 | 0.4161904 | 1.635127 |\n",
       "| HERPUD1 | 5.149551e-164 | -2.053970 | 0.428 | 0.970 | 1.251650e-159 | 0 | 0.2625473 | 2.032582 |\n",
       "| MTRNR2L8 | 6.341356e-157 | -2.224923 | 0.469 | 1.000 | 1.541330e-152 | 0 | 0.9506590 | 3.273059 |\n",
       "\n"
      ],
      "text/plain": [
       "         p_val         avg_log2FC pct.1 pct.2 p_val_adj     expr_min expr_mean\n",
       "SLC3A2   9.713929e-183 -2.272678  0.997 1.000 2.361068e-178 0        1.5293648\n",
       "NUPR1    5.653467e-175 -2.134931  0.652 1.000 1.374132e-170 0        1.2106824\n",
       "HSPA5    6.182296e-173 -2.493555  0.991 0.998 1.502669e-168 0        1.0624772\n",
       "DDIT3    2.407137e-166 -2.582003  0.676 0.976 5.850788e-162 0        0.4161904\n",
       "HERPUD1  5.149551e-164 -2.053970  0.428 0.970 1.251650e-159 0        0.2625473\n",
       "MTRNR2L8 6.341356e-157 -2.224923  0.469 1.000 1.541330e-152 0        0.9506590\n",
       "         expr_max\n",
       "SLC3A2   3.180158\n",
       "NUPR1    3.367310\n",
       "HSPA5    3.198018\n",
       "DDIT3    1.635127\n",
       "HERPUD1  2.032582\n",
       "MTRNR2L8 3.273059"
      ]
     },
     "metadata": {},
     "output_type": "display_data"
    },
    {
     "data": {
      "text/html": [
       "<style>\n",
       ".list-inline {list-style: none; margin:0; padding: 0}\n",
       ".list-inline>li {display: inline-block}\n",
       ".list-inline>li:not(:last-child)::after {content: \"\\00b7\"; padding: 0 .5ex}\n",
       "</style>\n",
       "<ol class=list-inline><li>909</li><li>8</li></ol>\n"
      ],
      "text/latex": [
       "\\begin{enumerate*}\n",
       "\\item 909\n",
       "\\item 8\n",
       "\\end{enumerate*}\n"
      ],
      "text/markdown": [
       "1. 909\n",
       "2. 8\n",
       "\n",
       "\n"
      ],
      "text/plain": [
       "[1] 909   8"
      ]
     },
     "metadata": {},
     "output_type": "display_data"
    },
    {
     "data": {
      "text/html": [
       "<hr style=\"height:1px\">"
      ]
     },
     "metadata": {},
     "output_type": "display_data"
    },
    {
     "data": {
      "text/html": [
       "up h"
      ]
     },
     "metadata": {},
     "output_type": "display_data"
    },
    {
     "data": {
      "text/html": [
       "<table class=\"dataframe\">\n",
       "<caption>A data.frame: 3 × 9</caption>\n",
       "<thead>\n",
       "\t<tr><th></th><th scope=col>ID</th><th scope=col>Description</th><th scope=col>GeneRatio</th><th scope=col>BgRatio</th><th scope=col>pvalue</th><th scope=col>p.adjust</th><th scope=col>qvalue</th><th scope=col>geneID</th><th scope=col>Count</th></tr>\n",
       "\t<tr><th></th><th scope=col>&lt;chr&gt;</th><th scope=col>&lt;chr&gt;</th><th scope=col>&lt;chr&gt;</th><th scope=col>&lt;chr&gt;</th><th scope=col>&lt;dbl&gt;</th><th scope=col>&lt;dbl&gt;</th><th scope=col>&lt;dbl&gt;</th><th scope=col>&lt;chr&gt;</th><th scope=col>&lt;int&gt;</th></tr>\n",
       "</thead>\n",
       "<tbody>\n",
       "\t<tr><th scope=row>HALLMARK_OXIDATIVE_PHOSPHORYLATION</th><td>HALLMARK_OXIDATIVE_PHOSPHORYLATION</td><td>HALLMARK_OXIDATIVE_PHOSPHORYLATION</td><td>49/265</td><td>200/4386</td><td>1.516489e-18</td><td>7.582444e-17</td><td>6.704476e-17</td><td>NDUFA4/NDUFV2/ATP6V0E1/LDHA/COX6B1/NDUFC2/NDUFB3/NDUFAB1/NDUFS6/NDUFB4/TIMM8B/COX5A/UQCR10/COX6C/UQCRH/NDUFB7/COX7A2/UQCRQ/COX5B/COX6A1/CYB5A/NDUFA2/NDUFB6/ATP1B1/COX7C/NDUFB2/MGST3/NDUFB1/UQCR11/COX7B/LDHB/NDUFA3/NDUFC1/NDUFA8/VDAC3/SDHC/NDUFB8/COX4I1/ETFB/POLR2F/SLC25A5/HSD17B10/COX8A/UQCRB/MRPL34/MDH2/ECHS1/ATP6V1F/TIMM13</td><td>49</td></tr>\n",
       "\t<tr><th scope=row>HALLMARK_MYC_TARGETS_V1</th><td>HALLMARK_MYC_TARGETS_V1           </td><td>HALLMARK_MYC_TARGETS_V1           </td><td>37/265</td><td>200/4386</td><td>3.274942e-10</td><td>8.187356e-09</td><td>7.239346e-09</td><td>LDHA/HSPE1/PSMB3/NDUFAB1/NME1/SNRPD3/PSMA7/COX5A/PPIA/SRSF2/SSBP1/RAN/PSMB2/UBE2L3/SRSF7/LSM2/SRSF3/PHB/SNRPD1/NHP2/PSMA4/CCT3/PSMA2/RANBP1/SNRPG/PGK1/VDAC3/CCT2/PSMA1/C1QBP/SNRPD2/ERH/SRPK1/HNRNPA2B1/LSM7/SET/CBX3                                                                                                                </td><td>37</td></tr>\n",
       "\t<tr><th scope=row>HALLMARK_GLYCOLYSIS</th><td>HALLMARK_GLYCOLYSIS               </td><td>HALLMARK_GLYCOLYSIS               </td><td>24/265</td><td>200/4386</td><td>8.214221e-04</td><td>1.369037e-02</td><td>1.210517e-02</td><td>LDHA/TXN/TPI1/STC1/MIF/PPIA/CYB5A/FKBP4/IGFBP3/PGK1/SDHC/TSTA3/TALDO1/ENO1/PGLS/SRD5A3/PLOD2/EGLN3/GLRX/PGAM1/MDH2/CLDN3/POLR3K/TFF3                                                                                                                                                                                                  </td><td>24</td></tr>\n",
       "</tbody>\n",
       "</table>\n"
      ],
      "text/latex": [
       "A data.frame: 3 × 9\n",
       "\\begin{tabular}{r|lllllllll}\n",
       "  & ID & Description & GeneRatio & BgRatio & pvalue & p.adjust & qvalue & geneID & Count\\\\\n",
       "  & <chr> & <chr> & <chr> & <chr> & <dbl> & <dbl> & <dbl> & <chr> & <int>\\\\\n",
       "\\hline\n",
       "\tHALLMARK\\_OXIDATIVE\\_PHOSPHORYLATION & HALLMARK\\_OXIDATIVE\\_PHOSPHORYLATION & HALLMARK\\_OXIDATIVE\\_PHOSPHORYLATION & 49/265 & 200/4386 & 1.516489e-18 & 7.582444e-17 & 6.704476e-17 & NDUFA4/NDUFV2/ATP6V0E1/LDHA/COX6B1/NDUFC2/NDUFB3/NDUFAB1/NDUFS6/NDUFB4/TIMM8B/COX5A/UQCR10/COX6C/UQCRH/NDUFB7/COX7A2/UQCRQ/COX5B/COX6A1/CYB5A/NDUFA2/NDUFB6/ATP1B1/COX7C/NDUFB2/MGST3/NDUFB1/UQCR11/COX7B/LDHB/NDUFA3/NDUFC1/NDUFA8/VDAC3/SDHC/NDUFB8/COX4I1/ETFB/POLR2F/SLC25A5/HSD17B10/COX8A/UQCRB/MRPL34/MDH2/ECHS1/ATP6V1F/TIMM13 & 49\\\\\n",
       "\tHALLMARK\\_MYC\\_TARGETS\\_V1 & HALLMARK\\_MYC\\_TARGETS\\_V1            & HALLMARK\\_MYC\\_TARGETS\\_V1            & 37/265 & 200/4386 & 3.274942e-10 & 8.187356e-09 & 7.239346e-09 & LDHA/HSPE1/PSMB3/NDUFAB1/NME1/SNRPD3/PSMA7/COX5A/PPIA/SRSF2/SSBP1/RAN/PSMB2/UBE2L3/SRSF7/LSM2/SRSF3/PHB/SNRPD1/NHP2/PSMA4/CCT3/PSMA2/RANBP1/SNRPG/PGK1/VDAC3/CCT2/PSMA1/C1QBP/SNRPD2/ERH/SRPK1/HNRNPA2B1/LSM7/SET/CBX3                                                                                                                 & 37\\\\\n",
       "\tHALLMARK\\_GLYCOLYSIS & HALLMARK\\_GLYCOLYSIS                & HALLMARK\\_GLYCOLYSIS                & 24/265 & 200/4386 & 8.214221e-04 & 1.369037e-02 & 1.210517e-02 & LDHA/TXN/TPI1/STC1/MIF/PPIA/CYB5A/FKBP4/IGFBP3/PGK1/SDHC/TSTA3/TALDO1/ENO1/PGLS/SRD5A3/PLOD2/EGLN3/GLRX/PGAM1/MDH2/CLDN3/POLR3K/TFF3                                                                                                                                                                                                   & 24\\\\\n",
       "\\end{tabular}\n"
      ],
      "text/markdown": [
       "\n",
       "A data.frame: 3 × 9\n",
       "\n",
       "| <!--/--> | ID &lt;chr&gt; | Description &lt;chr&gt; | GeneRatio &lt;chr&gt; | BgRatio &lt;chr&gt; | pvalue &lt;dbl&gt; | p.adjust &lt;dbl&gt; | qvalue &lt;dbl&gt; | geneID &lt;chr&gt; | Count &lt;int&gt; |\n",
       "|---|---|---|---|---|---|---|---|---|---|\n",
       "| HALLMARK_OXIDATIVE_PHOSPHORYLATION | HALLMARK_OXIDATIVE_PHOSPHORYLATION | HALLMARK_OXIDATIVE_PHOSPHORYLATION | 49/265 | 200/4386 | 1.516489e-18 | 7.582444e-17 | 6.704476e-17 | NDUFA4/NDUFV2/ATP6V0E1/LDHA/COX6B1/NDUFC2/NDUFB3/NDUFAB1/NDUFS6/NDUFB4/TIMM8B/COX5A/UQCR10/COX6C/UQCRH/NDUFB7/COX7A2/UQCRQ/COX5B/COX6A1/CYB5A/NDUFA2/NDUFB6/ATP1B1/COX7C/NDUFB2/MGST3/NDUFB1/UQCR11/COX7B/LDHB/NDUFA3/NDUFC1/NDUFA8/VDAC3/SDHC/NDUFB8/COX4I1/ETFB/POLR2F/SLC25A5/HSD17B10/COX8A/UQCRB/MRPL34/MDH2/ECHS1/ATP6V1F/TIMM13 | 49 |\n",
       "| HALLMARK_MYC_TARGETS_V1 | HALLMARK_MYC_TARGETS_V1            | HALLMARK_MYC_TARGETS_V1            | 37/265 | 200/4386 | 3.274942e-10 | 8.187356e-09 | 7.239346e-09 | LDHA/HSPE1/PSMB3/NDUFAB1/NME1/SNRPD3/PSMA7/COX5A/PPIA/SRSF2/SSBP1/RAN/PSMB2/UBE2L3/SRSF7/LSM2/SRSF3/PHB/SNRPD1/NHP2/PSMA4/CCT3/PSMA2/RANBP1/SNRPG/PGK1/VDAC3/CCT2/PSMA1/C1QBP/SNRPD2/ERH/SRPK1/HNRNPA2B1/LSM7/SET/CBX3                                                                                                                 | 37 |\n",
       "| HALLMARK_GLYCOLYSIS | HALLMARK_GLYCOLYSIS                | HALLMARK_GLYCOLYSIS                | 24/265 | 200/4386 | 8.214221e-04 | 1.369037e-02 | 1.210517e-02 | LDHA/TXN/TPI1/STC1/MIF/PPIA/CYB5A/FKBP4/IGFBP3/PGK1/SDHC/TSTA3/TALDO1/ENO1/PGLS/SRD5A3/PLOD2/EGLN3/GLRX/PGAM1/MDH2/CLDN3/POLR3K/TFF3                                                                                                                                                                                                   | 24 |\n",
       "\n"
      ],
      "text/plain": [
       "                                   ID                                \n",
       "HALLMARK_OXIDATIVE_PHOSPHORYLATION HALLMARK_OXIDATIVE_PHOSPHORYLATION\n",
       "HALLMARK_MYC_TARGETS_V1            HALLMARK_MYC_TARGETS_V1           \n",
       "HALLMARK_GLYCOLYSIS                HALLMARK_GLYCOLYSIS               \n",
       "                                   Description                        GeneRatio\n",
       "HALLMARK_OXIDATIVE_PHOSPHORYLATION HALLMARK_OXIDATIVE_PHOSPHORYLATION 49/265   \n",
       "HALLMARK_MYC_TARGETS_V1            HALLMARK_MYC_TARGETS_V1            37/265   \n",
       "HALLMARK_GLYCOLYSIS                HALLMARK_GLYCOLYSIS                24/265   \n",
       "                                   BgRatio  pvalue       p.adjust    \n",
       "HALLMARK_OXIDATIVE_PHOSPHORYLATION 200/4386 1.516489e-18 7.582444e-17\n",
       "HALLMARK_MYC_TARGETS_V1            200/4386 3.274942e-10 8.187356e-09\n",
       "HALLMARK_GLYCOLYSIS                200/4386 8.214221e-04 1.369037e-02\n",
       "                                   qvalue      \n",
       "HALLMARK_OXIDATIVE_PHOSPHORYLATION 6.704476e-17\n",
       "HALLMARK_MYC_TARGETS_V1            7.239346e-09\n",
       "HALLMARK_GLYCOLYSIS                1.210517e-02\n",
       "                                   geneID                                                                                                                                                                                                                                                                                                                                \n",
       "HALLMARK_OXIDATIVE_PHOSPHORYLATION NDUFA4/NDUFV2/ATP6V0E1/LDHA/COX6B1/NDUFC2/NDUFB3/NDUFAB1/NDUFS6/NDUFB4/TIMM8B/COX5A/UQCR10/COX6C/UQCRH/NDUFB7/COX7A2/UQCRQ/COX5B/COX6A1/CYB5A/NDUFA2/NDUFB6/ATP1B1/COX7C/NDUFB2/MGST3/NDUFB1/UQCR11/COX7B/LDHB/NDUFA3/NDUFC1/NDUFA8/VDAC3/SDHC/NDUFB8/COX4I1/ETFB/POLR2F/SLC25A5/HSD17B10/COX8A/UQCRB/MRPL34/MDH2/ECHS1/ATP6V1F/TIMM13\n",
       "HALLMARK_MYC_TARGETS_V1            LDHA/HSPE1/PSMB3/NDUFAB1/NME1/SNRPD3/PSMA7/COX5A/PPIA/SRSF2/SSBP1/RAN/PSMB2/UBE2L3/SRSF7/LSM2/SRSF3/PHB/SNRPD1/NHP2/PSMA4/CCT3/PSMA2/RANBP1/SNRPG/PGK1/VDAC3/CCT2/PSMA1/C1QBP/SNRPD2/ERH/SRPK1/HNRNPA2B1/LSM7/SET/CBX3                                                                                                                \n",
       "HALLMARK_GLYCOLYSIS                LDHA/TXN/TPI1/STC1/MIF/PPIA/CYB5A/FKBP4/IGFBP3/PGK1/SDHC/TSTA3/TALDO1/ENO1/PGLS/SRD5A3/PLOD2/EGLN3/GLRX/PGAM1/MDH2/CLDN3/POLR3K/TFF3                                                                                                                                                                                                  \n",
       "                                   Count\n",
       "HALLMARK_OXIDATIVE_PHOSPHORYLATION 49   \n",
       "HALLMARK_MYC_TARGETS_V1            37   \n",
       "HALLMARK_GLYCOLYSIS                24   "
      ]
     },
     "metadata": {},
     "output_type": "display_data"
    },
    {
     "data": {
      "text/html": [
       "<style>\n",
       ".list-inline {list-style: none; margin:0; padding: 0}\n",
       ".list-inline>li {display: inline-block}\n",
       ".list-inline>li:not(:last-child)::after {content: \"\\00b7\"; padding: 0 .5ex}\n",
       "</style>\n",
       "<ol class=list-inline><li>3</li><li>9</li></ol>\n"
      ],
      "text/latex": [
       "\\begin{enumerate*}\n",
       "\\item 3\n",
       "\\item 9\n",
       "\\end{enumerate*}\n"
      ],
      "text/markdown": [
       "1. 3\n",
       "2. 9\n",
       "\n",
       "\n"
      ],
      "text/plain": [
       "[1] 3 9"
      ]
     },
     "metadata": {},
     "output_type": "display_data"
    },
    {
     "data": {
      "text/html": [
       "up unc_lccc"
      ]
     },
     "metadata": {},
     "output_type": "display_data"
    },
    {
     "data": {
      "text/html": [
       "<table class=\"dataframe\">\n",
       "<caption>A data.frame: 6 × 9</caption>\n",
       "<thead>\n",
       "\t<tr><th></th><th scope=col>ID</th><th scope=col>Description</th><th scope=col>GeneRatio</th><th scope=col>BgRatio</th><th scope=col>pvalue</th><th scope=col>p.adjust</th><th scope=col>qvalue</th><th scope=col>geneID</th><th scope=col>Count</th></tr>\n",
       "\t<tr><th></th><th scope=col>&lt;chr&gt;</th><th scope=col>&lt;chr&gt;</th><th scope=col>&lt;chr&gt;</th><th scope=col>&lt;chr&gt;</th><th scope=col>&lt;dbl&gt;</th><th scope=col>&lt;dbl&gt;</th><th scope=col>&lt;dbl&gt;</th><th scope=col>&lt;chr&gt;</th><th scope=col>&lt;int&gt;</th></tr>\n",
       "</thead>\n",
       "<tbody>\n",
       "\t<tr><th scope=row>T47D_control_vs_tamoxifen_down_Tumor cells</th><td>T47D_control_vs_tamoxifen_down_Tumor cells                           </td><td>T47D_control_vs_tamoxifen_down_Tumor cells                           </td><td>36/510</td><td>107/19993</td><td>9.375318e-31</td><td>3.412616e-28</td><td>2.417845e-28</td><td>ATP5MC3/DYNLL1/JPT1/KRT19/LDHA/MARCKSL1/NDUFC2/HSP90AA1/REEP5/SRSF7/FKBP4/CCT3/PSMA2/TUBB4B/SLC40A1/NDUFA8/VDAC3/TMBIM4/NDUFB8/CCT2/TRPS1/ENO1/SFPQ/SNRPB/ERH/ARL3/HNRNPM/TSFM/ID1/MRPL13/CALM2/HNRNPA2B1/RUNX1/CALM3/GOLM1/MRPL22                 </td><td>36</td></tr>\n",
       "\t<tr><th scope=row>MITO1_BMC.Med.Genomics.2011_PMID.21214954</th><td>MITO1_BMC.Med.Genomics.2011_PMID.21214954                            </td><td>MITO1_BMC.Med.Genomics.2011_PMID.21214954                            </td><td>20/510</td><td>38/19993 </td><td>2.066916e-22</td><td>3.761788e-20</td><td>2.665234e-20</td><td>DYNLL1/POMP/TXN/GEMIN6/TIMM8B/TMA7/COX7A2/UQCRQ/COX5B/COX6A1/COX7C/NDUFB2/NDUFB1/UQCR11/LSM5/SEM1/NDUFC1/ORMDL2/COX8A/MRPL22                                                                                                                       </td><td>20</td></tr>\n",
       "\t<tr><th scope=row>GATA3.induced.genes_JCO.2006_PMID.16505416</th><td>GATA3.induced.genes_JCO.2006_PMID.16505416                           </td><td>GATA3.induced.genes_JCO.2006_PMID.16505416                           </td><td>39/510</td><td>277/19993</td><td>3.475322e-18</td><td>4.216724e-16</td><td>2.987558e-16</td><td>KRT19/KRT8/S100A11/CD24/VAMP8/TACSTD2/HSPB1/KRT18/GATA3/CD9/CITED4/TSPAN15/FXYD3/ATP1B1/SMIM22/KRT7/ADIRF/CALM1/SLC9A3R1/CYP1B1/TMC5/NDUFB9/BATF/TM4SF1/XBP1/OCIAD2/MYOF/SQOR/S100A16/RER1/ID1/MRPL13/CLDN3/TMEM165/S100A6/TFF3/LGALS1/STARD10/AQP3</td><td>39</td></tr>\n",
       "\t<tr><th scope=row>MITO2_BMC.Med.Genomics.2011_PMID.21214954</th><td>MITO2_BMC.Med.Genomics.2011_PMID.21214954                            </td><td>MITO2_BMC.Med.Genomics.2011_PMID.21214954                            </td><td>19/510</td><td>78/19993 </td><td>6.384692e-14</td><td>5.810070e-12</td><td>4.116446e-12</td><td>NDUFA4/HSPE1/GTF2A2/ARPC3/NDUFB3/NDUFAB1/UBL5/NDUFB6/PIGF/LAMTOR5/COX7B/TMEM14B/PSMA2/SNRPG/FKBP3/LSM3/PSMA3/PSMA5/RPA3                                                                                                                            </td><td>19</td></tr>\n",
       "\t<tr><th scope=row>GSEA_GP1_Proliferation_DNA_repair.r=0.972_REACTOME_CELL_CYCLE_MITOTIC</th><td>GSEA_GP1_Proliferation_DNA_repair.r=0.972_REACTOME_CELL_CYCLE_MITOTIC</td><td>GSEA_GP1_Proliferation_DNA_repair.r=0.972_REACTOME_CELL_CYCLE_MITOTIC</td><td>31/510</td><td>319/19993</td><td>2.044951e-10</td><td>1.488724e-08</td><td>1.054764e-08</td><td>DYNLL1/HSP90AA1/SKP1/PSMB3/PSMA7/PSMB1/HDAC1/CCND1/PSMB5/PSMB2/PSMB7/UBA52/RPS27A/PSMB8/ANAPC11/TUBB/PSMA4/PSMA2/TUBB4B/PSMB6/PSMA1/PSME2/PSMD2/PSMA3/PSMC1/SSNA1/PSMA5/RPA3/PSMC3/TUBA1A/PSME1                                                    </td><td>31</td></tr>\n",
       "\t<tr><th scope=row>Claudin_Low_Genome.Biol.2007_PMID.17493263</th><td>Claudin_Low_Genome.Biol.2007_PMID.17493263                           </td><td>Claudin_Low_Genome.Biol.2007_PMID.17493263                           </td><td>26/510</td><td>244/19993</td><td>8.463813e-10</td><td>5.134713e-08</td><td>3.637955e-08</td><td>PKIB/KRT19/HSPE1/TACSTD2/KRT18/GATA3/MIF/CD9/MUC1/FXYD3/FKBP4/PBX1/EFHD1/EMP2/PAFAH1B3/EPPK1/TRPS1/RAB25/KRTCAP3/POLR2H/TMEM54/CLDN3/GOLM1/CTTN/STARD10/GPRC5A                                                                                     </td><td>26</td></tr>\n",
       "</tbody>\n",
       "</table>\n"
      ],
      "text/latex": [
       "A data.frame: 6 × 9\n",
       "\\begin{tabular}{r|lllllllll}\n",
       "  & ID & Description & GeneRatio & BgRatio & pvalue & p.adjust & qvalue & geneID & Count\\\\\n",
       "  & <chr> & <chr> & <chr> & <chr> & <dbl> & <dbl> & <dbl> & <chr> & <int>\\\\\n",
       "\\hline\n",
       "\tT47D\\_control\\_vs\\_tamoxifen\\_down\\_Tumor cells & T47D\\_control\\_vs\\_tamoxifen\\_down\\_Tumor cells                            & T47D\\_control\\_vs\\_tamoxifen\\_down\\_Tumor cells                            & 36/510 & 107/19993 & 9.375318e-31 & 3.412616e-28 & 2.417845e-28 & ATP5MC3/DYNLL1/JPT1/KRT19/LDHA/MARCKSL1/NDUFC2/HSP90AA1/REEP5/SRSF7/FKBP4/CCT3/PSMA2/TUBB4B/SLC40A1/NDUFA8/VDAC3/TMBIM4/NDUFB8/CCT2/TRPS1/ENO1/SFPQ/SNRPB/ERH/ARL3/HNRNPM/TSFM/ID1/MRPL13/CALM2/HNRNPA2B1/RUNX1/CALM3/GOLM1/MRPL22                  & 36\\\\\n",
       "\tMITO1\\_BMC.Med.Genomics.2011\\_PMID.21214954 & MITO1\\_BMC.Med.Genomics.2011\\_PMID.21214954                             & MITO1\\_BMC.Med.Genomics.2011\\_PMID.21214954                             & 20/510 & 38/19993  & 2.066916e-22 & 3.761788e-20 & 2.665234e-20 & DYNLL1/POMP/TXN/GEMIN6/TIMM8B/TMA7/COX7A2/UQCRQ/COX5B/COX6A1/COX7C/NDUFB2/NDUFB1/UQCR11/LSM5/SEM1/NDUFC1/ORMDL2/COX8A/MRPL22                                                                                                                        & 20\\\\\n",
       "\tGATA3.induced.genes\\_JCO.2006\\_PMID.16505416 & GATA3.induced.genes\\_JCO.2006\\_PMID.16505416                            & GATA3.induced.genes\\_JCO.2006\\_PMID.16505416                            & 39/510 & 277/19993 & 3.475322e-18 & 4.216724e-16 & 2.987558e-16 & KRT19/KRT8/S100A11/CD24/VAMP8/TACSTD2/HSPB1/KRT18/GATA3/CD9/CITED4/TSPAN15/FXYD3/ATP1B1/SMIM22/KRT7/ADIRF/CALM1/SLC9A3R1/CYP1B1/TMC5/NDUFB9/BATF/TM4SF1/XBP1/OCIAD2/MYOF/SQOR/S100A16/RER1/ID1/MRPL13/CLDN3/TMEM165/S100A6/TFF3/LGALS1/STARD10/AQP3 & 39\\\\\n",
       "\tMITO2\\_BMC.Med.Genomics.2011\\_PMID.21214954 & MITO2\\_BMC.Med.Genomics.2011\\_PMID.21214954                             & MITO2\\_BMC.Med.Genomics.2011\\_PMID.21214954                             & 19/510 & 78/19993  & 6.384692e-14 & 5.810070e-12 & 4.116446e-12 & NDUFA4/HSPE1/GTF2A2/ARPC3/NDUFB3/NDUFAB1/UBL5/NDUFB6/PIGF/LAMTOR5/COX7B/TMEM14B/PSMA2/SNRPG/FKBP3/LSM3/PSMA3/PSMA5/RPA3                                                                                                                             & 19\\\\\n",
       "\tGSEA\\_GP1\\_Proliferation\\_DNA\\_repair.r=0.972\\_REACTOME\\_CELL\\_CYCLE\\_MITOTIC & GSEA\\_GP1\\_Proliferation\\_DNA\\_repair.r=0.972\\_REACTOME\\_CELL\\_CYCLE\\_MITOTIC & GSEA\\_GP1\\_Proliferation\\_DNA\\_repair.r=0.972\\_REACTOME\\_CELL\\_CYCLE\\_MITOTIC & 31/510 & 319/19993 & 2.044951e-10 & 1.488724e-08 & 1.054764e-08 & DYNLL1/HSP90AA1/SKP1/PSMB3/PSMA7/PSMB1/HDAC1/CCND1/PSMB5/PSMB2/PSMB7/UBA52/RPS27A/PSMB8/ANAPC11/TUBB/PSMA4/PSMA2/TUBB4B/PSMB6/PSMA1/PSME2/PSMD2/PSMA3/PSMC1/SSNA1/PSMA5/RPA3/PSMC3/TUBA1A/PSME1                                                     & 31\\\\\n",
       "\tClaudin\\_Low\\_Genome.Biol.2007\\_PMID.17493263 & Claudin\\_Low\\_Genome.Biol.2007\\_PMID.17493263                            & Claudin\\_Low\\_Genome.Biol.2007\\_PMID.17493263                            & 26/510 & 244/19993 & 8.463813e-10 & 5.134713e-08 & 3.637955e-08 & PKIB/KRT19/HSPE1/TACSTD2/KRT18/GATA3/MIF/CD9/MUC1/FXYD3/FKBP4/PBX1/EFHD1/EMP2/PAFAH1B3/EPPK1/TRPS1/RAB25/KRTCAP3/POLR2H/TMEM54/CLDN3/GOLM1/CTTN/STARD10/GPRC5A                                                                                      & 26\\\\\n",
       "\\end{tabular}\n"
      ],
      "text/markdown": [
       "\n",
       "A data.frame: 6 × 9\n",
       "\n",
       "| <!--/--> | ID &lt;chr&gt; | Description &lt;chr&gt; | GeneRatio &lt;chr&gt; | BgRatio &lt;chr&gt; | pvalue &lt;dbl&gt; | p.adjust &lt;dbl&gt; | qvalue &lt;dbl&gt; | geneID &lt;chr&gt; | Count &lt;int&gt; |\n",
       "|---|---|---|---|---|---|---|---|---|---|\n",
       "| T47D_control_vs_tamoxifen_down_Tumor cells | T47D_control_vs_tamoxifen_down_Tumor cells                            | T47D_control_vs_tamoxifen_down_Tumor cells                            | 36/510 | 107/19993 | 9.375318e-31 | 3.412616e-28 | 2.417845e-28 | ATP5MC3/DYNLL1/JPT1/KRT19/LDHA/MARCKSL1/NDUFC2/HSP90AA1/REEP5/SRSF7/FKBP4/CCT3/PSMA2/TUBB4B/SLC40A1/NDUFA8/VDAC3/TMBIM4/NDUFB8/CCT2/TRPS1/ENO1/SFPQ/SNRPB/ERH/ARL3/HNRNPM/TSFM/ID1/MRPL13/CALM2/HNRNPA2B1/RUNX1/CALM3/GOLM1/MRPL22                  | 36 |\n",
       "| MITO1_BMC.Med.Genomics.2011_PMID.21214954 | MITO1_BMC.Med.Genomics.2011_PMID.21214954                             | MITO1_BMC.Med.Genomics.2011_PMID.21214954                             | 20/510 | 38/19993  | 2.066916e-22 | 3.761788e-20 | 2.665234e-20 | DYNLL1/POMP/TXN/GEMIN6/TIMM8B/TMA7/COX7A2/UQCRQ/COX5B/COX6A1/COX7C/NDUFB2/NDUFB1/UQCR11/LSM5/SEM1/NDUFC1/ORMDL2/COX8A/MRPL22                                                                                                                        | 20 |\n",
       "| GATA3.induced.genes_JCO.2006_PMID.16505416 | GATA3.induced.genes_JCO.2006_PMID.16505416                            | GATA3.induced.genes_JCO.2006_PMID.16505416                            | 39/510 | 277/19993 | 3.475322e-18 | 4.216724e-16 | 2.987558e-16 | KRT19/KRT8/S100A11/CD24/VAMP8/TACSTD2/HSPB1/KRT18/GATA3/CD9/CITED4/TSPAN15/FXYD3/ATP1B1/SMIM22/KRT7/ADIRF/CALM1/SLC9A3R1/CYP1B1/TMC5/NDUFB9/BATF/TM4SF1/XBP1/OCIAD2/MYOF/SQOR/S100A16/RER1/ID1/MRPL13/CLDN3/TMEM165/S100A6/TFF3/LGALS1/STARD10/AQP3 | 39 |\n",
       "| MITO2_BMC.Med.Genomics.2011_PMID.21214954 | MITO2_BMC.Med.Genomics.2011_PMID.21214954                             | MITO2_BMC.Med.Genomics.2011_PMID.21214954                             | 19/510 | 78/19993  | 6.384692e-14 | 5.810070e-12 | 4.116446e-12 | NDUFA4/HSPE1/GTF2A2/ARPC3/NDUFB3/NDUFAB1/UBL5/NDUFB6/PIGF/LAMTOR5/COX7B/TMEM14B/PSMA2/SNRPG/FKBP3/LSM3/PSMA3/PSMA5/RPA3                                                                                                                             | 19 |\n",
       "| GSEA_GP1_Proliferation_DNA_repair.r=0.972_REACTOME_CELL_CYCLE_MITOTIC | GSEA_GP1_Proliferation_DNA_repair.r=0.972_REACTOME_CELL_CYCLE_MITOTIC | GSEA_GP1_Proliferation_DNA_repair.r=0.972_REACTOME_CELL_CYCLE_MITOTIC | 31/510 | 319/19993 | 2.044951e-10 | 1.488724e-08 | 1.054764e-08 | DYNLL1/HSP90AA1/SKP1/PSMB3/PSMA7/PSMB1/HDAC1/CCND1/PSMB5/PSMB2/PSMB7/UBA52/RPS27A/PSMB8/ANAPC11/TUBB/PSMA4/PSMA2/TUBB4B/PSMB6/PSMA1/PSME2/PSMD2/PSMA3/PSMC1/SSNA1/PSMA5/RPA3/PSMC3/TUBA1A/PSME1                                                     | 31 |\n",
       "| Claudin_Low_Genome.Biol.2007_PMID.17493263 | Claudin_Low_Genome.Biol.2007_PMID.17493263                            | Claudin_Low_Genome.Biol.2007_PMID.17493263                            | 26/510 | 244/19993 | 8.463813e-10 | 5.134713e-08 | 3.637955e-08 | PKIB/KRT19/HSPE1/TACSTD2/KRT18/GATA3/MIF/CD9/MUC1/FXYD3/FKBP4/PBX1/EFHD1/EMP2/PAFAH1B3/EPPK1/TRPS1/RAB25/KRTCAP3/POLR2H/TMEM54/CLDN3/GOLM1/CTTN/STARD10/GPRC5A                                                                                      | 26 |\n",
       "\n"
      ],
      "text/plain": [
       "                                                                      ID                                                                   \n",
       "T47D_control_vs_tamoxifen_down_Tumor cells                            T47D_control_vs_tamoxifen_down_Tumor cells                           \n",
       "MITO1_BMC.Med.Genomics.2011_PMID.21214954                             MITO1_BMC.Med.Genomics.2011_PMID.21214954                            \n",
       "GATA3.induced.genes_JCO.2006_PMID.16505416                            GATA3.induced.genes_JCO.2006_PMID.16505416                           \n",
       "MITO2_BMC.Med.Genomics.2011_PMID.21214954                             MITO2_BMC.Med.Genomics.2011_PMID.21214954                            \n",
       "GSEA_GP1_Proliferation_DNA_repair.r=0.972_REACTOME_CELL_CYCLE_MITOTIC GSEA_GP1_Proliferation_DNA_repair.r=0.972_REACTOME_CELL_CYCLE_MITOTIC\n",
       "Claudin_Low_Genome.Biol.2007_PMID.17493263                            Claudin_Low_Genome.Biol.2007_PMID.17493263                           \n",
       "                                                                      Description                                                          \n",
       "T47D_control_vs_tamoxifen_down_Tumor cells                            T47D_control_vs_tamoxifen_down_Tumor cells                           \n",
       "MITO1_BMC.Med.Genomics.2011_PMID.21214954                             MITO1_BMC.Med.Genomics.2011_PMID.21214954                            \n",
       "GATA3.induced.genes_JCO.2006_PMID.16505416                            GATA3.induced.genes_JCO.2006_PMID.16505416                           \n",
       "MITO2_BMC.Med.Genomics.2011_PMID.21214954                             MITO2_BMC.Med.Genomics.2011_PMID.21214954                            \n",
       "GSEA_GP1_Proliferation_DNA_repair.r=0.972_REACTOME_CELL_CYCLE_MITOTIC GSEA_GP1_Proliferation_DNA_repair.r=0.972_REACTOME_CELL_CYCLE_MITOTIC\n",
       "Claudin_Low_Genome.Biol.2007_PMID.17493263                            Claudin_Low_Genome.Biol.2007_PMID.17493263                           \n",
       "                                                                      GeneRatio\n",
       "T47D_control_vs_tamoxifen_down_Tumor cells                            36/510   \n",
       "MITO1_BMC.Med.Genomics.2011_PMID.21214954                             20/510   \n",
       "GATA3.induced.genes_JCO.2006_PMID.16505416                            39/510   \n",
       "MITO2_BMC.Med.Genomics.2011_PMID.21214954                             19/510   \n",
       "GSEA_GP1_Proliferation_DNA_repair.r=0.972_REACTOME_CELL_CYCLE_MITOTIC 31/510   \n",
       "Claudin_Low_Genome.Biol.2007_PMID.17493263                            26/510   \n",
       "                                                                      BgRatio  \n",
       "T47D_control_vs_tamoxifen_down_Tumor cells                            107/19993\n",
       "MITO1_BMC.Med.Genomics.2011_PMID.21214954                             38/19993 \n",
       "GATA3.induced.genes_JCO.2006_PMID.16505416                            277/19993\n",
       "MITO2_BMC.Med.Genomics.2011_PMID.21214954                             78/19993 \n",
       "GSEA_GP1_Proliferation_DNA_repair.r=0.972_REACTOME_CELL_CYCLE_MITOTIC 319/19993\n",
       "Claudin_Low_Genome.Biol.2007_PMID.17493263                            244/19993\n",
       "                                                                      pvalue      \n",
       "T47D_control_vs_tamoxifen_down_Tumor cells                            9.375318e-31\n",
       "MITO1_BMC.Med.Genomics.2011_PMID.21214954                             2.066916e-22\n",
       "GATA3.induced.genes_JCO.2006_PMID.16505416                            3.475322e-18\n",
       "MITO2_BMC.Med.Genomics.2011_PMID.21214954                             6.384692e-14\n",
       "GSEA_GP1_Proliferation_DNA_repair.r=0.972_REACTOME_CELL_CYCLE_MITOTIC 2.044951e-10\n",
       "Claudin_Low_Genome.Biol.2007_PMID.17493263                            8.463813e-10\n",
       "                                                                      p.adjust    \n",
       "T47D_control_vs_tamoxifen_down_Tumor cells                            3.412616e-28\n",
       "MITO1_BMC.Med.Genomics.2011_PMID.21214954                             3.761788e-20\n",
       "GATA3.induced.genes_JCO.2006_PMID.16505416                            4.216724e-16\n",
       "MITO2_BMC.Med.Genomics.2011_PMID.21214954                             5.810070e-12\n",
       "GSEA_GP1_Proliferation_DNA_repair.r=0.972_REACTOME_CELL_CYCLE_MITOTIC 1.488724e-08\n",
       "Claudin_Low_Genome.Biol.2007_PMID.17493263                            5.134713e-08\n",
       "                                                                      qvalue      \n",
       "T47D_control_vs_tamoxifen_down_Tumor cells                            2.417845e-28\n",
       "MITO1_BMC.Med.Genomics.2011_PMID.21214954                             2.665234e-20\n",
       "GATA3.induced.genes_JCO.2006_PMID.16505416                            2.987558e-16\n",
       "MITO2_BMC.Med.Genomics.2011_PMID.21214954                             4.116446e-12\n",
       "GSEA_GP1_Proliferation_DNA_repair.r=0.972_REACTOME_CELL_CYCLE_MITOTIC 1.054764e-08\n",
       "Claudin_Low_Genome.Biol.2007_PMID.17493263                            3.637955e-08\n",
       "                                                                      geneID                                                                                                                                                                                                                                             \n",
       "T47D_control_vs_tamoxifen_down_Tumor cells                            ATP5MC3/DYNLL1/JPT1/KRT19/LDHA/MARCKSL1/NDUFC2/HSP90AA1/REEP5/SRSF7/FKBP4/CCT3/PSMA2/TUBB4B/SLC40A1/NDUFA8/VDAC3/TMBIM4/NDUFB8/CCT2/TRPS1/ENO1/SFPQ/SNRPB/ERH/ARL3/HNRNPM/TSFM/ID1/MRPL13/CALM2/HNRNPA2B1/RUNX1/CALM3/GOLM1/MRPL22                 \n",
       "MITO1_BMC.Med.Genomics.2011_PMID.21214954                             DYNLL1/POMP/TXN/GEMIN6/TIMM8B/TMA7/COX7A2/UQCRQ/COX5B/COX6A1/COX7C/NDUFB2/NDUFB1/UQCR11/LSM5/SEM1/NDUFC1/ORMDL2/COX8A/MRPL22                                                                                                                       \n",
       "GATA3.induced.genes_JCO.2006_PMID.16505416                            KRT19/KRT8/S100A11/CD24/VAMP8/TACSTD2/HSPB1/KRT18/GATA3/CD9/CITED4/TSPAN15/FXYD3/ATP1B1/SMIM22/KRT7/ADIRF/CALM1/SLC9A3R1/CYP1B1/TMC5/NDUFB9/BATF/TM4SF1/XBP1/OCIAD2/MYOF/SQOR/S100A16/RER1/ID1/MRPL13/CLDN3/TMEM165/S100A6/TFF3/LGALS1/STARD10/AQP3\n",
       "MITO2_BMC.Med.Genomics.2011_PMID.21214954                             NDUFA4/HSPE1/GTF2A2/ARPC3/NDUFB3/NDUFAB1/UBL5/NDUFB6/PIGF/LAMTOR5/COX7B/TMEM14B/PSMA2/SNRPG/FKBP3/LSM3/PSMA3/PSMA5/RPA3                                                                                                                            \n",
       "GSEA_GP1_Proliferation_DNA_repair.r=0.972_REACTOME_CELL_CYCLE_MITOTIC DYNLL1/HSP90AA1/SKP1/PSMB3/PSMA7/PSMB1/HDAC1/CCND1/PSMB5/PSMB2/PSMB7/UBA52/RPS27A/PSMB8/ANAPC11/TUBB/PSMA4/PSMA2/TUBB4B/PSMB6/PSMA1/PSME2/PSMD2/PSMA3/PSMC1/SSNA1/PSMA5/RPA3/PSMC3/TUBA1A/PSME1                                                    \n",
       "Claudin_Low_Genome.Biol.2007_PMID.17493263                            PKIB/KRT19/HSPE1/TACSTD2/KRT18/GATA3/MIF/CD9/MUC1/FXYD3/FKBP4/PBX1/EFHD1/EMP2/PAFAH1B3/EPPK1/TRPS1/RAB25/KRTCAP3/POLR2H/TMEM54/CLDN3/GOLM1/CTTN/STARD10/GPRC5A                                                                                     \n",
       "                                                                      Count\n",
       "T47D_control_vs_tamoxifen_down_Tumor cells                            36   \n",
       "MITO1_BMC.Med.Genomics.2011_PMID.21214954                             20   \n",
       "GATA3.induced.genes_JCO.2006_PMID.16505416                            39   \n",
       "MITO2_BMC.Med.Genomics.2011_PMID.21214954                             19   \n",
       "GSEA_GP1_Proliferation_DNA_repair.r=0.972_REACTOME_CELL_CYCLE_MITOTIC 31   \n",
       "Claudin_Low_Genome.Biol.2007_PMID.17493263                            26   "
      ]
     },
     "metadata": {},
     "output_type": "display_data"
    },
    {
     "data": {
      "text/html": [
       "<style>\n",
       ".list-inline {list-style: none; margin:0; padding: 0}\n",
       ".list-inline>li {display: inline-block}\n",
       ".list-inline>li:not(:last-child)::after {content: \"\\00b7\"; padding: 0 .5ex}\n",
       "</style>\n",
       "<ol class=list-inline><li>75</li><li>9</li></ol>\n"
      ],
      "text/latex": [
       "\\begin{enumerate*}\n",
       "\\item 75\n",
       "\\item 9\n",
       "\\end{enumerate*}\n"
      ],
      "text/markdown": [
       "1. 75\n",
       "2. 9\n",
       "\n",
       "\n"
      ],
      "text/plain": [
       "[1] 75  9"
      ]
     },
     "metadata": {},
     "output_type": "display_data"
    },
    {
     "data": {
      "text/html": [
       "<hr style=\"height:1px\">"
      ]
     },
     "metadata": {},
     "output_type": "display_data"
    },
    {
     "data": {
      "text/html": [
       "down h"
      ]
     },
     "metadata": {},
     "output_type": "display_data"
    },
    {
     "data": {
      "text/html": [
       "<table class=\"dataframe\">\n",
       "<caption>A data.frame: 6 × 9</caption>\n",
       "<thead>\n",
       "\t<tr><th></th><th scope=col>ID</th><th scope=col>Description</th><th scope=col>GeneRatio</th><th scope=col>BgRatio</th><th scope=col>pvalue</th><th scope=col>p.adjust</th><th scope=col>qvalue</th><th scope=col>geneID</th><th scope=col>Count</th></tr>\n",
       "\t<tr><th></th><th scope=col>&lt;chr&gt;</th><th scope=col>&lt;chr&gt;</th><th scope=col>&lt;chr&gt;</th><th scope=col>&lt;chr&gt;</th><th scope=col>&lt;dbl&gt;</th><th scope=col>&lt;dbl&gt;</th><th scope=col>&lt;dbl&gt;</th><th scope=col>&lt;chr&gt;</th><th scope=col>&lt;int&gt;</th></tr>\n",
       "</thead>\n",
       "<tbody>\n",
       "\t<tr><th scope=row>HALLMARK_UNFOLDED_PROTEIN_RESPONSE</th><td>HALLMARK_UNFOLDED_PROTEIN_RESPONSE</td><td>HALLMARK_UNFOLDED_PROTEIN_RESPONSE</td><td>44/316</td><td>113/4386</td><td>1.772890e-22</td><td>8.509872e-21</td><td>6.718320e-21</td><td>HSPA5/HERPUD1/HSP90B1/SERP1/ATF4/CEBPG/MTHFD2/DDX10/ATF3/ASNS/CALR/HSPA9/HYOU1/PDIA6/DNAJB9/VEGFA/DNAJC3/IARS/SRPRB/SLC1A4/SSR1/EIF4EBP1/WIPI1/EIF2AK3/SEC31A/TARS/CKS1B/CEBPB/TSPYL2/ERN1/DDIT4/FKBP14/PSAT1/EEF2/XPOT/EXOSC1/KIF5B/PDIA5/CHAC1/SPCS3/ATF6/PREB/STC2/EDEM1                                                         </td><td>44</td></tr>\n",
       "\t<tr><th scope=row>HALLMARK_MTORC1_SIGNALING</th><td>HALLMARK_MTORC1_SIGNALING         </td><td>HALLMARK_MTORC1_SIGNALING         </td><td>53/316</td><td>200/4386</td><td>4.257120e-18</td><td>1.021709e-16</td><td>8.066122e-17</td><td>NUPR1/HSPA5/DDIT3/HSP90B1/SERP1/SQSTM1/TRIB3/MTHFD2/PHGDH/FAM129A/TCEA1/SDF2L1/CANX/ASNS/CALR/HSPA9/PPP1R15A/EIF2S2/SQLE/EPRS/GOT1/IDI1/SLC1A4/SSR1/HMGCR/UFM1/HMGCS1/FKBP2/IFRD1/RPN1/TXNRD1/SHMT2/SLC7A11/LDLR/SLC1A5/INSIG1/DDIT4/PSAT1/BHLHE40/RAB1A/GGA2/USO1/HSPD1/NAMPT/UBE2D3/CYP51A1/WARS/SLC2A1/YKT6/NFKBIB/EDEM1/GCLC/HK2</td><td>53</td></tr>\n",
       "\t<tr><th scope=row>HALLMARK_TNFA_SIGNALING_VIA_NFKB</th><td>HALLMARK_TNFA_SIGNALING_VIA_NFKB  </td><td>HALLMARK_TNFA_SIGNALING_VIA_NFKB  </td><td>42/316</td><td>200/4386</td><td>8.302605e-11</td><td>1.328417e-09</td><td>1.048750e-09</td><td>SQSTM1/EIF1/ATF3/PPP1R15A/GEM/BTG1/VEGFA/IRF1/CD44/JUN/DUSP1/KLF6/HBEGF/TSC22D1/CEBPB/LDLR/PNRC1/TRIB1/TGIF1/BHLHE40/RIPK2/MAFF/IRS2/REL/MXD1/SDC4/CCNL1/PHLDA2/NFKBIA/NFE2L2/KLF4/TNIP1/FOSL2/GADD45A/EFNA1/MYC/NAMPT/ZFP36/GADD45B/LITAF/IFIH1/PMEPA1                                                                             </td><td>42</td></tr>\n",
       "\t<tr><th scope=row>HALLMARK_PROTEIN_SECRETION</th><td>HALLMARK_PROTEIN_SECRETION        </td><td>HALLMARK_PROTEIN_SECRETION        </td><td>26/316</td><td>96/4386 </td><td>1.455209e-09</td><td>1.746251e-08</td><td>1.378619e-08</td><td>LMAN1/ARFGAP3/COPE/ARF1/GOLGA4/SEC24D/RAB5A/SEC31A/ARCN1/TMED10/COPB2/DST/RAB9A/TPD52/ICA1/NAPA/USO1/COPB1/SEC22B/TMED2/BET1/RAB22A/VPS4B/TOM1L1/YKT6/BNIP3                                                                                                                                                                         </td><td>26</td></tr>\n",
       "\t<tr><th scope=row>HALLMARK_CHOLESTEROL_HOMEOSTASIS</th><td>HALLMARK_CHOLESTEROL_HOMEOSTASIS  </td><td>HALLMARK_CHOLESTEROL_HOMEOSTASIS  </td><td>19/316</td><td>74/4386 </td><td>6.403518e-07</td><td>6.147378e-06</td><td>4.853193e-06</td><td>TRIB3/FAM129A/ATF3/SQLE/STX5/IDI1/HMGCR/TNFRSF12A/HMGCS1/LDLR/MVD/ERRFI1/FDPS/PNRC1/SREBF2/ALCAM/ECH1/CPEB2/CYP51A1                                                                                                                                                                                                                 </td><td>19</td></tr>\n",
       "\t<tr><th scope=row>HALLMARK_HYPOXIA</th><td>HALLMARK_HYPOXIA                  </td><td>HALLMARK_HYPOXIA                  </td><td>34/316</td><td>200/4386</td><td>1.375148e-06</td><td>1.100118e-05</td><td>8.685145e-06</td><td>HSPA5/DDIT3/MT1E/MT2A/ATF3/PPP1R15A/BTG1/VEGFA/HMOX1/JUN/DUSP1/BNIP3L/KLF6/HDLBP/ERRFI1/DDIT4/PNRC1/WSB1/KLHL24/BHLHE40/TPD52/MAFF/IRS2/NEDD4L/SDC4/FOSL2/EFNA1/ZFP36/ISG20/SIAH2/STC2/SLC2A1/HK2/ZNF292                                                                                                                            </td><td>34</td></tr>\n",
       "</tbody>\n",
       "</table>\n"
      ],
      "text/latex": [
       "A data.frame: 6 × 9\n",
       "\\begin{tabular}{r|lllllllll}\n",
       "  & ID & Description & GeneRatio & BgRatio & pvalue & p.adjust & qvalue & geneID & Count\\\\\n",
       "  & <chr> & <chr> & <chr> & <chr> & <dbl> & <dbl> & <dbl> & <chr> & <int>\\\\\n",
       "\\hline\n",
       "\tHALLMARK\\_UNFOLDED\\_PROTEIN\\_RESPONSE & HALLMARK\\_UNFOLDED\\_PROTEIN\\_RESPONSE & HALLMARK\\_UNFOLDED\\_PROTEIN\\_RESPONSE & 44/316 & 113/4386 & 1.772890e-22 & 8.509872e-21 & 6.718320e-21 & HSPA5/HERPUD1/HSP90B1/SERP1/ATF4/CEBPG/MTHFD2/DDX10/ATF3/ASNS/CALR/HSPA9/HYOU1/PDIA6/DNAJB9/VEGFA/DNAJC3/IARS/SRPRB/SLC1A4/SSR1/EIF4EBP1/WIPI1/EIF2AK3/SEC31A/TARS/CKS1B/CEBPB/TSPYL2/ERN1/DDIT4/FKBP14/PSAT1/EEF2/XPOT/EXOSC1/KIF5B/PDIA5/CHAC1/SPCS3/ATF6/PREB/STC2/EDEM1                                                          & 44\\\\\n",
       "\tHALLMARK\\_MTORC1\\_SIGNALING & HALLMARK\\_MTORC1\\_SIGNALING          & HALLMARK\\_MTORC1\\_SIGNALING          & 53/316 & 200/4386 & 4.257120e-18 & 1.021709e-16 & 8.066122e-17 & NUPR1/HSPA5/DDIT3/HSP90B1/SERP1/SQSTM1/TRIB3/MTHFD2/PHGDH/FAM129A/TCEA1/SDF2L1/CANX/ASNS/CALR/HSPA9/PPP1R15A/EIF2S2/SQLE/EPRS/GOT1/IDI1/SLC1A4/SSR1/HMGCR/UFM1/HMGCS1/FKBP2/IFRD1/RPN1/TXNRD1/SHMT2/SLC7A11/LDLR/SLC1A5/INSIG1/DDIT4/PSAT1/BHLHE40/RAB1A/GGA2/USO1/HSPD1/NAMPT/UBE2D3/CYP51A1/WARS/SLC2A1/YKT6/NFKBIB/EDEM1/GCLC/HK2 & 53\\\\\n",
       "\tHALLMARK\\_TNFA\\_SIGNALING\\_VIA\\_NFKB & HALLMARK\\_TNFA\\_SIGNALING\\_VIA\\_NFKB   & HALLMARK\\_TNFA\\_SIGNALING\\_VIA\\_NFKB   & 42/316 & 200/4386 & 8.302605e-11 & 1.328417e-09 & 1.048750e-09 & SQSTM1/EIF1/ATF3/PPP1R15A/GEM/BTG1/VEGFA/IRF1/CD44/JUN/DUSP1/KLF6/HBEGF/TSC22D1/CEBPB/LDLR/PNRC1/TRIB1/TGIF1/BHLHE40/RIPK2/MAFF/IRS2/REL/MXD1/SDC4/CCNL1/PHLDA2/NFKBIA/NFE2L2/KLF4/TNIP1/FOSL2/GADD45A/EFNA1/MYC/NAMPT/ZFP36/GADD45B/LITAF/IFIH1/PMEPA1                                                                              & 42\\\\\n",
       "\tHALLMARK\\_PROTEIN\\_SECRETION & HALLMARK\\_PROTEIN\\_SECRETION         & HALLMARK\\_PROTEIN\\_SECRETION         & 26/316 & 96/4386  & 1.455209e-09 & 1.746251e-08 & 1.378619e-08 & LMAN1/ARFGAP3/COPE/ARF1/GOLGA4/SEC24D/RAB5A/SEC31A/ARCN1/TMED10/COPB2/DST/RAB9A/TPD52/ICA1/NAPA/USO1/COPB1/SEC22B/TMED2/BET1/RAB22A/VPS4B/TOM1L1/YKT6/BNIP3                                                                                                                                                                          & 26\\\\\n",
       "\tHALLMARK\\_CHOLESTEROL\\_HOMEOSTASIS & HALLMARK\\_CHOLESTEROL\\_HOMEOSTASIS   & HALLMARK\\_CHOLESTEROL\\_HOMEOSTASIS   & 19/316 & 74/4386  & 6.403518e-07 & 6.147378e-06 & 4.853193e-06 & TRIB3/FAM129A/ATF3/SQLE/STX5/IDI1/HMGCR/TNFRSF12A/HMGCS1/LDLR/MVD/ERRFI1/FDPS/PNRC1/SREBF2/ALCAM/ECH1/CPEB2/CYP51A1                                                                                                                                                                                                                  & 19\\\\\n",
       "\tHALLMARK\\_HYPOXIA & HALLMARK\\_HYPOXIA                   & HALLMARK\\_HYPOXIA                   & 34/316 & 200/4386 & 1.375148e-06 & 1.100118e-05 & 8.685145e-06 & HSPA5/DDIT3/MT1E/MT2A/ATF3/PPP1R15A/BTG1/VEGFA/HMOX1/JUN/DUSP1/BNIP3L/KLF6/HDLBP/ERRFI1/DDIT4/PNRC1/WSB1/KLHL24/BHLHE40/TPD52/MAFF/IRS2/NEDD4L/SDC4/FOSL2/EFNA1/ZFP36/ISG20/SIAH2/STC2/SLC2A1/HK2/ZNF292                                                                                                                             & 34\\\\\n",
       "\\end{tabular}\n"
      ],
      "text/markdown": [
       "\n",
       "A data.frame: 6 × 9\n",
       "\n",
       "| <!--/--> | ID &lt;chr&gt; | Description &lt;chr&gt; | GeneRatio &lt;chr&gt; | BgRatio &lt;chr&gt; | pvalue &lt;dbl&gt; | p.adjust &lt;dbl&gt; | qvalue &lt;dbl&gt; | geneID &lt;chr&gt; | Count &lt;int&gt; |\n",
       "|---|---|---|---|---|---|---|---|---|---|\n",
       "| HALLMARK_UNFOLDED_PROTEIN_RESPONSE | HALLMARK_UNFOLDED_PROTEIN_RESPONSE | HALLMARK_UNFOLDED_PROTEIN_RESPONSE | 44/316 | 113/4386 | 1.772890e-22 | 8.509872e-21 | 6.718320e-21 | HSPA5/HERPUD1/HSP90B1/SERP1/ATF4/CEBPG/MTHFD2/DDX10/ATF3/ASNS/CALR/HSPA9/HYOU1/PDIA6/DNAJB9/VEGFA/DNAJC3/IARS/SRPRB/SLC1A4/SSR1/EIF4EBP1/WIPI1/EIF2AK3/SEC31A/TARS/CKS1B/CEBPB/TSPYL2/ERN1/DDIT4/FKBP14/PSAT1/EEF2/XPOT/EXOSC1/KIF5B/PDIA5/CHAC1/SPCS3/ATF6/PREB/STC2/EDEM1                                                          | 44 |\n",
       "| HALLMARK_MTORC1_SIGNALING | HALLMARK_MTORC1_SIGNALING          | HALLMARK_MTORC1_SIGNALING          | 53/316 | 200/4386 | 4.257120e-18 | 1.021709e-16 | 8.066122e-17 | NUPR1/HSPA5/DDIT3/HSP90B1/SERP1/SQSTM1/TRIB3/MTHFD2/PHGDH/FAM129A/TCEA1/SDF2L1/CANX/ASNS/CALR/HSPA9/PPP1R15A/EIF2S2/SQLE/EPRS/GOT1/IDI1/SLC1A4/SSR1/HMGCR/UFM1/HMGCS1/FKBP2/IFRD1/RPN1/TXNRD1/SHMT2/SLC7A11/LDLR/SLC1A5/INSIG1/DDIT4/PSAT1/BHLHE40/RAB1A/GGA2/USO1/HSPD1/NAMPT/UBE2D3/CYP51A1/WARS/SLC2A1/YKT6/NFKBIB/EDEM1/GCLC/HK2 | 53 |\n",
       "| HALLMARK_TNFA_SIGNALING_VIA_NFKB | HALLMARK_TNFA_SIGNALING_VIA_NFKB   | HALLMARK_TNFA_SIGNALING_VIA_NFKB   | 42/316 | 200/4386 | 8.302605e-11 | 1.328417e-09 | 1.048750e-09 | SQSTM1/EIF1/ATF3/PPP1R15A/GEM/BTG1/VEGFA/IRF1/CD44/JUN/DUSP1/KLF6/HBEGF/TSC22D1/CEBPB/LDLR/PNRC1/TRIB1/TGIF1/BHLHE40/RIPK2/MAFF/IRS2/REL/MXD1/SDC4/CCNL1/PHLDA2/NFKBIA/NFE2L2/KLF4/TNIP1/FOSL2/GADD45A/EFNA1/MYC/NAMPT/ZFP36/GADD45B/LITAF/IFIH1/PMEPA1                                                                              | 42 |\n",
       "| HALLMARK_PROTEIN_SECRETION | HALLMARK_PROTEIN_SECRETION         | HALLMARK_PROTEIN_SECRETION         | 26/316 | 96/4386  | 1.455209e-09 | 1.746251e-08 | 1.378619e-08 | LMAN1/ARFGAP3/COPE/ARF1/GOLGA4/SEC24D/RAB5A/SEC31A/ARCN1/TMED10/COPB2/DST/RAB9A/TPD52/ICA1/NAPA/USO1/COPB1/SEC22B/TMED2/BET1/RAB22A/VPS4B/TOM1L1/YKT6/BNIP3                                                                                                                                                                          | 26 |\n",
       "| HALLMARK_CHOLESTEROL_HOMEOSTASIS | HALLMARK_CHOLESTEROL_HOMEOSTASIS   | HALLMARK_CHOLESTEROL_HOMEOSTASIS   | 19/316 | 74/4386  | 6.403518e-07 | 6.147378e-06 | 4.853193e-06 | TRIB3/FAM129A/ATF3/SQLE/STX5/IDI1/HMGCR/TNFRSF12A/HMGCS1/LDLR/MVD/ERRFI1/FDPS/PNRC1/SREBF2/ALCAM/ECH1/CPEB2/CYP51A1                                                                                                                                                                                                                  | 19 |\n",
       "| HALLMARK_HYPOXIA | HALLMARK_HYPOXIA                   | HALLMARK_HYPOXIA                   | 34/316 | 200/4386 | 1.375148e-06 | 1.100118e-05 | 8.685145e-06 | HSPA5/DDIT3/MT1E/MT2A/ATF3/PPP1R15A/BTG1/VEGFA/HMOX1/JUN/DUSP1/BNIP3L/KLF6/HDLBP/ERRFI1/DDIT4/PNRC1/WSB1/KLHL24/BHLHE40/TPD52/MAFF/IRS2/NEDD4L/SDC4/FOSL2/EFNA1/ZFP36/ISG20/SIAH2/STC2/SLC2A1/HK2/ZNF292                                                                                                                             | 34 |\n",
       "\n"
      ],
      "text/plain": [
       "                                   ID                                \n",
       "HALLMARK_UNFOLDED_PROTEIN_RESPONSE HALLMARK_UNFOLDED_PROTEIN_RESPONSE\n",
       "HALLMARK_MTORC1_SIGNALING          HALLMARK_MTORC1_SIGNALING         \n",
       "HALLMARK_TNFA_SIGNALING_VIA_NFKB   HALLMARK_TNFA_SIGNALING_VIA_NFKB  \n",
       "HALLMARK_PROTEIN_SECRETION         HALLMARK_PROTEIN_SECRETION        \n",
       "HALLMARK_CHOLESTEROL_HOMEOSTASIS   HALLMARK_CHOLESTEROL_HOMEOSTASIS  \n",
       "HALLMARK_HYPOXIA                   HALLMARK_HYPOXIA                  \n",
       "                                   Description                        GeneRatio\n",
       "HALLMARK_UNFOLDED_PROTEIN_RESPONSE HALLMARK_UNFOLDED_PROTEIN_RESPONSE 44/316   \n",
       "HALLMARK_MTORC1_SIGNALING          HALLMARK_MTORC1_SIGNALING          53/316   \n",
       "HALLMARK_TNFA_SIGNALING_VIA_NFKB   HALLMARK_TNFA_SIGNALING_VIA_NFKB   42/316   \n",
       "HALLMARK_PROTEIN_SECRETION         HALLMARK_PROTEIN_SECRETION         26/316   \n",
       "HALLMARK_CHOLESTEROL_HOMEOSTASIS   HALLMARK_CHOLESTEROL_HOMEOSTASIS   19/316   \n",
       "HALLMARK_HYPOXIA                   HALLMARK_HYPOXIA                   34/316   \n",
       "                                   BgRatio  pvalue       p.adjust    \n",
       "HALLMARK_UNFOLDED_PROTEIN_RESPONSE 113/4386 1.772890e-22 8.509872e-21\n",
       "HALLMARK_MTORC1_SIGNALING          200/4386 4.257120e-18 1.021709e-16\n",
       "HALLMARK_TNFA_SIGNALING_VIA_NFKB   200/4386 8.302605e-11 1.328417e-09\n",
       "HALLMARK_PROTEIN_SECRETION         96/4386  1.455209e-09 1.746251e-08\n",
       "HALLMARK_CHOLESTEROL_HOMEOSTASIS   74/4386  6.403518e-07 6.147378e-06\n",
       "HALLMARK_HYPOXIA                   200/4386 1.375148e-06 1.100118e-05\n",
       "                                   qvalue      \n",
       "HALLMARK_UNFOLDED_PROTEIN_RESPONSE 6.718320e-21\n",
       "HALLMARK_MTORC1_SIGNALING          8.066122e-17\n",
       "HALLMARK_TNFA_SIGNALING_VIA_NFKB   1.048750e-09\n",
       "HALLMARK_PROTEIN_SECRETION         1.378619e-08\n",
       "HALLMARK_CHOLESTEROL_HOMEOSTASIS   4.853193e-06\n",
       "HALLMARK_HYPOXIA                   8.685145e-06\n",
       "                                   geneID                                                                                                                                                                                                                                                                                                                              \n",
       "HALLMARK_UNFOLDED_PROTEIN_RESPONSE HSPA5/HERPUD1/HSP90B1/SERP1/ATF4/CEBPG/MTHFD2/DDX10/ATF3/ASNS/CALR/HSPA9/HYOU1/PDIA6/DNAJB9/VEGFA/DNAJC3/IARS/SRPRB/SLC1A4/SSR1/EIF4EBP1/WIPI1/EIF2AK3/SEC31A/TARS/CKS1B/CEBPB/TSPYL2/ERN1/DDIT4/FKBP14/PSAT1/EEF2/XPOT/EXOSC1/KIF5B/PDIA5/CHAC1/SPCS3/ATF6/PREB/STC2/EDEM1                                                         \n",
       "HALLMARK_MTORC1_SIGNALING          NUPR1/HSPA5/DDIT3/HSP90B1/SERP1/SQSTM1/TRIB3/MTHFD2/PHGDH/FAM129A/TCEA1/SDF2L1/CANX/ASNS/CALR/HSPA9/PPP1R15A/EIF2S2/SQLE/EPRS/GOT1/IDI1/SLC1A4/SSR1/HMGCR/UFM1/HMGCS1/FKBP2/IFRD1/RPN1/TXNRD1/SHMT2/SLC7A11/LDLR/SLC1A5/INSIG1/DDIT4/PSAT1/BHLHE40/RAB1A/GGA2/USO1/HSPD1/NAMPT/UBE2D3/CYP51A1/WARS/SLC2A1/YKT6/NFKBIB/EDEM1/GCLC/HK2\n",
       "HALLMARK_TNFA_SIGNALING_VIA_NFKB   SQSTM1/EIF1/ATF3/PPP1R15A/GEM/BTG1/VEGFA/IRF1/CD44/JUN/DUSP1/KLF6/HBEGF/TSC22D1/CEBPB/LDLR/PNRC1/TRIB1/TGIF1/BHLHE40/RIPK2/MAFF/IRS2/REL/MXD1/SDC4/CCNL1/PHLDA2/NFKBIA/NFE2L2/KLF4/TNIP1/FOSL2/GADD45A/EFNA1/MYC/NAMPT/ZFP36/GADD45B/LITAF/IFIH1/PMEPA1                                                                             \n",
       "HALLMARK_PROTEIN_SECRETION         LMAN1/ARFGAP3/COPE/ARF1/GOLGA4/SEC24D/RAB5A/SEC31A/ARCN1/TMED10/COPB2/DST/RAB9A/TPD52/ICA1/NAPA/USO1/COPB1/SEC22B/TMED2/BET1/RAB22A/VPS4B/TOM1L1/YKT6/BNIP3                                                                                                                                                                         \n",
       "HALLMARK_CHOLESTEROL_HOMEOSTASIS   TRIB3/FAM129A/ATF3/SQLE/STX5/IDI1/HMGCR/TNFRSF12A/HMGCS1/LDLR/MVD/ERRFI1/FDPS/PNRC1/SREBF2/ALCAM/ECH1/CPEB2/CYP51A1                                                                                                                                                                                                                 \n",
       "HALLMARK_HYPOXIA                   HSPA5/DDIT3/MT1E/MT2A/ATF3/PPP1R15A/BTG1/VEGFA/HMOX1/JUN/DUSP1/BNIP3L/KLF6/HDLBP/ERRFI1/DDIT4/PNRC1/WSB1/KLHL24/BHLHE40/TPD52/MAFF/IRS2/NEDD4L/SDC4/FOSL2/EFNA1/ZFP36/ISG20/SIAH2/STC2/SLC2A1/HK2/ZNF292                                                                                                                            \n",
       "                                   Count\n",
       "HALLMARK_UNFOLDED_PROTEIN_RESPONSE 44   \n",
       "HALLMARK_MTORC1_SIGNALING          53   \n",
       "HALLMARK_TNFA_SIGNALING_VIA_NFKB   42   \n",
       "HALLMARK_PROTEIN_SECRETION         26   \n",
       "HALLMARK_CHOLESTEROL_HOMEOSTASIS   19   \n",
       "HALLMARK_HYPOXIA                   34   "
      ]
     },
     "metadata": {},
     "output_type": "display_data"
    },
    {
     "data": {
      "text/html": [
       "<style>\n",
       ".list-inline {list-style: none; margin:0; padding: 0}\n",
       ".list-inline>li {display: inline-block}\n",
       ".list-inline>li:not(:last-child)::after {content: \"\\00b7\"; padding: 0 .5ex}\n",
       "</style>\n",
       "<ol class=list-inline><li>9</li><li>9</li></ol>\n"
      ],
      "text/latex": [
       "\\begin{enumerate*}\n",
       "\\item 9\n",
       "\\item 9\n",
       "\\end{enumerate*}\n"
      ],
      "text/markdown": [
       "1. 9\n",
       "2. 9\n",
       "\n",
       "\n"
      ],
      "text/plain": [
       "[1] 9 9"
      ]
     },
     "metadata": {},
     "output_type": "display_data"
    },
    {
     "data": {
      "text/html": [
       "down unc_lccc"
      ]
     },
     "metadata": {},
     "output_type": "display_data"
    },
    {
     "data": {
      "text/html": [
       "<table class=\"dataframe\">\n",
       "<caption>A data.frame: 6 × 9</caption>\n",
       "<thead>\n",
       "\t<tr><th></th><th scope=col>ID</th><th scope=col>Description</th><th scope=col>GeneRatio</th><th scope=col>BgRatio</th><th scope=col>pvalue</th><th scope=col>p.adjust</th><th scope=col>qvalue</th><th scope=col>geneID</th><th scope=col>Count</th></tr>\n",
       "\t<tr><th></th><th scope=col>&lt;chr&gt;</th><th scope=col>&lt;chr&gt;</th><th scope=col>&lt;chr&gt;</th><th scope=col>&lt;chr&gt;</th><th scope=col>&lt;dbl&gt;</th><th scope=col>&lt;dbl&gt;</th><th scope=col>&lt;dbl&gt;</th><th scope=col>&lt;chr&gt;</th><th scope=col>&lt;int&gt;</th></tr>\n",
       "</thead>\n",
       "<tbody>\n",
       "\t<tr><th scope=row>UNC_HS_Red22_BMC.Med.Genomics.2011_PMID.21214954</th><td>UNC_HS_Red22_BMC.Med.Genomics.2011_PMID.21214954  </td><td>UNC_HS_Red22_BMC.Med.Genomics.2011_PMID.21214954  </td><td>84/880</td><td>430/19993</td><td>1.492977e-31</td><td>5.927120e-29</td><td>4.510363e-29</td><td>HSP90B1/SERP1/MTHFD2/GFPT1/ARFGAP3/KDELR2/RSL24D1/TMEM258/DNAJB9/CCPG1/TMED5/MAP1LC3B/SLK/IDI1/SEC24D/JMJD1C/UFM1/EIF5/EIF2AK3/TARS/MAPK6/HSPA13/ARCN1/ACBD3/COPB2/SEC61G/CYCS/PRELID3B/SRP19/LRIF1/ARL8B/MCFD2/ARL1/CHMP2B/TXNRD1/CALCOCO2/GHITM/SRP54/BNIP2/PPP1R2/TDG/RNF6/XPOT/RAB9A/NRBF2/SUCO/GOLT1B/TCEAL9/USO1/TMEM106B/KIF5B/USP16/CRY1/COPB1/PPP1CB/ZC3H15/CCDC47/ATG3/EXOSC8/SEC22B/CSGALNACT2/EMC2/BET1/ABI1/TIMM17A/CLINT1/TMEM39A/SPCS3/GNAI3/RAD23B/ADK/SCFD1/TERF2IP/BCAS2/ITGAV/INSIG2/SARAF/SELENOF/ABHD5/EIF1B/ATF2/TM9SF3/FEM1B/AIMP1</td><td>84</td></tr>\n",
       "\t<tr><th scope=row>Duke_Module07_glucosedepletion_Mike_PMID.20335537</th><td>Duke_Module07_glucosedepletion_Mike_PMID.20335537 </td><td>Duke_Module07_glucosedepletion_Mike_PMID.20335537 </td><td>22/880</td><td>27/19993 </td><td>7.333335e-26</td><td>1.455667e-23</td><td>1.107719e-23</td><td>SLC3A2/HERPUD1/SDF2L1/HYOU1/EPRS/DNAJB9/MAP1LC3B/YARS/CLIC4/SEL1L/SLC38A2/IFRD1/CARS/DDIT4/KLHL24/CALU/HBP1/NFE2L1/TMEM106B/TERF2IP/WARS/SEC63                                                                                                                                                                                                                                                                                                                                                                                                           </td><td>22</td></tr>\n",
       "\t<tr><th scope=row>UNC_HS_Green16_BMC.Med.Genomics.2011_PMID.21214954</th><td>UNC_HS_Green16_BMC.Med.Genomics.2011_PMID.21214954</td><td>UNC_HS_Green16_BMC.Med.Genomics.2011_PMID.21214954</td><td>50/880</td><td>276/19993</td><td>9.896916e-18</td><td>1.309692e-15</td><td>9.966368e-16</td><td>HSP90B1/GNL3/GOLGA4/RB1CC1/LRRFIP1/TMF1/GOLGB1/SLK/JMJD1C/CCDC186/TAX1BP1/CLIP1/CIR1/SMG1/DAAM1/TRIP11/ANKRD12/CHD9/ZNF91/KLHL24/RSF1/SREK1/DEK/UPF2/CCNL1/KIF5B/USP16/FNBP4/UPF3B/SRSF11/PPIG/RSRC2/ZC3H15/OFD1/EMC2/EIF4G3/PKN2/NKTR/USP1/PHF20L1/SHOC2/USP47/PFDN2/SELENOP/BTBD7/ANKRD11/HOOK1/BRWD1/CHORDC1/TWISTNB                                                                                                                                                                                                                                  </td><td>50</td></tr>\n",
       "\t<tr><th scope=row>UNC_Unknown_10_BMC.Med.Genomics.2011_PMID.21214954</th><td>UNC_Unknown_10_BMC.Med.Genomics.2011_PMID.21214954</td><td>UNC_Unknown_10_BMC.Med.Genomics.2011_PMID.21214954</td><td>17/880</td><td>29/19993 </td><td>2.370459e-16</td><td>2.352681e-14</td><td>1.790320e-14</td><td>PDIA3/PPIB/TMED9/KDELR2/SLC39A7/SRPRB/CKAP4/SEC61A1/COPB2/RPN1/GORASP2/COPG1/DAP/RABAC1/PDIA5/SEC13/YKT6                                                                                                                                                                                                                                                                                                                                                                                                                                                 </td><td>17</td></tr>\n",
       "\t<tr><th scope=row>Duke_Module05_egfr_Mike_PMID.20335537</th><td>Duke_Module05_egfr_Mike_PMID.20335537             </td><td>Duke_Module05_egfr_Mike_PMID.20335537             </td><td>48/880</td><td>281/19993</td><td>5.099745e-16</td><td>4.049197e-14</td><td>3.081319e-14</td><td>SQLE/ATXN1/BTG1/VEGFA/STX3/CD44/HMGCR/GOLGA2/DUSP10/SEC31A/MAPK6/BNIP3L/SLC38A2/ACBD3/KLF6/INTS6/ARL8B/LRRFIP2/TSC22D1/DAAM1/CDYL/CEBPB/LDLR/DDIT4/WSB1/TRIB1/EHF/DST/BHLHE40/MAFF/CSNK1A1/CCNL1/NFKBIA/TNIP1/KMT2A/GADD45A/EFNA1/ZFP36/ISG20/RAB22A/SVIL/INSIG2/SLC2A1/SEC24A/GCLC/MACF1/FEM1B/N4BP1                                                                                                                                                                                                                                                    </td><td>48</td></tr>\n",
       "\t<tr><th scope=row>UNC_HS_Red17_BMC.Med.Genomics.2011_PMID.21214954</th><td>UNC_HS_Red17_BMC.Med.Genomics.2011_PMID.21214954  </td><td>UNC_HS_Red17_BMC.Med.Genomics.2011_PMID.21214954  </td><td>52/880</td><td>335/19993</td><td>1.882687e-15</td><td>1.245711e-13</td><td>9.479495e-14</td><td>PDIA3/LMAN1/PPIB/JUND/CANX/ARF4/ARF1/P4HB/PJA2/TMCO3/TRAM1/SRPRA/CDV3/PSAP/MAP1LC3B/STX3/SSR1/CLIC4/RAB5A/KLF6/GCLM/PGM3/MBNL2/DNAJC10/CDYL/TRIM27/PPP1R2/YIPF5/EIF2S3/EHF/NEU1/RAB9A/RAB1A/CALU/PTP4A1/KPNA4/KIF5B/KDELR1/NFE2L2/SH3GLB1/TMOD3/TMED2/CREBZF/PPIF/UBE2D3/TKT/GNAI3/DDX3X/UBE2H/MAX/CBX4/CAPN7                                                                                                                                                                                                                                            </td><td>52</td></tr>\n",
       "</tbody>\n",
       "</table>\n"
      ],
      "text/latex": [
       "A data.frame: 6 × 9\n",
       "\\begin{tabular}{r|lllllllll}\n",
       "  & ID & Description & GeneRatio & BgRatio & pvalue & p.adjust & qvalue & geneID & Count\\\\\n",
       "  & <chr> & <chr> & <chr> & <chr> & <dbl> & <dbl> & <dbl> & <chr> & <int>\\\\\n",
       "\\hline\n",
       "\tUNC\\_HS\\_Red22\\_BMC.Med.Genomics.2011\\_PMID.21214954 & UNC\\_HS\\_Red22\\_BMC.Med.Genomics.2011\\_PMID.21214954   & UNC\\_HS\\_Red22\\_BMC.Med.Genomics.2011\\_PMID.21214954   & 84/880 & 430/19993 & 1.492977e-31 & 5.927120e-29 & 4.510363e-29 & HSP90B1/SERP1/MTHFD2/GFPT1/ARFGAP3/KDELR2/RSL24D1/TMEM258/DNAJB9/CCPG1/TMED5/MAP1LC3B/SLK/IDI1/SEC24D/JMJD1C/UFM1/EIF5/EIF2AK3/TARS/MAPK6/HSPA13/ARCN1/ACBD3/COPB2/SEC61G/CYCS/PRELID3B/SRP19/LRIF1/ARL8B/MCFD2/ARL1/CHMP2B/TXNRD1/CALCOCO2/GHITM/SRP54/BNIP2/PPP1R2/TDG/RNF6/XPOT/RAB9A/NRBF2/SUCO/GOLT1B/TCEAL9/USO1/TMEM106B/KIF5B/USP16/CRY1/COPB1/PPP1CB/ZC3H15/CCDC47/ATG3/EXOSC8/SEC22B/CSGALNACT2/EMC2/BET1/ABI1/TIMM17A/CLINT1/TMEM39A/SPCS3/GNAI3/RAD23B/ADK/SCFD1/TERF2IP/BCAS2/ITGAV/INSIG2/SARAF/SELENOF/ABHD5/EIF1B/ATF2/TM9SF3/FEM1B/AIMP1 & 84\\\\\n",
       "\tDuke\\_Module07\\_glucosedepletion\\_Mike\\_PMID.20335537 & Duke\\_Module07\\_glucosedepletion\\_Mike\\_PMID.20335537  & Duke\\_Module07\\_glucosedepletion\\_Mike\\_PMID.20335537  & 22/880 & 27/19993  & 7.333335e-26 & 1.455667e-23 & 1.107719e-23 & SLC3A2/HERPUD1/SDF2L1/HYOU1/EPRS/DNAJB9/MAP1LC3B/YARS/CLIC4/SEL1L/SLC38A2/IFRD1/CARS/DDIT4/KLHL24/CALU/HBP1/NFE2L1/TMEM106B/TERF2IP/WARS/SEC63                                                                                                                                                                                                                                                                                                                                                                                                            & 22\\\\\n",
       "\tUNC\\_HS\\_Green16\\_BMC.Med.Genomics.2011\\_PMID.21214954 & UNC\\_HS\\_Green16\\_BMC.Med.Genomics.2011\\_PMID.21214954 & UNC\\_HS\\_Green16\\_BMC.Med.Genomics.2011\\_PMID.21214954 & 50/880 & 276/19993 & 9.896916e-18 & 1.309692e-15 & 9.966368e-16 & HSP90B1/GNL3/GOLGA4/RB1CC1/LRRFIP1/TMF1/GOLGB1/SLK/JMJD1C/CCDC186/TAX1BP1/CLIP1/CIR1/SMG1/DAAM1/TRIP11/ANKRD12/CHD9/ZNF91/KLHL24/RSF1/SREK1/DEK/UPF2/CCNL1/KIF5B/USP16/FNBP4/UPF3B/SRSF11/PPIG/RSRC2/ZC3H15/OFD1/EMC2/EIF4G3/PKN2/NKTR/USP1/PHF20L1/SHOC2/USP47/PFDN2/SELENOP/BTBD7/ANKRD11/HOOK1/BRWD1/CHORDC1/TWISTNB                                                                                                                                                                                                                                   & 50\\\\\n",
       "\tUNC\\_Unknown\\_10\\_BMC.Med.Genomics.2011\\_PMID.21214954 & UNC\\_Unknown\\_10\\_BMC.Med.Genomics.2011\\_PMID.21214954 & UNC\\_Unknown\\_10\\_BMC.Med.Genomics.2011\\_PMID.21214954 & 17/880 & 29/19993  & 2.370459e-16 & 2.352681e-14 & 1.790320e-14 & PDIA3/PPIB/TMED9/KDELR2/SLC39A7/SRPRB/CKAP4/SEC61A1/COPB2/RPN1/GORASP2/COPG1/DAP/RABAC1/PDIA5/SEC13/YKT6                                                                                                                                                                                                                                                                                                                                                                                                                                                  & 17\\\\\n",
       "\tDuke\\_Module05\\_egfr\\_Mike\\_PMID.20335537 & Duke\\_Module05\\_egfr\\_Mike\\_PMID.20335537              & Duke\\_Module05\\_egfr\\_Mike\\_PMID.20335537              & 48/880 & 281/19993 & 5.099745e-16 & 4.049197e-14 & 3.081319e-14 & SQLE/ATXN1/BTG1/VEGFA/STX3/CD44/HMGCR/GOLGA2/DUSP10/SEC31A/MAPK6/BNIP3L/SLC38A2/ACBD3/KLF6/INTS6/ARL8B/LRRFIP2/TSC22D1/DAAM1/CDYL/CEBPB/LDLR/DDIT4/WSB1/TRIB1/EHF/DST/BHLHE40/MAFF/CSNK1A1/CCNL1/NFKBIA/TNIP1/KMT2A/GADD45A/EFNA1/ZFP36/ISG20/RAB22A/SVIL/INSIG2/SLC2A1/SEC24A/GCLC/MACF1/FEM1B/N4BP1                                                                                                                                                                                                                                                     & 48\\\\\n",
       "\tUNC\\_HS\\_Red17\\_BMC.Med.Genomics.2011\\_PMID.21214954 & UNC\\_HS\\_Red17\\_BMC.Med.Genomics.2011\\_PMID.21214954   & UNC\\_HS\\_Red17\\_BMC.Med.Genomics.2011\\_PMID.21214954   & 52/880 & 335/19993 & 1.882687e-15 & 1.245711e-13 & 9.479495e-14 & PDIA3/LMAN1/PPIB/JUND/CANX/ARF4/ARF1/P4HB/PJA2/TMCO3/TRAM1/SRPRA/CDV3/PSAP/MAP1LC3B/STX3/SSR1/CLIC4/RAB5A/KLF6/GCLM/PGM3/MBNL2/DNAJC10/CDYL/TRIM27/PPP1R2/YIPF5/EIF2S3/EHF/NEU1/RAB9A/RAB1A/CALU/PTP4A1/KPNA4/KIF5B/KDELR1/NFE2L2/SH3GLB1/TMOD3/TMED2/CREBZF/PPIF/UBE2D3/TKT/GNAI3/DDX3X/UBE2H/MAX/CBX4/CAPN7                                                                                                                                                                                                                                             & 52\\\\\n",
       "\\end{tabular}\n"
      ],
      "text/markdown": [
       "\n",
       "A data.frame: 6 × 9\n",
       "\n",
       "| <!--/--> | ID &lt;chr&gt; | Description &lt;chr&gt; | GeneRatio &lt;chr&gt; | BgRatio &lt;chr&gt; | pvalue &lt;dbl&gt; | p.adjust &lt;dbl&gt; | qvalue &lt;dbl&gt; | geneID &lt;chr&gt; | Count &lt;int&gt; |\n",
       "|---|---|---|---|---|---|---|---|---|---|\n",
       "| UNC_HS_Red22_BMC.Med.Genomics.2011_PMID.21214954 | UNC_HS_Red22_BMC.Med.Genomics.2011_PMID.21214954   | UNC_HS_Red22_BMC.Med.Genomics.2011_PMID.21214954   | 84/880 | 430/19993 | 1.492977e-31 | 5.927120e-29 | 4.510363e-29 | HSP90B1/SERP1/MTHFD2/GFPT1/ARFGAP3/KDELR2/RSL24D1/TMEM258/DNAJB9/CCPG1/TMED5/MAP1LC3B/SLK/IDI1/SEC24D/JMJD1C/UFM1/EIF5/EIF2AK3/TARS/MAPK6/HSPA13/ARCN1/ACBD3/COPB2/SEC61G/CYCS/PRELID3B/SRP19/LRIF1/ARL8B/MCFD2/ARL1/CHMP2B/TXNRD1/CALCOCO2/GHITM/SRP54/BNIP2/PPP1R2/TDG/RNF6/XPOT/RAB9A/NRBF2/SUCO/GOLT1B/TCEAL9/USO1/TMEM106B/KIF5B/USP16/CRY1/COPB1/PPP1CB/ZC3H15/CCDC47/ATG3/EXOSC8/SEC22B/CSGALNACT2/EMC2/BET1/ABI1/TIMM17A/CLINT1/TMEM39A/SPCS3/GNAI3/RAD23B/ADK/SCFD1/TERF2IP/BCAS2/ITGAV/INSIG2/SARAF/SELENOF/ABHD5/EIF1B/ATF2/TM9SF3/FEM1B/AIMP1 | 84 |\n",
       "| Duke_Module07_glucosedepletion_Mike_PMID.20335537 | Duke_Module07_glucosedepletion_Mike_PMID.20335537  | Duke_Module07_glucosedepletion_Mike_PMID.20335537  | 22/880 | 27/19993  | 7.333335e-26 | 1.455667e-23 | 1.107719e-23 | SLC3A2/HERPUD1/SDF2L1/HYOU1/EPRS/DNAJB9/MAP1LC3B/YARS/CLIC4/SEL1L/SLC38A2/IFRD1/CARS/DDIT4/KLHL24/CALU/HBP1/NFE2L1/TMEM106B/TERF2IP/WARS/SEC63                                                                                                                                                                                                                                                                                                                                                                                                            | 22 |\n",
       "| UNC_HS_Green16_BMC.Med.Genomics.2011_PMID.21214954 | UNC_HS_Green16_BMC.Med.Genomics.2011_PMID.21214954 | UNC_HS_Green16_BMC.Med.Genomics.2011_PMID.21214954 | 50/880 | 276/19993 | 9.896916e-18 | 1.309692e-15 | 9.966368e-16 | HSP90B1/GNL3/GOLGA4/RB1CC1/LRRFIP1/TMF1/GOLGB1/SLK/JMJD1C/CCDC186/TAX1BP1/CLIP1/CIR1/SMG1/DAAM1/TRIP11/ANKRD12/CHD9/ZNF91/KLHL24/RSF1/SREK1/DEK/UPF2/CCNL1/KIF5B/USP16/FNBP4/UPF3B/SRSF11/PPIG/RSRC2/ZC3H15/OFD1/EMC2/EIF4G3/PKN2/NKTR/USP1/PHF20L1/SHOC2/USP47/PFDN2/SELENOP/BTBD7/ANKRD11/HOOK1/BRWD1/CHORDC1/TWISTNB                                                                                                                                                                                                                                   | 50 |\n",
       "| UNC_Unknown_10_BMC.Med.Genomics.2011_PMID.21214954 | UNC_Unknown_10_BMC.Med.Genomics.2011_PMID.21214954 | UNC_Unknown_10_BMC.Med.Genomics.2011_PMID.21214954 | 17/880 | 29/19993  | 2.370459e-16 | 2.352681e-14 | 1.790320e-14 | PDIA3/PPIB/TMED9/KDELR2/SLC39A7/SRPRB/CKAP4/SEC61A1/COPB2/RPN1/GORASP2/COPG1/DAP/RABAC1/PDIA5/SEC13/YKT6                                                                                                                                                                                                                                                                                                                                                                                                                                                  | 17 |\n",
       "| Duke_Module05_egfr_Mike_PMID.20335537 | Duke_Module05_egfr_Mike_PMID.20335537              | Duke_Module05_egfr_Mike_PMID.20335537              | 48/880 | 281/19993 | 5.099745e-16 | 4.049197e-14 | 3.081319e-14 | SQLE/ATXN1/BTG1/VEGFA/STX3/CD44/HMGCR/GOLGA2/DUSP10/SEC31A/MAPK6/BNIP3L/SLC38A2/ACBD3/KLF6/INTS6/ARL8B/LRRFIP2/TSC22D1/DAAM1/CDYL/CEBPB/LDLR/DDIT4/WSB1/TRIB1/EHF/DST/BHLHE40/MAFF/CSNK1A1/CCNL1/NFKBIA/TNIP1/KMT2A/GADD45A/EFNA1/ZFP36/ISG20/RAB22A/SVIL/INSIG2/SLC2A1/SEC24A/GCLC/MACF1/FEM1B/N4BP1                                                                                                                                                                                                                                                     | 48 |\n",
       "| UNC_HS_Red17_BMC.Med.Genomics.2011_PMID.21214954 | UNC_HS_Red17_BMC.Med.Genomics.2011_PMID.21214954   | UNC_HS_Red17_BMC.Med.Genomics.2011_PMID.21214954   | 52/880 | 335/19993 | 1.882687e-15 | 1.245711e-13 | 9.479495e-14 | PDIA3/LMAN1/PPIB/JUND/CANX/ARF4/ARF1/P4HB/PJA2/TMCO3/TRAM1/SRPRA/CDV3/PSAP/MAP1LC3B/STX3/SSR1/CLIC4/RAB5A/KLF6/GCLM/PGM3/MBNL2/DNAJC10/CDYL/TRIM27/PPP1R2/YIPF5/EIF2S3/EHF/NEU1/RAB9A/RAB1A/CALU/PTP4A1/KPNA4/KIF5B/KDELR1/NFE2L2/SH3GLB1/TMOD3/TMED2/CREBZF/PPIF/UBE2D3/TKT/GNAI3/DDX3X/UBE2H/MAX/CBX4/CAPN7                                                                                                                                                                                                                                             | 52 |\n",
       "\n"
      ],
      "text/plain": [
       "                                                   ID                                                \n",
       "UNC_HS_Red22_BMC.Med.Genomics.2011_PMID.21214954   UNC_HS_Red22_BMC.Med.Genomics.2011_PMID.21214954  \n",
       "Duke_Module07_glucosedepletion_Mike_PMID.20335537  Duke_Module07_glucosedepletion_Mike_PMID.20335537 \n",
       "UNC_HS_Green16_BMC.Med.Genomics.2011_PMID.21214954 UNC_HS_Green16_BMC.Med.Genomics.2011_PMID.21214954\n",
       "UNC_Unknown_10_BMC.Med.Genomics.2011_PMID.21214954 UNC_Unknown_10_BMC.Med.Genomics.2011_PMID.21214954\n",
       "Duke_Module05_egfr_Mike_PMID.20335537              Duke_Module05_egfr_Mike_PMID.20335537             \n",
       "UNC_HS_Red17_BMC.Med.Genomics.2011_PMID.21214954   UNC_HS_Red17_BMC.Med.Genomics.2011_PMID.21214954  \n",
       "                                                   Description                                       \n",
       "UNC_HS_Red22_BMC.Med.Genomics.2011_PMID.21214954   UNC_HS_Red22_BMC.Med.Genomics.2011_PMID.21214954  \n",
       "Duke_Module07_glucosedepletion_Mike_PMID.20335537  Duke_Module07_glucosedepletion_Mike_PMID.20335537 \n",
       "UNC_HS_Green16_BMC.Med.Genomics.2011_PMID.21214954 UNC_HS_Green16_BMC.Med.Genomics.2011_PMID.21214954\n",
       "UNC_Unknown_10_BMC.Med.Genomics.2011_PMID.21214954 UNC_Unknown_10_BMC.Med.Genomics.2011_PMID.21214954\n",
       "Duke_Module05_egfr_Mike_PMID.20335537              Duke_Module05_egfr_Mike_PMID.20335537             \n",
       "UNC_HS_Red17_BMC.Med.Genomics.2011_PMID.21214954   UNC_HS_Red17_BMC.Med.Genomics.2011_PMID.21214954  \n",
       "                                                   GeneRatio BgRatio  \n",
       "UNC_HS_Red22_BMC.Med.Genomics.2011_PMID.21214954   84/880    430/19993\n",
       "Duke_Module07_glucosedepletion_Mike_PMID.20335537  22/880    27/19993 \n",
       "UNC_HS_Green16_BMC.Med.Genomics.2011_PMID.21214954 50/880    276/19993\n",
       "UNC_Unknown_10_BMC.Med.Genomics.2011_PMID.21214954 17/880    29/19993 \n",
       "Duke_Module05_egfr_Mike_PMID.20335537              48/880    281/19993\n",
       "UNC_HS_Red17_BMC.Med.Genomics.2011_PMID.21214954   52/880    335/19993\n",
       "                                                   pvalue       p.adjust    \n",
       "UNC_HS_Red22_BMC.Med.Genomics.2011_PMID.21214954   1.492977e-31 5.927120e-29\n",
       "Duke_Module07_glucosedepletion_Mike_PMID.20335537  7.333335e-26 1.455667e-23\n",
       "UNC_HS_Green16_BMC.Med.Genomics.2011_PMID.21214954 9.896916e-18 1.309692e-15\n",
       "UNC_Unknown_10_BMC.Med.Genomics.2011_PMID.21214954 2.370459e-16 2.352681e-14\n",
       "Duke_Module05_egfr_Mike_PMID.20335537              5.099745e-16 4.049197e-14\n",
       "UNC_HS_Red17_BMC.Med.Genomics.2011_PMID.21214954   1.882687e-15 1.245711e-13\n",
       "                                                   qvalue      \n",
       "UNC_HS_Red22_BMC.Med.Genomics.2011_PMID.21214954   4.510363e-29\n",
       "Duke_Module07_glucosedepletion_Mike_PMID.20335537  1.107719e-23\n",
       "UNC_HS_Green16_BMC.Med.Genomics.2011_PMID.21214954 9.966368e-16\n",
       "UNC_Unknown_10_BMC.Med.Genomics.2011_PMID.21214954 1.790320e-14\n",
       "Duke_Module05_egfr_Mike_PMID.20335537              3.081319e-14\n",
       "UNC_HS_Red17_BMC.Med.Genomics.2011_PMID.21214954   9.479495e-14\n",
       "                                                   geneID                                                                                                                                                                                                                                                                                                                                                                                                                                                                                                                                                   \n",
       "UNC_HS_Red22_BMC.Med.Genomics.2011_PMID.21214954   HSP90B1/SERP1/MTHFD2/GFPT1/ARFGAP3/KDELR2/RSL24D1/TMEM258/DNAJB9/CCPG1/TMED5/MAP1LC3B/SLK/IDI1/SEC24D/JMJD1C/UFM1/EIF5/EIF2AK3/TARS/MAPK6/HSPA13/ARCN1/ACBD3/COPB2/SEC61G/CYCS/PRELID3B/SRP19/LRIF1/ARL8B/MCFD2/ARL1/CHMP2B/TXNRD1/CALCOCO2/GHITM/SRP54/BNIP2/PPP1R2/TDG/RNF6/XPOT/RAB9A/NRBF2/SUCO/GOLT1B/TCEAL9/USO1/TMEM106B/KIF5B/USP16/CRY1/COPB1/PPP1CB/ZC3H15/CCDC47/ATG3/EXOSC8/SEC22B/CSGALNACT2/EMC2/BET1/ABI1/TIMM17A/CLINT1/TMEM39A/SPCS3/GNAI3/RAD23B/ADK/SCFD1/TERF2IP/BCAS2/ITGAV/INSIG2/SARAF/SELENOF/ABHD5/EIF1B/ATF2/TM9SF3/FEM1B/AIMP1\n",
       "Duke_Module07_glucosedepletion_Mike_PMID.20335537  SLC3A2/HERPUD1/SDF2L1/HYOU1/EPRS/DNAJB9/MAP1LC3B/YARS/CLIC4/SEL1L/SLC38A2/IFRD1/CARS/DDIT4/KLHL24/CALU/HBP1/NFE2L1/TMEM106B/TERF2IP/WARS/SEC63                                                                                                                                                                                                                                                                                                                                                                                                           \n",
       "UNC_HS_Green16_BMC.Med.Genomics.2011_PMID.21214954 HSP90B1/GNL3/GOLGA4/RB1CC1/LRRFIP1/TMF1/GOLGB1/SLK/JMJD1C/CCDC186/TAX1BP1/CLIP1/CIR1/SMG1/DAAM1/TRIP11/ANKRD12/CHD9/ZNF91/KLHL24/RSF1/SREK1/DEK/UPF2/CCNL1/KIF5B/USP16/FNBP4/UPF3B/SRSF11/PPIG/RSRC2/ZC3H15/OFD1/EMC2/EIF4G3/PKN2/NKTR/USP1/PHF20L1/SHOC2/USP47/PFDN2/SELENOP/BTBD7/ANKRD11/HOOK1/BRWD1/CHORDC1/TWISTNB                                                                                                                                                                                                                                  \n",
       "UNC_Unknown_10_BMC.Med.Genomics.2011_PMID.21214954 PDIA3/PPIB/TMED9/KDELR2/SLC39A7/SRPRB/CKAP4/SEC61A1/COPB2/RPN1/GORASP2/COPG1/DAP/RABAC1/PDIA5/SEC13/YKT6                                                                                                                                                                                                                                                                                                                                                                                                                                                 \n",
       "Duke_Module05_egfr_Mike_PMID.20335537              SQLE/ATXN1/BTG1/VEGFA/STX3/CD44/HMGCR/GOLGA2/DUSP10/SEC31A/MAPK6/BNIP3L/SLC38A2/ACBD3/KLF6/INTS6/ARL8B/LRRFIP2/TSC22D1/DAAM1/CDYL/CEBPB/LDLR/DDIT4/WSB1/TRIB1/EHF/DST/BHLHE40/MAFF/CSNK1A1/CCNL1/NFKBIA/TNIP1/KMT2A/GADD45A/EFNA1/ZFP36/ISG20/RAB22A/SVIL/INSIG2/SLC2A1/SEC24A/GCLC/MACF1/FEM1B/N4BP1                                                                                                                                                                                                                                                    \n",
       "UNC_HS_Red17_BMC.Med.Genomics.2011_PMID.21214954   PDIA3/LMAN1/PPIB/JUND/CANX/ARF4/ARF1/P4HB/PJA2/TMCO3/TRAM1/SRPRA/CDV3/PSAP/MAP1LC3B/STX3/SSR1/CLIC4/RAB5A/KLF6/GCLM/PGM3/MBNL2/DNAJC10/CDYL/TRIM27/PPP1R2/YIPF5/EIF2S3/EHF/NEU1/RAB9A/RAB1A/CALU/PTP4A1/KPNA4/KIF5B/KDELR1/NFE2L2/SH3GLB1/TMOD3/TMED2/CREBZF/PPIF/UBE2D3/TKT/GNAI3/DDX3X/UBE2H/MAX/CBX4/CAPN7                                                                                                                                                                                                                                            \n",
       "                                                   Count\n",
       "UNC_HS_Red22_BMC.Med.Genomics.2011_PMID.21214954   84   \n",
       "Duke_Module07_glucosedepletion_Mike_PMID.20335537  22   \n",
       "UNC_HS_Green16_BMC.Med.Genomics.2011_PMID.21214954 50   \n",
       "UNC_Unknown_10_BMC.Med.Genomics.2011_PMID.21214954 17   \n",
       "Duke_Module05_egfr_Mike_PMID.20335537              48   \n",
       "UNC_HS_Red17_BMC.Med.Genomics.2011_PMID.21214954   52   "
      ]
     },
     "metadata": {},
     "output_type": "display_data"
    },
    {
     "data": {
      "text/html": [
       "<style>\n",
       ".list-inline {list-style: none; margin:0; padding: 0}\n",
       ".list-inline>li {display: inline-block}\n",
       ".list-inline>li:not(:last-child)::after {content: \"\\00b7\"; padding: 0 .5ex}\n",
       "</style>\n",
       "<ol class=list-inline><li>74</li><li>9</li></ol>\n"
      ],
      "text/latex": [
       "\\begin{enumerate*}\n",
       "\\item 74\n",
       "\\item 9\n",
       "\\end{enumerate*}\n"
      ],
      "text/markdown": [
       "1. 74\n",
       "2. 9\n",
       "\n",
       "\n"
      ],
      "text/plain": [
       "[1] 74  9"
      ]
     },
     "metadata": {},
     "output_type": "display_data"
    },
    {
     "data": {
      "text/html": [
       "filename_xlsx: xlsx/er+bc-pairs_cluster2_vs_cluster12_Tumor_cells.xlsx\n"
      ]
     },
     "metadata": {},
     "output_type": "display_data"
    },
    {
     "data": {
      "text/html": [
       "filename_figure: heatmap_er+bc-pairs_cluster2_vs_cluster12_Tumor_cells_zscore\n"
      ]
     },
     "metadata": {},
     "output_type": "display_data"
    },
    {
     "data": {
      "image/png": "[encoded data removed]",
      "text/plain": [
       "plot without title"
      ]
     },
     "metadata": {
      "image/png": {
       "height": 240,
       "width": 240
      }
     },
     "output_type": "display_data"
    }
   ],
   "source": [
    "\n",
    "list_markers <- find_markers(rna, sample1 = sample1,\n",
    "                        sample_ref = sample_ref,\n",
    "                        pattern_sample1 = pattern_sample1,\n",
    "                        pattern_sample_ref = pattern_sample_ref,\n",
    "                             \n",
    "                        # pattern_tumor_epi     \n",
    "                        pattern_cell_type1 = pattern_tumor_epi,\n",
    "                        pattern_cell_type_ref = pattern_tumor_epi,\n",
    "                             \n",
    "                        # cluster number\n",
    "                        str_column_of_meta_data_cluster = str_column_of_meta_data_cluster,\n",
    "                        clusters1 = clusters1,\n",
    "                        clusters_ref = clusters_ref,\n",
    "                             \n",
    "                        group_name1 = sprintf(\"%s Tumor cells\", group_name1),\n",
    "                        group_name_ref = sprintf(\"%s Tumor cells\", group_name_ref),\n",
    "                        col_cluster_types = col_cluster_types_,\n",
    "                        col_cell_types = col_cell_types_,\n",
    "                        th_log2fc = th_log2fc_,\n",
    "                        th_padj = th_padj_, \n",
    "                        min.pct = min.pct_,\n",
    "                        min.diff.pct = min.diff.pct_,\n",
    "                        max.cells.per.ident = max.cells.per.ident_,\n",
    "                        method_dge = method_dge)\n",
    "\n",
    "str_condition_tmp <- sprintf(\"%s_%s_vs_%s_Tumor cells\",\n",
    "                             str_condition,\n",
    "                             group_name_ref, group_name1)\n",
    "\n",
    "if (type_condition != \"none\") {\n",
    "          str_condition_tmp <- sprintf(\"%s_%s\", str_condition_tmp, type_condition)\n",
    "}\n",
    "\n",
    "list_ea <- execute_enrichment_analysis(list_markers$markers,\n",
    "                        str_condition_tmp,\n",
    "                        th_log2fc = th_log2fc_,\n",
    "                        th_padj = th_padj_,\n",
    "                        method_dge = method_dge,\n",
    "                        dir_xlsx = dir_xlsx,       \n",
    "                        n_log = 1)\n",
    "\n",
    "\n",
    "genes_up <- rownames(list_ea$df_up)\n",
    "genes_dn <- rownames(list_ea$df_dn)\n",
    "list_genes_dn[[\"Epi\"]] <- genes_dn\n",
    "\n",
    "if (f_featureplot) {\n",
    "    gg <- featureplot_enrichment_analysis(rna,\n",
    "                list_ea,\n",
    "                str_condition_tmp)\n",
    "}\n",
    "\n",
    "list_out_heatmap <- heatmap_enrichment_analysis(list_markers,\n",
    "                    list_ea,\n",
    "                    str_condition_tmp,\n",
    "                    pattern_gene_removal=\"^MT-|^RPS|^RPL\",\n",
    "                    max_up=5, max_dn=5,\n",
    "                    n_sampling=n_sampling,\n",
    "                    cluster_rows=cluster_rows)\n",
    "\n"
   ]
  },
  {
   "cell_type": "markdown",
   "id": "c187225b",
   "metadata": {},
   "source": [
    "## cluster 2 vs. cluster 19"
   ]
  },
  {
   "cell_type": "code",
   "execution_count": 25,
   "id": "e3196083",
   "metadata": {},
   "outputs": [],
   "source": [
    "# tumor pairs with large differences\n",
    "\n",
    "sample1 <- NULL\n",
    "sample_ref <- NULL\n",
    "\n",
    "th_log2fc_=0.25; th_padj_=0.01\n",
    "min.pct_=0.25; min.diff.pct_=-Inf; max.cells.per.ident_=Inf\n",
    "\n",
    "f_featureplot=FALSE\n",
    "n_sampling=-1\n",
    "cluster_rows=FALSE\n",
    "\n",
    "pattern_sample1 <- \"Tamoxifen\"\n",
    "pattern_sample_ref <- \"Tamoxifen\"\n",
    "\n",
    "drug_name <- \"tamoxifen\"\n",
    "\n",
    "#clusters1 <- c(3)  # 2 vs. 3 LumA, n=865\n",
    "#clusters1 <- c(12)  # 2 vs. 12 LumA, n=345\n",
    "#clusters1 <- c(3,12)  # 2 vs. (3+12) LumA, n=1210\n",
    "clusters1 <- c(19)  # 2 vs. 19 LumB, n=100\n",
    "\n",
    "clusters_ref <- c(2) # reponsive, n=2100\n",
    "\n",
    "group_name1 <- sprintf(\"cluster%s\", paste(clusters1, collapse=\",\"))\n",
    "group_name_ref <- sprintf(\"cluster%s\", paste(clusters_ref, collapse=\",\"))\n",
    "\n",
    "col_cluster_types_ <- NULL\n",
    "col_cell_types_ <- \"cell.type\"\n",
    "\n"
   ]
  },
  {
   "cell_type": "code",
   "execution_count": 26,
   "id": "9f149986",
   "metadata": {},
   "outputs": [
    {
     "name": "stdout",
     "output_type": "stream",
     "text": [
      "drug_name=tamoxifen\n",
      "pattern_sample1=Tamoxifen\n",
      "pattern_sample_ref=Tamoxifen\n",
      "\t\tgroup_name1=cluster19\n",
      "\t\tgroup_name_ref=cluster2\n",
      "\t\tcol_cell_types_=cell.type\n",
      "\t\tth_log2fc=0.25\n",
      "\t\tth_padj=0.01\n",
      "\t\tmin.pct=0.25\n",
      "\t\tmin.diff.pct=-Inf\n",
      "\t\tmax.cells.per.ident=Inf\n",
      "\t\tmethod_dge=seurat_findmarkers_enricher\n",
      "\t\ttype_condition=none\n",
      "\t\tgenes=\n"
     ]
    }
   ],
   "source": [
    "\n",
    "cat(sprintf(\"sample1=%s\\n\", sample1))\n",
    "cat(sprintf(\"sample_ref=%s\\n\", sample_ref))\n",
    "\n",
    "cat(sprintf(\"drug_name=%s\\n\", drug_name))\n",
    "cat(sprintf(\"pattern_sample1=%s\\n\", pattern_sample1))\n",
    "cat(sprintf(\"pattern_sample_ref=%s\\n\", pattern_sample_ref))\n",
    "\n",
    "    cat(sprintf(\"\\t\\tgroup_name1=%s\\n\", group_name1))\n",
    "    cat(sprintf(\"\\t\\tgroup_name_ref=%s\\n\", group_name_ref))\n",
    "    cat(sprintf(\"\\t\\tcol_cluster_types_=%s\\n\", col_cluster_types_))\n",
    "    cat(sprintf(\"\\t\\tcol_cell_types_=%s\\n\", col_cell_types_))\n",
    "\n",
    "    cat(sprintf(\"\\t\\tth_log2fc=%g\\n\", th_log2fc_))\n",
    "    cat(sprintf(\"\\t\\tth_padj=%g\\n\", th_padj_))\n",
    "    cat(sprintf(\"\\t\\tmin.pct=%g\\n\", min.pct_))\n",
    "    cat(sprintf(\"\\t\\tmin.diff.pct=%g\\n\", min.diff.pct_))\n",
    "    cat(sprintf(\"\\t\\tmax.cells.per.ident=%g\\n\", max.cells.per.ident_))\n",
    "    cat(sprintf(\"\\t\\tmethod_dge=%s\\n\", method_dge))\n",
    "\n",
    "    cat(sprintf(\"\\t\\ttype_condition=%s\\n\", type_condition))\n",
    "    cat(sprintf(\"\\t\\tgenes=%s\\n\", paste(genes, collapse=\", \")))\n",
    "    cat(sprintf(\"\\t\\tstr_cond1=%s\\n\", str_cond1))\n",
    "    cat(sprintf(\"\\t\\tstr_cond_ref=%s\\n\", str_cond_ref))\n",
    "\n"
   ]
  },
  {
   "cell_type": "code",
   "execution_count": 27,
   "id": "b972b452",
   "metadata": {
    "scrolled": false
   },
   "outputs": [
    {
     "data": {
      "text/html": [
       "seurat_findmarkers_enricher<br>&nbsp;&nbsp;&nbsp;&nbsp;&nbsp;&nbsp;&nbsp;&nbsp;col_log2fc=avg_log2FC<br>&nbsp;&nbsp;&nbsp;&nbsp;&nbsp;&nbsp;&nbsp;&nbsp;col_pvalue=p_val<br>&nbsp;&nbsp;&nbsp;&nbsp;&nbsp;&nbsp;&nbsp;&nbsp;col_padj=p_val_adj<br>&nbsp;&nbsp;&nbsp;&nbsp;&nbsp;&nbsp;&nbsp;&nbsp;th_log2fc=0.25<br>&nbsp;&nbsp;&nbsp;&nbsp;&nbsp;&nbsp;&nbsp;&nbsp;th_padj=0.01<br>"
      ]
     },
     "metadata": {},
     "output_type": "display_data"
    },
    {
     "data": {
      "text/html": [
       "df_up"
      ]
     },
     "metadata": {},
     "output_type": "display_data"
    },
    {
     "data": {
      "text/html": [
       "<table class=\"dataframe\">\n",
       "<caption>A data.frame: 6 × 8</caption>\n",
       "<thead>\n",
       "\t<tr><th></th><th scope=col>p_val</th><th scope=col>avg_log2FC</th><th scope=col>pct.1</th><th scope=col>pct.2</th><th scope=col>p_val_adj</th><th scope=col>expr_min</th><th scope=col>expr_mean</th><th scope=col>expr_max</th></tr>\n",
       "\t<tr><th></th><th scope=col>&lt;dbl&gt;</th><th scope=col>&lt;dbl&gt;</th><th scope=col>&lt;dbl&gt;</th><th scope=col>&lt;dbl&gt;</th><th scope=col>&lt;dbl&gt;</th><th scope=col>&lt;dbl&gt;</th><th scope=col>&lt;dbl&gt;</th><th scope=col>&lt;dbl&gt;</th></tr>\n",
       "</thead>\n",
       "<tbody>\n",
       "\t<tr><th scope=row>TOP2A</th><td> 0.000000e+00</td><td>1.1593298</td><td>0.879</td><td>0.006</td><td> 0.000000e+00</td><td> 0.0000000</td><td>0.6901799</td><td>1.926897</td></tr>\n",
       "\t<tr><th scope=row>CDK1</th><td>4.990633e-295</td><td>0.7414686</td><td>0.758</td><td>0.005</td><td>1.213023e-290</td><td> 0.0000000</td><td>0.4399324</td><td>1.545767</td></tr>\n",
       "\t<tr><th scope=row>MKI67</th><td>5.111039e-279</td><td>0.9043770</td><td>0.736</td><td>0.006</td><td>1.242289e-274</td><td> 0.0000000</td><td>0.5036200</td><td>1.937559</td></tr>\n",
       "\t<tr><th scope=row>UBE2C</th><td>4.385772e-273</td><td>1.3403507</td><td>0.780</td><td>0.007</td><td>1.066006e-268</td><td>-0.1252316</td><td>0.7045849</td><td>2.829597</td></tr>\n",
       "\t<tr><th scope=row>TPX2</th><td>3.843025e-228</td><td>0.9929080</td><td>0.780</td><td>0.019</td><td>9.340858e-224</td><td> 0.0000000</td><td>0.5825409</td><td>1.611600</td></tr>\n",
       "\t<tr><th scope=row>BIRC5</th><td>1.418652e-226</td><td>0.6672713</td><td>0.769</td><td>0.007</td><td>3.448175e-222</td><td>-0.2148748</td><td>0.3977608</td><td>1.383496</td></tr>\n",
       "</tbody>\n",
       "</table>\n"
      ],
      "text/latex": [
       "A data.frame: 6 × 8\n",
       "\\begin{tabular}{r|llllllll}\n",
       "  & p\\_val & avg\\_log2FC & pct.1 & pct.2 & p\\_val\\_adj & expr\\_min & expr\\_mean & expr\\_max\\\\\n",
       "  & <dbl> & <dbl> & <dbl> & <dbl> & <dbl> & <dbl> & <dbl> & <dbl>\\\\\n",
       "\\hline\n",
       "\tTOP2A &  0.000000e+00 & 1.1593298 & 0.879 & 0.006 &  0.000000e+00 &  0.0000000 & 0.6901799 & 1.926897\\\\\n",
       "\tCDK1 & 4.990633e-295 & 0.7414686 & 0.758 & 0.005 & 1.213023e-290 &  0.0000000 & 0.4399324 & 1.545767\\\\\n",
       "\tMKI67 & 5.111039e-279 & 0.9043770 & 0.736 & 0.006 & 1.242289e-274 &  0.0000000 & 0.5036200 & 1.937559\\\\\n",
       "\tUBE2C & 4.385772e-273 & 1.3403507 & 0.780 & 0.007 & 1.066006e-268 & -0.1252316 & 0.7045849 & 2.829597\\\\\n",
       "\tTPX2 & 3.843025e-228 & 0.9929080 & 0.780 & 0.019 & 9.340858e-224 &  0.0000000 & 0.5825409 & 1.611600\\\\\n",
       "\tBIRC5 & 1.418652e-226 & 0.6672713 & 0.769 & 0.007 & 3.448175e-222 & -0.2148748 & 0.3977608 & 1.383496\\\\\n",
       "\\end{tabular}\n"
      ],
      "text/markdown": [
       "\n",
       "A data.frame: 6 × 8\n",
       "\n",
       "| <!--/--> | p_val &lt;dbl&gt; | avg_log2FC &lt;dbl&gt; | pct.1 &lt;dbl&gt; | pct.2 &lt;dbl&gt; | p_val_adj &lt;dbl&gt; | expr_min &lt;dbl&gt; | expr_mean &lt;dbl&gt; | expr_max &lt;dbl&gt; |\n",
       "|---|---|---|---|---|---|---|---|---|\n",
       "| TOP2A |  0.000000e+00 | 1.1593298 | 0.879 | 0.006 |  0.000000e+00 |  0.0000000 | 0.6901799 | 1.926897 |\n",
       "| CDK1 | 4.990633e-295 | 0.7414686 | 0.758 | 0.005 | 1.213023e-290 |  0.0000000 | 0.4399324 | 1.545767 |\n",
       "| MKI67 | 5.111039e-279 | 0.9043770 | 0.736 | 0.006 | 1.242289e-274 |  0.0000000 | 0.5036200 | 1.937559 |\n",
       "| UBE2C | 4.385772e-273 | 1.3403507 | 0.780 | 0.007 | 1.066006e-268 | -0.1252316 | 0.7045849 | 2.829597 |\n",
       "| TPX2 | 3.843025e-228 | 0.9929080 | 0.780 | 0.019 | 9.340858e-224 |  0.0000000 | 0.5825409 | 1.611600 |\n",
       "| BIRC5 | 1.418652e-226 | 0.6672713 | 0.769 | 0.007 | 3.448175e-222 | -0.2148748 | 0.3977608 | 1.383496 |\n",
       "\n"
      ],
      "text/plain": [
       "      p_val         avg_log2FC pct.1 pct.2 p_val_adj     expr_min   expr_mean\n",
       "TOP2A  0.000000e+00 1.1593298  0.879 0.006  0.000000e+00  0.0000000 0.6901799\n",
       "CDK1  4.990633e-295 0.7414686  0.758 0.005 1.213023e-290  0.0000000 0.4399324\n",
       "MKI67 5.111039e-279 0.9043770  0.736 0.006 1.242289e-274  0.0000000 0.5036200\n",
       "UBE2C 4.385772e-273 1.3403507  0.780 0.007 1.066006e-268 -0.1252316 0.7045849\n",
       "TPX2  3.843025e-228 0.9929080  0.780 0.019 9.340858e-224  0.0000000 0.5825409\n",
       "BIRC5 1.418652e-226 0.6672713  0.769 0.007 3.448175e-222 -0.2148748 0.3977608\n",
       "      expr_max\n",
       "TOP2A 1.926897\n",
       "CDK1  1.545767\n",
       "MKI67 1.937559\n",
       "UBE2C 2.829597\n",
       "TPX2  1.611600\n",
       "BIRC5 1.383496"
      ]
     },
     "metadata": {},
     "output_type": "display_data"
    },
    {
     "data": {
      "text/html": [
       "<style>\n",
       ".list-inline {list-style: none; margin:0; padding: 0}\n",
       ".list-inline>li {display: inline-block}\n",
       ".list-inline>li:not(:last-child)::after {content: \"\\00b7\"; padding: 0 .5ex}\n",
       "</style>\n",
       "<ol class=list-inline><li>418</li><li>8</li></ol>\n"
      ],
      "text/latex": [
       "\\begin{enumerate*}\n",
       "\\item 418\n",
       "\\item 8\n",
       "\\end{enumerate*}\n"
      ],
      "text/markdown": [
       "1. 418\n",
       "2. 8\n",
       "\n",
       "\n"
      ],
      "text/plain": [
       "[1] 418   8"
      ]
     },
     "metadata": {},
     "output_type": "display_data"
    },
    {
     "data": {
      "text/html": [
       "df_dn"
      ]
     },
     "metadata": {},
     "output_type": "display_data"
    },
    {
     "data": {
      "text/html": [
       "<table class=\"dataframe\">\n",
       "<caption>A data.frame: 6 × 8</caption>\n",
       "<thead>\n",
       "\t<tr><th></th><th scope=col>p_val</th><th scope=col>avg_log2FC</th><th scope=col>pct.1</th><th scope=col>pct.2</th><th scope=col>p_val_adj</th><th scope=col>expr_min</th><th scope=col>expr_mean</th><th scope=col>expr_max</th></tr>\n",
       "\t<tr><th></th><th scope=col>&lt;dbl&gt;</th><th scope=col>&lt;dbl&gt;</th><th scope=col>&lt;dbl&gt;</th><th scope=col>&lt;dbl&gt;</th><th scope=col>&lt;dbl&gt;</th><th scope=col>&lt;dbl&gt;</th><th scope=col>&lt;dbl&gt;</th><th scope=col>&lt;dbl&gt;</th></tr>\n",
       "</thead>\n",
       "<tbody>\n",
       "\t<tr><th scope=row>MTRNR2L8</th><td>2.210859e-33</td><td>-1.6140513</td><td>0.549</td><td>1.000</td><td>5.373713e-29</td><td>0.000000</td><td>1.2683929</td><td>3.246989</td></tr>\n",
       "\t<tr><th scope=row>NUPR1</th><td>8.225728e-28</td><td>-1.1553518</td><td>0.648</td><td>1.000</td><td>1.999346e-23</td><td>0.000000</td><td>1.6534718</td><td>3.398099</td></tr>\n",
       "\t<tr><th scope=row>PDIA3</th><td>3.311991e-26</td><td>-0.9265955</td><td>0.890</td><td>0.976</td><td>8.050126e-22</td><td>0.000000</td><td>0.9399822</td><td>1.924883</td></tr>\n",
       "\t<tr><th scope=row>SERP1</th><td>1.753406e-25</td><td>-0.7642184</td><td>1.000</td><td>0.998</td><td>4.261830e-21</td><td>1.122851</td><td>2.1751693</td><td>3.015434</td></tr>\n",
       "\t<tr><th scope=row>HSPA5</th><td>2.985320e-25</td><td>-1.1131688</td><td>0.868</td><td>0.998</td><td>7.256120e-21</td><td>0.000000</td><td>1.6558417</td><td>4.022385</td></tr>\n",
       "\t<tr><th scope=row>SNHG8</th><td>5.763676e-24</td><td>-1.0162771</td><td>0.846</td><td>0.994</td><td>1.400919e-19</td><td>0.000000</td><td>1.4529309</td><td>2.854998</td></tr>\n",
       "</tbody>\n",
       "</table>\n"
      ],
      "text/latex": [
       "A data.frame: 6 × 8\n",
       "\\begin{tabular}{r|llllllll}\n",
       "  & p\\_val & avg\\_log2FC & pct.1 & pct.2 & p\\_val\\_adj & expr\\_min & expr\\_mean & expr\\_max\\\\\n",
       "  & <dbl> & <dbl> & <dbl> & <dbl> & <dbl> & <dbl> & <dbl> & <dbl>\\\\\n",
       "\\hline\n",
       "\tMTRNR2L8 & 2.210859e-33 & -1.6140513 & 0.549 & 1.000 & 5.373713e-29 & 0.000000 & 1.2683929 & 3.246989\\\\\n",
       "\tNUPR1 & 8.225728e-28 & -1.1553518 & 0.648 & 1.000 & 1.999346e-23 & 0.000000 & 1.6534718 & 3.398099\\\\\n",
       "\tPDIA3 & 3.311991e-26 & -0.9265955 & 0.890 & 0.976 & 8.050126e-22 & 0.000000 & 0.9399822 & 1.924883\\\\\n",
       "\tSERP1 & 1.753406e-25 & -0.7642184 & 1.000 & 0.998 & 4.261830e-21 & 1.122851 & 2.1751693 & 3.015434\\\\\n",
       "\tHSPA5 & 2.985320e-25 & -1.1131688 & 0.868 & 0.998 & 7.256120e-21 & 0.000000 & 1.6558417 & 4.022385\\\\\n",
       "\tSNHG8 & 5.763676e-24 & -1.0162771 & 0.846 & 0.994 & 1.400919e-19 & 0.000000 & 1.4529309 & 2.854998\\\\\n",
       "\\end{tabular}\n"
      ],
      "text/markdown": [
       "\n",
       "A data.frame: 6 × 8\n",
       "\n",
       "| <!--/--> | p_val &lt;dbl&gt; | avg_log2FC &lt;dbl&gt; | pct.1 &lt;dbl&gt; | pct.2 &lt;dbl&gt; | p_val_adj &lt;dbl&gt; | expr_min &lt;dbl&gt; | expr_mean &lt;dbl&gt; | expr_max &lt;dbl&gt; |\n",
       "|---|---|---|---|---|---|---|---|---|\n",
       "| MTRNR2L8 | 2.210859e-33 | -1.6140513 | 0.549 | 1.000 | 5.373713e-29 | 0.000000 | 1.2683929 | 3.246989 |\n",
       "| NUPR1 | 8.225728e-28 | -1.1553518 | 0.648 | 1.000 | 1.999346e-23 | 0.000000 | 1.6534718 | 3.398099 |\n",
       "| PDIA3 | 3.311991e-26 | -0.9265955 | 0.890 | 0.976 | 8.050126e-22 | 0.000000 | 0.9399822 | 1.924883 |\n",
       "| SERP1 | 1.753406e-25 | -0.7642184 | 1.000 | 0.998 | 4.261830e-21 | 1.122851 | 2.1751693 | 3.015434 |\n",
       "| HSPA5 | 2.985320e-25 | -1.1131688 | 0.868 | 0.998 | 7.256120e-21 | 0.000000 | 1.6558417 | 4.022385 |\n",
       "| SNHG8 | 5.763676e-24 | -1.0162771 | 0.846 | 0.994 | 1.400919e-19 | 0.000000 | 1.4529309 | 2.854998 |\n",
       "\n"
      ],
      "text/plain": [
       "         p_val        avg_log2FC pct.1 pct.2 p_val_adj    expr_min expr_mean\n",
       "MTRNR2L8 2.210859e-33 -1.6140513 0.549 1.000 5.373713e-29 0.000000 1.2683929\n",
       "NUPR1    8.225728e-28 -1.1553518 0.648 1.000 1.999346e-23 0.000000 1.6534718\n",
       "PDIA3    3.311991e-26 -0.9265955 0.890 0.976 8.050126e-22 0.000000 0.9399822\n",
       "SERP1    1.753406e-25 -0.7642184 1.000 0.998 4.261830e-21 1.122851 2.1751693\n",
       "HSPA5    2.985320e-25 -1.1131688 0.868 0.998 7.256120e-21 0.000000 1.6558417\n",
       "SNHG8    5.763676e-24 -1.0162771 0.846 0.994 1.400919e-19 0.000000 1.4529309\n",
       "         expr_max\n",
       "MTRNR2L8 3.246989\n",
       "NUPR1    3.398099\n",
       "PDIA3    1.924883\n",
       "SERP1    3.015434\n",
       "HSPA5    4.022385\n",
       "SNHG8    2.854998"
      ]
     },
     "metadata": {},
     "output_type": "display_data"
    },
    {
     "data": {
      "text/html": [
       "<style>\n",
       ".list-inline {list-style: none; margin:0; padding: 0}\n",
       ".list-inline>li {display: inline-block}\n",
       ".list-inline>li:not(:last-child)::after {content: \"\\00b7\"; padding: 0 .5ex}\n",
       "</style>\n",
       "<ol class=list-inline><li>188</li><li>8</li></ol>\n"
      ],
      "text/latex": [
       "\\begin{enumerate*}\n",
       "\\item 188\n",
       "\\item 8\n",
       "\\end{enumerate*}\n"
      ],
      "text/markdown": [
       "1. 188\n",
       "2. 8\n",
       "\n",
       "\n"
      ],
      "text/plain": [
       "[1] 188   8"
      ]
     },
     "metadata": {},
     "output_type": "display_data"
    },
    {
     "data": {
      "text/html": [
       "<hr style=\"height:1px\">"
      ]
     },
     "metadata": {},
     "output_type": "display_data"
    },
    {
     "data": {
      "text/html": [
       "up h"
      ]
     },
     "metadata": {},
     "output_type": "display_data"
    },
    {
     "data": {
      "text/html": [
       "<table class=\"dataframe\">\n",
       "<caption>A data.frame: 6 × 9</caption>\n",
       "<thead>\n",
       "\t<tr><th></th><th scope=col>ID</th><th scope=col>Description</th><th scope=col>GeneRatio</th><th scope=col>BgRatio</th><th scope=col>pvalue</th><th scope=col>p.adjust</th><th scope=col>qvalue</th><th scope=col>geneID</th><th scope=col>Count</th></tr>\n",
       "\t<tr><th></th><th scope=col>&lt;chr&gt;</th><th scope=col>&lt;chr&gt;</th><th scope=col>&lt;chr&gt;</th><th scope=col>&lt;chr&gt;</th><th scope=col>&lt;dbl&gt;</th><th scope=col>&lt;dbl&gt;</th><th scope=col>&lt;dbl&gt;</th><th scope=col>&lt;chr&gt;</th><th scope=col>&lt;int&gt;</th></tr>\n",
       "</thead>\n",
       "<tbody>\n",
       "\t<tr><th scope=row>HALLMARK_G2M_CHECKPOINT</th><td>HALLMARK_G2M_CHECKPOINT  </td><td>HALLMARK_G2M_CHECKPOINT  </td><td>62/249</td><td>200/4386</td><td>1.767233e-31</td><td>8.305996e-30</td><td>7.254957e-30</td><td>TOP2A/CDK1/MKI67/UBE2C/TPX2/BIRC5/CENPF/NEK2/PRC1/MYBL2/PBK/TROAP/KIF4A/KIF11/CCNB2/CDC20/MAD2L1/KIF2C/HMMR/CCNA2/E2F1/KIF23/NUSAP1/CENPA/ORC6/RACGAP1/CHEK1/PLK1/AURKA/PTTG1/CKS2/KIF20B/BARD1/CENPE/HMGB3/STMN1/CDC25B/SMC4/UBE2S/SMC2/MCM3/HIF1A/TMPO/HMGN2/CCND1/DTYMK/CDKN3/SNRPD1/H2AFZ/SAP30/SLC12A2/SRSF2/ODC1/KPNA2/BCL3/XPO1/TFDP1/H2AFV/HSPA8/NASP/SFPQ/CKS1B</td><td>62</td></tr>\n",
       "\t<tr><th scope=row>HALLMARK_E2F_TARGETS</th><td>HALLMARK_E2F_TARGETS     </td><td>HALLMARK_E2F_TARGETS     </td><td>61/249</td><td>200/4386</td><td>1.682299e-30</td><td>3.953403e-29</td><td>3.453141e-29</td><td>TOP2A/CDK1/MKI67/BIRC5/SPC25/MYBL2/KIF4A/UBE2T/DIAPH3/CCNB2/CDC20/MAD2L1/KIF2C/HMMR/RRM2/TK1/HELLS/RAD51AP1/ORC6/RACGAP1/CHEK1/PLK1/AURKA/ATAD2/PTTG1/CKS2/HMGB2/BARD1/CENPE/RFC3/HMGB3/STMN1/CDCA8/BRCA1/CDC25B/DUT/SMC4/UBE2S/MCM3/TMPO/ANP32E/CDKN3/H2AFZ/CSE1L/RPA3/RANBP1/CENPM/TUBG1/TUBB/SRSF2/RAN/KPNA2/NME1/SNRPB/XPO1/PCNA/PA2G4/MCM4/NASP/CKS1B/DNMT1        </td><td>61</td></tr>\n",
       "\t<tr><th scope=row>HALLMARK_MYC_TARGETS_V1</th><td>HALLMARK_MYC_TARGETS_V1  </td><td>HALLMARK_MYC_TARGETS_V1  </td><td>40/249</td><td>200/4386</td><td>5.295716e-13</td><td>8.296622e-12</td><td>7.246769e-12</td><td>CDC20/MAD2L1/CCNA2/TYMS/DUT/RRM1/SNRPD1/H2AFZ/PPIA/HNRNPA2B1/RANBP1/PSMA7/SRSF2/RAN/CBX3/SRSF3/ODC1/KPNA2/PSMB3/LDHA/NME1/SRSF7/PSMA4/PSMA2/XPO1/COX5A/CCT2/PCNA/PSMD1/LSM2/SSBP1/TFDP1/ERH/PA2G4/C1QBP/HDAC2/MCM4/SNRPD2/HSPE1/SET                                                                                                                                     </td><td>40</td></tr>\n",
       "\t<tr><th scope=row>HALLMARK_MITOTIC_SPINDLE</th><td>HALLMARK_MITOTIC_SPINDLE </td><td>HALLMARK_MITOTIC_SPINDLE </td><td>28/249</td><td>200/4386</td><td>5.671408e-06</td><td>6.663904e-05</td><td>5.820655e-05</td><td>TOP2A/CDK1/TPX2/BIRC5/ANLN/CENPF/NEK2/PRC1/KIF4A/KIF11/CCNB2/KIF2C/KIF23/NUSAP1/RACGAP1/PLK1/AURKA/KIF20B/CENPE/ECT2/SMC4/NET1/CDC42EP4/FLNA/CKAP5/PDLIM5/SSH2/ARF6                                                                                                                                                                                                     </td><td>28</td></tr>\n",
       "\t<tr><th scope=row>HALLMARK_MTORC1_SIGNALING</th><td>HALLMARK_MTORC1_SIGNALING</td><td>HALLMARK_MTORC1_SIGNALING</td><td>22/249</td><td>200/4386</td><td>1.882983e-03</td><td>1.770004e-02</td><td>1.546028e-02</td><td>RRM2/PLK1/AURKA/PLOD2/GAPDH/STC1/PPIA/EGLN3/CCT6A/TPI1/TUBG1/CACYBP/XBP1/LDHA/PSMA4/ENO1/GLRX/MCM4/PRDX1/HSPE1/CD9/STIP1                                                                                                                                                                                                                                                </td><td>22</td></tr>\n",
       "\t<tr><th scope=row>HALLMARK_GLYCOLYSIS</th><td>HALLMARK_GLYCOLYSIS      </td><td>HALLMARK_GLYCOLYSIS      </td><td>21/249</td><td>200/4386</td><td>4.180734e-03</td><td>3.274908e-02</td><td>2.860502e-02</td><td>CDK1/HMMR/CENPA/AURKA/PLOD2/STMN1/TXN/STC1/PPIA/EGLN3/SAP30/TPI1/MIF/GALK1/LDHA/ENO1/GLRX/PGAM1/NASP/FUT8/FKBP4                                                                                                                                                                                                                                                         </td><td>21</td></tr>\n",
       "</tbody>\n",
       "</table>\n"
      ],
      "text/latex": [
       "A data.frame: 6 × 9\n",
       "\\begin{tabular}{r|lllllllll}\n",
       "  & ID & Description & GeneRatio & BgRatio & pvalue & p.adjust & qvalue & geneID & Count\\\\\n",
       "  & <chr> & <chr> & <chr> & <chr> & <dbl> & <dbl> & <dbl> & <chr> & <int>\\\\\n",
       "\\hline\n",
       "\tHALLMARK\\_G2M\\_CHECKPOINT & HALLMARK\\_G2M\\_CHECKPOINT   & HALLMARK\\_G2M\\_CHECKPOINT   & 62/249 & 200/4386 & 1.767233e-31 & 8.305996e-30 & 7.254957e-30 & TOP2A/CDK1/MKI67/UBE2C/TPX2/BIRC5/CENPF/NEK2/PRC1/MYBL2/PBK/TROAP/KIF4A/KIF11/CCNB2/CDC20/MAD2L1/KIF2C/HMMR/CCNA2/E2F1/KIF23/NUSAP1/CENPA/ORC6/RACGAP1/CHEK1/PLK1/AURKA/PTTG1/CKS2/KIF20B/BARD1/CENPE/HMGB3/STMN1/CDC25B/SMC4/UBE2S/SMC2/MCM3/HIF1A/TMPO/HMGN2/CCND1/DTYMK/CDKN3/SNRPD1/H2AFZ/SAP30/SLC12A2/SRSF2/ODC1/KPNA2/BCL3/XPO1/TFDP1/H2AFV/HSPA8/NASP/SFPQ/CKS1B & 62\\\\\n",
       "\tHALLMARK\\_E2F\\_TARGETS & HALLMARK\\_E2F\\_TARGETS      & HALLMARK\\_E2F\\_TARGETS      & 61/249 & 200/4386 & 1.682299e-30 & 3.953403e-29 & 3.453141e-29 & TOP2A/CDK1/MKI67/BIRC5/SPC25/MYBL2/KIF4A/UBE2T/DIAPH3/CCNB2/CDC20/MAD2L1/KIF2C/HMMR/RRM2/TK1/HELLS/RAD51AP1/ORC6/RACGAP1/CHEK1/PLK1/AURKA/ATAD2/PTTG1/CKS2/HMGB2/BARD1/CENPE/RFC3/HMGB3/STMN1/CDCA8/BRCA1/CDC25B/DUT/SMC4/UBE2S/MCM3/TMPO/ANP32E/CDKN3/H2AFZ/CSE1L/RPA3/RANBP1/CENPM/TUBG1/TUBB/SRSF2/RAN/KPNA2/NME1/SNRPB/XPO1/PCNA/PA2G4/MCM4/NASP/CKS1B/DNMT1         & 61\\\\\n",
       "\tHALLMARK\\_MYC\\_TARGETS\\_V1 & HALLMARK\\_MYC\\_TARGETS\\_V1   & HALLMARK\\_MYC\\_TARGETS\\_V1   & 40/249 & 200/4386 & 5.295716e-13 & 8.296622e-12 & 7.246769e-12 & CDC20/MAD2L1/CCNA2/TYMS/DUT/RRM1/SNRPD1/H2AFZ/PPIA/HNRNPA2B1/RANBP1/PSMA7/SRSF2/RAN/CBX3/SRSF3/ODC1/KPNA2/PSMB3/LDHA/NME1/SRSF7/PSMA4/PSMA2/XPO1/COX5A/CCT2/PCNA/PSMD1/LSM2/SSBP1/TFDP1/ERH/PA2G4/C1QBP/HDAC2/MCM4/SNRPD2/HSPE1/SET                                                                                                                                      & 40\\\\\n",
       "\tHALLMARK\\_MITOTIC\\_SPINDLE & HALLMARK\\_MITOTIC\\_SPINDLE  & HALLMARK\\_MITOTIC\\_SPINDLE  & 28/249 & 200/4386 & 5.671408e-06 & 6.663904e-05 & 5.820655e-05 & TOP2A/CDK1/TPX2/BIRC5/ANLN/CENPF/NEK2/PRC1/KIF4A/KIF11/CCNB2/KIF2C/KIF23/NUSAP1/RACGAP1/PLK1/AURKA/KIF20B/CENPE/ECT2/SMC4/NET1/CDC42EP4/FLNA/CKAP5/PDLIM5/SSH2/ARF6                                                                                                                                                                                                      & 28\\\\\n",
       "\tHALLMARK\\_MTORC1\\_SIGNALING & HALLMARK\\_MTORC1\\_SIGNALING & HALLMARK\\_MTORC1\\_SIGNALING & 22/249 & 200/4386 & 1.882983e-03 & 1.770004e-02 & 1.546028e-02 & RRM2/PLK1/AURKA/PLOD2/GAPDH/STC1/PPIA/EGLN3/CCT6A/TPI1/TUBG1/CACYBP/XBP1/LDHA/PSMA4/ENO1/GLRX/MCM4/PRDX1/HSPE1/CD9/STIP1                                                                                                                                                                                                                                                 & 22\\\\\n",
       "\tHALLMARK\\_GLYCOLYSIS & HALLMARK\\_GLYCOLYSIS       & HALLMARK\\_GLYCOLYSIS       & 21/249 & 200/4386 & 4.180734e-03 & 3.274908e-02 & 2.860502e-02 & CDK1/HMMR/CENPA/AURKA/PLOD2/STMN1/TXN/STC1/PPIA/EGLN3/SAP30/TPI1/MIF/GALK1/LDHA/ENO1/GLRX/PGAM1/NASP/FUT8/FKBP4                                                                                                                                                                                                                                                          & 21\\\\\n",
       "\\end{tabular}\n"
      ],
      "text/markdown": [
       "\n",
       "A data.frame: 6 × 9\n",
       "\n",
       "| <!--/--> | ID &lt;chr&gt; | Description &lt;chr&gt; | GeneRatio &lt;chr&gt; | BgRatio &lt;chr&gt; | pvalue &lt;dbl&gt; | p.adjust &lt;dbl&gt; | qvalue &lt;dbl&gt; | geneID &lt;chr&gt; | Count &lt;int&gt; |\n",
       "|---|---|---|---|---|---|---|---|---|---|\n",
       "| HALLMARK_G2M_CHECKPOINT | HALLMARK_G2M_CHECKPOINT   | HALLMARK_G2M_CHECKPOINT   | 62/249 | 200/4386 | 1.767233e-31 | 8.305996e-30 | 7.254957e-30 | TOP2A/CDK1/MKI67/UBE2C/TPX2/BIRC5/CENPF/NEK2/PRC1/MYBL2/PBK/TROAP/KIF4A/KIF11/CCNB2/CDC20/MAD2L1/KIF2C/HMMR/CCNA2/E2F1/KIF23/NUSAP1/CENPA/ORC6/RACGAP1/CHEK1/PLK1/AURKA/PTTG1/CKS2/KIF20B/BARD1/CENPE/HMGB3/STMN1/CDC25B/SMC4/UBE2S/SMC2/MCM3/HIF1A/TMPO/HMGN2/CCND1/DTYMK/CDKN3/SNRPD1/H2AFZ/SAP30/SLC12A2/SRSF2/ODC1/KPNA2/BCL3/XPO1/TFDP1/H2AFV/HSPA8/NASP/SFPQ/CKS1B | 62 |\n",
       "| HALLMARK_E2F_TARGETS | HALLMARK_E2F_TARGETS      | HALLMARK_E2F_TARGETS      | 61/249 | 200/4386 | 1.682299e-30 | 3.953403e-29 | 3.453141e-29 | TOP2A/CDK1/MKI67/BIRC5/SPC25/MYBL2/KIF4A/UBE2T/DIAPH3/CCNB2/CDC20/MAD2L1/KIF2C/HMMR/RRM2/TK1/HELLS/RAD51AP1/ORC6/RACGAP1/CHEK1/PLK1/AURKA/ATAD2/PTTG1/CKS2/HMGB2/BARD1/CENPE/RFC3/HMGB3/STMN1/CDCA8/BRCA1/CDC25B/DUT/SMC4/UBE2S/MCM3/TMPO/ANP32E/CDKN3/H2AFZ/CSE1L/RPA3/RANBP1/CENPM/TUBG1/TUBB/SRSF2/RAN/KPNA2/NME1/SNRPB/XPO1/PCNA/PA2G4/MCM4/NASP/CKS1B/DNMT1         | 61 |\n",
       "| HALLMARK_MYC_TARGETS_V1 | HALLMARK_MYC_TARGETS_V1   | HALLMARK_MYC_TARGETS_V1   | 40/249 | 200/4386 | 5.295716e-13 | 8.296622e-12 | 7.246769e-12 | CDC20/MAD2L1/CCNA2/TYMS/DUT/RRM1/SNRPD1/H2AFZ/PPIA/HNRNPA2B1/RANBP1/PSMA7/SRSF2/RAN/CBX3/SRSF3/ODC1/KPNA2/PSMB3/LDHA/NME1/SRSF7/PSMA4/PSMA2/XPO1/COX5A/CCT2/PCNA/PSMD1/LSM2/SSBP1/TFDP1/ERH/PA2G4/C1QBP/HDAC2/MCM4/SNRPD2/HSPE1/SET                                                                                                                                      | 40 |\n",
       "| HALLMARK_MITOTIC_SPINDLE | HALLMARK_MITOTIC_SPINDLE  | HALLMARK_MITOTIC_SPINDLE  | 28/249 | 200/4386 | 5.671408e-06 | 6.663904e-05 | 5.820655e-05 | TOP2A/CDK1/TPX2/BIRC5/ANLN/CENPF/NEK2/PRC1/KIF4A/KIF11/CCNB2/KIF2C/KIF23/NUSAP1/RACGAP1/PLK1/AURKA/KIF20B/CENPE/ECT2/SMC4/NET1/CDC42EP4/FLNA/CKAP5/PDLIM5/SSH2/ARF6                                                                                                                                                                                                      | 28 |\n",
       "| HALLMARK_MTORC1_SIGNALING | HALLMARK_MTORC1_SIGNALING | HALLMARK_MTORC1_SIGNALING | 22/249 | 200/4386 | 1.882983e-03 | 1.770004e-02 | 1.546028e-02 | RRM2/PLK1/AURKA/PLOD2/GAPDH/STC1/PPIA/EGLN3/CCT6A/TPI1/TUBG1/CACYBP/XBP1/LDHA/PSMA4/ENO1/GLRX/MCM4/PRDX1/HSPE1/CD9/STIP1                                                                                                                                                                                                                                                 | 22 |\n",
       "| HALLMARK_GLYCOLYSIS | HALLMARK_GLYCOLYSIS       | HALLMARK_GLYCOLYSIS       | 21/249 | 200/4386 | 4.180734e-03 | 3.274908e-02 | 2.860502e-02 | CDK1/HMMR/CENPA/AURKA/PLOD2/STMN1/TXN/STC1/PPIA/EGLN3/SAP30/TPI1/MIF/GALK1/LDHA/ENO1/GLRX/PGAM1/NASP/FUT8/FKBP4                                                                                                                                                                                                                                                          | 21 |\n",
       "\n"
      ],
      "text/plain": [
       "                          ID                        Description              \n",
       "HALLMARK_G2M_CHECKPOINT   HALLMARK_G2M_CHECKPOINT   HALLMARK_G2M_CHECKPOINT  \n",
       "HALLMARK_E2F_TARGETS      HALLMARK_E2F_TARGETS      HALLMARK_E2F_TARGETS     \n",
       "HALLMARK_MYC_TARGETS_V1   HALLMARK_MYC_TARGETS_V1   HALLMARK_MYC_TARGETS_V1  \n",
       "HALLMARK_MITOTIC_SPINDLE  HALLMARK_MITOTIC_SPINDLE  HALLMARK_MITOTIC_SPINDLE \n",
       "HALLMARK_MTORC1_SIGNALING HALLMARK_MTORC1_SIGNALING HALLMARK_MTORC1_SIGNALING\n",
       "HALLMARK_GLYCOLYSIS       HALLMARK_GLYCOLYSIS       HALLMARK_GLYCOLYSIS      \n",
       "                          GeneRatio BgRatio  pvalue       p.adjust    \n",
       "HALLMARK_G2M_CHECKPOINT   62/249    200/4386 1.767233e-31 8.305996e-30\n",
       "HALLMARK_E2F_TARGETS      61/249    200/4386 1.682299e-30 3.953403e-29\n",
       "HALLMARK_MYC_TARGETS_V1   40/249    200/4386 5.295716e-13 8.296622e-12\n",
       "HALLMARK_MITOTIC_SPINDLE  28/249    200/4386 5.671408e-06 6.663904e-05\n",
       "HALLMARK_MTORC1_SIGNALING 22/249    200/4386 1.882983e-03 1.770004e-02\n",
       "HALLMARK_GLYCOLYSIS       21/249    200/4386 4.180734e-03 3.274908e-02\n",
       "                          qvalue      \n",
       "HALLMARK_G2M_CHECKPOINT   7.254957e-30\n",
       "HALLMARK_E2F_TARGETS      3.453141e-29\n",
       "HALLMARK_MYC_TARGETS_V1   7.246769e-12\n",
       "HALLMARK_MITOTIC_SPINDLE  5.820655e-05\n",
       "HALLMARK_MTORC1_SIGNALING 1.546028e-02\n",
       "HALLMARK_GLYCOLYSIS       2.860502e-02\n",
       "                          geneID                                                                                                                                                                                                                                                                                                                                                                  \n",
       "HALLMARK_G2M_CHECKPOINT   TOP2A/CDK1/MKI67/UBE2C/TPX2/BIRC5/CENPF/NEK2/PRC1/MYBL2/PBK/TROAP/KIF4A/KIF11/CCNB2/CDC20/MAD2L1/KIF2C/HMMR/CCNA2/E2F1/KIF23/NUSAP1/CENPA/ORC6/RACGAP1/CHEK1/PLK1/AURKA/PTTG1/CKS2/KIF20B/BARD1/CENPE/HMGB3/STMN1/CDC25B/SMC4/UBE2S/SMC2/MCM3/HIF1A/TMPO/HMGN2/CCND1/DTYMK/CDKN3/SNRPD1/H2AFZ/SAP30/SLC12A2/SRSF2/ODC1/KPNA2/BCL3/XPO1/TFDP1/H2AFV/HSPA8/NASP/SFPQ/CKS1B\n",
       "HALLMARK_E2F_TARGETS      TOP2A/CDK1/MKI67/BIRC5/SPC25/MYBL2/KIF4A/UBE2T/DIAPH3/CCNB2/CDC20/MAD2L1/KIF2C/HMMR/RRM2/TK1/HELLS/RAD51AP1/ORC6/RACGAP1/CHEK1/PLK1/AURKA/ATAD2/PTTG1/CKS2/HMGB2/BARD1/CENPE/RFC3/HMGB3/STMN1/CDCA8/BRCA1/CDC25B/DUT/SMC4/UBE2S/MCM3/TMPO/ANP32E/CDKN3/H2AFZ/CSE1L/RPA3/RANBP1/CENPM/TUBG1/TUBB/SRSF2/RAN/KPNA2/NME1/SNRPB/XPO1/PCNA/PA2G4/MCM4/NASP/CKS1B/DNMT1        \n",
       "HALLMARK_MYC_TARGETS_V1   CDC20/MAD2L1/CCNA2/TYMS/DUT/RRM1/SNRPD1/H2AFZ/PPIA/HNRNPA2B1/RANBP1/PSMA7/SRSF2/RAN/CBX3/SRSF3/ODC1/KPNA2/PSMB3/LDHA/NME1/SRSF7/PSMA4/PSMA2/XPO1/COX5A/CCT2/PCNA/PSMD1/LSM2/SSBP1/TFDP1/ERH/PA2G4/C1QBP/HDAC2/MCM4/SNRPD2/HSPE1/SET                                                                                                                                     \n",
       "HALLMARK_MITOTIC_SPINDLE  TOP2A/CDK1/TPX2/BIRC5/ANLN/CENPF/NEK2/PRC1/KIF4A/KIF11/CCNB2/KIF2C/KIF23/NUSAP1/RACGAP1/PLK1/AURKA/KIF20B/CENPE/ECT2/SMC4/NET1/CDC42EP4/FLNA/CKAP5/PDLIM5/SSH2/ARF6                                                                                                                                                                                                     \n",
       "HALLMARK_MTORC1_SIGNALING RRM2/PLK1/AURKA/PLOD2/GAPDH/STC1/PPIA/EGLN3/CCT6A/TPI1/TUBG1/CACYBP/XBP1/LDHA/PSMA4/ENO1/GLRX/MCM4/PRDX1/HSPE1/CD9/STIP1                                                                                                                                                                                                                                                \n",
       "HALLMARK_GLYCOLYSIS       CDK1/HMMR/CENPA/AURKA/PLOD2/STMN1/TXN/STC1/PPIA/EGLN3/SAP30/TPI1/MIF/GALK1/LDHA/ENO1/GLRX/PGAM1/NASP/FUT8/FKBP4                                                                                                                                                                                                                                                         \n",
       "                          Count\n",
       "HALLMARK_G2M_CHECKPOINT   62   \n",
       "HALLMARK_E2F_TARGETS      61   \n",
       "HALLMARK_MYC_TARGETS_V1   40   \n",
       "HALLMARK_MITOTIC_SPINDLE  28   \n",
       "HALLMARK_MTORC1_SIGNALING 22   \n",
       "HALLMARK_GLYCOLYSIS       21   "
      ]
     },
     "metadata": {},
     "output_type": "display_data"
    },
    {
     "data": {
      "text/html": [
       "<style>\n",
       ".list-inline {list-style: none; margin:0; padding: 0}\n",
       ".list-inline>li {display: inline-block}\n",
       ".list-inline>li:not(:last-child)::after {content: \"\\00b7\"; padding: 0 .5ex}\n",
       "</style>\n",
       "<ol class=list-inline><li>6</li><li>9</li></ol>\n"
      ],
      "text/latex": [
       "\\begin{enumerate*}\n",
       "\\item 6\n",
       "\\item 9\n",
       "\\end{enumerate*}\n"
      ],
      "text/markdown": [
       "1. 6\n",
       "2. 9\n",
       "\n",
       "\n"
      ],
      "text/plain": [
       "[1] 6 9"
      ]
     },
     "metadata": {},
     "output_type": "display_data"
    },
    {
     "data": {
      "text/html": [
       "up unc_lccc"
      ]
     },
     "metadata": {},
     "output_type": "display_data"
    },
    {
     "data": {
      "text/html": [
       "<table class=\"dataframe\">\n",
       "<caption>A data.frame: 6 × 9</caption>\n",
       "<thead>\n",
       "\t<tr><th></th><th scope=col>ID</th><th scope=col>Description</th><th scope=col>GeneRatio</th><th scope=col>BgRatio</th><th scope=col>pvalue</th><th scope=col>p.adjust</th><th scope=col>qvalue</th><th scope=col>geneID</th><th scope=col>Count</th></tr>\n",
       "\t<tr><th></th><th scope=col>&lt;chr&gt;</th><th scope=col>&lt;chr&gt;</th><th scope=col>&lt;chr&gt;</th><th scope=col>&lt;chr&gt;</th><th scope=col>&lt;dbl&gt;</th><th scope=col>&lt;dbl&gt;</th><th scope=col>&lt;dbl&gt;</th><th scope=col>&lt;chr&gt;</th><th scope=col>&lt;int&gt;</th></tr>\n",
       "</thead>\n",
       "<tbody>\n",
       "\t<tr><th scope=row>Wirapati_Proliferation_Breast.Cancer.Res.2008_PMID.18662380</th><td>Wirapati_Proliferation_Breast.Cancer.Res.2008_PMID.18662380</td><td>Wirapati_Proliferation_Breast.Cancer.Res.2008_PMID.18662380</td><td>103/410</td><td>354/19993</td><td>6.765447e-91</td><td>2.415265e-88</td><td>1.630829e-88</td><td>TOP2A/CDK1/MKI67/UBE2C/TPX2/BIRC5/ANLN/PCLAF/CENPF/IQGAP3/NEK2/SPC25/PRC1/MYBL2/ZWINT/PBK/SHCBP1/PKMYT1/FAM83D/TROAP/KIF4A/UBE2T/ASPM/KIF11/DIAPH3/CENPK/CEP55/CCNB2/CDC20/KNL1/NCAPH/NUF2/MAD2L1/KIF2C/HMMR/CCNA2/E2F1/RRM2/KIF23/NUSAP1/KIFC1/TK1/CENPA/HELLS/RAD51AP1/CENPW/ORC6/RACGAP1/CCNB1/CENPU/CHEK1/PLK1/AURKA/ATAD2/GTSE1/PTTG1/FANCI/CKS2/HMGB2/TYMS/CENPE/HMGB3/STMN1/CDCA8/TUBA1B/ECT2/CDC25B/SMC4/UBE2S/VRK1/MCM3/MIS18A/JPT1/NUDT1/DTYMK/CDKN3/SNRPD1/CKAP2/LRR1/H2AFZ/GMNN/ARL6IP1/CCT6A/CSE1L/HNRNPA2B1/TPI1/PSMA7/CENPM/SNRPF/TUBG1/CKAP5/KPNA2/ALYREF/XPO1/COX5A/PCNA/CENPX/LAPTM4B/H2AFV/MCM4/FAM136A/CKS1B/DNMT1</td><td>103</td></tr>\n",
       "\t<tr><th scope=row>Proliferation_Cluster_BMC.Med.Genomics.2011_PMID.21214954</th><td>Proliferation_Cluster_BMC.Med.Genomics.2011_PMID.21214954  </td><td>Proliferation_Cluster_BMC.Med.Genomics.2011_PMID.21214954  </td><td>60/410 </td><td>121/19993</td><td>3.984606e-69</td><td>7.112521e-67</td><td>4.802499e-67</td><td>TOP2A/CDK1/MKI67/UBE2C/TPX2/PCLAF/CENPF/NEK2/SPC25/PRC1/MYBL2/ZWINT/PBK/SHCBP1/TROAP/KIF4A/ASPM/KIF11/CEP55/CCNB2/CDC20/NCAPH/MAD2L1/KIF2C/HMMR/CCNA2/E2F1/RRM2/KIF23/NUSAP1/KIFC1/TK1/CENPA/RAD51AP1/ORC6/RACGAP1/CCNB1/CHEK1/AURKA/GTSE1/PTTG1/CKS2/TYMS/CENPE/STMN1/CDCA8/TUBA1B/ECT2/SMC4/UBE2S/MCM3/MIS18A/TMPO/CDKN3/H2AFZ/PSMA7/CENPM/CKAP5/PCNA/PDCD5                                                                                                                                                                                                                                                                         </td><td> 60</td></tr>\n",
       "\t<tr><th scope=row>bMYB_Signature_Oncogene.2009_PMID.19043454</th><td>bMYB_Signature_Oncogene.2009_PMID.19043454                 </td><td>bMYB_Signature_Oncogene.2009_PMID.19043454                 </td><td>61/410 </td><td>151/19993</td><td>2.525756e-63</td><td>3.005650e-61</td><td>2.029467e-61</td><td>TOP2A/CDK1/UBE2C/TPX2/BIRC5/ANLN/CENPF/PRC1/MYBL2/ZWINT/PBK/PKMYT1/FAM83D/TROAP/UBE2T/ASPM/KIF11/CEP55/CCNB2/CDC20/NCAPH/MAD2L1/KIF2C/HMMR/CCNA2/RRM2/KIF23/NUSAP1/TK1/RAD51AP1/ORC6/RACGAP1/CCNB1/CENPU/PLK1/ATAD2/CKS2/KIF20B/HMGB2/CENPE/RFC3/HMGB3/STMN1/CDCA8/BRCA1/ECT2/CDC25B/SMC4/VRK1/MCM3/NUDT1/CDKN3/H2AFZ/ARL6IP1/NMB/RPL39L/KPNA2/TCOF1/TM4SF1/MCM4/CKS1B                                                                                                                                                                                                                                                                </td><td> 61</td></tr>\n",
       "\t<tr><th scope=row>MProliferation_BMC.Med.Genomics.2011_PMID.21214954</th><td>MProliferation_BMC.Med.Genomics.2011_PMID.21214954         </td><td>MProliferation_BMC.Med.Genomics.2011_PMID.21214954         </td><td>59/410 </td><td>145/19993</td><td>1.820109e-61</td><td>1.624447e-59</td><td>1.096855e-59</td><td>TOP2A/CDK1/UBE2C/TPX2/BIRC5/CENPF/NEK2/SGO1/SPC25/PRC1/PBK/SHCBP1/PKMYT1/FAM83D/KIF4A/UBE2T/ASPM/KIF11/CEP55/CCNB2/CDC20/KNL1/NUF2/MAD2L1/CCNA2/RRM2/NUSAP1/TK1/CENPA/HELLS/RAD51AP1/RACGAP1/CCNB1/CHEK1/PLK1/AURKA/GTSE1/CENPH/FANCI/CKS2/KIF20B/HMGB2/TYMS/CENPE/RFC3/STMN1/CDCA8/BRCA1/ECT2/DUT/SGO2/SMC4/SMC2/MCM3/RRM1/CKAP2/PCNA/MCM4/DNMT1                                                                                                                                                                                                                                                                                     </td><td> 59</td></tr>\n",
       "\t<tr><th scope=row>UNC_HS_Red23_BMC.Med.Genomics.2011_PMID.21214954</th><td>UNC_HS_Red23_BMC.Med.Genomics.2011_PMID.21214954           </td><td>UNC_HS_Red23_BMC.Med.Genomics.2011_PMID.21214954           </td><td>57/410 </td><td>132/19993</td><td>3.256321e-61</td><td>2.325013e-59</td><td>1.569889e-59</td><td>TOP2A/CDK1/MKI67/UBE2C/TPX2/PCLAF/CENPF/NEK2/SPC25/PRC1/ZWINT/PBK/TROAP/KIF4A/ASPM/KIF11/CEP55/CCNB2/CDC20/NCAPH/MAD2L1/KIF2C/HMMR/CCNA2/E2F1/RRM2/KIF23/NUSAP1/KIFC1/TK1/CENPA/HELLS/RAD51AP1/RACGAP1/CCNB1/AURKA/ATAD2/PTTG1/CKS2/TYMS/BARD1/CENPE/CDCA8/ECT2/SMC4/UBE2S/SMC2/JPT1/NUDT1/CDKN3/CKAP2/H2AFZ/CENPM/TUBG1/CKAP5/PCNA/DNMT1                                                                                                                                                                                                                                                                                             </td><td> 57</td></tr>\n",
       "\t<tr><th scope=row>UNC_HS_Green10_BMC.Med.Genomics.2011_PMID.21214954</th><td>UNC_HS_Green10_BMC.Med.Genomics.2011_PMID.21214954         </td><td>UNC_HS_Green10_BMC.Med.Genomics.2011_PMID.21214954         </td><td>65/410 </td><td>267/19993</td><td>3.865961e-51</td><td>2.300247e-49</td><td>1.553167e-49</td><td>TOP2A/CDK1/MKI67/UBE2C/TPX2/PCLAF/CENPF/NEK2/SPC25/PRC1/MYBL2/ZWINT/PBK/SHCBP1/TROAP/KIF4A/ASPM/KIF11/CEP55/CCNB2/CDC20/NCAPH/MAD2L1/KIF2C/HMMR/CCNA2/E2F1/RRM2/KIF23/NUSAP1/KIFC1/TK1/CENPA/HELLS/RAD51AP1/ORC6/RACGAP1/CCNB1/CHEK1/AURKA/GTSE1/S100A9/PTTG1/CKS2/TYMS/CENPE/HMGB3/CDCA8/BTG3/ECT2/CDC25B/UBE2S/JPT1/NUDT1/LY6E/CDKN3/CKAP2/GMNN/CENPM/TUBB4B/SNRPB/PCNA/LAPTM4B/NASP/RSRC1                                                                                                                                                                                                                                          </td><td> 65</td></tr>\n",
       "</tbody>\n",
       "</table>\n"
      ],
      "text/latex": [
       "A data.frame: 6 × 9\n",
       "\\begin{tabular}{r|lllllllll}\n",
       "  & ID & Description & GeneRatio & BgRatio & pvalue & p.adjust & qvalue & geneID & Count\\\\\n",
       "  & <chr> & <chr> & <chr> & <chr> & <dbl> & <dbl> & <dbl> & <chr> & <int>\\\\\n",
       "\\hline\n",
       "\tWirapati\\_Proliferation\\_Breast.Cancer.Res.2008\\_PMID.18662380 & Wirapati\\_Proliferation\\_Breast.Cancer.Res.2008\\_PMID.18662380 & Wirapati\\_Proliferation\\_Breast.Cancer.Res.2008\\_PMID.18662380 & 103/410 & 354/19993 & 6.765447e-91 & 2.415265e-88 & 1.630829e-88 & TOP2A/CDK1/MKI67/UBE2C/TPX2/BIRC5/ANLN/PCLAF/CENPF/IQGAP3/NEK2/SPC25/PRC1/MYBL2/ZWINT/PBK/SHCBP1/PKMYT1/FAM83D/TROAP/KIF4A/UBE2T/ASPM/KIF11/DIAPH3/CENPK/CEP55/CCNB2/CDC20/KNL1/NCAPH/NUF2/MAD2L1/KIF2C/HMMR/CCNA2/E2F1/RRM2/KIF23/NUSAP1/KIFC1/TK1/CENPA/HELLS/RAD51AP1/CENPW/ORC6/RACGAP1/CCNB1/CENPU/CHEK1/PLK1/AURKA/ATAD2/GTSE1/PTTG1/FANCI/CKS2/HMGB2/TYMS/CENPE/HMGB3/STMN1/CDCA8/TUBA1B/ECT2/CDC25B/SMC4/UBE2S/VRK1/MCM3/MIS18A/JPT1/NUDT1/DTYMK/CDKN3/SNRPD1/CKAP2/LRR1/H2AFZ/GMNN/ARL6IP1/CCT6A/CSE1L/HNRNPA2B1/TPI1/PSMA7/CENPM/SNRPF/TUBG1/CKAP5/KPNA2/ALYREF/XPO1/COX5A/PCNA/CENPX/LAPTM4B/H2AFV/MCM4/FAM136A/CKS1B/DNMT1 & 103\\\\\n",
       "\tProliferation\\_Cluster\\_BMC.Med.Genomics.2011\\_PMID.21214954 & Proliferation\\_Cluster\\_BMC.Med.Genomics.2011\\_PMID.21214954   & Proliferation\\_Cluster\\_BMC.Med.Genomics.2011\\_PMID.21214954   & 60/410  & 121/19993 & 3.984606e-69 & 7.112521e-67 & 4.802499e-67 & TOP2A/CDK1/MKI67/UBE2C/TPX2/PCLAF/CENPF/NEK2/SPC25/PRC1/MYBL2/ZWINT/PBK/SHCBP1/TROAP/KIF4A/ASPM/KIF11/CEP55/CCNB2/CDC20/NCAPH/MAD2L1/KIF2C/HMMR/CCNA2/E2F1/RRM2/KIF23/NUSAP1/KIFC1/TK1/CENPA/RAD51AP1/ORC6/RACGAP1/CCNB1/CHEK1/AURKA/GTSE1/PTTG1/CKS2/TYMS/CENPE/STMN1/CDCA8/TUBA1B/ECT2/SMC4/UBE2S/MCM3/MIS18A/TMPO/CDKN3/H2AFZ/PSMA7/CENPM/CKAP5/PCNA/PDCD5                                                                                                                                                                                                                                                                          &  60\\\\\n",
       "\tbMYB\\_Signature\\_Oncogene.2009\\_PMID.19043454 & bMYB\\_Signature\\_Oncogene.2009\\_PMID.19043454                  & bMYB\\_Signature\\_Oncogene.2009\\_PMID.19043454                  & 61/410  & 151/19993 & 2.525756e-63 & 3.005650e-61 & 2.029467e-61 & TOP2A/CDK1/UBE2C/TPX2/BIRC5/ANLN/CENPF/PRC1/MYBL2/ZWINT/PBK/PKMYT1/FAM83D/TROAP/UBE2T/ASPM/KIF11/CEP55/CCNB2/CDC20/NCAPH/MAD2L1/KIF2C/HMMR/CCNA2/RRM2/KIF23/NUSAP1/TK1/RAD51AP1/ORC6/RACGAP1/CCNB1/CENPU/PLK1/ATAD2/CKS2/KIF20B/HMGB2/CENPE/RFC3/HMGB3/STMN1/CDCA8/BRCA1/ECT2/CDC25B/SMC4/VRK1/MCM3/NUDT1/CDKN3/H2AFZ/ARL6IP1/NMB/RPL39L/KPNA2/TCOF1/TM4SF1/MCM4/CKS1B                                                                                                                                                                                                                                                                 &  61\\\\\n",
       "\tMProliferation\\_BMC.Med.Genomics.2011\\_PMID.21214954 & MProliferation\\_BMC.Med.Genomics.2011\\_PMID.21214954          & MProliferation\\_BMC.Med.Genomics.2011\\_PMID.21214954          & 59/410  & 145/19993 & 1.820109e-61 & 1.624447e-59 & 1.096855e-59 & TOP2A/CDK1/UBE2C/TPX2/BIRC5/CENPF/NEK2/SGO1/SPC25/PRC1/PBK/SHCBP1/PKMYT1/FAM83D/KIF4A/UBE2T/ASPM/KIF11/CEP55/CCNB2/CDC20/KNL1/NUF2/MAD2L1/CCNA2/RRM2/NUSAP1/TK1/CENPA/HELLS/RAD51AP1/RACGAP1/CCNB1/CHEK1/PLK1/AURKA/GTSE1/CENPH/FANCI/CKS2/KIF20B/HMGB2/TYMS/CENPE/RFC3/STMN1/CDCA8/BRCA1/ECT2/DUT/SGO2/SMC4/SMC2/MCM3/RRM1/CKAP2/PCNA/MCM4/DNMT1                                                                                                                                                                                                                                                                                      &  59\\\\\n",
       "\tUNC\\_HS\\_Red23\\_BMC.Med.Genomics.2011\\_PMID.21214954 & UNC\\_HS\\_Red23\\_BMC.Med.Genomics.2011\\_PMID.21214954            & UNC\\_HS\\_Red23\\_BMC.Med.Genomics.2011\\_PMID.21214954            & 57/410  & 132/19993 & 3.256321e-61 & 2.325013e-59 & 1.569889e-59 & TOP2A/CDK1/MKI67/UBE2C/TPX2/PCLAF/CENPF/NEK2/SPC25/PRC1/ZWINT/PBK/TROAP/KIF4A/ASPM/KIF11/CEP55/CCNB2/CDC20/NCAPH/MAD2L1/KIF2C/HMMR/CCNA2/E2F1/RRM2/KIF23/NUSAP1/KIFC1/TK1/CENPA/HELLS/RAD51AP1/RACGAP1/CCNB1/AURKA/ATAD2/PTTG1/CKS2/TYMS/BARD1/CENPE/CDCA8/ECT2/SMC4/UBE2S/SMC2/JPT1/NUDT1/CDKN3/CKAP2/H2AFZ/CENPM/TUBG1/CKAP5/PCNA/DNMT1                                                                                                                                                                                                                                                                                              &  57\\\\\n",
       "\tUNC\\_HS\\_Green10\\_BMC.Med.Genomics.2011\\_PMID.21214954 & UNC\\_HS\\_Green10\\_BMC.Med.Genomics.2011\\_PMID.21214954          & UNC\\_HS\\_Green10\\_BMC.Med.Genomics.2011\\_PMID.21214954          & 65/410  & 267/19993 & 3.865961e-51 & 2.300247e-49 & 1.553167e-49 & TOP2A/CDK1/MKI67/UBE2C/TPX2/PCLAF/CENPF/NEK2/SPC25/PRC1/MYBL2/ZWINT/PBK/SHCBP1/TROAP/KIF4A/ASPM/KIF11/CEP55/CCNB2/CDC20/NCAPH/MAD2L1/KIF2C/HMMR/CCNA2/E2F1/RRM2/KIF23/NUSAP1/KIFC1/TK1/CENPA/HELLS/RAD51AP1/ORC6/RACGAP1/CCNB1/CHEK1/AURKA/GTSE1/S100A9/PTTG1/CKS2/TYMS/CENPE/HMGB3/CDCA8/BTG3/ECT2/CDC25B/UBE2S/JPT1/NUDT1/LY6E/CDKN3/CKAP2/GMNN/CENPM/TUBB4B/SNRPB/PCNA/LAPTM4B/NASP/RSRC1                                                                                                                                                                                                                                           &  65\\\\\n",
       "\\end{tabular}\n"
      ],
      "text/markdown": [
       "\n",
       "A data.frame: 6 × 9\n",
       "\n",
       "| <!--/--> | ID &lt;chr&gt; | Description &lt;chr&gt; | GeneRatio &lt;chr&gt; | BgRatio &lt;chr&gt; | pvalue &lt;dbl&gt; | p.adjust &lt;dbl&gt; | qvalue &lt;dbl&gt; | geneID &lt;chr&gt; | Count &lt;int&gt; |\n",
       "|---|---|---|---|---|---|---|---|---|---|\n",
       "| Wirapati_Proliferation_Breast.Cancer.Res.2008_PMID.18662380 | Wirapati_Proliferation_Breast.Cancer.Res.2008_PMID.18662380 | Wirapati_Proliferation_Breast.Cancer.Res.2008_PMID.18662380 | 103/410 | 354/19993 | 6.765447e-91 | 2.415265e-88 | 1.630829e-88 | TOP2A/CDK1/MKI67/UBE2C/TPX2/BIRC5/ANLN/PCLAF/CENPF/IQGAP3/NEK2/SPC25/PRC1/MYBL2/ZWINT/PBK/SHCBP1/PKMYT1/FAM83D/TROAP/KIF4A/UBE2T/ASPM/KIF11/DIAPH3/CENPK/CEP55/CCNB2/CDC20/KNL1/NCAPH/NUF2/MAD2L1/KIF2C/HMMR/CCNA2/E2F1/RRM2/KIF23/NUSAP1/KIFC1/TK1/CENPA/HELLS/RAD51AP1/CENPW/ORC6/RACGAP1/CCNB1/CENPU/CHEK1/PLK1/AURKA/ATAD2/GTSE1/PTTG1/FANCI/CKS2/HMGB2/TYMS/CENPE/HMGB3/STMN1/CDCA8/TUBA1B/ECT2/CDC25B/SMC4/UBE2S/VRK1/MCM3/MIS18A/JPT1/NUDT1/DTYMK/CDKN3/SNRPD1/CKAP2/LRR1/H2AFZ/GMNN/ARL6IP1/CCT6A/CSE1L/HNRNPA2B1/TPI1/PSMA7/CENPM/SNRPF/TUBG1/CKAP5/KPNA2/ALYREF/XPO1/COX5A/PCNA/CENPX/LAPTM4B/H2AFV/MCM4/FAM136A/CKS1B/DNMT1 | 103 |\n",
       "| Proliferation_Cluster_BMC.Med.Genomics.2011_PMID.21214954 | Proliferation_Cluster_BMC.Med.Genomics.2011_PMID.21214954   | Proliferation_Cluster_BMC.Med.Genomics.2011_PMID.21214954   | 60/410  | 121/19993 | 3.984606e-69 | 7.112521e-67 | 4.802499e-67 | TOP2A/CDK1/MKI67/UBE2C/TPX2/PCLAF/CENPF/NEK2/SPC25/PRC1/MYBL2/ZWINT/PBK/SHCBP1/TROAP/KIF4A/ASPM/KIF11/CEP55/CCNB2/CDC20/NCAPH/MAD2L1/KIF2C/HMMR/CCNA2/E2F1/RRM2/KIF23/NUSAP1/KIFC1/TK1/CENPA/RAD51AP1/ORC6/RACGAP1/CCNB1/CHEK1/AURKA/GTSE1/PTTG1/CKS2/TYMS/CENPE/STMN1/CDCA8/TUBA1B/ECT2/SMC4/UBE2S/MCM3/MIS18A/TMPO/CDKN3/H2AFZ/PSMA7/CENPM/CKAP5/PCNA/PDCD5                                                                                                                                                                                                                                                                          |  60 |\n",
       "| bMYB_Signature_Oncogene.2009_PMID.19043454 | bMYB_Signature_Oncogene.2009_PMID.19043454                  | bMYB_Signature_Oncogene.2009_PMID.19043454                  | 61/410  | 151/19993 | 2.525756e-63 | 3.005650e-61 | 2.029467e-61 | TOP2A/CDK1/UBE2C/TPX2/BIRC5/ANLN/CENPF/PRC1/MYBL2/ZWINT/PBK/PKMYT1/FAM83D/TROAP/UBE2T/ASPM/KIF11/CEP55/CCNB2/CDC20/NCAPH/MAD2L1/KIF2C/HMMR/CCNA2/RRM2/KIF23/NUSAP1/TK1/RAD51AP1/ORC6/RACGAP1/CCNB1/CENPU/PLK1/ATAD2/CKS2/KIF20B/HMGB2/CENPE/RFC3/HMGB3/STMN1/CDCA8/BRCA1/ECT2/CDC25B/SMC4/VRK1/MCM3/NUDT1/CDKN3/H2AFZ/ARL6IP1/NMB/RPL39L/KPNA2/TCOF1/TM4SF1/MCM4/CKS1B                                                                                                                                                                                                                                                                 |  61 |\n",
       "| MProliferation_BMC.Med.Genomics.2011_PMID.21214954 | MProliferation_BMC.Med.Genomics.2011_PMID.21214954          | MProliferation_BMC.Med.Genomics.2011_PMID.21214954          | 59/410  | 145/19993 | 1.820109e-61 | 1.624447e-59 | 1.096855e-59 | TOP2A/CDK1/UBE2C/TPX2/BIRC5/CENPF/NEK2/SGO1/SPC25/PRC1/PBK/SHCBP1/PKMYT1/FAM83D/KIF4A/UBE2T/ASPM/KIF11/CEP55/CCNB2/CDC20/KNL1/NUF2/MAD2L1/CCNA2/RRM2/NUSAP1/TK1/CENPA/HELLS/RAD51AP1/RACGAP1/CCNB1/CHEK1/PLK1/AURKA/GTSE1/CENPH/FANCI/CKS2/KIF20B/HMGB2/TYMS/CENPE/RFC3/STMN1/CDCA8/BRCA1/ECT2/DUT/SGO2/SMC4/SMC2/MCM3/RRM1/CKAP2/PCNA/MCM4/DNMT1                                                                                                                                                                                                                                                                                      |  59 |\n",
       "| UNC_HS_Red23_BMC.Med.Genomics.2011_PMID.21214954 | UNC_HS_Red23_BMC.Med.Genomics.2011_PMID.21214954            | UNC_HS_Red23_BMC.Med.Genomics.2011_PMID.21214954            | 57/410  | 132/19993 | 3.256321e-61 | 2.325013e-59 | 1.569889e-59 | TOP2A/CDK1/MKI67/UBE2C/TPX2/PCLAF/CENPF/NEK2/SPC25/PRC1/ZWINT/PBK/TROAP/KIF4A/ASPM/KIF11/CEP55/CCNB2/CDC20/NCAPH/MAD2L1/KIF2C/HMMR/CCNA2/E2F1/RRM2/KIF23/NUSAP1/KIFC1/TK1/CENPA/HELLS/RAD51AP1/RACGAP1/CCNB1/AURKA/ATAD2/PTTG1/CKS2/TYMS/BARD1/CENPE/CDCA8/ECT2/SMC4/UBE2S/SMC2/JPT1/NUDT1/CDKN3/CKAP2/H2AFZ/CENPM/TUBG1/CKAP5/PCNA/DNMT1                                                                                                                                                                                                                                                                                              |  57 |\n",
       "| UNC_HS_Green10_BMC.Med.Genomics.2011_PMID.21214954 | UNC_HS_Green10_BMC.Med.Genomics.2011_PMID.21214954          | UNC_HS_Green10_BMC.Med.Genomics.2011_PMID.21214954          | 65/410  | 267/19993 | 3.865961e-51 | 2.300247e-49 | 1.553167e-49 | TOP2A/CDK1/MKI67/UBE2C/TPX2/PCLAF/CENPF/NEK2/SPC25/PRC1/MYBL2/ZWINT/PBK/SHCBP1/TROAP/KIF4A/ASPM/KIF11/CEP55/CCNB2/CDC20/NCAPH/MAD2L1/KIF2C/HMMR/CCNA2/E2F1/RRM2/KIF23/NUSAP1/KIFC1/TK1/CENPA/HELLS/RAD51AP1/ORC6/RACGAP1/CCNB1/CHEK1/AURKA/GTSE1/S100A9/PTTG1/CKS2/TYMS/CENPE/HMGB3/CDCA8/BTG3/ECT2/CDC25B/UBE2S/JPT1/NUDT1/LY6E/CDKN3/CKAP2/GMNN/CENPM/TUBB4B/SNRPB/PCNA/LAPTM4B/NASP/RSRC1                                                                                                                                                                                                                                           |  65 |\n",
       "\n"
      ],
      "text/plain": [
       "                                                            ID                                                         \n",
       "Wirapati_Proliferation_Breast.Cancer.Res.2008_PMID.18662380 Wirapati_Proliferation_Breast.Cancer.Res.2008_PMID.18662380\n",
       "Proliferation_Cluster_BMC.Med.Genomics.2011_PMID.21214954   Proliferation_Cluster_BMC.Med.Genomics.2011_PMID.21214954  \n",
       "bMYB_Signature_Oncogene.2009_PMID.19043454                  bMYB_Signature_Oncogene.2009_PMID.19043454                 \n",
       "MProliferation_BMC.Med.Genomics.2011_PMID.21214954          MProliferation_BMC.Med.Genomics.2011_PMID.21214954         \n",
       "UNC_HS_Red23_BMC.Med.Genomics.2011_PMID.21214954            UNC_HS_Red23_BMC.Med.Genomics.2011_PMID.21214954           \n",
       "UNC_HS_Green10_BMC.Med.Genomics.2011_PMID.21214954          UNC_HS_Green10_BMC.Med.Genomics.2011_PMID.21214954         \n",
       "                                                            Description                                                \n",
       "Wirapati_Proliferation_Breast.Cancer.Res.2008_PMID.18662380 Wirapati_Proliferation_Breast.Cancer.Res.2008_PMID.18662380\n",
       "Proliferation_Cluster_BMC.Med.Genomics.2011_PMID.21214954   Proliferation_Cluster_BMC.Med.Genomics.2011_PMID.21214954  \n",
       "bMYB_Signature_Oncogene.2009_PMID.19043454                  bMYB_Signature_Oncogene.2009_PMID.19043454                 \n",
       "MProliferation_BMC.Med.Genomics.2011_PMID.21214954          MProliferation_BMC.Med.Genomics.2011_PMID.21214954         \n",
       "UNC_HS_Red23_BMC.Med.Genomics.2011_PMID.21214954            UNC_HS_Red23_BMC.Med.Genomics.2011_PMID.21214954           \n",
       "UNC_HS_Green10_BMC.Med.Genomics.2011_PMID.21214954          UNC_HS_Green10_BMC.Med.Genomics.2011_PMID.21214954         \n",
       "                                                            GeneRatio BgRatio  \n",
       "Wirapati_Proliferation_Breast.Cancer.Res.2008_PMID.18662380 103/410   354/19993\n",
       "Proliferation_Cluster_BMC.Med.Genomics.2011_PMID.21214954   60/410    121/19993\n",
       "bMYB_Signature_Oncogene.2009_PMID.19043454                  61/410    151/19993\n",
       "MProliferation_BMC.Med.Genomics.2011_PMID.21214954          59/410    145/19993\n",
       "UNC_HS_Red23_BMC.Med.Genomics.2011_PMID.21214954            57/410    132/19993\n",
       "UNC_HS_Green10_BMC.Med.Genomics.2011_PMID.21214954          65/410    267/19993\n",
       "                                                            pvalue      \n",
       "Wirapati_Proliferation_Breast.Cancer.Res.2008_PMID.18662380 6.765447e-91\n",
       "Proliferation_Cluster_BMC.Med.Genomics.2011_PMID.21214954   3.984606e-69\n",
       "bMYB_Signature_Oncogene.2009_PMID.19043454                  2.525756e-63\n",
       "MProliferation_BMC.Med.Genomics.2011_PMID.21214954          1.820109e-61\n",
       "UNC_HS_Red23_BMC.Med.Genomics.2011_PMID.21214954            3.256321e-61\n",
       "UNC_HS_Green10_BMC.Med.Genomics.2011_PMID.21214954          3.865961e-51\n",
       "                                                            p.adjust    \n",
       "Wirapati_Proliferation_Breast.Cancer.Res.2008_PMID.18662380 2.415265e-88\n",
       "Proliferation_Cluster_BMC.Med.Genomics.2011_PMID.21214954   7.112521e-67\n",
       "bMYB_Signature_Oncogene.2009_PMID.19043454                  3.005650e-61\n",
       "MProliferation_BMC.Med.Genomics.2011_PMID.21214954          1.624447e-59\n",
       "UNC_HS_Red23_BMC.Med.Genomics.2011_PMID.21214954            2.325013e-59\n",
       "UNC_HS_Green10_BMC.Med.Genomics.2011_PMID.21214954          2.300247e-49\n",
       "                                                            qvalue      \n",
       "Wirapati_Proliferation_Breast.Cancer.Res.2008_PMID.18662380 1.630829e-88\n",
       "Proliferation_Cluster_BMC.Med.Genomics.2011_PMID.21214954   4.802499e-67\n",
       "bMYB_Signature_Oncogene.2009_PMID.19043454                  2.029467e-61\n",
       "MProliferation_BMC.Med.Genomics.2011_PMID.21214954          1.096855e-59\n",
       "UNC_HS_Red23_BMC.Med.Genomics.2011_PMID.21214954            1.569889e-59\n",
       "UNC_HS_Green10_BMC.Med.Genomics.2011_PMID.21214954          1.553167e-49\n",
       "                                                            geneID                                                                                                                                                                                                                                                                                                                                                                                                                                                                                                                                                                                                                                \n",
       "Wirapati_Proliferation_Breast.Cancer.Res.2008_PMID.18662380 TOP2A/CDK1/MKI67/UBE2C/TPX2/BIRC5/ANLN/PCLAF/CENPF/IQGAP3/NEK2/SPC25/PRC1/MYBL2/ZWINT/PBK/SHCBP1/PKMYT1/FAM83D/TROAP/KIF4A/UBE2T/ASPM/KIF11/DIAPH3/CENPK/CEP55/CCNB2/CDC20/KNL1/NCAPH/NUF2/MAD2L1/KIF2C/HMMR/CCNA2/E2F1/RRM2/KIF23/NUSAP1/KIFC1/TK1/CENPA/HELLS/RAD51AP1/CENPW/ORC6/RACGAP1/CCNB1/CENPU/CHEK1/PLK1/AURKA/ATAD2/GTSE1/PTTG1/FANCI/CKS2/HMGB2/TYMS/CENPE/HMGB3/STMN1/CDCA8/TUBA1B/ECT2/CDC25B/SMC4/UBE2S/VRK1/MCM3/MIS18A/JPT1/NUDT1/DTYMK/CDKN3/SNRPD1/CKAP2/LRR1/H2AFZ/GMNN/ARL6IP1/CCT6A/CSE1L/HNRNPA2B1/TPI1/PSMA7/CENPM/SNRPF/TUBG1/CKAP5/KPNA2/ALYREF/XPO1/COX5A/PCNA/CENPX/LAPTM4B/H2AFV/MCM4/FAM136A/CKS1B/DNMT1\n",
       "Proliferation_Cluster_BMC.Med.Genomics.2011_PMID.21214954   TOP2A/CDK1/MKI67/UBE2C/TPX2/PCLAF/CENPF/NEK2/SPC25/PRC1/MYBL2/ZWINT/PBK/SHCBP1/TROAP/KIF4A/ASPM/KIF11/CEP55/CCNB2/CDC20/NCAPH/MAD2L1/KIF2C/HMMR/CCNA2/E2F1/RRM2/KIF23/NUSAP1/KIFC1/TK1/CENPA/RAD51AP1/ORC6/RACGAP1/CCNB1/CHEK1/AURKA/GTSE1/PTTG1/CKS2/TYMS/CENPE/STMN1/CDCA8/TUBA1B/ECT2/SMC4/UBE2S/MCM3/MIS18A/TMPO/CDKN3/H2AFZ/PSMA7/CENPM/CKAP5/PCNA/PDCD5                                                                                                                                                                                                                                                                         \n",
       "bMYB_Signature_Oncogene.2009_PMID.19043454                  TOP2A/CDK1/UBE2C/TPX2/BIRC5/ANLN/CENPF/PRC1/MYBL2/ZWINT/PBK/PKMYT1/FAM83D/TROAP/UBE2T/ASPM/KIF11/CEP55/CCNB2/CDC20/NCAPH/MAD2L1/KIF2C/HMMR/CCNA2/RRM2/KIF23/NUSAP1/TK1/RAD51AP1/ORC6/RACGAP1/CCNB1/CENPU/PLK1/ATAD2/CKS2/KIF20B/HMGB2/CENPE/RFC3/HMGB3/STMN1/CDCA8/BRCA1/ECT2/CDC25B/SMC4/VRK1/MCM3/NUDT1/CDKN3/H2AFZ/ARL6IP1/NMB/RPL39L/KPNA2/TCOF1/TM4SF1/MCM4/CKS1B                                                                                                                                                                                                                                                                \n",
       "MProliferation_BMC.Med.Genomics.2011_PMID.21214954          TOP2A/CDK1/UBE2C/TPX2/BIRC5/CENPF/NEK2/SGO1/SPC25/PRC1/PBK/SHCBP1/PKMYT1/FAM83D/KIF4A/UBE2T/ASPM/KIF11/CEP55/CCNB2/CDC20/KNL1/NUF2/MAD2L1/CCNA2/RRM2/NUSAP1/TK1/CENPA/HELLS/RAD51AP1/RACGAP1/CCNB1/CHEK1/PLK1/AURKA/GTSE1/CENPH/FANCI/CKS2/KIF20B/HMGB2/TYMS/CENPE/RFC3/STMN1/CDCA8/BRCA1/ECT2/DUT/SGO2/SMC4/SMC2/MCM3/RRM1/CKAP2/PCNA/MCM4/DNMT1                                                                                                                                                                                                                                                                                     \n",
       "UNC_HS_Red23_BMC.Med.Genomics.2011_PMID.21214954            TOP2A/CDK1/MKI67/UBE2C/TPX2/PCLAF/CENPF/NEK2/SPC25/PRC1/ZWINT/PBK/TROAP/KIF4A/ASPM/KIF11/CEP55/CCNB2/CDC20/NCAPH/MAD2L1/KIF2C/HMMR/CCNA2/E2F1/RRM2/KIF23/NUSAP1/KIFC1/TK1/CENPA/HELLS/RAD51AP1/RACGAP1/CCNB1/AURKA/ATAD2/PTTG1/CKS2/TYMS/BARD1/CENPE/CDCA8/ECT2/SMC4/UBE2S/SMC2/JPT1/NUDT1/CDKN3/CKAP2/H2AFZ/CENPM/TUBG1/CKAP5/PCNA/DNMT1                                                                                                                                                                                                                                                                                             \n",
       "UNC_HS_Green10_BMC.Med.Genomics.2011_PMID.21214954          TOP2A/CDK1/MKI67/UBE2C/TPX2/PCLAF/CENPF/NEK2/SPC25/PRC1/MYBL2/ZWINT/PBK/SHCBP1/TROAP/KIF4A/ASPM/KIF11/CEP55/CCNB2/CDC20/NCAPH/MAD2L1/KIF2C/HMMR/CCNA2/E2F1/RRM2/KIF23/NUSAP1/KIFC1/TK1/CENPA/HELLS/RAD51AP1/ORC6/RACGAP1/CCNB1/CHEK1/AURKA/GTSE1/S100A9/PTTG1/CKS2/TYMS/CENPE/HMGB3/CDCA8/BTG3/ECT2/CDC25B/UBE2S/JPT1/NUDT1/LY6E/CDKN3/CKAP2/GMNN/CENPM/TUBB4B/SNRPB/PCNA/LAPTM4B/NASP/RSRC1                                                                                                                                                                                                                                          \n",
       "                                                            Count\n",
       "Wirapati_Proliferation_Breast.Cancer.Res.2008_PMID.18662380 103  \n",
       "Proliferation_Cluster_BMC.Med.Genomics.2011_PMID.21214954    60  \n",
       "bMYB_Signature_Oncogene.2009_PMID.19043454                   61  \n",
       "MProliferation_BMC.Med.Genomics.2011_PMID.21214954           59  \n",
       "UNC_HS_Red23_BMC.Med.Genomics.2011_PMID.21214954             57  \n",
       "UNC_HS_Green10_BMC.Med.Genomics.2011_PMID.21214954           65  "
      ]
     },
     "metadata": {},
     "output_type": "display_data"
    },
    {
     "data": {
      "text/html": [
       "<style>\n",
       ".list-inline {list-style: none; margin:0; padding: 0}\n",
       ".list-inline>li {display: inline-block}\n",
       ".list-inline>li:not(:last-child)::after {content: \"\\00b7\"; padding: 0 .5ex}\n",
       "</style>\n",
       "<ol class=list-inline><li>96</li><li>9</li></ol>\n"
      ],
      "text/latex": [
       "\\begin{enumerate*}\n",
       "\\item 96\n",
       "\\item 9\n",
       "\\end{enumerate*}\n"
      ],
      "text/markdown": [
       "1. 96\n",
       "2. 9\n",
       "\n",
       "\n"
      ],
      "text/plain": [
       "[1] 96  9"
      ]
     },
     "metadata": {},
     "output_type": "display_data"
    },
    {
     "data": {
      "text/html": [
       "<hr style=\"height:1px\">"
      ]
     },
     "metadata": {},
     "output_type": "display_data"
    },
    {
     "data": {
      "text/html": [
       "down h"
      ]
     },
     "metadata": {},
     "output_type": "display_data"
    },
    {
     "data": {
      "text/html": [
       "<table class=\"dataframe\">\n",
       "<caption>A data.frame: 6 × 9</caption>\n",
       "<thead>\n",
       "\t<tr><th></th><th scope=col>ID</th><th scope=col>Description</th><th scope=col>GeneRatio</th><th scope=col>BgRatio</th><th scope=col>pvalue</th><th scope=col>p.adjust</th><th scope=col>qvalue</th><th scope=col>geneID</th><th scope=col>Count</th></tr>\n",
       "\t<tr><th></th><th scope=col>&lt;chr&gt;</th><th scope=col>&lt;chr&gt;</th><th scope=col>&lt;chr&gt;</th><th scope=col>&lt;chr&gt;</th><th scope=col>&lt;dbl&gt;</th><th scope=col>&lt;dbl&gt;</th><th scope=col>&lt;dbl&gt;</th><th scope=col>&lt;chr&gt;</th><th scope=col>&lt;int&gt;</th></tr>\n",
       "</thead>\n",
       "<tbody>\n",
       "\t<tr><th scope=row>HALLMARK_UNFOLDED_PROTEIN_RESPONSE</th><td>HALLMARK_UNFOLDED_PROTEIN_RESPONSE</td><td>HALLMARK_UNFOLDED_PROTEIN_RESPONSE</td><td>21/85</td><td>113/4386</td><td>7.263414e-16</td><td>2.832732e-14</td><td>2.064339e-14</td><td>SERP1/HSPA5/DDX10/HERPUD1/ATF4/ASNS/CEBPG/DNAJC3/MTHFD2/DNAJB9/DDIT4/IARS/ATF3/SEC31A/PDIA6/CALR/VEGFA/HSP90B1/SSR1/FKBP14/PDIA5                          </td><td>21</td></tr>\n",
       "\t<tr><th scope=row>HALLMARK_MTORC1_SIGNALING</th><td>HALLMARK_MTORC1_SIGNALING         </td><td>HALLMARK_MTORC1_SIGNALING         </td><td>25/85</td><td>200/4386</td><td>1.357551e-14</td><td>2.647225e-13</td><td>1.929152e-13</td><td>NUPR1/SERP1/HSPA5/SQSTM1/SDF2L1/TRIB3/DDIT3/ASNS/TCEA1/MTHFD2/TUBA4A/SQLE/HMGCR/PHGDH/HMGCS1/FAM129A/IDI1/DDIT4/SLC7A11/CALR/EPRS/HSP90B1/GOT1/TXNRD1/SSR1</td><td>25</td></tr>\n",
       "\t<tr><th scope=row>HALLMARK_CHOLESTEROL_HOMEOSTASIS</th><td>HALLMARK_CHOLESTEROL_HOMEOSTASIS  </td><td>HALLMARK_CHOLESTEROL_HOMEOSTASIS  </td><td>9/85 </td><td>74/4386 </td><td>9.945769e-06</td><td>1.292950e-04</td><td>9.422308e-05</td><td>TRIB3/STX5/SQLE/HMGCR/HMGCS1/FAM129A/IDI1/ATF3/PNRC1                                                                                                      </td><td> 9</td></tr>\n",
       "\t<tr><th scope=row>HALLMARK_ANDROGEN_RESPONSE</th><td>HALLMARK_ANDROGEN_RESPONSE        </td><td>HALLMARK_ANDROGEN_RESPONSE        </td><td>8/85 </td><td>101/4386</td><td>6.663101e-04</td><td>6.496524e-03</td><td>4.734309e-03</td><td>HOMER2/PGM3/LMAN1/DNAJB9/HMGCR/HMGCS1/IDI1/SLC38A2                                                                                                        </td><td> 8</td></tr>\n",
       "\t<tr><th scope=row>HALLMARK_PROTEIN_SECRETION</th><td>HALLMARK_PROTEIN_SECRETION        </td><td>HALLMARK_PROTEIN_SECRETION        </td><td>7/85 </td><td>96/4386 </td><td>2.368809e-03</td><td>1.847671e-02</td><td>1.346481e-02</td><td>ARFGAP3/LMAN1/COPE/SEC31A/RAB9A/ARF1/DST                                                                                                                  </td><td> 7</td></tr>\n",
       "\t<tr><th scope=row>HALLMARK_UV_RESPONSE_UP</th><td>HALLMARK_UV_RESPONSE_UP           </td><td>HALLMARK_UV_RESPONSE_UP           </td><td>9/85 </td><td>158/4386</td><td>3.206121e-03</td><td>2.083978e-02</td><td>1.518689e-02</td><td>SQSTM1/ASNS/CEBPG/TUBA4A/HMOX1/BTG1/ATF3/DDX21/HSPA13                                                                                                     </td><td> 9</td></tr>\n",
       "</tbody>\n",
       "</table>\n"
      ],
      "text/latex": [
       "A data.frame: 6 × 9\n",
       "\\begin{tabular}{r|lllllllll}\n",
       "  & ID & Description & GeneRatio & BgRatio & pvalue & p.adjust & qvalue & geneID & Count\\\\\n",
       "  & <chr> & <chr> & <chr> & <chr> & <dbl> & <dbl> & <dbl> & <chr> & <int>\\\\\n",
       "\\hline\n",
       "\tHALLMARK\\_UNFOLDED\\_PROTEIN\\_RESPONSE & HALLMARK\\_UNFOLDED\\_PROTEIN\\_RESPONSE & HALLMARK\\_UNFOLDED\\_PROTEIN\\_RESPONSE & 21/85 & 113/4386 & 7.263414e-16 & 2.832732e-14 & 2.064339e-14 & SERP1/HSPA5/DDX10/HERPUD1/ATF4/ASNS/CEBPG/DNAJC3/MTHFD2/DNAJB9/DDIT4/IARS/ATF3/SEC31A/PDIA6/CALR/VEGFA/HSP90B1/SSR1/FKBP14/PDIA5                           & 21\\\\\n",
       "\tHALLMARK\\_MTORC1\\_SIGNALING & HALLMARK\\_MTORC1\\_SIGNALING          & HALLMARK\\_MTORC1\\_SIGNALING          & 25/85 & 200/4386 & 1.357551e-14 & 2.647225e-13 & 1.929152e-13 & NUPR1/SERP1/HSPA5/SQSTM1/SDF2L1/TRIB3/DDIT3/ASNS/TCEA1/MTHFD2/TUBA4A/SQLE/HMGCR/PHGDH/HMGCS1/FAM129A/IDI1/DDIT4/SLC7A11/CALR/EPRS/HSP90B1/GOT1/TXNRD1/SSR1 & 25\\\\\n",
       "\tHALLMARK\\_CHOLESTEROL\\_HOMEOSTASIS & HALLMARK\\_CHOLESTEROL\\_HOMEOSTASIS   & HALLMARK\\_CHOLESTEROL\\_HOMEOSTASIS   & 9/85  & 74/4386  & 9.945769e-06 & 1.292950e-04 & 9.422308e-05 & TRIB3/STX5/SQLE/HMGCR/HMGCS1/FAM129A/IDI1/ATF3/PNRC1                                                                                                       &  9\\\\\n",
       "\tHALLMARK\\_ANDROGEN\\_RESPONSE & HALLMARK\\_ANDROGEN\\_RESPONSE         & HALLMARK\\_ANDROGEN\\_RESPONSE         & 8/85  & 101/4386 & 6.663101e-04 & 6.496524e-03 & 4.734309e-03 & HOMER2/PGM3/LMAN1/DNAJB9/HMGCR/HMGCS1/IDI1/SLC38A2                                                                                                         &  8\\\\\n",
       "\tHALLMARK\\_PROTEIN\\_SECRETION & HALLMARK\\_PROTEIN\\_SECRETION         & HALLMARK\\_PROTEIN\\_SECRETION         & 7/85  & 96/4386  & 2.368809e-03 & 1.847671e-02 & 1.346481e-02 & ARFGAP3/LMAN1/COPE/SEC31A/RAB9A/ARF1/DST                                                                                                                   &  7\\\\\n",
       "\tHALLMARK\\_UV\\_RESPONSE\\_UP & HALLMARK\\_UV\\_RESPONSE\\_UP            & HALLMARK\\_UV\\_RESPONSE\\_UP            & 9/85  & 158/4386 & 3.206121e-03 & 2.083978e-02 & 1.518689e-02 & SQSTM1/ASNS/CEBPG/TUBA4A/HMOX1/BTG1/ATF3/DDX21/HSPA13                                                                                                      &  9\\\\\n",
       "\\end{tabular}\n"
      ],
      "text/markdown": [
       "\n",
       "A data.frame: 6 × 9\n",
       "\n",
       "| <!--/--> | ID &lt;chr&gt; | Description &lt;chr&gt; | GeneRatio &lt;chr&gt; | BgRatio &lt;chr&gt; | pvalue &lt;dbl&gt; | p.adjust &lt;dbl&gt; | qvalue &lt;dbl&gt; | geneID &lt;chr&gt; | Count &lt;int&gt; |\n",
       "|---|---|---|---|---|---|---|---|---|---|\n",
       "| HALLMARK_UNFOLDED_PROTEIN_RESPONSE | HALLMARK_UNFOLDED_PROTEIN_RESPONSE | HALLMARK_UNFOLDED_PROTEIN_RESPONSE | 21/85 | 113/4386 | 7.263414e-16 | 2.832732e-14 | 2.064339e-14 | SERP1/HSPA5/DDX10/HERPUD1/ATF4/ASNS/CEBPG/DNAJC3/MTHFD2/DNAJB9/DDIT4/IARS/ATF3/SEC31A/PDIA6/CALR/VEGFA/HSP90B1/SSR1/FKBP14/PDIA5                           | 21 |\n",
       "| HALLMARK_MTORC1_SIGNALING | HALLMARK_MTORC1_SIGNALING          | HALLMARK_MTORC1_SIGNALING          | 25/85 | 200/4386 | 1.357551e-14 | 2.647225e-13 | 1.929152e-13 | NUPR1/SERP1/HSPA5/SQSTM1/SDF2L1/TRIB3/DDIT3/ASNS/TCEA1/MTHFD2/TUBA4A/SQLE/HMGCR/PHGDH/HMGCS1/FAM129A/IDI1/DDIT4/SLC7A11/CALR/EPRS/HSP90B1/GOT1/TXNRD1/SSR1 | 25 |\n",
       "| HALLMARK_CHOLESTEROL_HOMEOSTASIS | HALLMARK_CHOLESTEROL_HOMEOSTASIS   | HALLMARK_CHOLESTEROL_HOMEOSTASIS   | 9/85  | 74/4386  | 9.945769e-06 | 1.292950e-04 | 9.422308e-05 | TRIB3/STX5/SQLE/HMGCR/HMGCS1/FAM129A/IDI1/ATF3/PNRC1                                                                                                       |  9 |\n",
       "| HALLMARK_ANDROGEN_RESPONSE | HALLMARK_ANDROGEN_RESPONSE         | HALLMARK_ANDROGEN_RESPONSE         | 8/85  | 101/4386 | 6.663101e-04 | 6.496524e-03 | 4.734309e-03 | HOMER2/PGM3/LMAN1/DNAJB9/HMGCR/HMGCS1/IDI1/SLC38A2                                                                                                         |  8 |\n",
       "| HALLMARK_PROTEIN_SECRETION | HALLMARK_PROTEIN_SECRETION         | HALLMARK_PROTEIN_SECRETION         | 7/85  | 96/4386  | 2.368809e-03 | 1.847671e-02 | 1.346481e-02 | ARFGAP3/LMAN1/COPE/SEC31A/RAB9A/ARF1/DST                                                                                                                   |  7 |\n",
       "| HALLMARK_UV_RESPONSE_UP | HALLMARK_UV_RESPONSE_UP            | HALLMARK_UV_RESPONSE_UP            | 9/85  | 158/4386 | 3.206121e-03 | 2.083978e-02 | 1.518689e-02 | SQSTM1/ASNS/CEBPG/TUBA4A/HMOX1/BTG1/ATF3/DDX21/HSPA13                                                                                                      |  9 |\n",
       "\n"
      ],
      "text/plain": [
       "                                   ID                                \n",
       "HALLMARK_UNFOLDED_PROTEIN_RESPONSE HALLMARK_UNFOLDED_PROTEIN_RESPONSE\n",
       "HALLMARK_MTORC1_SIGNALING          HALLMARK_MTORC1_SIGNALING         \n",
       "HALLMARK_CHOLESTEROL_HOMEOSTASIS   HALLMARK_CHOLESTEROL_HOMEOSTASIS  \n",
       "HALLMARK_ANDROGEN_RESPONSE         HALLMARK_ANDROGEN_RESPONSE        \n",
       "HALLMARK_PROTEIN_SECRETION         HALLMARK_PROTEIN_SECRETION        \n",
       "HALLMARK_UV_RESPONSE_UP            HALLMARK_UV_RESPONSE_UP           \n",
       "                                   Description                        GeneRatio\n",
       "HALLMARK_UNFOLDED_PROTEIN_RESPONSE HALLMARK_UNFOLDED_PROTEIN_RESPONSE 21/85    \n",
       "HALLMARK_MTORC1_SIGNALING          HALLMARK_MTORC1_SIGNALING          25/85    \n",
       "HALLMARK_CHOLESTEROL_HOMEOSTASIS   HALLMARK_CHOLESTEROL_HOMEOSTASIS   9/85     \n",
       "HALLMARK_ANDROGEN_RESPONSE         HALLMARK_ANDROGEN_RESPONSE         8/85     \n",
       "HALLMARK_PROTEIN_SECRETION         HALLMARK_PROTEIN_SECRETION         7/85     \n",
       "HALLMARK_UV_RESPONSE_UP            HALLMARK_UV_RESPONSE_UP            9/85     \n",
       "                                   BgRatio  pvalue       p.adjust    \n",
       "HALLMARK_UNFOLDED_PROTEIN_RESPONSE 113/4386 7.263414e-16 2.832732e-14\n",
       "HALLMARK_MTORC1_SIGNALING          200/4386 1.357551e-14 2.647225e-13\n",
       "HALLMARK_CHOLESTEROL_HOMEOSTASIS   74/4386  9.945769e-06 1.292950e-04\n",
       "HALLMARK_ANDROGEN_RESPONSE         101/4386 6.663101e-04 6.496524e-03\n",
       "HALLMARK_PROTEIN_SECRETION         96/4386  2.368809e-03 1.847671e-02\n",
       "HALLMARK_UV_RESPONSE_UP            158/4386 3.206121e-03 2.083978e-02\n",
       "                                   qvalue      \n",
       "HALLMARK_UNFOLDED_PROTEIN_RESPONSE 2.064339e-14\n",
       "HALLMARK_MTORC1_SIGNALING          1.929152e-13\n",
       "HALLMARK_CHOLESTEROL_HOMEOSTASIS   9.422308e-05\n",
       "HALLMARK_ANDROGEN_RESPONSE         4.734309e-03\n",
       "HALLMARK_PROTEIN_SECRETION         1.346481e-02\n",
       "HALLMARK_UV_RESPONSE_UP            1.518689e-02\n",
       "                                   geneID                                                                                                                                                    \n",
       "HALLMARK_UNFOLDED_PROTEIN_RESPONSE SERP1/HSPA5/DDX10/HERPUD1/ATF4/ASNS/CEBPG/DNAJC3/MTHFD2/DNAJB9/DDIT4/IARS/ATF3/SEC31A/PDIA6/CALR/VEGFA/HSP90B1/SSR1/FKBP14/PDIA5                          \n",
       "HALLMARK_MTORC1_SIGNALING          NUPR1/SERP1/HSPA5/SQSTM1/SDF2L1/TRIB3/DDIT3/ASNS/TCEA1/MTHFD2/TUBA4A/SQLE/HMGCR/PHGDH/HMGCS1/FAM129A/IDI1/DDIT4/SLC7A11/CALR/EPRS/HSP90B1/GOT1/TXNRD1/SSR1\n",
       "HALLMARK_CHOLESTEROL_HOMEOSTASIS   TRIB3/STX5/SQLE/HMGCR/HMGCS1/FAM129A/IDI1/ATF3/PNRC1                                                                                                      \n",
       "HALLMARK_ANDROGEN_RESPONSE         HOMER2/PGM3/LMAN1/DNAJB9/HMGCR/HMGCS1/IDI1/SLC38A2                                                                                                        \n",
       "HALLMARK_PROTEIN_SECRETION         ARFGAP3/LMAN1/COPE/SEC31A/RAB9A/ARF1/DST                                                                                                                  \n",
       "HALLMARK_UV_RESPONSE_UP            SQSTM1/ASNS/CEBPG/TUBA4A/HMOX1/BTG1/ATF3/DDX21/HSPA13                                                                                                     \n",
       "                                   Count\n",
       "HALLMARK_UNFOLDED_PROTEIN_RESPONSE 21   \n",
       "HALLMARK_MTORC1_SIGNALING          25   \n",
       "HALLMARK_CHOLESTEROL_HOMEOSTASIS    9   \n",
       "HALLMARK_ANDROGEN_RESPONSE          8   \n",
       "HALLMARK_PROTEIN_SECRETION          7   \n",
       "HALLMARK_UV_RESPONSE_UP             9   "
      ]
     },
     "metadata": {},
     "output_type": "display_data"
    },
    {
     "data": {
      "text/html": [
       "<style>\n",
       ".list-inline {list-style: none; margin:0; padding: 0}\n",
       ".list-inline>li {display: inline-block}\n",
       ".list-inline>li:not(:last-child)::after {content: \"\\00b7\"; padding: 0 .5ex}\n",
       "</style>\n",
       "<ol class=list-inline><li>9</li><li>9</li></ol>\n"
      ],
      "text/latex": [
       "\\begin{enumerate*}\n",
       "\\item 9\n",
       "\\item 9\n",
       "\\end{enumerate*}\n"
      ],
      "text/markdown": [
       "1. 9\n",
       "2. 9\n",
       "\n",
       "\n"
      ],
      "text/plain": [
       "[1] 9 9"
      ]
     },
     "metadata": {},
     "output_type": "display_data"
    },
    {
     "data": {
      "text/html": [
       "down unc_lccc"
      ]
     },
     "metadata": {},
     "output_type": "display_data"
    },
    {
     "data": {
      "text/html": [
       "<table class=\"dataframe\">\n",
       "<caption>A data.frame: 6 × 9</caption>\n",
       "<thead>\n",
       "\t<tr><th></th><th scope=col>ID</th><th scope=col>Description</th><th scope=col>GeneRatio</th><th scope=col>BgRatio</th><th scope=col>pvalue</th><th scope=col>p.adjust</th><th scope=col>qvalue</th><th scope=col>geneID</th><th scope=col>Count</th></tr>\n",
       "\t<tr><th></th><th scope=col>&lt;chr&gt;</th><th scope=col>&lt;chr&gt;</th><th scope=col>&lt;chr&gt;</th><th scope=col>&lt;chr&gt;</th><th scope=col>&lt;dbl&gt;</th><th scope=col>&lt;dbl&gt;</th><th scope=col>&lt;dbl&gt;</th><th scope=col>&lt;chr&gt;</th><th scope=col>&lt;int&gt;</th></tr>\n",
       "</thead>\n",
       "<tbody>\n",
       "\t<tr><th scope=row>Duke_Module07_glucosedepletion_Mike_PMID.20335537</th><td>Duke_Module07_glucosedepletion_Mike_PMID.20335537 </td><td>Duke_Module07_glucosedepletion_Mike_PMID.20335537 </td><td>9/179 </td><td>27/19993 </td><td>1.232005e-12</td><td>2.993772e-10</td><td>2.295420e-10</td><td>SLC3A2/HERPUD1/SDF2L1/DNAJB9/DDIT4/SLC38A2/MAP1LC3B/EPRS/CALU                                                                                               </td><td> 9</td></tr>\n",
       "\t<tr><th scope=row>UNC_HS_Red22_BMC.Med.Genomics.2011_PMID.21214954</th><td>UNC_HS_Red22_BMC.Med.Genomics.2011_PMID.21214954  </td><td>UNC_HS_Red22_BMC.Med.Genomics.2011_PMID.21214954  </td><td>23/179</td><td>430/19993</td><td>6.597554e-12</td><td>8.016028e-10</td><td>6.146142e-10</td><td>SERP1/ARFGAP3/RSL24D1/GFPT1/KDELR2/MTHFD2/DNAJB9/TMED5/CCPG1/SEC61G/ARL1/IDI1/CALCOCO2/TMEM258/JMJD1C/SCFD1/RAB9A/ARL8B/MAP1LC3B/NRBF2/HSP90B1/TXNRD1/HSPA13</td><td>23</td></tr>\n",
       "\t<tr><th scope=row>GSEA_HDAC_TARGETS_DN_HELLER</th><td>GSEA_HDAC_TARGETS_DN_HELLER                       </td><td>GSEA_HDAC_TARGETS_DN_HELLER                       </td><td>17/179</td><td>290/19993</td><td>1.080710e-09</td><td>8.350578e-08</td><td>6.402653e-08</td><td>PDIA3/SERP1/HSPA5/SLC3A2/HERPUD1/ATF4/TRIB3/DDIT3/CRELD2/CEBPG/DNAJB9/CCPG1/HMOX1/SLC7A11/ATF3/CALR/PMAIP1                                                  </td><td>17</td></tr>\n",
       "\t<tr><th scope=row>UNC_HS_Red17_BMC.Med.Genomics.2011_PMID.21214954</th><td>UNC_HS_Red17_BMC.Med.Genomics.2011_PMID.21214954  </td><td>UNC_HS_Red17_BMC.Med.Genomics.2011_PMID.21214954  </td><td>18/179</td><td>335/19993</td><td>1.374581e-09</td><td>8.350578e-08</td><td>6.402653e-08</td><td>PDIA3/JUND/PPIB/PGM3/ARF4/SRPRA/LMAN1/TRAM1/PSAP/GCLM/P4HB/RAB9A/MAP1LC3B/PJA2/ARF1/TMCO3/CALU/SSR1                                                         </td><td>18</td></tr>\n",
       "\t<tr><th scope=row>UNC_Unknown_10_BMC.Med.Genomics.2011_PMID.21214954</th><td>UNC_Unknown_10_BMC.Med.Genomics.2011_PMID.21214954</td><td>UNC_Unknown_10_BMC.Med.Genomics.2011_PMID.21214954</td><td>6/179 </td><td>29/19993 </td><td>1.895944e-07</td><td>9.214289e-06</td><td>7.064887e-06</td><td>PDIA3/PPIB/SLC39A7/KDELR2/TMED9/PDIA5                                                                                                                       </td><td> 6</td></tr>\n",
       "\t<tr><th scope=row>UNC_HS_Red14_BMC.Med.Genomics.2011_PMID.21214954</th><td>UNC_HS_Red14_BMC.Med.Genomics.2011_PMID.21214954  </td><td>UNC_HS_Red14_BMC.Med.Genomics.2011_PMID.21214954  </td><td>12/179</td><td>241/19993</td><td>1.881719e-06</td><td>7.620963e-05</td><td>5.843233e-05</td><td>NUPR1/SEPHS2/HOMER2/VAV3/DNAJC12/TCEA1/SQLE/TRAM1/OSER1/PGRMC2/SLC38A2/RB1CC1                                                                               </td><td>12</td></tr>\n",
       "</tbody>\n",
       "</table>\n"
      ],
      "text/latex": [
       "A data.frame: 6 × 9\n",
       "\\begin{tabular}{r|lllllllll}\n",
       "  & ID & Description & GeneRatio & BgRatio & pvalue & p.adjust & qvalue & geneID & Count\\\\\n",
       "  & <chr> & <chr> & <chr> & <chr> & <dbl> & <dbl> & <dbl> & <chr> & <int>\\\\\n",
       "\\hline\n",
       "\tDuke\\_Module07\\_glucosedepletion\\_Mike\\_PMID.20335537 & Duke\\_Module07\\_glucosedepletion\\_Mike\\_PMID.20335537  & Duke\\_Module07\\_glucosedepletion\\_Mike\\_PMID.20335537  & 9/179  & 27/19993  & 1.232005e-12 & 2.993772e-10 & 2.295420e-10 & SLC3A2/HERPUD1/SDF2L1/DNAJB9/DDIT4/SLC38A2/MAP1LC3B/EPRS/CALU                                                                                                &  9\\\\\n",
       "\tUNC\\_HS\\_Red22\\_BMC.Med.Genomics.2011\\_PMID.21214954 & UNC\\_HS\\_Red22\\_BMC.Med.Genomics.2011\\_PMID.21214954   & UNC\\_HS\\_Red22\\_BMC.Med.Genomics.2011\\_PMID.21214954   & 23/179 & 430/19993 & 6.597554e-12 & 8.016028e-10 & 6.146142e-10 & SERP1/ARFGAP3/RSL24D1/GFPT1/KDELR2/MTHFD2/DNAJB9/TMED5/CCPG1/SEC61G/ARL1/IDI1/CALCOCO2/TMEM258/JMJD1C/SCFD1/RAB9A/ARL8B/MAP1LC3B/NRBF2/HSP90B1/TXNRD1/HSPA13 & 23\\\\\n",
       "\tGSEA\\_HDAC\\_TARGETS\\_DN\\_HELLER & GSEA\\_HDAC\\_TARGETS\\_DN\\_HELLER                        & GSEA\\_HDAC\\_TARGETS\\_DN\\_HELLER                        & 17/179 & 290/19993 & 1.080710e-09 & 8.350578e-08 & 6.402653e-08 & PDIA3/SERP1/HSPA5/SLC3A2/HERPUD1/ATF4/TRIB3/DDIT3/CRELD2/CEBPG/DNAJB9/CCPG1/HMOX1/SLC7A11/ATF3/CALR/PMAIP1                                                   & 17\\\\\n",
       "\tUNC\\_HS\\_Red17\\_BMC.Med.Genomics.2011\\_PMID.21214954 & UNC\\_HS\\_Red17\\_BMC.Med.Genomics.2011\\_PMID.21214954   & UNC\\_HS\\_Red17\\_BMC.Med.Genomics.2011\\_PMID.21214954   & 18/179 & 335/19993 & 1.374581e-09 & 8.350578e-08 & 6.402653e-08 & PDIA3/JUND/PPIB/PGM3/ARF4/SRPRA/LMAN1/TRAM1/PSAP/GCLM/P4HB/RAB9A/MAP1LC3B/PJA2/ARF1/TMCO3/CALU/SSR1                                                          & 18\\\\\n",
       "\tUNC\\_Unknown\\_10\\_BMC.Med.Genomics.2011\\_PMID.21214954 & UNC\\_Unknown\\_10\\_BMC.Med.Genomics.2011\\_PMID.21214954 & UNC\\_Unknown\\_10\\_BMC.Med.Genomics.2011\\_PMID.21214954 & 6/179  & 29/19993  & 1.895944e-07 & 9.214289e-06 & 7.064887e-06 & PDIA3/PPIB/SLC39A7/KDELR2/TMED9/PDIA5                                                                                                                        &  6\\\\\n",
       "\tUNC\\_HS\\_Red14\\_BMC.Med.Genomics.2011\\_PMID.21214954 & UNC\\_HS\\_Red14\\_BMC.Med.Genomics.2011\\_PMID.21214954   & UNC\\_HS\\_Red14\\_BMC.Med.Genomics.2011\\_PMID.21214954   & 12/179 & 241/19993 & 1.881719e-06 & 7.620963e-05 & 5.843233e-05 & NUPR1/SEPHS2/HOMER2/VAV3/DNAJC12/TCEA1/SQLE/TRAM1/OSER1/PGRMC2/SLC38A2/RB1CC1                                                                                & 12\\\\\n",
       "\\end{tabular}\n"
      ],
      "text/markdown": [
       "\n",
       "A data.frame: 6 × 9\n",
       "\n",
       "| <!--/--> | ID &lt;chr&gt; | Description &lt;chr&gt; | GeneRatio &lt;chr&gt; | BgRatio &lt;chr&gt; | pvalue &lt;dbl&gt; | p.adjust &lt;dbl&gt; | qvalue &lt;dbl&gt; | geneID &lt;chr&gt; | Count &lt;int&gt; |\n",
       "|---|---|---|---|---|---|---|---|---|---|\n",
       "| Duke_Module07_glucosedepletion_Mike_PMID.20335537 | Duke_Module07_glucosedepletion_Mike_PMID.20335537  | Duke_Module07_glucosedepletion_Mike_PMID.20335537  | 9/179  | 27/19993  | 1.232005e-12 | 2.993772e-10 | 2.295420e-10 | SLC3A2/HERPUD1/SDF2L1/DNAJB9/DDIT4/SLC38A2/MAP1LC3B/EPRS/CALU                                                                                                |  9 |\n",
       "| UNC_HS_Red22_BMC.Med.Genomics.2011_PMID.21214954 | UNC_HS_Red22_BMC.Med.Genomics.2011_PMID.21214954   | UNC_HS_Red22_BMC.Med.Genomics.2011_PMID.21214954   | 23/179 | 430/19993 | 6.597554e-12 | 8.016028e-10 | 6.146142e-10 | SERP1/ARFGAP3/RSL24D1/GFPT1/KDELR2/MTHFD2/DNAJB9/TMED5/CCPG1/SEC61G/ARL1/IDI1/CALCOCO2/TMEM258/JMJD1C/SCFD1/RAB9A/ARL8B/MAP1LC3B/NRBF2/HSP90B1/TXNRD1/HSPA13 | 23 |\n",
       "| GSEA_HDAC_TARGETS_DN_HELLER | GSEA_HDAC_TARGETS_DN_HELLER                        | GSEA_HDAC_TARGETS_DN_HELLER                        | 17/179 | 290/19993 | 1.080710e-09 | 8.350578e-08 | 6.402653e-08 | PDIA3/SERP1/HSPA5/SLC3A2/HERPUD1/ATF4/TRIB3/DDIT3/CRELD2/CEBPG/DNAJB9/CCPG1/HMOX1/SLC7A11/ATF3/CALR/PMAIP1                                                   | 17 |\n",
       "| UNC_HS_Red17_BMC.Med.Genomics.2011_PMID.21214954 | UNC_HS_Red17_BMC.Med.Genomics.2011_PMID.21214954   | UNC_HS_Red17_BMC.Med.Genomics.2011_PMID.21214954   | 18/179 | 335/19993 | 1.374581e-09 | 8.350578e-08 | 6.402653e-08 | PDIA3/JUND/PPIB/PGM3/ARF4/SRPRA/LMAN1/TRAM1/PSAP/GCLM/P4HB/RAB9A/MAP1LC3B/PJA2/ARF1/TMCO3/CALU/SSR1                                                          | 18 |\n",
       "| UNC_Unknown_10_BMC.Med.Genomics.2011_PMID.21214954 | UNC_Unknown_10_BMC.Med.Genomics.2011_PMID.21214954 | UNC_Unknown_10_BMC.Med.Genomics.2011_PMID.21214954 | 6/179  | 29/19993  | 1.895944e-07 | 9.214289e-06 | 7.064887e-06 | PDIA3/PPIB/SLC39A7/KDELR2/TMED9/PDIA5                                                                                                                        |  6 |\n",
       "| UNC_HS_Red14_BMC.Med.Genomics.2011_PMID.21214954 | UNC_HS_Red14_BMC.Med.Genomics.2011_PMID.21214954   | UNC_HS_Red14_BMC.Med.Genomics.2011_PMID.21214954   | 12/179 | 241/19993 | 1.881719e-06 | 7.620963e-05 | 5.843233e-05 | NUPR1/SEPHS2/HOMER2/VAV3/DNAJC12/TCEA1/SQLE/TRAM1/OSER1/PGRMC2/SLC38A2/RB1CC1                                                                                | 12 |\n",
       "\n"
      ],
      "text/plain": [
       "                                                   ID                                                \n",
       "Duke_Module07_glucosedepletion_Mike_PMID.20335537  Duke_Module07_glucosedepletion_Mike_PMID.20335537 \n",
       "UNC_HS_Red22_BMC.Med.Genomics.2011_PMID.21214954   UNC_HS_Red22_BMC.Med.Genomics.2011_PMID.21214954  \n",
       "GSEA_HDAC_TARGETS_DN_HELLER                        GSEA_HDAC_TARGETS_DN_HELLER                       \n",
       "UNC_HS_Red17_BMC.Med.Genomics.2011_PMID.21214954   UNC_HS_Red17_BMC.Med.Genomics.2011_PMID.21214954  \n",
       "UNC_Unknown_10_BMC.Med.Genomics.2011_PMID.21214954 UNC_Unknown_10_BMC.Med.Genomics.2011_PMID.21214954\n",
       "UNC_HS_Red14_BMC.Med.Genomics.2011_PMID.21214954   UNC_HS_Red14_BMC.Med.Genomics.2011_PMID.21214954  \n",
       "                                                   Description                                       \n",
       "Duke_Module07_glucosedepletion_Mike_PMID.20335537  Duke_Module07_glucosedepletion_Mike_PMID.20335537 \n",
       "UNC_HS_Red22_BMC.Med.Genomics.2011_PMID.21214954   UNC_HS_Red22_BMC.Med.Genomics.2011_PMID.21214954  \n",
       "GSEA_HDAC_TARGETS_DN_HELLER                        GSEA_HDAC_TARGETS_DN_HELLER                       \n",
       "UNC_HS_Red17_BMC.Med.Genomics.2011_PMID.21214954   UNC_HS_Red17_BMC.Med.Genomics.2011_PMID.21214954  \n",
       "UNC_Unknown_10_BMC.Med.Genomics.2011_PMID.21214954 UNC_Unknown_10_BMC.Med.Genomics.2011_PMID.21214954\n",
       "UNC_HS_Red14_BMC.Med.Genomics.2011_PMID.21214954   UNC_HS_Red14_BMC.Med.Genomics.2011_PMID.21214954  \n",
       "                                                   GeneRatio BgRatio  \n",
       "Duke_Module07_glucosedepletion_Mike_PMID.20335537  9/179     27/19993 \n",
       "UNC_HS_Red22_BMC.Med.Genomics.2011_PMID.21214954   23/179    430/19993\n",
       "GSEA_HDAC_TARGETS_DN_HELLER                        17/179    290/19993\n",
       "UNC_HS_Red17_BMC.Med.Genomics.2011_PMID.21214954   18/179    335/19993\n",
       "UNC_Unknown_10_BMC.Med.Genomics.2011_PMID.21214954 6/179     29/19993 \n",
       "UNC_HS_Red14_BMC.Med.Genomics.2011_PMID.21214954   12/179    241/19993\n",
       "                                                   pvalue       p.adjust    \n",
       "Duke_Module07_glucosedepletion_Mike_PMID.20335537  1.232005e-12 2.993772e-10\n",
       "UNC_HS_Red22_BMC.Med.Genomics.2011_PMID.21214954   6.597554e-12 8.016028e-10\n",
       "GSEA_HDAC_TARGETS_DN_HELLER                        1.080710e-09 8.350578e-08\n",
       "UNC_HS_Red17_BMC.Med.Genomics.2011_PMID.21214954   1.374581e-09 8.350578e-08\n",
       "UNC_Unknown_10_BMC.Med.Genomics.2011_PMID.21214954 1.895944e-07 9.214289e-06\n",
       "UNC_HS_Red14_BMC.Med.Genomics.2011_PMID.21214954   1.881719e-06 7.620963e-05\n",
       "                                                   qvalue      \n",
       "Duke_Module07_glucosedepletion_Mike_PMID.20335537  2.295420e-10\n",
       "UNC_HS_Red22_BMC.Med.Genomics.2011_PMID.21214954   6.146142e-10\n",
       "GSEA_HDAC_TARGETS_DN_HELLER                        6.402653e-08\n",
       "UNC_HS_Red17_BMC.Med.Genomics.2011_PMID.21214954   6.402653e-08\n",
       "UNC_Unknown_10_BMC.Med.Genomics.2011_PMID.21214954 7.064887e-06\n",
       "UNC_HS_Red14_BMC.Med.Genomics.2011_PMID.21214954   5.843233e-05\n",
       "                                                   geneID                                                                                                                                                      \n",
       "Duke_Module07_glucosedepletion_Mike_PMID.20335537  SLC3A2/HERPUD1/SDF2L1/DNAJB9/DDIT4/SLC38A2/MAP1LC3B/EPRS/CALU                                                                                               \n",
       "UNC_HS_Red22_BMC.Med.Genomics.2011_PMID.21214954   SERP1/ARFGAP3/RSL24D1/GFPT1/KDELR2/MTHFD2/DNAJB9/TMED5/CCPG1/SEC61G/ARL1/IDI1/CALCOCO2/TMEM258/JMJD1C/SCFD1/RAB9A/ARL8B/MAP1LC3B/NRBF2/HSP90B1/TXNRD1/HSPA13\n",
       "GSEA_HDAC_TARGETS_DN_HELLER                        PDIA3/SERP1/HSPA5/SLC3A2/HERPUD1/ATF4/TRIB3/DDIT3/CRELD2/CEBPG/DNAJB9/CCPG1/HMOX1/SLC7A11/ATF3/CALR/PMAIP1                                                  \n",
       "UNC_HS_Red17_BMC.Med.Genomics.2011_PMID.21214954   PDIA3/JUND/PPIB/PGM3/ARF4/SRPRA/LMAN1/TRAM1/PSAP/GCLM/P4HB/RAB9A/MAP1LC3B/PJA2/ARF1/TMCO3/CALU/SSR1                                                         \n",
       "UNC_Unknown_10_BMC.Med.Genomics.2011_PMID.21214954 PDIA3/PPIB/SLC39A7/KDELR2/TMED9/PDIA5                                                                                                                       \n",
       "UNC_HS_Red14_BMC.Med.Genomics.2011_PMID.21214954   NUPR1/SEPHS2/HOMER2/VAV3/DNAJC12/TCEA1/SQLE/TRAM1/OSER1/PGRMC2/SLC38A2/RB1CC1                                                                               \n",
       "                                                   Count\n",
       "Duke_Module07_glucosedepletion_Mike_PMID.20335537   9   \n",
       "UNC_HS_Red22_BMC.Med.Genomics.2011_PMID.21214954   23   \n",
       "GSEA_HDAC_TARGETS_DN_HELLER                        17   \n",
       "UNC_HS_Red17_BMC.Med.Genomics.2011_PMID.21214954   18   \n",
       "UNC_Unknown_10_BMC.Med.Genomics.2011_PMID.21214954  6   \n",
       "UNC_HS_Red14_BMC.Med.Genomics.2011_PMID.21214954   12   "
      ]
     },
     "metadata": {},
     "output_type": "display_data"
    },
    {
     "data": {
      "text/html": [
       "<style>\n",
       ".list-inline {list-style: none; margin:0; padding: 0}\n",
       ".list-inline>li {display: inline-block}\n",
       ".list-inline>li:not(:last-child)::after {content: \"\\00b7\"; padding: 0 .5ex}\n",
       "</style>\n",
       "<ol class=list-inline><li>37</li><li>9</li></ol>\n"
      ],
      "text/latex": [
       "\\begin{enumerate*}\n",
       "\\item 37\n",
       "\\item 9\n",
       "\\end{enumerate*}\n"
      ],
      "text/markdown": [
       "1. 37\n",
       "2. 9\n",
       "\n",
       "\n"
      ],
      "text/plain": [
       "[1] 37  9"
      ]
     },
     "metadata": {},
     "output_type": "display_data"
    },
    {
     "data": {
      "text/html": [
       "filename_xlsx: xlsx/er+bc-pairs_cluster2_vs_cluster19_Tumor_cells.xlsx\n"
      ]
     },
     "metadata": {},
     "output_type": "display_data"
    },
    {
     "data": {
      "text/html": [
       "filename_figure: heatmap_er+bc-pairs_cluster2_vs_cluster19_Tumor_cells_zscore\n"
      ]
     },
     "metadata": {},
     "output_type": "display_data"
    },
    {
     "data": {
      "image/png": "[encoded data removed]",
      "text/plain": [
       "plot without title"
      ]
     },
     "metadata": {
      "image/png": {
       "height": 240,
       "width": 240
      }
     },
     "output_type": "display_data"
    }
   ],
   "source": [
    "\n",
    "list_markers <- find_markers(rna, sample1 = sample1,\n",
    "                        sample_ref = sample_ref,\n",
    "                        pattern_sample1 = pattern_sample1,\n",
    "                        pattern_sample_ref = pattern_sample_ref,\n",
    "                             \n",
    "                        # pattern_tumor_epi     \n",
    "                        pattern_cell_type1 = pattern_tumor_epi,\n",
    "                        pattern_cell_type_ref = pattern_tumor_epi,\n",
    "                             \n",
    "                        # cluster number\n",
    "                        str_column_of_meta_data_cluster = str_column_of_meta_data_cluster,\n",
    "                        clusters1 = clusters1,\n",
    "                        clusters_ref = clusters_ref,\n",
    "                             \n",
    "                        group_name1 = sprintf(\"%s Tumor cells\", group_name1),\n",
    "                        group_name_ref = sprintf(\"%s Tumor cells\", group_name_ref),\n",
    "                        col_cluster_types = col_cluster_types_,\n",
    "                        col_cell_types = col_cell_types_,\n",
    "                        th_log2fc = th_log2fc_,\n",
    "                        th_padj = th_padj_, \n",
    "                        min.pct = min.pct_,\n",
    "                        min.diff.pct = min.diff.pct_,\n",
    "                        max.cells.per.ident = max.cells.per.ident_,\n",
    "                        method_dge = method_dge)\n",
    "\n",
    "str_condition_tmp <- sprintf(\"%s_%s_vs_%s_Tumor cells\",\n",
    "                             str_condition,\n",
    "                             group_name_ref, group_name1)\n",
    "\n",
    "if (type_condition != \"none\") {\n",
    "          str_condition_tmp <- sprintf(\"%s_%s\", str_condition_tmp, type_condition)\n",
    "}\n",
    "\n",
    "list_ea <- execute_enrichment_analysis(list_markers$markers,\n",
    "                        str_condition_tmp,\n",
    "                        th_log2fc = th_log2fc_,\n",
    "                        th_padj = th_padj_,\n",
    "                        method_dge = method_dge,\n",
    "                        dir_xlsx = dir_xlsx,       \n",
    "                        n_log = 1)\n",
    "\n",
    "\n",
    "genes_up <- rownames(list_ea$df_up)\n",
    "genes_dn <- rownames(list_ea$df_dn)\n",
    "list_genes_dn[[\"Epi\"]] <- genes_dn\n",
    "\n",
    "if (f_featureplot) {\n",
    "    gg <- featureplot_enrichment_analysis(rna,\n",
    "                list_ea,\n",
    "                str_condition_tmp)\n",
    "}\n",
    "\n",
    "list_out_heatmap <- heatmap_enrichment_analysis(list_markers,\n",
    "                    list_ea,\n",
    "                    str_condition_tmp,\n",
    "                    pattern_gene_removal=\"^MT-|^RPS|^RPL\",\n",
    "                    max_up=5, max_dn=5,\n",
    "                    n_sampling=n_sampling,\n",
    "                    cluster_rows=cluster_rows)\n",
    "\n"
   ]
  },
  {
   "cell_type": "markdown",
   "id": "e8ec5414",
   "metadata": {},
   "source": [
    "# session info"
   ]
  },
  {
   "cell_type": "code",
   "execution_count": 28,
   "id": "04158981",
   "metadata": {},
   "outputs": [],
   "source": [
    "writeLines(capture.output(sessionInfo()), \"txt/sessionInfo.txt\")\n"
   ]
  },
  {
   "cell_type": "markdown",
   "id": "11a8c620",
   "metadata": {},
   "source": [
    "# reference"
   ]
  },
  {
   "cell_type": "markdown",
   "id": "674ff0fb",
   "metadata": {},
   "source": [
    "https://satijalab.org/seurat/\n",
    "\n"
   ]
  },
  {
   "cell_type": "code",
   "execution_count": null,
   "id": "1dad838f",
   "metadata": {},
   "outputs": [],
   "source": []
  }
 ],
 "metadata": {
  "kernelspec": {
   "display_name": "R 4.1.2",
   "language": "R",
   "name": "r4.1.2"
  },
  "language_info": {
   "codemirror_mode": "r",
   "file_extension": ".r",
   "mimetype": "text/x-r-source",
   "name": "R",
   "pygments_lexer": "r",
   "version": "4.1.2"
  },
  "toc": {
   "base_numbering": 1,
   "nav_menu": {},
   "number_sections": true,
   "sideBar": true,
   "skip_h1_title": false,
   "title_cell": "Table of Contents",
   "title_sidebar": "Contents",
   "toc_cell": false,
   "toc_position": {
    "height": "calc(100% - 180px)",
    "left": "10px",
    "top": "150px",
    "width": "258px"
   },
   "toc_section_display": true,
   "toc_window_display": true
  }
 },
 "nbformat": 4,
 "nbformat_minor": 5
}
